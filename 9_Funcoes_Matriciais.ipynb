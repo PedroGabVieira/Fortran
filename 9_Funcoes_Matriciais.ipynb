{
 "cells": [
  {
   "cell_type": "markdown",
   "metadata": {
    "toc": true
   },
   "source": [
    "<h1>Table of Contents<span class=\"tocSkip\"></span></h1>\n",
    "<div class=\"toc\"><ul class=\"toc-item\"><li><span><a href=\"#Aula-09-de-Fortran\" data-toc-modified-id=\"Aula-09-de-Fortran-1\"><span class=\"toc-item-num\">1&nbsp;&nbsp;</span>Aula 09 de Fortran</a></span></li><li><span><a href=\"#Modulo-para-imprimir-arrays\" data-toc-modified-id=\"Modulo-para-imprimir-arrays-2\"><span class=\"toc-item-num\">2&nbsp;&nbsp;</span>Modulo para imprimir arrays</a></span></li><li><span><a href=\"#Funções-Matriciais\" data-toc-modified-id=\"Funções-Matriciais-3\"><span class=\"toc-item-num\">3&nbsp;&nbsp;</span>Funções Matriciais</a></span><ul class=\"toc-item\"><li><span><a href=\"#Funções-matriciais-intrínsecas-de-redução\" data-toc-modified-id=\"Funções-matriciais-intrínsecas-de-redução-3.1\"><span class=\"toc-item-num\">3.1&nbsp;&nbsp;</span>Funções matriciais intrínsecas de redução</a></span><ul class=\"toc-item\"><li><span><a href=\"#Função-ALL\" data-toc-modified-id=\"Função-ALL-3.1.1\"><span class=\"toc-item-num\">3.1.1&nbsp;&nbsp;</span>Função ALL</a></span></li><li><span><a href=\"#Função-ANY\" data-toc-modified-id=\"Função-ANY-3.1.2\"><span class=\"toc-item-num\">3.1.2&nbsp;&nbsp;</span>Função ANY</a></span></li><li><span><a href=\"#Função-COUNT\" data-toc-modified-id=\"Função-COUNT-3.1.3\"><span class=\"toc-item-num\">3.1.3&nbsp;&nbsp;</span>Função COUNT</a></span></li><li><span><a href=\"#Funções:-MAXVAL,-MAXLOC,-MINVAL,-MINLOC\" data-toc-modified-id=\"Funções:-MAXVAL,-MAXLOC,-MINVAL,-MINLOC-3.1.4\"><span class=\"toc-item-num\">3.1.4&nbsp;&nbsp;</span>Funções: MAXVAL, MAXLOC, MINVAL, MINLOC</a></span></li><li><span><a href=\"#Função:-PRODUCT\" data-toc-modified-id=\"Função:-PRODUCT-3.1.5\"><span class=\"toc-item-num\">3.1.5&nbsp;&nbsp;</span>Função: PRODUCT</a></span></li><li><span><a href=\"#Função:-SUM\" data-toc-modified-id=\"Função:-SUM-3.1.6\"><span class=\"toc-item-num\">3.1.6&nbsp;&nbsp;</span>Função: SUM</a></span></li></ul></li><li><span><a href=\"#Funções-matriciais-intrínsecas-para-construção\" data-toc-modified-id=\"Funções-matriciais-intrínsecas-para-construção-3.2\"><span class=\"toc-item-num\">3.2&nbsp;&nbsp;</span>Funções matriciais intrínsecas para construção</a></span><ul class=\"toc-item\"><li><span><a href=\"#Função-MERGE\" data-toc-modified-id=\"Função-MERGE-3.2.1\"><span class=\"toc-item-num\">3.2.1&nbsp;&nbsp;</span>Função MERGE</a></span></li><li><span><a href=\"#Função-PACK\" data-toc-modified-id=\"Função-PACK-3.2.2\"><span class=\"toc-item-num\">3.2.2&nbsp;&nbsp;</span>Função PACK</a></span></li><li><span><a href=\"#Função:-UNPACK\" data-toc-modified-id=\"Função:-UNPACK-3.2.3\"><span class=\"toc-item-num\">3.2.3&nbsp;&nbsp;</span>Função: UNPACK</a></span></li><li><span><a href=\"#Função:-SPREAD\" data-toc-modified-id=\"Função:-SPREAD-3.2.4\"><span class=\"toc-item-num\">3.2.4&nbsp;&nbsp;</span>Função: SPREAD</a></span><ul class=\"toc-item\"><li><span><a href=\"#Função:-RESHAPE(MAT,-FORMA-[,PAD]-[,ORDER])\" data-toc-modified-id=\"Função:-RESHAPE(MAT,-FORMA-[,PAD]-[,ORDER])-3.2.4.1\"><span class=\"toc-item-num\">3.2.4.1&nbsp;&nbsp;</span>Função: RESHAPE(MAT, FORMA [,PAD] [,ORDER])</a></span></li></ul></li></ul></li></ul></li><li><span><a href=\"#Some-references\" data-toc-modified-id=\"Some-references-4\"><span class=\"toc-item-num\">4&nbsp;&nbsp;</span>Some references</a></span><ul class=\"toc-item\"><li><span><a href=\"#Funções-para-manipulação-de-matrizes\" data-toc-modified-id=\"Funções-para-manipulação-de-matrizes-4.1\"><span class=\"toc-item-num\">4.1&nbsp;&nbsp;</span>Funções para manipulação de matrizes</a></span><ul class=\"toc-item\"><li><span><a href=\"#Aritmética-de-vetores-e-matrizes:\" data-toc-modified-id=\"Aritmética-de-vetores-e-matrizes:-4.1.1\"><span class=\"toc-item-num\">4.1.1&nbsp;&nbsp;</span>Aritmética de vetores e matrizes:</a></span></li></ul></li></ul></li></ul></div>"
   ]
  },
  {
   "cell_type": "markdown",
   "metadata": {
    "cell_style": "center"
   },
   "source": [
    "# Aula 09 de Fortran\n",
    "\n",
    "\n",
    "\n",
    "<!--\n",
    "\n",
    "# Conteúdo\n",
    "\n",
    "-  Terminologia;\n",
    "-  Especificações;\n",
    "-  Operações Matriciais;\n",
    "-  Declaração e construção <span style=\"color:red\">WHERE</span>;\n",
    "-  Subprogramas intrínsecos elementares;\n",
    "-  Seções de matrizes;\n",
    "-  Locação elementar versus sub-índice;\n",
    "-  Matrizes Com Dimensão Excedida;\n",
    "-  Alocação de matrizes;\n",
    "-  Construção de matrizes;\n",
    "-  Alocação dinâmica de matrizes;\n",
    "-  Matrizes automáticas;\n",
    "-  Matrizes de tamanho predefinidos;\n",
    "-  Subprogramas matriciais intrínsecos.\n",
    "   -->"
   ]
  },
  {
   "cell_type": "markdown",
   "metadata": {},
   "source": [
    "# Modulo para imprimir arrays\n",
    "\n",
    "Nessa aula iremos tratar com matrizes e arrays e ś sempre importante estar imprimindo eles para compreendermos o resultado. Para evitarmos a todo momento introduzirmos uma subrotina que imprima em cada um dos exemplos abaixo, vamos introduzirm um módulo que contém isso e vamos usá-lo no exemplos que se segue. O módulo é o seguinte:"
   ]
  },
  {
   "cell_type": "code",
   "execution_count": 12,
   "metadata": {
    "ExecuteTime": {
     "end_time": "2019-02-08T16:10:50.681718Z",
     "start_time": "2019-02-08T16:10:50.672825Z"
    }
   },
   "outputs": [
    {
     "name": "stdout",
     "output_type": "stream",
     "text": [
      "Overwriting src/Mod_ImpMat.f95\n"
     ]
    }
   ],
   "source": [
    "%%writefile src/Mod_ImpMat.f95\n",
    "MODULE imprimir_matriz\n",
    "   !---------------------------------------------------------------------\n",
    "   IMPLICIT NONE\n",
    "   !---------------------------------------------------------------------\n",
    "   INTERFACE print_mat\n",
    "      MODULE PROCEDURE print_mat_int\n",
    "      MODULE PROCEDURE print_vec_int\n",
    "      MODULE PROCEDURE print_mat_real\n",
    "      MODULE PROCEDURE print_vec_real\n",
    "   END INTERFACE\n",
    "   !---------------------------------------------------------------------\n",
    "CONTAINS\n",
    "  !---------------------------------------------------------------------\n",
    "  SUBROUTINE print_mat_int(b,dig,li,lc)\n",
    "    !-------------------------------------------------------------------\n",
    "    IMPLICIT NONE\n",
    "    INTEGER, INTENT(in),       OPTIONAL :: dig, li, lc\n",
    "    INTEGER, DIMENSION(:,:), INTENT(in) :: b\n",
    "    CHARACTER(85)       :: fmt0, fmt1\n",
    "    INTEGER :: i, j, n, m, ndig\n",
    "    !-------------------------------------------------------------------\n",
    "    IF ( PRESENT(li) ) THEN\n",
    "       n = li\n",
    "    ELSE\n",
    "       n = SIZE(b,DIM=1)\n",
    "    END IF\n",
    "    IF ( PRESENT(lc) ) THEN\n",
    "       m = lc\n",
    "    ELSE\n",
    "       m = SIZE(b,DIM=2)\n",
    "    END IF\n",
    "    IF ( PRESENT(dig) ) THEN\n",
    "       ndig = dig\n",
    "    ELSE\n",
    "       ndig = NINT(LOG10(MAXVAL(REAL(abs(b)))))+ 1\n",
    "    END IF\n",
    "    WRITE(fmt0,'(i12)') ndig   ! Converte os INTEGER ndig no caracter fmt0\n",
    "    fmt0 = '(I' // TRIM(ADJUSTL(fmt0)) // \",2x)\"\n",
    "    WRITE(fmt1,'(i12)') m   ! Converte os INTEGER m no caracter fmt0\n",
    "    !-------------------------------------------------------------------\n",
    "    fmt1 = '(1x,'// TRIM(ADJUSTL(fmt1)) // TRIM(ADJUSTL(fmt0)) // ')'\n",
    "    !print *, 'fmt0 = ',fmt0, 'fmt1 = ', fmt1\n",
    "    !-------------------------------------------------------------------\n",
    "    DO i =1, n\n",
    "       WRITE(*,fmt1)(b(i,j), j=1,m)\n",
    "    END DO\n",
    "    !-------------------------------------------------------------------\n",
    "    RETURN\n",
    "    !-------------------------------------------------------------------\n",
    "  END SUBROUTINE print_mat_int\n",
    "  !---------------------------------------------------------------------\n",
    "\n",
    "  !---------------------------------------------------------------------\n",
    "  SUBROUTINE print_vec_int(v,dig,ls)\n",
    "    !-------------------------------------------------------------------\n",
    "    IMPLICIT NONE\n",
    "    INTEGER, INTENT(in),     OPTIONAL :: dig, ls\n",
    "    INTEGER, DIMENSION(:), INTENT(in) :: v\n",
    "    CHARACTER(85)       :: fmt0, fmt1\n",
    "    INTEGER :: i, n, ndig\n",
    "    !-------------------------------------------------------------------\n",
    "    IF ( PRESENT(ls) ) THEN\n",
    "       n = ls\n",
    "    ELSE\n",
    "       n = SIZE(v)\n",
    "    END IF\n",
    "    IF ( PRESENT(dig) ) THEN\n",
    "       ndig = dig\n",
    "    ELSE\n",
    "       ndig = NINT(LOG10(MAXVAL(REAL(abs(v)))))+ 1\n",
    "    END IF\n",
    "    WRITE(fmt0,'(i12)') ndig   ! Converte os INTEGER ndig no caracter fmt0\n",
    "    fmt0 = '(I' // TRIM(ADJUSTL(fmt0)) // \",2x)\"\n",
    "    WRITE(fmt1,'(i12)') n   ! Converte os INTEGER m no caracter fmt0\n",
    "    !-------------------------------------------------------------------\n",
    "    fmt1 = '(1x,'// TRIM(ADJUSTL(fmt1)) // TRIM(ADJUSTL(fmt0)) // ')'\n",
    "    !-------------------------------------------------------------------\n",
    "    WRITE(*,fmt1)(v(i), i=1,n)\n",
    "    !-------------------------------------------------------------------\n",
    "    RETURN\n",
    "    !-------------------------------------------------------------------\n",
    "  END SUBROUTINE print_vec_int\n",
    "  !---------------------------------------------------------------------\n",
    "\n",
    "  !---------------------------------------------------------------------\n",
    "  SUBROUTINE print_mat_real(b,dig,li,lc)\n",
    "    !-------------------------------------------------------------------\n",
    "    IMPLICIT NONE\n",
    "    INTEGER, INTENT(in),    OPTIONAL :: li, lc, dig\n",
    "    REAL, DIMENSION(:,:), INTENT(in) :: b\n",
    "    REAL    :: x\n",
    "    INTEGER :: i, j, n, m, ndig, dec\n",
    "    CHARACTER (LEN=95) :: fmt0, fmt1, fmt2\n",
    "    !-------------------------------------------------------------------\n",
    "    IF ( PRESENT(li) ) THEN\n",
    "        n = li\n",
    "    ELSE\n",
    "        n = SIZE(b,DIM=1)\n",
    "    END IF\n",
    "    IF ( PRESENT(lc) ) THEN\n",
    "        m = lc\n",
    "    ELSE\n",
    "        m = SIZE(b,DIM=2)\n",
    "    END IF\n",
    "    IF ( PRESENT(dig) ) THEN\n",
    "       dec = dig\n",
    "    ELSE\n",
    "       dec = 2  ! Número de digitos padrão\n",
    "    END IF\n",
    "    x = MAXVAL(abs(b))\n",
    "    IF ( x < 1.0 ) then\n",
    "       ndig = NINT(LOG10(x)) + dec + 3\n",
    "    ELSE\n",
    "       ndig = NINT(LOG10(x)) + dec + 2\n",
    "    END IF\n",
    "    WRITE(fmt0,'(i12)') ndig     ! Numero total de digitos\n",
    "    WRITE(fmt1,'(i12)') dec      ! Parte decimal\n",
    "    fmt0 = '(F' // TRIM(ADJUSTL(fmt0)) // '.' // TRIM(ADJUSTL(fmt1)) // ',2x)'\n",
    "    WRITE(fmt2,'(i12)') m        ! Numero de colunas\n",
    "    fmt0 = '(1x,' // TRIM(ADJUSTL(fmt2)) // TRIM(ADJUSTL(fmt0)) // ')'\n",
    "    !PRINT *, \"fmt0 = \", TRIM(fmt0)\n",
    "    !-------------------------------------------------------------------\n",
    "    DO i =1, n\n",
    "       WRITE(*,fmt0)(b(i,j), j=1,m)\n",
    "    END DO\n",
    "    !-------------------------------------------------------------------\n",
    "    RETURN\n",
    "    !-------------------------------------------------------------------\n",
    "  END SUBROUTINE print_mat_real\n",
    "  !---------------------------------------------------------------------\n",
    "\n",
    "  !---------------------------------------------------------------------\n",
    "  SUBROUTINE print_vec_real(v,dig,ls)\n",
    "    !-------------------------------------------------------------------\n",
    "    IMPLICIT NONE\n",
    "    INTEGER, INTENT(in),  OPTIONAL :: ls, dig\n",
    "    REAL, DIMENSION(:), INTENT(in) :: v\n",
    "    REAL    :: x\n",
    "    INTEGER :: i, n, ndig, dec\n",
    "    CHARACTER (LEN=95) :: fmt0, fmt1, fmt2\n",
    "    !-------------------------------------------------------------------\n",
    "    IF ( PRESENT(ls) ) THEN\n",
    "        n = ls\n",
    "    ELSE\n",
    "        n = SIZE(v)\n",
    "    END IF\n",
    "    IF ( PRESENT(dig) ) THEN\n",
    "       dec = dig\n",
    "    ELSE\n",
    "       dec = 2  ! Número de digitos padrão\n",
    "    END IF\n",
    "    x = MAXVAL(abs(v))\n",
    "    IF ( x < 1.0 ) then\n",
    "       ndig = NINT(LOG10(x)) + dec + 3\n",
    "    ELSE\n",
    "       ndig = NINT(LOG10(x)) + dec + 2\n",
    "    END IF\n",
    "    WRITE(fmt0,'(i12)') ndig     ! Numero total de digitos\n",
    "    WRITE(fmt1,'(i12)') dec      ! Parte decimal\n",
    "    fmt0 = '(F' // TRIM(ADJUSTL(fmt0)) // '.' // TRIM(ADJUSTL(fmt1)) // ',2x)'\n",
    "    WRITE(fmt2,'(i12)') n        ! Numero de colunas\n",
    "    fmt0 = '(1x,' // TRIM(ADJUSTL(fmt2)) // TRIM(ADJUSTL(fmt0)) // ')'\n",
    "    !PRINT *, \"fmt0 = \", TRIM(fmt0)\n",
    "    !-------------------------------------------------------------------\n",
    "    WRITE(*,fmt0)(v(i), i=1,n)\n",
    "    !-------------------------------------------------------------------\n",
    "    RETURN\n",
    "    !-------------------------------------------------------------------\n",
    "  END SUBROUTINE print_vec_real\n",
    "  !---------------------------------------------------------------------\n",
    "END MODULE imprimir_matriz"
   ]
  },
  {
   "cell_type": "markdown",
   "metadata": {},
   "source": [
    "E para usal o módulo basta introduzir a seguite instrução:\n",
    "\n",
    "```fortran\n",
    "PROGRAM test_mod_ImpMat\n",
    "   USE imprimir_matriz\n",
    "   ...\n",
    "   CALL print_mat(Mat)      ! pode ser vetor ou matriz\n",
    "   ...  \n",
    "END PROGRAM test_mod_ImpMat  \n",
    "```\n",
    "\n",
    "Note que a interface\n",
    "\n",
    "```fortran\n",
    "   INTERFACE print_mat\n",
    "      MODULE PROCEDURE print_mat_int\n",
    "      MODULE PROCEDURE print_vec_int\n",
    "      MODULE PROCEDURE print_mat_real\n",
    "      MODULE PROCEDURE print_vec_real\n",
    "   END INTERFACE\n",
    "```\n",
    "\n",
    "desse módulo, diz basicamamente que as 4 subrotinas `print_mat_int`, `print_vec_int`, `print_mat_real` e `print_vec_real` serão todas acessadas por um único nome `print_mat`. Ao chamar a função `print_mat` o Fortran irá definir que função ele irá chamar analisando os argumetos passados pela chamada da subrotina. Note portanto, que ao definir essa interface, as subrotinas que a compõem devem se diferenciar por pelo menos um de seus argumentos. "
   ]
  },
  {
   "cell_type": "markdown",
   "metadata": {},
   "source": [
    "Nos próximos programas iremos usar esse módulo"
   ]
  },
  {
   "cell_type": "markdown",
   "metadata": {},
   "source": [
    "# Funções Matriciais"
   ]
  },
  {
   "cell_type": "markdown",
   "metadata": {},
   "source": [
    "## Funções matriciais intrínsecas de redução\n",
    "\n",
    "Aqui listamos essas funções e os suas respectivas descrições\n",
    "\n",
    "| Função                           | Descrição                                   |\n",
    "| -------------------------------- | ------------------------------------------- |\n",
    "| **ALL(MASK [, DIM])**            | `.TRUE.` se todos os valores forem `.TRUE.` |\n",
    "| **ANY(MASK [, DIM\\)**            | `.TRUE.` se qualquer valor for `.TRUE.`     |\n",
    "| **COUNT(MASK [, DIM])**          | Número de elementos `.TRUE.` no array       |\n",
    "| **MAXVAL(ARRAY, [DIM , MASK])**  | Valor máximo do array                       |\n",
    "| **MINVAL(ARRAY, [DIM , MASK])**  | Valor mínimo do array                       |\n",
    "| **PRODUCT(ARRAY, [DIM , MASK])** | Produto dos elementos do array              |\n",
    "| **SUM(ARRAY, [DIM , MASK])**     | Soma dos elementos do array                 |\n",
    "\n",
    "### Função ALL\n",
    "\n",
    "- **ALL(MASK [,DIM])**\n",
    "\n",
    "  Retorna o valor `.TRUE.` se todos os elementos são `.TRUE.` ou se a matriz lógica `MASK` tem um tamanho zero, e de outra forma ela retorna o valor `.FALSE.`\n",
    "\n",
    "\n",
    "### Função ANY\n",
    "\n",
    "- **ANY(MASK [,DIM])**\n",
    "\n",
    "  Retorna o valor `.TRUE.` se qualquer um dos elementos da matriz lógica `MASK` é `.TRUE.`, e retorna o valor `.FALSE.` se nenhum elemento é `.TRUE.` ou se a matriz lógica `MASK` tem um tamanho zero."
   ]
  },
  {
   "cell_type": "markdown",
   "metadata": {},
   "source": [
    "### Função COUNT\n",
    "\n",
    "- **COUNT(MASK [,DIM])**\n",
    "\n",
    "  Retorna um valor `INTEGER` padrão que é o número de elementos da matriz lógica `MASK` que tem o valor `.TRUE.`.\n",
    "\n",
    "```fortran\n",
    "  PROGRAM contagem\n",
    "    IMPLICIT NONE\n",
    "    LOGICAL, DIMENSION(2,3):: mask\n",
    "    INTEGER :: i, j, m1(3), m2(2)\n",
    "    mask = RESHAPE (&\n",
    "         [ .TRUE., .TRUE., & ! mask = True False False\n",
    "         .FALSE. ,.TRUE., &  !        True True False\n",
    "         .FALSE. ,.FALSE. ] ,[2 ,3])\n",
    "    DO i =1, 2\n",
    "       WRITE(*,'(3(l5,5x))')(mask(i,j), j=1,3)\n",
    "    END DO\n",
    "    m1 = COUNT ( mask , DIM =1) ! Conta os elementos true por\n",
    "                                ! Coluna fornecendo [2 1 0]\n",
    "    PRINT '(A35,3(I2,2X))', \"El. Verd. por linha em cada coluna: \", m1\n",
    "    m2 = COUNT ( mask , DIM =2) ! Conta os elementos true por\n",
    "                                ! linha fornecendo [1 2]\n",
    "    PRINT '(A35,2(I2,2X))', \"El. Verd. por coluna em cada linha:  \", m2\n",
    "    I = COUNT ( mask )           ! retorna 3\n",
    "    PRINT *, \"El. Verd. de toda matriz \", COUNT ( mask )\n",
    "  END PROGRAM contagem\n",
    "```\n"
   ]
  },
  {
   "cell_type": "code",
   "execution_count": 1,
   "metadata": {
    "ExecuteTime": {
     "end_time": "2019-05-20T12:19:11.017219Z",
     "start_time": "2019-05-20T12:19:11.008541Z"
    }
   },
   "outputs": [
    {
     "name": "stdout",
     "output_type": "stream",
     "text": [
      "Overwriting src/funcao_count_01.f95\n"
     ]
    }
   ],
   "source": [
    "%%writefile src/funcao_count_01.f95\n",
    "  PROGRAM contagem\n",
    "    IMPLICIT NONE\n",
    "    LOGICAL, DIMENSION(2,3):: mask\n",
    "    INTEGER :: i, j, m1(3), m2(2)\n",
    "    mask = RESHAPE (&\n",
    "         [.TRUE., .TRUE., & ! mask = True False False\n",
    "         .FALSE. ,.TRUE., &  !        True True False\n",
    "         .FALSE. ,.FALSE.] ,[2 ,3])\n",
    "    DO i =1, 2\n",
    "       WRITE(*,'(3(l5,5x))')(mask(i,j), j=1,3)\n",
    "    END DO\n",
    "    m1 = COUNT ( mask , DIM =1) ! Conta os elementos true por\n",
    "                                ! Coluna fornecendo [2 1 0]\n",
    "    PRINT '(A35,3(I2,2X))', \"El. Verd. por linha em cada coluna: \", m1\n",
    "    m2 = COUNT ( mask , DIM =2) ! Conta os elementos true por\n",
    "                                ! linha fornecendo [1 2]\n",
    "    PRINT '(A35,2(I2,2X))', \"El. Verd. por coluna em cada linha:  \", m2\n",
    "    I = COUNT ( mask )           ! retorna 3\n",
    "    PRINT *, \"El. Verd. de toda matriz \", COUNT ( mask )\n",
    "  END PROGRAM contagem"
   ]
  },
  {
   "cell_type": "code",
   "execution_count": 2,
   "metadata": {
    "ExecuteTime": {
     "end_time": "2019-05-20T12:19:14.068092Z",
     "start_time": "2019-05-20T12:19:13.863149Z"
    }
   },
   "outputs": [],
   "source": [
    "# A seguir vamos compilar o programa\n",
    "!f95 -std=f2008 -Wall -Waliasing -pedantic -Warray-bounds -Wsurprising \\\n",
    "     -Wunderflow -fcheck=all -o x src/funcao_count_01.f95"
   ]
  },
  {
   "cell_type": "code",
   "execution_count": 3,
   "metadata": {
    "ExecuteTime": {
     "end_time": "2019-05-20T12:19:14.939228Z",
     "start_time": "2019-05-20T12:19:14.824685Z"
    }
   },
   "outputs": [
    {
     "name": "stdout",
     "output_type": "stream",
     "text": [
      "    T         F         F\r\n",
      "    T         T         F\r\n",
      "El. Verd. por linha em cada coluna: 2   1   0\r\n",
      "El. Verd. por coluna em cada linha: 1   2\r\n",
      " El. Verd. de toda matriz            3\r\n"
     ]
    }
   ],
   "source": [
    "#Rodando o programa\n",
    "! ./x"
   ]
  },
  {
   "cell_type": "code",
   "execution_count": 4,
   "metadata": {
    "ExecuteTime": {
     "end_time": "2019-05-20T12:21:59.135152Z",
     "start_time": "2019-05-20T12:21:59.108121Z"
    }
   },
   "outputs": [
    {
     "name": "stdout",
     "output_type": "stream",
     "text": [
      "Overwriting src/funcao_count_02.f95\n"
     ]
    }
   ],
   "source": [
    "%%writefile src/funcao_count_02.f95\n",
    "PROGRAM contagem\n",
    "  USE Imprimir_Matriz\n",
    "  IMPLICIT NONE\n",
    "  INTEGER, PARAMETER :: nl=5, nc=5\n",
    "  INTEGER, DIMENSION(nl,nc) :: m1, m2, m3\n",
    "  REAL,    DIMENSION(nl,nc) :: mat\n",
    "  CHARACTER(LEN=80) :: fmt\n",
    "\n",
    "  CALL RANDOM_NUMBER(mat)\n",
    "  m1 = nint(100 * mat)\n",
    "  PRINT *, \"A matriz m1 é: \"\n",
    "  CALL print_mat(m1)\n",
    "  PRINT *, \" \" \n",
    "  PRINT *, \"m1> 50 \", COUNT ( m1 > 50 )\n",
    "  PRINT *, \"m1> 90 \", COUNT ( m1 > 90 )\n",
    "  PRINT *, \"minimo m1> 50 \", MINVAL (m1, m1 > 50 )\n",
    "  PRINT *, \"minimo m1> 90 \", MINVAL (m1, m1 > 90 )\n",
    "  PRINT *, \" \" \n",
    "  CALL RANDOM_NUMBER(mat)\n",
    "  m2 =  nint(100.0 * mat)\n",
    "  PRINT *, \"A matriz m2 é: \"\n",
    "  CALL print_mat(m2)\n",
    "  PRINT *, \" \" \n",
    "  PRINT *, \"m2 > 60 \", COUNT ( m2 > 60 )\n",
    "  PRINT *, \"m2 > 90 \", COUNT ( m2 > 90 )\n",
    "  PRINT *, \"minimo m2 > 50 \", MINVAL (m2, m2 > 50 )\n",
    "  PRINT *, \"minimo m2 > 90 \", MINVAL (m2, m2 > 90 )\n",
    "\n",
    "  PRINT *, \"Número de elementos tais que M1 > M2: \", COUNT ( m1 > m2 )\n",
    "  fmt = '(1x,A55,5(I2,2x))'\n",
    "  PRINT fmt, \"Número de elementos M1 > M2 por linha em cada coluna: \", COUNT ( m1 > m2 , DIM=1)\n",
    "  PRINT fmt, \"Número de elementos M1 > M2 por coluna em cada linha: \", COUNT ( m1 > m2 , DIM=2)\n",
    "\n",
    "  m3=MERGE(m1,m2,m1>m2)\n",
    "  PRINT *\n",
    "  PRINT *, \"A matriz m3 é: \"\n",
    "  CALL print_mat(m3)\n",
    "  PRINT *\n",
    "END PROGRAM contagem"
   ]
  },
  {
   "cell_type": "code",
   "execution_count": 5,
   "metadata": {
    "ExecuteTime": {
     "end_time": "2019-05-20T12:22:01.589364Z",
     "start_time": "2019-05-20T12:22:01.299796Z"
    },
    "lang": "en"
   },
   "outputs": [],
   "source": [
    "# A seguir vamos compilar o programa\n",
    "!f95 -std=f2008 -Wall -Waliasing -pedantic -Warray-bounds -Wsurprising \\\n",
    "     -Wunderflow -fcheck=all -o x src/Mod_ImpMat.f95 src/funcao_count_02.f95"
   ]
  },
  {
   "cell_type": "code",
   "execution_count": 7,
   "metadata": {
    "ExecuteTime": {
     "end_time": "2019-05-20T12:26:31.728576Z",
     "start_time": "2019-05-20T12:26:31.615523Z"
    }
   },
   "outputs": [
    {
     "name": "stdout",
     "output_type": "stream",
     "text": [
      " A matriz m1 é: \r\n",
      "  36   78   96   62   50\r\n",
      "  41   64    9   51   27\r\n",
      "  97   31   25   39   78\r\n",
      "  74   50   16   14   82\r\n",
      "  13   42   31   80   13\r\n",
      "  \r\n",
      " m1> 50           10\r\n",
      " m1> 90            2\r\n",
      " minimo m1> 50           51\r\n",
      " minimo m1> 90           96\r\n",
      "  \r\n",
      " A matriz m2 é: \r\n",
      "  98   44   86   20   75\r\n",
      "  30   97   60   58   32\r\n",
      "  74   44    7   71   88\r\n",
      "   5   62   53   66   58\r\n",
      "  41   42   96   27   62\r\n",
      "  \r\n",
      " m2 > 60           11\r\n",
      " m2 > 90            3\r\n",
      " minimo m2 > 50           53\r\n",
      " minimo m2 > 90           96\r\n",
      " Número de elementos tais que M1 > M2:            9\r\n",
      " Número de elementos M1 > M2 por linha em cada coluna:  3   1   2   2   1\r\n",
      " Número de elementos M1 > M2 por coluna em cada linha:  3   1   2   2   1\r\n",
      "\r\n",
      " A matriz m3 é: \r\n",
      "  98   78   96   62   75\r\n",
      "  41   97   60   58   32\r\n",
      "  97   44   25   71   88\r\n",
      "  74   62   53   66   82\r\n",
      "  41   42   96   80   62\r\n",
      "\r\n"
     ]
    }
   ],
   "source": [
    "#Rodando o programa\n",
    "! ./x"
   ]
  },
  {
   "cell_type": "code",
   "execution_count": 8,
   "metadata": {
    "ExecuteTime": {
     "end_time": "2019-05-20T12:26:45.390941Z",
     "start_time": "2019-05-20T12:26:45.368004Z"
    }
   },
   "outputs": [
    {
     "name": "stdout",
     "output_type": "stream",
     "text": [
      "Overwriting src/funcao_count_03.f95\n"
     ]
    }
   ],
   "source": [
    "%%writefile src/funcao_count_03.f95\n",
    "PROGRAM contagem\n",
    "  USE Imprimir_Matriz\n",
    "  IMPLICIT NONE\n",
    "  INTEGER, PARAMETER :: nl=5, nc=4\n",
    "  REAL, DIMENSION(nl,nc) :: A , B, C\n",
    "  INTEGER, DIMENSION(nl,nc):: m1\n",
    "  CHARACTER(LEN=80) :: fmt   \n",
    "  ! Preenche a matriz A com números aleatórios\n",
    "  CALL RANDOM_NUMBER(A)\n",
    "  ! Rescala os números para o intevalo 0 <= A <= 10.0\n",
    "  A = ANINT(100*A)/10  \n",
    "  ! Preenche a matriz B com números aleatórios\n",
    "  CALL RANDOM_NUMBER(B)\n",
    "  ! Rescala os números para o intevalo 0 <= B <= 10.0\n",
    "  B = ANINT(100*B)/10  \n",
    "  \n",
    "  C = A+3*B\n",
    "\n",
    "  PRINT *,\"A matriz A é:\"\n",
    "  CALL print_mat(A)\n",
    "  PRINT *,\"\"\n",
    "  PRINT *,\"A matriz B é:\"\n",
    "  CALL print_mat(B)\n",
    "  PRINT *,\"\"\n",
    " \n",
    "  WRITE(fmt,'(A5,I1,A8)') '(A54,', nc, '(I2,2x))'  ! note que temos nc colunas\n",
    "  PRINT fmt, \"Número de elementos A > B por linha em cada coluna: \", COUNT(A > B, DIM=1)\n",
    "  WRITE(fmt,'(A5,I1,A10)') '(A39,', nc, '(F6.3,2x))'  ! note que temos nc colunas\n",
    "  PRINT fmt, \"A soma das linhas de A por coluna é: \", SUM(A,DIM=1)\n",
    "  PRINT fmt, \"A soma das linhas de B por coluna é: \", SUM(B,DIM=1)\n",
    "  PRINT *, \"\"   \n",
    "  WRITE(fmt,'(A5,I1,A8)') '(A54,', nl, '(I2,2x))'  ! note que temos nl linhas\n",
    "  PRINT fmt, \"Número de elementos A > B por coluna em cada linha: \", COUNT(A > B, DIM=2)\n",
    "  WRITE(fmt,'(A5,I1,A10)') '(A39,', nl, '(F6.3,2x))'  ! note que temos nl linhas\n",
    "  PRINT fmt, \"A soma das colunas de A por linha é: \", SUM(A,DIM=2)\n",
    "  PRINT fmt, \"A soma das colunas de B por linha é: \", SUM(B,DIM=2)  \n",
    "\n",
    "  PRINT *,\"\"\n",
    "  PRINT *,\"A matriz NINT(C+B) é: \"\n",
    "  M1 = NINT(C+B)\n",
    "  CALL print_mat(M1)\n",
    "  PRINT *,\"\"\n",
    "END PROGRAM contagem"
   ]
  },
  {
   "cell_type": "code",
   "execution_count": 9,
   "metadata": {
    "ExecuteTime": {
     "end_time": "2019-05-20T12:26:48.723011Z",
     "start_time": "2019-05-20T12:26:48.429133Z"
    }
   },
   "outputs": [],
   "source": [
    "# A seguir vamos compilar o programa\n",
    "!f95 -std=f2008 -Wall -Waliasing -pedantic -Warray-bounds -Wsurprising \\\n",
    "      -Wunderflow -fcheck=all -o x src/Mod_ImpMat.f95 src/funcao_count_03.f95"
   ]
  },
  {
   "cell_type": "code",
   "execution_count": 10,
   "metadata": {
    "ExecuteTime": {
     "end_time": "2019-05-20T12:26:51.060898Z",
     "start_time": "2019-05-20T12:26:50.945453Z"
    }
   },
   "outputs": [
    {
     "name": "stdout",
     "output_type": "stream",
     "text": [
      " A matriz A é:\r\n",
      "  8.00   7.00   0.50   1.10\r\n",
      "  0.40   5.30   1.90   3.20\r\n",
      "  2.30   0.10   7.10   7.70\r\n",
      "  4.60   0.90   5.70   4.90\r\n",
      "  3.00   3.60   6.70   8.10\r\n",
      " \r\n",
      " A matriz B é:\r\n",
      "  8.80   3.30   5.30   5.70\r\n",
      "  9.00   8.90   5.10   7.40\r\n",
      "  5.00   6.40   5.70   8.70\r\n",
      "  6.10   9.00   9.70   6.60\r\n",
      "  0.40   7.20   0.10   4.60\r\n",
      " \r\n",
      " Número de elementos A > B por linha em cada coluna:  1   1   2   1\r\n",
      " A soma das linhas de A por coluna é: 18.300  16.900  21.900  25.000\r\n",
      " A soma das linhas de B por coluna é: 29.300  34.800  25.900  33.000\r\n",
      " \r\n",
      " Número de elementos A > B por coluna em cada linha:  1   0   1   0   3\r\n",
      " A soma das colunas de A por linha é: 16.600  10.800  17.200  16.100  21.400\r\n",
      " A soma das colunas de B por linha é: 23.100  30.400  25.800  31.400  12.300\r\n",
      " \r\n",
      " A matriz NINT(C+B) é: \r\n",
      "  43   20   22   24\r\n",
      "  36   41   22   33\r\n",
      "  22   26   30   43\r\n",
      "  29   37   45   31\r\n",
      "   5   32    7   27\r\n",
      " \r\n"
     ]
    }
   ],
   "source": [
    "#Rodando o programa\n",
    "! ./x"
   ]
  },
  {
   "cell_type": "markdown",
   "metadata": {},
   "source": [
    "### Funções: MAXVAL, MAXLOC, MINVAL, MINLOC\n",
    "\n",
    "- **MAXVAL(MATRIZ [,DIM] [,MASK])**\n",
    "\n",
    "  Retorna o maior valor dos elementos de uma matriz `REAL` ou `INTEGER`. Se a matriz tem tamanho zero, ela retorna o valor negativo de maior magnitude suportado pelo processador.\n",
    "  \n",
    "- **MAXLOC(MATRIZ [,MASK])** \n",
    "\n",
    "  Retorna a localização do valor do maior elemento de uma matriz, ou o maior elemento da matriz na dimensão especificada.\n",
    "  \n",
    "\n",
    "- **MINVAL(MATRIZ [,DIM] [,MASK])**\n",
    "\n",
    "  Retorna o menor valor dos elementos de uma matriz `REAL` ou `INTEGER`. Se a matriz tem tamanho zero, ela retorna o valor positivo de maior magnitude suportado pelo processador.\n",
    "  \n",
    "  \n",
    "- **MINLOC(MATRIZ [,MASK])** \n",
    "\n",
    "  Retorna a localização do valor do menor elemento de uma matriz, ou o menor elemento da matriz na dimensão especificada.\n",
    "\n",
    "**Exemplo:** a seguir apresentamos alguns exemplos de uso dessas funões:\n",
    "\n",
    "- Valores máximos e mínimos\n",
    "\n",
    "```fortran\n",
    "PROGRAM funcoes_matriciais\n",
    "    IMPLICIT NONE\n",
    "    INTEGER, DIMENSION(2, 3) :: matriz\n",
    "    INTEGER :: L2(2), L3(3), V\n",
    "    matriz = RESHAPE([1,4,2,5,3,6],[2,3])\n",
    "    ! matriz eh  1 2 3\n",
    "    !            4 5 6\n",
    "    PRINT *, \"A forma da matriz é: \", SHAPE(matriz)\n",
    "    PRINT *\n",
    "    V  = MINVAL(matriz)       ! retorna 1\n",
    "    PRINT *, \"Menor valor é \", V\n",
    "    L3 = MINVAL(matriz,DIM=1) ! retorna [ 1 2 3 ]\n",
    "    PRINT *, \"Menores valores de coluna são \", L3\n",
    "    L2 = MINVAL(matriz,DIM=2) ! retorna [ 1 4 ] \n",
    "    PRINT *, \"Menores valores de linha são \", L2\n",
    "    PRINT *\n",
    "    V  = MAXVAL(matriz)       ! retorna 6\n",
    "    PRINT *, \"Maior valor é \", V\n",
    "    L3 = MAXVAL(matriz,DIM=1) ! retorna [ 4 5 6 ] \n",
    "    PRINT *, \"Maiores valores de coluna são \", L3\n",
    "    L2 = MAXVAL(matriz,DIM=2) ! retorna [ 3 6 ]\n",
    "    PRINT *, \"Maiores valores de linha são \", L2\n",
    "END PROGRAM funcoes_matriciais\n",
    "```\n",
    "\n",
    "- Localização\n",
    "\n",
    "\n",
    "```fortran\n",
    "PROGRAM funcoes_matriciais\n",
    "    IMPLICIT NONE\n",
    "    INTEGER, DIMENSION(2, 3) :: matriz\n",
    "    INTEGER :: AR1(3), AR2(2), LOC(2), l(3)\n",
    "    matriz = RESHAPE([1,4,2,5,3,6],[2,3])\n",
    "    ! matriz eh  1 2 3\n",
    "    !            4 5 6\n",
    "    LOC = MINLOC(matriz)       ! retorna [ 1 1 ]\n",
    "    L   = MINLOC(matriz,DIM=1) ! retorna [ 1 1 1 ]\n",
    "    LOC = MAXLOC(matriz)       ! retorna [ 2 3 ]\n",
    "    LOC = MAXLOC(matriz,DIM=2) ! retorna [ 3 3 ]\n",
    "END PROGRAM funcoes_matriciais\n",
    "```"
   ]
  },
  {
   "cell_type": "code",
   "execution_count": 11,
   "metadata": {
    "ExecuteTime": {
     "end_time": "2019-05-20T12:33:57.948626Z",
     "start_time": "2019-05-20T12:33:57.928347Z"
    },
    "run_control": {
     "marked": false
    }
   },
   "outputs": [
    {
     "name": "stdout",
     "output_type": "stream",
     "text": [
      "Overwriting src/min_e_max_val_01.f95\n"
     ]
    }
   ],
   "source": [
    "%%writefile src/min_e_max_val_01.f95\n",
    "PROGRAM funcoes_matriciais\n",
    "    USE Imprimir_Matriz\n",
    "    IMPLICIT NONE\n",
    "    INTEGER, PARAMETER :: nl=2, nc=3\n",
    "    INTEGER, DIMENSION(nl, nc) :: Mat\n",
    "    INTEGER :: LL(nl), LC(nc), V\n",
    "    CHARACTER(LEN=80) :: fmtl, fmtc   \n",
    "    Mat = RESHAPE([1,4,2,5,3,6],[nl,nc])\n",
    "    ! Mat eh  1 2 3\n",
    "    !         4 5 6\n",
    "    PRINT *,\"A matriz é:\"\n",
    "    CALL print_mat(Mat)\n",
    "    PRINT *,\"\"\n",
    "    ! Os formatos de linha são\n",
    "    ! fmtl para as linhas, pois note que temos nl linhas\n",
    "    WRITE(fmtl,'(A8,I1,A8)') '(1x,A32,', nl, '(I2,3x))'   \n",
    "    ! Os formatos de coluna são\n",
    "    ! fmtc para as colunas, pois note que temos nc colunas\n",
    "    WRITE(fmtc,'(A8,I1,A8)') '(1x,A33,', nc, '(I2,3x))'       \n",
    "    !\n",
    "    \n",
    "    PRINT *, \"A forma da matriz é: \", SHAPE(Mat)\n",
    "    PRINT *\n",
    "    \n",
    "    V  = MINVAL(Mat)       ! retorna 1\n",
    "    LL = MINVAL(Mat,DIM=2) ! retorna [ 1 4 ]  \n",
    "    LC = MINVAL(Mat,DIM=1) ! retorna [ 1 2 3 ]\n",
    "    PRINT *, \"Menor valor é \", V\n",
    "    PRINT fmtl, \"Menores valores de linha são:  \", LL\n",
    "    PRINT fmtc, \"Menores valores de coluna são: \", LC \n",
    "    PRINT *\n",
    "    \n",
    "    V  = MAXVAL(Mat)       ! retorna 6\n",
    "    LL = MAXVAL(Mat,DIM=2) ! retorna [ 3 6 ]\n",
    "    LC = MAXVAL(Mat,DIM=1) ! retorna [ 4 5 6 ] \n",
    "    PRINT *, \"Maior valor é \", V\n",
    "    PRINT fmtl, \"Maiores valores de linha são:  \", LL\n",
    "    PRINT fmtc, \"Maiores valores de coluna são: \", LC\n",
    "\n",
    "    PRINT *\n",
    "    PRINT *, \"Vamos localizar os elementos:\"\n",
    "    PRINT *\n",
    "\n",
    "    LL = MINLOC(Mat,DIM=2) ! retorna [ 1 1 ] \n",
    "    LC = MINLOC(Mat,DIM=1) ! retorna [ 1 1 1 ]\n",
    "    PRINT *, \"Menor valor está em \", MINLOC(Mat)    ! [ 1 1 ]\n",
    "    PRINT fmtl, \"Menores valores de linha estão: \", LL\n",
    "    PRINT fmtc, \"Menores valores de coluna estão: \", LC\n",
    "\n",
    "    PRINT *\n",
    "    PRINT *, \"Maior valor está em \", MAXLOC(Mat)    ! [ 2 3 ]\n",
    "    LL = MAXLOC(Mat,DIM=2) ! retorna [ 3 3  ] \n",
    "    LC = MAXLOC(Mat,DIM=1) ! retorna [ 2 2 2 ]\n",
    "    PRINT fmtl, \"Maiores valores de linha estão: \", LL\n",
    "    PRINT fmtc, \"Maiores valores de coluna estão: \", LC\n",
    "END PROGRAM funcoes_matriciais"
   ]
  },
  {
   "cell_type": "code",
   "execution_count": 12,
   "metadata": {
    "ExecuteTime": {
     "end_time": "2019-05-20T12:33:59.174526Z",
     "start_time": "2019-05-20T12:33:58.885570Z"
    }
   },
   "outputs": [],
   "source": [
    "# A seguir vamos compilar o programa\n",
    "!f95 -std=f2008 -Wall -Waliasing -pedantic -Warray-bounds -Wsurprising \\\n",
    "     -Wunderflow -fcheck=all -o x src/Mod_ImpMat.f95 src/min_e_max_val_01.f95"
   ]
  },
  {
   "cell_type": "code",
   "execution_count": 13,
   "metadata": {
    "ExecuteTime": {
     "end_time": "2019-05-20T12:33:59.838502Z",
     "start_time": "2019-05-20T12:33:59.692435Z"
    }
   },
   "outputs": [
    {
     "name": "stdout",
     "output_type": "stream",
     "text": [
      " A matriz é:\r\n",
      "  1   2   3\r\n",
      "  4   5   6\r\n",
      " \r\n",
      " A forma da matriz é:            2           3\r\n",
      "\r\n",
      " Menor valor é            1\r\n",
      " Menores valores de linha são:   1    4\r\n",
      "  Menores valores de coluna são:  1    2    3\r\n",
      "\r\n",
      " Maior valor é            6\r\n",
      " Maiores valores de linha são:   3    6\r\n",
      "  Maiores valores de coluna são:  4    5    6\r\n",
      "\r\n",
      " Vamos localizar os elementos:\r\n",
      "\r\n",
      " Menor valor está em            1           1\r\n",
      " Menores valores de linha estão: 1    1\r\n",
      " Menores valores de coluna estão: 1    1    1\r\n",
      "\r\n",
      " Maior valor está em            2           3\r\n",
      " Maiores valores de linha estão: 3    3\r\n",
      " Maiores valores de coluna estão: 2    2    2\r\n"
     ]
    }
   ],
   "source": [
    "#Rodando o programa\n",
    "! ./x"
   ]
  },
  {
   "cell_type": "code",
   "execution_count": 14,
   "metadata": {
    "ExecuteTime": {
     "end_time": "2019-05-20T12:35:40.597548Z",
     "start_time": "2019-05-20T12:35:40.573872Z"
    },
    "run_control": {
     "marked": true
    }
   },
   "outputs": [
    {
     "name": "stdout",
     "output_type": "stream",
     "text": [
      "Overwriting src/min_e_max_val_02.f95\n"
     ]
    }
   ],
   "source": [
    "%%writefile src/min_e_max_val_02.f95\n",
    "PROGRAM funcoes_matriciais\n",
    "    USE Imprimir_Matriz\n",
    "    IMPLICIT NONE\n",
    "    INTEGER, PARAMETER :: nl=5, nc=7\n",
    "    REAL, DIMENSION(nl,nc) :: A           \n",
    "    INTEGER, DIMENSION(nl,nc) :: Mat\n",
    "    INTEGER :: LL(nl), LC(nc), V\n",
    "    CHARACTER(LEN=80) :: fmtl, fmtc   \n",
    "    ! Preenche a matriz A com números aleatórios\n",
    "    CALL RANDOM_NUMBER(A)\n",
    "    ! Rescala os números para o intevalo 0 <= Mat <= 100\n",
    "    Mat = NINT(100*A)\n",
    "\n",
    "    CALL print_mat(Mat)\n",
    "    PRINT *,\"\"\n",
    "\n",
    "    ! Os formatos de linha são\n",
    "    ! fmtl para as linhas, pois note que temos nl linhas\n",
    "    WRITE(fmtl,'(A8,I1,A8)') '(1x,A37,', nl, '(I2,3x))'   \n",
    "    ! Os formatos de coluna são\n",
    "    ! fmtc para as colunas, pois note que temos nc colunas\n",
    "    WRITE(fmtc,'(A8,I1,A8)') '(1x,A38,', nc, '(I2,3x))'       \n",
    "    !        \n",
    "\n",
    "    PRINT *, \"A forma da matriz é: \", SHAPE(Mat)\n",
    "    PRINT *\n",
    "    \n",
    "    V  = MINVAL(Mat)       \n",
    "    LL = MINVAL(Mat,DIM=2) \n",
    "    LC = MINVAL(Mat,DIM=1) \n",
    "    PRINT *, \"Menor valor é: \", V\n",
    "    PRINT fmtl, \"Menores valores de cada linha são:  \", LL\n",
    "    PRINT fmtc, \"Menores valores de cada coluna são: \", LC \n",
    "    PRINT *\n",
    "    \n",
    "    V  = MAXVAL(Mat)       \n",
    "    LL = MAXVAL(Mat,DIM=2) \n",
    "    LC = MAXVAL(Mat,DIM=1) \n",
    "    PRINT *, \"Maior valor é: \", V\n",
    "    PRINT fmtl, \"Maiores valores de cada linha são:  \", LL\n",
    "    PRINT fmtc, \"Maiores valores de cada coluna são: \", LC\n",
    "\n",
    "    PRINT *\n",
    "    PRINT *, \"Vamos localizar os elementos:\"\n",
    "    PRINT *\n",
    "\n",
    "    LL = MINLOC(Mat,DIM=2) \n",
    "    LC = MINLOC(Mat,DIM=1) \n",
    "    PRINT *, \"Menor valor está em: \", MINLOC(Mat)    \n",
    "    PRINT fmtl, \"Menores valores de cada linha estão: \", LL\n",
    "    PRINT fmtc, \"Menores valores de cada coluna estão: \", LC\n",
    "\n",
    "    PRINT *\n",
    "    PRINT *, \"Maior valor está em: \", MAXLOC(Mat) \n",
    "    LL = MAXLOC(Mat,DIM=2) \n",
    "    LC = MAXLOC(Mat,DIM=1) \n",
    "    PRINT fmtl, \"Maiores valores de cada linha estão: \", LL\n",
    "    PRINT fmtc, \"Maiores valores de cada coluna estão: \", LC   \n",
    "    \n",
    "END PROGRAM funcoes_matriciais"
   ]
  },
  {
   "cell_type": "code",
   "execution_count": 15,
   "metadata": {
    "ExecuteTime": {
     "end_time": "2019-05-20T12:35:43.950669Z",
     "start_time": "2019-05-20T12:35:43.680250Z"
    }
   },
   "outputs": [],
   "source": [
    "# A seguir vamos compilar o programa\n",
    "!f95 -std=f2008 -Wall -Waliasing -pedantic -Warray-bounds -Wsurprising \\\n",
    "     -Wunderflow -fcheck=all -o x src/Mod_ImpMat.f95 src/min_e_max_val_02.f95"
   ]
  },
  {
   "cell_type": "code",
   "execution_count": 16,
   "metadata": {
    "ExecuteTime": {
     "end_time": "2019-05-20T12:35:44.565524Z",
     "start_time": "2019-05-20T12:35:44.451902Z"
    }
   },
   "outputs": [
    {
     "name": "stdout",
     "output_type": "stream",
     "text": [
      "  52   24   72   16   54   51   95\r\n",
      "  81   15   76   28   43   61   88\r\n",
      "  72   79   71   57   58   55    7\r\n",
      "  97   35   79   13   97   40   58\r\n",
      "  79   65   25   20    1   48    6\r\n",
      " \r\n",
      " A forma da matriz é:            5           7\r\n",
      "\r\n",
      " Menor valor é:            1\r\n",
      " Menores valores de cada linha são:  16   15    7   13    1\r\n",
      "  Menores valores de cada coluna são: 52   15   25   13    1   40    6\r\n",
      "\r\n",
      " Maior valor é:           97\r\n",
      " Maiores valores de cada linha são:  95   88   79   97   79\r\n",
      "  Maiores valores de cada coluna são: 97   79   79   57   97   61   95\r\n",
      "\r\n",
      " Vamos localizar os elementos:\r\n",
      "\r\n",
      " Menor valor está em:            5           5\r\n",
      " Menores valores de cada linha estão: 4    2    7    4    5\r\n",
      " Menores valores de cada coluna estão: 1    2    5    4    5    4    5\r\n",
      "\r\n",
      " Maior valor está em:            4           1\r\n",
      " Maiores valores de cada linha estão: 7    7    2    1    1\r\n",
      " Maiores valores de cada coluna estão: 4    3    4    3    4    2    1\r\n"
     ]
    }
   ],
   "source": [
    "#Rodando o programa\n",
    "! ./x"
   ]
  },
  {
   "cell_type": "markdown",
   "metadata": {},
   "source": [
    "### Função: PRODUCT\n",
    "\n",
    "- **PRODUCT(MATRIZ [,DIM] [,MASK])**\n",
    "\n",
    "  Retorna o produto dos elementos de uma matriz `REAL`, `INTEGER` ou `COMPLEX`. Se a matriz tem tamanho zero, ela retorna o valor um.\n",
    "\n",
    "```fortran\n",
    "  INTEGER, DIMENSION(2, 3) :: Mat\n",
    "  INTEGER :: LC(3), LL(2)\n",
    "  Mat = RESHAPE([1,4,2,5,3,6],[2,3])\n",
    "  ! Mat eh  1 2 3\n",
    "  !         4 5 6\n",
    "  LC = PRODUCT(matriz, DIM = 1)\n",
    "  ! retorna [ 4 10 18 ]\n",
    "  LL = PRODUCT(matriz, MASK=matriz<6, DIM=2)\n",
    "  ! retorna [ 6 20 ]\n",
    "```\n",
    "\n",
    "### Função: SUM\n",
    "\n",
    "- **SUM(MATRIZ [,DIM] [,MASK])**\n",
    "\n",
    "  Retorna a soma dos elementos de uma matriz `REAL`, `INTEGER` ou `COMPLEX`. Se a matriz tem tamanho zero, ela retorna o valor zero.\n",
    "\n",
    "  ```fortran\n",
    "  INTEGER, DIMENSION(2, 3) :: matriz\n",
    "  INTEGER :: i, j(3)\n",
    "  matriz=RESHAPE([1,2,3,4,5,6], [2,3]) \n",
    "         ! matriz= 1 3 5\n",
    "         !         2 4 6\n",
    "  i = SUM([1, 2, 3 ])      ! retorna 6\n",
    "  j = SUM(matriz, DIM = 1) ! retorna [3 7 11]\n",
    "  ```\n",
    "\n"
   ]
  },
  {
   "cell_type": "code",
   "execution_count": 20,
   "metadata": {
    "ExecuteTime": {
     "end_time": "2019-02-22T11:51:36.060935Z",
     "start_time": "2019-02-22T11:51:36.019812Z"
    }
   },
   "outputs": [
    {
     "name": "stdout",
     "output_type": "stream",
     "text": [
      "Overwriting src/product_sum_01.f95\n"
     ]
    }
   ],
   "source": [
    "%%writefile src/product_sum_01.f95\n",
    "PROGRAM funcoes_matriciais\n",
    "    USE Imprimir_Matriz\n",
    "    IMPLICIT NONE\n",
    "    INTEGER, PARAMETER :: nl=2, nc=3\n",
    "    INTEGER, DIMENSION(nl, nc) :: Mat\n",
    "    INTEGER :: LL(nl), LC(nc), R\n",
    "    CHARACTER(LEN=80) :: fmtl, fmtc   \n",
    "    ! Mat = RESHAPE((/1,4,2,5,3,6/),(/nl,nc/))  ! Fortran 90 e 95\n",
    "    Mat = RESHAPE([1,4,2,5,3,6],[nl,nc])        ! Fortran 2003 em diante\n",
    "    ! Mat eh  1 2 3\n",
    "    !         4 5 6\n",
    "    PRINT *,\"A matriz é:\"\n",
    "    CALL print_mat(Mat)\n",
    "    PRINT *,\"\"\n",
    "\n",
    "    ! Os formatos de linha são\n",
    "    ! fmtl para as linhas, pois note que temos nl linhas\n",
    "    WRITE(fmtl,'(A8,I1,A8)') '(1x,A34,', nl, '(I3,2x))'   \n",
    "    ! Os formatos de coluna são\n",
    "    ! fmtc para as colunas, pois note que temos nc colunas\n",
    "    WRITE(fmtc,'(A8,I1,A8)') '(1x,A34,', nc, '(I3,2x))'       \n",
    "    !        \n",
    "\n",
    "    PRINT *, \"A forma da matriz é: \", SHAPE(Mat)\n",
    "    PRINT *\n",
    "    r  = SUM(Mat)   \n",
    "    lc = SUM(Mat, DIM = 1)  \n",
    "    ll = SUM(Mat, DIM = 2)\n",
    "    PRINT *,    \"A soma de todos os elementos da matriz: \"\n",
    "    PRINT *,    \"  1)                          é: \", r\n",
    "    PRINT fmtc, \"  2) por linha de cada coluna é: \", lc\n",
    "    PRINT fmtl, \"  3) por coluna de cada linha é: \", ll\n",
    "    PRINT *,    \"  4) tais que Mat > 1  é: \", SUM(Mat,MASK=Mat>1) \n",
    "    PRINT *, \" \"\n",
    "    r = PRODUCT(Mat)   \n",
    "    lc = PRODUCT(Mat, DIM = 1) \n",
    "    ll = PRODUCT(Mat, DIM = 2) \n",
    "    PRINT *,    \"O produto de todos os elementos da matriz: \"\n",
    "    PRINT *,    \"  1)                          é: \", r\n",
    "    PRINT fmtc, \"  2) por linha de cada coluna é: \", lc\n",
    "    PRINT fmtl, \"  3) por coluna de cada linha é: \", ll\n",
    "    PRINT *,    \"  4) tais que Mat < 5  é: \", PRODUCT(Mat,MASK=Mat<5)\n",
    "    PRINT *    \n",
    "END PROGRAM funcoes_matriciais"
   ]
  },
  {
   "cell_type": "code",
   "execution_count": 21,
   "metadata": {
    "ExecuteTime": {
     "end_time": "2019-02-22T11:51:37.519094Z",
     "start_time": "2019-02-22T11:51:37.288525Z"
    },
    "lang": "en"
   },
   "outputs": [],
   "source": [
    "# A seguir vamos compilar o programa\n",
    "! f95 -std=f2008 -Wall -Waliasing -pedantic -Warray-bounds -Wsurprising \\\n",
    "     -Wunderflow -fcheck=all -o x src/Mod_ImpMat.f95 src/product_sum_01.f95"
   ]
  },
  {
   "cell_type": "code",
   "execution_count": 22,
   "metadata": {
    "ExecuteTime": {
     "end_time": "2019-02-22T11:51:39.211253Z",
     "start_time": "2019-02-22T11:51:39.100520Z"
    }
   },
   "outputs": [
    {
     "name": "stdout",
     "output_type": "stream",
     "text": [
      " A matriz é:\r\n",
      "  1   2   3\r\n",
      "  4   5   6\r\n",
      " \r\n",
      " A forma da matriz é:            2           3\r\n",
      "\r\n",
      " A soma de todos os elementos da matriz: \r\n",
      "   1)                          é:           21\r\n",
      "   2) por linha de cada coluna é:   5    7    9\r\n",
      "   3) por coluna de cada linha é:   6   15\r\n",
      "   4) tais que Mat > 1  é:           20\r\n",
      "  \r\n",
      " O produto de todos os elementos da matriz: \r\n",
      "   1)                          é:          720\r\n",
      "   2) por linha de cada coluna é:   4   10   18\r\n",
      "   3) por coluna de cada linha é:   6  120\r\n",
      "   4) tais que Mat < 5  é:           24\r\n",
      "\r\n"
     ]
    }
   ],
   "source": [
    "# Rodando o programa \n",
    "! ./x"
   ]
  },
  {
   "cell_type": "code",
   "execution_count": 23,
   "metadata": {
    "ExecuteTime": {
     "end_time": "2019-02-22T11:51:45.315117Z",
     "start_time": "2019-02-22T11:51:45.302255Z"
    }
   },
   "outputs": [
    {
     "name": "stdout",
     "output_type": "stream",
     "text": [
      "Overwriting src/product_sum_02.f95\n"
     ]
    }
   ],
   "source": [
    "%%writefile src/product_sum_02.f95\n",
    "PROGRAM funcoes_matriciais\n",
    "    USE Imprimir_Matriz\n",
    "    IMPLICIT NONE\n",
    "    INTEGER, PARAMETER :: nl=4, nc=5\n",
    "    REAL, DIMENSION(nl,nc) :: Mat                 \n",
    "    REAL :: ll(nl), lc(nc), R\n",
    "    CHARACTER(LEN=80) :: fmtl, fmtc \n",
    "    !\n",
    "    ! Preenche a matriz A com números aleatórios\n",
    "    CALL RANDOM_NUMBER(Mat)\n",
    "    ! Rescala os números para o intevalo 0 <= Mat <= 10.0\n",
    "    Mat = NINT(100*Mat)/10.0\n",
    "    !\n",
    "    PRINT *,\"A matriz é:\"\n",
    "    CALL print_mat(Mat)\n",
    "    PRINT *,\"\"\n",
    "\n",
    "    ! Os formatos de linha são\n",
    "    ! fmtl para as linhas, pois note que temos nl linhas\n",
    "    WRITE(fmtl,'(A8,I1,A10)') '(1x,A34,', nl, '(F7.2,2x))'   \n",
    "    ! Os formatos de coluna são\n",
    "    ! fmtc para as colunas, pois note que temos nc colunas\n",
    "    WRITE(fmtc,'(A8,I1,A10)') '(1x,A34,', nc, '(F7.2,2x))'       \n",
    "    !        \n",
    "    PRINT *, \"A forma da matriz é: \", SHAPE(Mat)\n",
    "    PRINT *\n",
    "    r  = SUM(Mat)   \n",
    "    lc = SUM(Mat, DIM = 1)  \n",
    "    ll = SUM(Mat, DIM = 2)\n",
    "    PRINT *,    \"A soma de todos os elementos da matriz: \"\n",
    "    PRINT *,    \"  1)                          é: \", r\n",
    "    PRINT fmtc, \"  2) por linha de cada coluna é: \", lc\n",
    "    PRINT fmtl, \"  3) por coluna de cada linha é: \", ll\n",
    "    PRINT *,    \"  4) tais que Mat < 1  é: \", SUM(Mat,MASK=Mat<5.0) \n",
    "    PRINT *, \" \"\n",
    "    r = PRODUCT(Mat)   \n",
    "    lc = PRODUCT(Mat, DIM = 1) \n",
    "    ll = PRODUCT(Mat, DIM = 2) \n",
    "    PRINT *,    \"O produto de todos os elementos da matriz: \"\n",
    "    PRINT *,    \"  1)                          é: \", r\n",
    "    PRINT fmtc, \"  2) por linha de cada coluna é: \", lc\n",
    "    PRINT fmtl, \"  3) por coluna de cada linha é: \", ll\n",
    "    PRINT *,    \"  4) tais que Mat > 7  é: \", PRODUCT(Mat,MASK=Mat>7)\n",
    "    PRINT *           \n",
    "END PROGRAM funcoes_matriciais"
   ]
  },
  {
   "cell_type": "code",
   "execution_count": 24,
   "metadata": {
    "ExecuteTime": {
     "end_time": "2019-02-22T11:51:46.568692Z",
     "start_time": "2019-02-22T11:51:46.336517Z"
    }
   },
   "outputs": [],
   "source": [
    "# A seguir vamos compilar o programa\n",
    "!f95 -std=f2008 -Wall -Waliasing -pedantic -Warray-bounds -Wsurprising \\\n",
    "     -Wunderflow -fcheck=all -o x src/Mod_ImpMat.f95 src/product_sum_02.f95"
   ]
  },
  {
   "cell_type": "code",
   "execution_count": 25,
   "metadata": {
    "ExecuteTime": {
     "end_time": "2019-02-22T11:51:47.185959Z",
     "start_time": "2019-02-22T11:51:47.076075Z"
    }
   },
   "outputs": [
    {
     "name": "stdout",
     "output_type": "stream",
     "text": [
      " A matriz é:\r\n",
      "  1.80   2.40   3.30   8.50   7.70\r\n",
      "  8.70   8.00   1.20   0.40   0.50\r\n",
      "  1.50   5.60   9.60   1.00   8.40\r\n",
      "  1.60   3.90   2.70   3.00   7.30\r\n",
      " \r\n",
      " A forma da matriz é:            4           5\r\n",
      "\r\n",
      " A soma de todos os elementos da matriz: \r\n",
      "   1)                          é:    87.1000061    \r\n",
      "   2) por linha de cada coluna é:   13.60    19.90    16.80    12.90    23.90\r\n",
      "   3) por coluna de cada linha é:   23.70    18.80    26.10    18.50\r\n",
      "   4) tais que Mat < 1  é:    23.3000011    \r\n",
      "  \r\n",
      " O produto de todos os elementos da matriz: \r\n",
      "   1)                          é:    3.89538227E+09\r\n",
      "   2) por linha de cada coluna é:   37.58   419.33   102.64    10.20   236.08\r\n",
      "   3) por coluna de cada linha é:  933.06    16.70   677.38   368.97\r\n",
      "   4) tais que Mat > 7  é:    2681589.25    \r\n",
      "\r\n"
     ]
    }
   ],
   "source": [
    "# Rodando o programa \n",
    "! ./x"
   ]
  },
  {
   "cell_type": "markdown",
   "metadata": {},
   "source": [
    "## Funções matriciais intrínsecas para construção\n",
    "\n",
    "\n",
    "| Função                             | Descrição                                     |\n",
    "| ---------------------------------- | --------------------------------------------- |\n",
    "| **MERGE (TSOURCE, FSOURCE, MASK)** | Mescla conforme a Máscara                     |\n",
    "| **PACK (ARRAY, MASK [, VECTOR])**  | Empacota um array em um array de rank um sob a máscara       |\n",
    "| **SPREAD (SOURCE, DIM, NCOPIES)**  | Replica o array adicionando uma dimensão      |\n",
    "| **UNPACK (VECTOR, MASK, FIELD)**   | Descompactar uma matriz de um Rank em uma matriz sob uma máscara |"
   ]
  },
  {
   "cell_type": "markdown",
   "metadata": {},
   "source": [
    "### Função MERGE\n",
    "\n",
    "**MERGE(Mat1, Mat2, Mask)** \n",
    "\n",
    "- Retorna uma matriz a partir dos valores das duas matrizes de entrada, e cada elemento é escolhido pela condição `Mask`. As duas matrizes de entrada devem ter o mesmo tipo e forma, a qual será a mesma da matriz de retornada.\n",
    "\n",
    "- O elemento da matriz resultante corresponde ao elemento da matriz `Mask`, cujo o valor é `.TRUE.`, com seu valor dado pelo correspondente elemento da matriz `Mat1`. Se o elemento resultante corresponder a um elemento `.FALSE.` na matriz `Mask`, o seu valor será o elemento correspondente da matriz `Mat2`.\n",
    "\n",
    "```fortran\n",
    " INTEGER :: Mat1(2,3), Mat2(2,3), Mat3(2,3)\n",
    " LOGICAL :: Mask(2,3)\n",
    " Mat1=RESHAPE([1,4,2,5,3,6],[2,3])\n",
    " Mat2=RESHAPE([7,0,8,-1,9,-2],[2,3])\n",
    " Mask=RESHAPE([.TRUE.,.FALSE.,.FALSE.,.TRUE., &\n",
    "               .TRUE.,.FALSE.], [2,3])\n",
    "! Mat1 = 1 2 3,    Mat2 = 7  8  9,  Mask = T F T\n",
    "!        4 5 6            0 -1 -2          F T F\n",
    " Mat3=MERGE(Mat1,Mat2,Mask) ! retorna  1 8  3\n",
    "                           !          0 5 -2\n",
    "```"
   ]
  },
  {
   "cell_type": "code",
   "execution_count": 1,
   "metadata": {
    "ExecuteTime": {
     "end_time": "2019-03-02T15:37:20.045954Z",
     "start_time": "2019-03-02T15:37:19.948639Z"
    }
   },
   "outputs": [
    {
     "name": "stdout",
     "output_type": "stream",
     "text": [
      "Overwriting src/merge_func_01.f95\n"
     ]
    }
   ],
   "source": [
    "%%writefile src/merge_func_01.f95\n",
    "PROGRAM Teste_Merge\n",
    "!  =====================================================================\n",
    "   USE Imprimir_Matriz\n",
    "   IMPLICIT NONE\n",
    "   REAL, DIMENSION(:,:), ALLOCATABLE :: mat, mat1, mat2\n",
    "   INTEGER :: nl, nc, erro\n",
    "!  =====================================================================\n",
    "   PRINT *, \"Entre com as dimensoes das matrizes (nl,nc): \"\n",
    "   READ *, nl, nc\n",
    "!  =====================================================================\n",
    "!  >>>>>>>>>>>>     ALOCANDO AS MATRIZES DO SISTEMA       <<<<<<<<<<<<<<\n",
    "!  =====================================================================\n",
    "   ALLOCATE ( mat(nl,nc), mat1(nl,nc), mat2(nl,nc), STAT = erro )\n",
    "   IF( ERRO /= 0 ) STOP 'Memoria Insuficiente para alocar as matrizes'\n",
    "!  ---------------------------------------------------------------------\n",
    "   CALL RANDOM_NUMBER(mat1)\n",
    "   CALL RANDOM_NUMBER(mat2)\n",
    "!  ---------------------------------------------------------------------\n",
    "   Mat1 = NINT( 25 + 50 * Mat1)\n",
    "   Mat2 = NINT( 0  + 50 * Mat2)\n",
    "!  ---------------------------------------------------------------------\n",
    "   PRINT *,\"A matriz Mat1 é:\"\n",
    "   CALL print_mat(Mat1)\n",
    "   PRINT *,\"\"\n",
    "!  ---------------------------------------------------------------------\n",
    "   PRINT *,\"A matriz Mat2 é:\"\n",
    "   CALL print_mat(Mat2)\n",
    "   PRINT *,\"\"\n",
    "!  ---------------------------------------------------------------------\n",
    "   Mat = MERGE(mat1, mat2, mat1 > mat2) ! A matriz com os maiores valores\n",
    "!  ---------------------------------------------------------------------\n",
    "   PRINT *\n",
    "   PRINT *, 'Listagem da matriz Mat, que contem os maiores valores'\n",
    "   PRINT *, 'entre as matrizes Mat1 e Mat2'\n",
    "!  ---------------------------------------------------------------------\n",
    "   PRINT *,\"A matriz Mat é:\"\n",
    "   CALL print_mat(Mat)\n",
    "   PRINT *,\"\"\n",
    "!  ---------------------------------------------------------------------\n",
    "   Mat = MERGE(mat1, mat2, mat1 < mat2) ! A matriz com os menores valores\n",
    "!  ---------------------------------------------------------------------\n",
    "   PRINT *\n",
    "   PRINT *, 'Listagem da matriz mat, que contem os menores valores'\n",
    "   PRINT *, 'entre as matrizes mat1 e mat2'\n",
    "!  ---------------------------------------------------------------------\n",
    "   PRINT *,\"A matriz Mat é:\"\n",
    "   CALL print_mat(Mat)\n",
    "   PRINT *,\"\"\n",
    "!  ---------------------------------------------------------------------\n",
    "   STOP \n",
    "END PROGRAM Teste_Merge"
   ]
  },
  {
   "cell_type": "code",
   "execution_count": 2,
   "metadata": {
    "ExecuteTime": {
     "end_time": "2019-03-02T15:37:22.416288Z",
     "start_time": "2019-03-02T15:37:21.096607Z"
    }
   },
   "outputs": [],
   "source": [
    "# A seguir vamos compilar o programa\n",
    "!f95 -std=f2008 -Wall -Waliasing -pedantic -Warray-bounds -Wsurprising \\\n",
    "     -Wunderflow -fcheck=all -o x src/Mod_ImpMat.f95 src/merge_func_01.f95"
   ]
  },
  {
   "cell_type": "code",
   "execution_count": 3,
   "metadata": {
    "ExecuteTime": {
     "end_time": "2019-03-02T15:37:22.589055Z",
     "start_time": "2019-03-02T15:37:22.433993Z"
    }
   },
   "outputs": [
    {
     "name": "stdout",
     "output_type": "stream",
     "text": [
      " Entre com as dimensoes das matrizes (nl,nc): \r\n",
      " A matriz Mat1 é:\r\n",
      "  44.00   33.00   28.00   70.00   27.00\r\n",
      "  59.00   45.00   66.00   54.00   38.00\r\n",
      "  51.00   44.00   44.00   34.00   42.00\r\n",
      "  48.00   52.00   48.00   61.00   34.00\r\n",
      " \r\n",
      " A matriz Mat2 é:\r\n",
      "   1.00   29.00   12.00   29.00   30.00\r\n",
      "   5.00   48.00   46.00   12.00   16.00\r\n",
      "  23.00    6.00   32.00   32.00   44.00\r\n",
      "  28.00   34.00   46.00   19.00   34.00\r\n",
      " \r\n",
      "\r\n",
      " Listagem da matriz Mat, que contem os maiores valores\r\n",
      " entre as matrizes Mat1 e Mat2\r\n",
      " A matriz Mat é:\r\n",
      "  44.00   33.00   28.00   70.00   30.00\r\n",
      "  59.00   48.00   66.00   54.00   38.00\r\n",
      "  51.00   44.00   44.00   34.00   44.00\r\n",
      "  48.00   52.00   48.00   61.00   34.00\r\n",
      " \r\n",
      "\r\n",
      " Listagem da matriz mat, que contem os menores valores\r\n",
      " entre as matrizes mat1 e mat2\r\n",
      " A matriz Mat é:\r\n",
      "   1.00   29.00   12.00   29.00   27.00\r\n",
      "   5.00   45.00   46.00   12.00   16.00\r\n",
      "  23.00    6.00   32.00   32.00   42.00\r\n",
      "  28.00   34.00   46.00   19.00   34.00\r\n",
      " \r\n"
     ]
    }
   ],
   "source": [
    "# Rodando o programa\n",
    "! echo \"4 5\" | ./x -"
   ]
  },
  {
   "cell_type": "markdown",
   "metadata": {},
   "source": [
    "### Função PACK \n",
    "\n",
    "**PACK(MATRIZ, MASK [,VETOR])** \n",
    "\n",
    "- Retorna um vetor a partir dos valores da matriz de entrada cujo o valor de cada elemento é escolhido de acordo com a condição da `MASK`. O vetor resultante deve ter o mesmo número de elementos da matriz de entrada. O `VETOR` é opcional, se especificado terá o mesmo tipo da matriz, e deverá ter o mesmo número de elementos `.TRUE.` da matriz `MASK`.\n",
    "\n",
    "- Retorna um vetor do mesmo tipo da matriz, e com o mesmo número de elementos do vetor quando especificado. O valor do primeiro elemento do vetor resultante é primeiro elemento da matriz cujo correspondente elemento da matriz `MASK` é `.TRUE.`, e assim por diante. Se o vetor for omitido, o tamanho do vetor resultante será igual ao número de elemento `.TRUE.` da matriz `MASK`, a menos que `MASK` seja um escalar igual a `.TRUE.`, e neste caso o resultado terá a mesma dimensão da matriz. Se o vetor for especificado e tiver um número de elementos maior do que o número de elementos `.TRUE.` da matriz `MASK`, o elementos adicionais serão cópias do inalteradas do vetor resultado.\n",
    "\n",
    "\n",
    "**Nota:** Os elementos de uma matriz do fortran tem uma ordem, em uma matriz bidimensional ela é $(1, 1)  \\rightarrow  (2, 1) \\rightarrow  (3, 1)$ e assim por diante.\n",
    "\n",
    "$$\\begin{array}{EFEFEFEF} \\text{Início} & \\Rsh  & \\downarrow  & \\Rsh  & \\downarrow  & \\Rsh & \\downarrow  \\\\\n",
    "\\downarrow  & \\uparrow  & \\downarrow  & \\uparrow  & \\downarrow  & \\uparrow & \\downarrow  \\\\\n",
    "M(1,1) & \\uparrow  & M(1,2) & \\uparrow  & M(1,3) & \\uparrow  & M(1,4) \\\\\n",
    "M(2,1) & \\uparrow  & M(2,2) & \\uparrow  & M(2,3) & \\uparrow  & M(2,4) \\\\\n",
    "M(3,1) & \\uparrow  & M(3,2) & \\uparrow  & M(3,3) & \\uparrow  & M(3,4) \\\\\n",
    "M(4,1) & \\uparrow  & M(4,2) & \\uparrow  & M(4,3) & \\uparrow  & M(4,4) \\\\\n",
    "\\downarrow  & \\uparrow  & \\downarrow  & \\uparrow  & \\downarrow  & \\uparrow & \\downarrow  \\\\\n",
    "\\hookrightarrow  & \\uparrow  & \\hookrightarrow  & \\uparrow  &\n",
    "\\hookrightarrow  & \\uparrow  & \\text{Fim}\\end{array}$$\n",
    "\n",
    "Em uma matriz tridimensional, cada dimensão tem dois elementos, cada\n",
    "matriz tendo dois elementos, os elementos das matrizes devem ter a\n",
    "seguinte ordem $(1, 1, 1) \\rightarrow (2, 1, 1) \\rightarrow\n",
    "(1, 2, 1) \\rightarrow (2, 2, 1) \\rightarrow (1, 1, 2)\n",
    "\\rightarrow (2, 1, 2) \\rightarrow (1, 2, 2) \\rightarrow\n",
    "(2, 2, 2)$.\n",
    "\n",
    "**Exemplo:** PACK\n",
    "\n",
    "```fortran\n",
    " INTEGER :: mat(2, 3), vet1(2), vet2(5)\n",
    " LOGICAL :: mask (2, 3)\n",
    " mat = RESHAPE([7, 0, 0, -5, 0, 0], [2, 3])\n",
    " mask = mat .NE. 0\n",
    "\n",
    " !  mat eh  7  0 0  e mask eh  T F F\n",
    " !          0 -5 0             F T F\n",
    "\n",
    " VET1 = PACK(mat, mask)   ! retorna ( 7, -5 )\n",
    "\n",
    " VET2 = PACK(mat, mat > 0, VETOR=[1,2,3,4,5])\n",
    " !  retorna ( 7, 2, 3, 4, 5 )\n",
    "```"
   ]
  },
  {
   "cell_type": "code",
   "execution_count": 1,
   "metadata": {
    "ExecuteTime": {
     "end_time": "2019-03-03T23:27:41.003057Z",
     "start_time": "2019-03-03T23:27:40.972899Z"
    }
   },
   "outputs": [
    {
     "name": "stdout",
     "output_type": "stream",
     "text": [
      "Overwriting src/teste_pack_01.f95\n"
     ]
    }
   ],
   "source": [
    "%%writefile src/teste_pack_01.f95\n",
    "PROGRAM Teste_Pack\n",
    "  IMPLICIT NONE\n",
    "  INTEGER :: Mat(2, 3), Vet1(2), Vet2(5), i\n",
    "  LOGICAL :: Mask (2, 3)\n",
    "  Mat = RESHAPE([7, 0, 0, -5, 0, 0], [2, 3])\n",
    "  Mask = Mat .NE. 0\n",
    "\n",
    "  PRINT *, ' A matriz MAT eh '\n",
    "  PRINT *, ( Mat(1,i), i=1,3)\n",
    "  PRINT *, ( Mat(2,i), i=1,3)\n",
    "  PRINT *\n",
    "  PRINT *, ' A matriz MASK eh '\n",
    "  PRINT *, ( Mask(1,i), i=1,3)\n",
    "  PRINT *, ( Mask(2,i), i=1,3)\n",
    "  PRINT *\n",
    "  PRINT *, 'O vetor Vet1, dado pelo comando PACK(Mat, Mask),  eh '\n",
    "  Vet1 = PACK(Mat, Mask)         ! retorna ( 7, -5 )\n",
    "  PRINT *, (Vet1(i), i=1,2)\n",
    "  PRINT *\n",
    "  PRINT *, 'O vetor Vet2, dado pelo comando' // &\n",
    "           ' PACK(Mat, Mat > 0, VECTOR=[1,2,3,4,5] eh '\n",
    "  Vet2 = PACK(mat, mat > 0, VECTOR=[1,2,3,4,5])\n",
    "  ! retorna ( 7, 2, 3, 4, 5 )\n",
    "  PRINT *, (Vet2(i), i=1,5)\n",
    "  STOP\n",
    "END PROGRAM Teste_Pack"
   ]
  },
  {
   "cell_type": "code",
   "execution_count": 2,
   "metadata": {
    "ExecuteTime": {
     "end_time": "2019-03-03T23:27:53.126681Z",
     "start_time": "2019-03-03T23:27:52.089073Z"
    }
   },
   "outputs": [],
   "source": [
    "# A seguir vamos compilar o programa\n",
    "!f95 -std=f2008 -Wall -Waliasing -pedantic -Warray-bounds -Wsurprising \\\n",
    "     -Wunderflow -fcheck=all -o x src/teste_pack_01.f95"
   ]
  },
  {
   "cell_type": "code",
   "execution_count": 3,
   "metadata": {
    "ExecuteTime": {
     "end_time": "2019-03-03T23:28:04.031949Z",
     "start_time": "2019-03-03T23:28:03.884076Z"
    }
   },
   "outputs": [
    {
     "name": "stdout",
     "output_type": "stream",
     "text": [
      "  A matriz MAT eh \r\n",
      "           7           0           0\r\n",
      "           0          -5           0\r\n",
      "\r\n",
      "  A matriz MASK eh \r\n",
      " T F F\r\n",
      " F T F\r\n",
      "\r\n",
      " O vetor Vet1, dado pelo comando PACK(Mat, Mask),  eh \r\n",
      "           7          -5\r\n",
      "\r\n",
      " O vetor Vet2, dado pelo comando PACK(Mat, Mat > 0, VECTOR=[1,2,3,4,5] eh \r\n",
      "           7           2           3           4           5\r\n"
     ]
    }
   ],
   "source": [
    "# executando o código\n",
    "! ./x"
   ]
  },
  {
   "cell_type": "code",
   "execution_count": 1,
   "metadata": {
    "ExecuteTime": {
     "end_time": "2019-03-04T00:20:27.079574Z",
     "start_time": "2019-03-04T00:20:27.072155Z"
    }
   },
   "outputs": [
    {
     "name": "stdout",
     "output_type": "stream",
     "text": [
      "Overwriting src/teste_pack_02.f95\n"
     ]
    }
   ],
   "source": [
    "%%writefile src/teste_pack_02.f95\n",
    "PROGRAM Teste_Pack\n",
    "!  =====================================================================\n",
    "   USE Imprimir_Matriz\n",
    "!  =====================================================================\n",
    "   IMPLICIT NONE\n",
    "   REAL, DIMENSION(:,:), ALLOCATABLE :: Mat, Mat1, Mat2\n",
    "   REAL, DIMENSION(:),   ALLOCATABLE :: Vet1, Vet2\n",
    "   INTEGER :: i, nl, nc, nt, erro\n",
    "!  =====================================================================\n",
    "   PRINT *, \"Entre com as dimensoes das matrizes (nl,nc): \"\n",
    "   READ *, nl, nc\n",
    "   nt = nl * nc\n",
    "!  =====================================================================\n",
    "!  >>>>>>>>>>>>     ALOCANDO AS MATRIZES DO SISTEMA       <<<<<<<<<<<<<<\n",
    "!  =====================================================================\n",
    "   ALLOCATE (Mat(nl,nc), Mat1(nl,nc), Mat2(nl,nc),Vet2(nt), STAT = erro )\n",
    "   IF( ERRO /= 0 ) STOP 'Memoria Insuficiente para alocar as matrizes'\n",
    "!  ---------------------------------------------------------------------\n",
    "   CALL RANDOM_NUMBER(Mat1)\n",
    "   CALL RANDOM_NUMBER(Mat2)\n",
    "   Vet2 = [(2*i,i=1,nt)]\n",
    "!  ---------------------------------------------------------------------\n",
    "   Mat1 = NINT( 10 * Mat1 )\n",
    "   Mat2 = NINT( 10 * Mat2 )\n",
    "!  ---------------------------------------------------------------------\n",
    "   PRINT *,\"A matriz Mat1 é:\"\n",
    "   CALL print_mat(Mat1)\n",
    "   PRINT *,\"\"\n",
    "!  ---------------------------------------------------------------------\n",
    "   PRINT *,\"A matriz Mat2 é:\"\n",
    "   CALL print_mat(Mat2)\n",
    "   PRINT *,\"\"\n",
    "!  ---------------------------------------------------------------------\n",
    "   PRINT *, 'Listagem do vet com condicao de que: PACK(Mat1, Mat1 > 0.0)'\n",
    "!  ---------------------------------------------------------------------\n",
    "   Vet1 = PACK(Mat1, Mat1 > 0.0 ) ! A matriz com os maiores valores\n",
    "   PRINT *, 'SIZE(Vet1) = ', SIZE(Vet1)\n",
    "   CALL print_mat(Vet1)\n",
    "   PRINT *,\"\"\n",
    "!  ---------------------------------------------------------------------\n",
    "   PRINT *, 'Listagem do vet com condicao de que: PACK(Mat1, Mat1 >= 4.0)'\n",
    "!  ---------------------------------------------------------------------\n",
    "   Vet1 = PACK(Mat1, Mat1 >= 4.0 ) ! A matriz com os maiores valores\n",
    "   PRINT *, 'SIZE(Vet1) = ', SIZE(Vet1)\n",
    "   CALL print_mat(Vet1)\n",
    "   PRINT *,\"\"\n",
    "!  ---------------------------------------------------------------------\n",
    "   PRINT *, 'Listagem do vet com condicao de que: PACK(Mat1, Mat1 > Mat2)'\n",
    "!  ---------------------------------------------------------------------\n",
    "   Vet1 = PACK(Mat1, Mat1 > Mat2) ! A matriz com os maiores\n",
    "   PRINT *, 'SIZE(Vet1) = ', SIZE(Vet1)\n",
    "   CALL print_mat(Vet1)\n",
    "   PRINT *,\"\"\n",
    "!  ---------------------------------------------------------------------\n",
    "   PRINT *, 'Listagem do vet com condicao de que: PACK(Mat1, Mat1 < Mat2)'\n",
    "!  ---------------------------------------------------------------------\n",
    "   Vet1 = PACK(Mat1, Mat1 < Mat2) ! A matriz com os menores valores\n",
    "   PRINT *, 'SIZE(Vet1) = ', SIZE(Vet1)\n",
    "   CALL print_mat(Vet1)\n",
    "   PRINT *,\"\"\n",
    "!  ---------------------------------------------------------------------\n",
    "   PRINT *, 'O vetor vet2 eh'\n",
    "   CALL print_mat(Vet2)\n",
    "   PRINT *,\"\"\n",
    "!  ---------------------------------------------------------------------\n",
    "   PRINT *, 'Listagem do vet com condicao de que: PACK(mat1, mat1 < mat2, vet2)'\n",
    "!  ---------------------------------------------------------------------\n",
    "   Vet1 = PACK(Mat1, Mat1 < Mat2, Vet2) ! A matriz com os menores valores\n",
    "   PRINT *, 'SIZE(Vet1) = ', SIZE(Vet1)\n",
    "   CALL print_mat(Vet1)\n",
    "   PRINT *,\"\"\n",
    "!  ---------------------------------------------------------------------\n",
    "END PROGRAM Teste_Pack"
   ]
  },
  {
   "cell_type": "code",
   "execution_count": 2,
   "metadata": {
    "ExecuteTime": {
     "end_time": "2019-03-04T00:20:28.491413Z",
     "start_time": "2019-03-04T00:20:28.126875Z"
    }
   },
   "outputs": [],
   "source": [
    "# A seguir vamos compilar o programa\n",
    "!f95 -std=f2003 -Wall -Waliasing -pedantic -Warray-bounds -Wsurprising \\\n",
    "     -Wunderflow -fcheck=all -o x src/Mod_ImpMat.f95 src/teste_pack_02.f95"
   ]
  },
  {
   "cell_type": "code",
   "execution_count": 4,
   "metadata": {
    "ExecuteTime": {
     "end_time": "2019-03-04T00:20:33.088943Z",
     "start_time": "2019-03-04T00:20:32.975827Z"
    }
   },
   "outputs": [
    {
     "name": "stdout",
     "output_type": "stream",
     "text": [
      " Entre com as dimensoes das matrizes (nl,nc): \r\n",
      " A matriz Mat1 é:\r\n",
      "  6.00   0.00   2.00   6.00\r\n",
      "  9.00   8.00   6.00   5.00\r\n",
      "  1.00   6.00   4.00   2.00\r\n",
      "  4.00   5.00   9.00   9.00\r\n",
      " \r\n",
      " A matriz Mat2 é:\r\n",
      "  1.00   1.00   5.00   1.00\r\n",
      "  6.00   8.00   7.00   7.00\r\n",
      "  1.00   6.00   5.00   9.00\r\n",
      "  4.00   2.00   8.00   3.00\r\n",
      " \r\n",
      " Listagem do vet com condicao de que: PACK(Mat1, Mat1 > 0.0)\r\n",
      " SIZE(Vet1) =           15\r\n",
      "  6.00   9.00   1.00   4.00   8.00   6.00   5.00   2.00   6.00   4.00   9.00   6.00   5.00   2.00   9.00\r\n",
      " \r\n",
      " Listagem do vet com condicao de que: PACK(Mat1, Mat1 >= 4.0)\r\n",
      " SIZE(Vet1) =           12\r\n",
      "  6.00   9.00   4.00   8.00   6.00   5.00   6.00   4.00   9.00   6.00   5.00   9.00\r\n",
      " \r\n",
      " Listagem do vet com condicao de que: PACK(Mat1, Mat1 > Mat2)\r\n",
      " SIZE(Vet1) =            6\r\n",
      "  6.00   9.00   5.00   9.00   6.00   9.00\r\n",
      " \r\n",
      " Listagem do vet com condicao de que: PACK(Mat1, Mat1 < Mat2)\r\n",
      " SIZE(Vet1) =            6\r\n",
      "  0.00   2.00   6.00   4.00   5.00   2.00\r\n",
      " \r\n",
      " O vetor vet2 eh\r\n",
      "   2.00    4.00    6.00    8.00   10.00   12.00   14.00   16.00   18.00   20.00   22.00   24.00   26.00   28.00   30.00   32.00\r\n",
      " \r\n",
      " Listagem do vet com condicao de que: PACK(mat1, mat1 < mat2, vet2)\r\n",
      " SIZE(Vet1) =           16\r\n",
      "   0.00    2.00    6.00    4.00    5.00    2.00   14.00   16.00   18.00   20.00   22.00   24.00   26.00   28.00   30.00   32.00\r\n",
      " \r\n"
     ]
    }
   ],
   "source": [
    "# Rodando o programa\n",
    "! echo \"4 4\" | ./x -"
   ]
  },
  {
   "cell_type": "markdown",
   "metadata": {},
   "source": [
    "**Note:** Observe que `Vet1` em cada situação teve uma dimensão diferente, ou seja, ele foi alocado automaticamente."
   ]
  },
  {
   "cell_type": "markdown",
   "metadata": {},
   "source": [
    "### Função: UNPACK\n",
    "\n",
    "**UNPACK(VETOR, MASK, EXTRAS)** \n",
    "\n",
    "- Reescreve um vetor (matriz unidimensional) na forma de uma matriz de dimensão e forma qualquer, com um controle exercido pela condição `MASK`.\n",
    "\n",
    "- O vetor pode ser um tipo qualquer e deve conter no mínimo o mesmo número de elementos `.TRUE.` da matriz `MASK`. O elemento do vetor só são colocados se o elemento correspondente da matriz `MASK` for `.TRUE.`.\n",
    "\n",
    "- As `EXTRAS` devem ter o mesmo tipo do `VETOR`, e elas especificam os valores que irão preencher os elementos da matriz de saída que não forem preenchidos pelo `VETOR`.  `EXTRAS` deve ser um escalar ou uma matriz da mesma forma da matriz `MASK`.\n",
    "\n",
    "- Os valores retornados são matrizes que tem a mesma forma da matriz `MASK`. Os elementos que correspondem aos elementos `.FALSE.` na matriz `MASK` os seus valores são obtidos de `EXTRAS`.\n",
    "\n",
    "**Exemplo:** UNPACK\n",
    "\n",
    "```fortran\n",
    " LOGICAL :: Mask (2, 3)\n",
    " INTEGER :: Vetor(1:3)=[1, 2, 3], Mat(2, 3)\n",
    " Mask = RESHAPE([.TRUE.,.FALSE.,.FALSE.,.TRUE.,&\n",
    "                  .TRUE.,.FALSE.], [2, 3])\n",
    " ! vector = [1 2 3] and mask =  T F T\n",
    " !                              F T F\n",
    " Mat = UNPACK(vetor, mask, 8)  ! retorna  1 8 3\n",
    "                               !          8 2 8\n",
    " END\n",
    "```"
   ]
  },
  {
   "cell_type": "code",
   "execution_count": 5,
   "metadata": {
    "ExecuteTime": {
     "end_time": "2019-03-04T00:43:31.647821Z",
     "start_time": "2019-03-04T00:43:31.641220Z"
    }
   },
   "outputs": [
    {
     "name": "stdout",
     "output_type": "stream",
     "text": [
      "Writing src/teste_unpack_01.f95\n"
     ]
    }
   ],
   "source": [
    "%%writefile src/teste_unpack_01.f95\n",
    "PROGRAM Teste_Unpack\n",
    "  IMPLICIT NONE\n",
    "  LOGICAL :: Mask (2, 3)\n",
    "  INTEGER :: i, Vet(1:3)=[1, 2, 3], Mat(2, 3)\n",
    "  Mask = RESHAPE([.TRUE.,.FALSE.,.FALSE.,.TRUE.,.TRUE.,.FALSE.], [2, 3])\n",
    "  Mat  = UNPACK(Vet, Mask, 8) ! retorna 1 8 3\n",
    "                              !         8 2 8\n",
    "  PRINT *, ' O vetor  Vet eh '\n",
    "  PRINT *, ( Vet(i), i=1,3)\n",
    "  PRINT *\n",
    "  PRINT *, ' A matriz Mask eh '\n",
    "  PRINT *, ( Mask(1,i), i=1,3)\n",
    "  PRINT *, ( Mask(2,i), i=1,3)\n",
    "  PRINT *\n",
    "  PRINT *, ' A matriz Mat, dada pelo comando UNPACK(Vet, Mask, 8), eh '\n",
    "  PRINT *\n",
    "  PRINT *, ( Mat(1,i), i=1,3)\n",
    "  PRINT *, ( Mat(2,i), i=1,3)\n",
    "END PROGRAM Teste_Unpack"
   ]
  },
  {
   "cell_type": "code",
   "execution_count": 6,
   "metadata": {
    "ExecuteTime": {
     "end_time": "2019-03-04T01:04:43.414747Z",
     "start_time": "2019-03-04T01:04:43.053406Z"
    }
   },
   "outputs": [],
   "source": [
    "# A seguir vamos compilar o programa\n",
    "!f95 -std=f2003 -Wall -Waliasing -pedantic -Warray-bounds -Wsurprising \\\n",
    "     -Wunderflow -fcheck=all -o x src/teste_unpack_01.f95"
   ]
  },
  {
   "cell_type": "code",
   "execution_count": 7,
   "metadata": {
    "ExecuteTime": {
     "end_time": "2019-03-04T00:44:33.976950Z",
     "start_time": "2019-03-04T00:44:33.861995Z"
    }
   },
   "outputs": [
    {
     "name": "stdout",
     "output_type": "stream",
     "text": [
      "  O vetor  Vet eh \r\n",
      "           1           2           3\r\n",
      "\r\n",
      "  A matriz Mask eh \r\n",
      " T F T\r\n",
      " F T F\r\n",
      "\r\n",
      "  A matriz Mat, dada pelo comando UNPACK(Vet, Mask, 8), eh \r\n",
      "\r\n",
      "           1           8           3\r\n",
      "           8           2           8\r\n"
     ]
    }
   ],
   "source": [
    "# Rodando o programa\n",
    "! ./x "
   ]
  },
  {
   "cell_type": "code",
   "execution_count": 10,
   "metadata": {
    "ExecuteTime": {
     "end_time": "2019-03-04T01:04:36.486188Z",
     "start_time": "2019-03-04T01:04:36.471584Z"
    }
   },
   "outputs": [
    {
     "name": "stdout",
     "output_type": "stream",
     "text": [
      "Overwriting src/teste_unpack_02.f95\n"
     ]
    }
   ],
   "source": [
    "%%writefile src/teste_unpack_02.f95\n",
    "PROGRAM Teste_Pack\n",
    "!  =====================================================================\n",
    "   USE Imprimir_Matriz\n",
    "!  =====================================================================\n",
    "   IMPLICIT NONE\n",
    "   REAL, DIMENSION(:,:), ALLOCATABLE :: Mat, Mat1, Mat2\n",
    "   REAL, DIMENSION(:),   ALLOCATABLE :: Vet1, Vet2\n",
    "   LOGICAL, DIMENSION(:,:), ALLOCATABLE :: Mask\n",
    "   INTEGER :: i, j, k, nl, nc, erro\n",
    "   CHARACTER (LEN=85) :: fmt1\n",
    "!  =====================================================================\n",
    "   PRINT *, \"Entre com as dimensoes das matrizes (nl,nc): \"\n",
    "   READ *, nl, nc\n",
    "   k = nl * nc\n",
    "!  =====================================================================\n",
    "!  >>>>>>>>>>>>     ALOCANDO AS MATRIZES DO SISTEMA       <<<<<<<<<<<<<<\n",
    "!  =====================================================================\n",
    "   ALLOCATE (Mask(nl,nc), Mat(nl,nc), Mat1(nl,nc), Mat2(nl,nc), STAT = erro )\n",
    "   IF( ERRO /= 0 ) STOP 'Memoria Insuficiente para alocar as matrizes'\n",
    "!  ---------------------------------------------------------------------\n",
    "   ALLOCATE (Vet1(k), Vet2(k), STAT = erro )\n",
    "   IF( ERRO /= 0 ) STOP 'Memoria Insuficiente para alocar os vetores'\n",
    "!  ---------------------------------------------------------------------\n",
    "   CALL RANDOM_NUMBER(Vet1)\n",
    "   CALL RANDOM_NUMBER(Vet2)\n",
    "!  ---------------------------------------------------------------------\n",
    "   Vet1 = NINT( 10 * Vet1 )\n",
    "   Vet2 = NINT( 10 * Vet2 )\n",
    "   Mat1 = RESHAPE(Vet1, [nl,nc])\n",
    "   Mat2 = RESHAPE(Vet2, [nl,nc])\n",
    "!  ---------------------------------------------------------------------\n",
    "   PRINT *, 'Listagem do Vet1'\n",
    "   CALL print_mat(Vet1)\n",
    "   PRINT *,\"\"\n",
    "!  ---------------------------------------------------------------------\n",
    "   PRINT *, 'Listagem do Vet2'\n",
    "   CALL print_mat(Vet2)\n",
    "   PRINT *,\"\"\n",
    "!  ---------------------------------------------------------------------\n",
    "   PRINT *, 'Listagem da matriz Mat1 = RESHAPE(Vet1,[nl,nc])'\n",
    "   CALL print_mat(Mat1)\n",
    "   PRINT *,\"\"\n",
    "!  ---------------------------------------------------------------------\n",
    "   PRINT *, 'Listagem da matriz Mat2 = RESHAPE(Vet2,[n,nc])'\n",
    "   CALL print_mat(Mat2)\n",
    "   PRINT *,\"\"\n",
    "!  ---------------------------------------------------------------------\n",
    "   Mask =  Mat1 > Mat2\n",
    "   PRINT *\n",
    "   PRINT *, 'Listagem da matriz Mask = Mat1 > Mat2'\n",
    "   WRITE(fmt1,'(A12,I2,A11)') \"(1X,\",nc,\"(L1,2x))\"\n",
    "!  ---------------------------------------------------------------------\n",
    "   DO i = 1, nl\n",
    "      WRITE(*,fmt1)(Mask(i,j), j=1,nc)\n",
    "   END DO\n",
    "!  ---------------------------------------------------------------------\n",
    "   Mat = UNPACK(Vet1, Mask, 7.7)\n",
    "   PRINT *\n",
    "   PRINT *, 'Listagem da matriz Mat dada por: UNPACK(Vet1, Mask, 7.7)'\n",
    "   CALL print_mat(Mat)\n",
    "   PRINT *,\"\"\n",
    "!  ---------------------------------------------------------------------\n",
    "   Mask = Mat1 <= Mat2\n",
    "!  ---------------------------------------------------------------------\n",
    "   PRINT *\n",
    "   PRINT *, 'Listagem da matriz Mask = Mat1 <= Mat2'\n",
    "!  ---------------------------------------------------------------------\n",
    "   DO i = 1, nl\n",
    "      WRITE(*,fmt1)(Mask(i,j), j=1,nc)\n",
    "   END DO\n",
    "!  ---------------------------------------------------------------------\n",
    "   Mat = UNPACK(Vet2, Mask, 1.1)\n",
    "   PRINT *\n",
    "   PRINT *, 'Listagem da matriz Mat dada por: UNPACK(Vet2, Mask, 1.1)'\n",
    "   CALL print_mat(Mat)\n",
    "   PRINT *,\"\"\n",
    "!  ---------------------------------------------------------------------\n",
    "END PROGRAM Teste_Pack"
   ]
  },
  {
   "cell_type": "code",
   "execution_count": 12,
   "metadata": {
    "ExecuteTime": {
     "end_time": "2019-03-04T01:04:43.414747Z",
     "start_time": "2019-03-04T01:04:43.053406Z"
    }
   },
   "outputs": [],
   "source": [
    "# A seguir vamos compilar o programa\n",
    "!f95 -std=f2003 -Wall -Waliasing -pedantic -Warray-bounds -Wsurprising \\\n",
    "     -Wunderflow -fcheck=all -o x src/Mod_ImpMat.f95 src/teste_unpack_02.f95"
   ]
  },
  {
   "cell_type": "code",
   "execution_count": 13,
   "metadata": {
    "ExecuteTime": {
     "end_time": "2019-03-04T01:05:01.515599Z",
     "start_time": "2019-03-04T01:05:01.401018Z"
    }
   },
   "outputs": [
    {
     "name": "stdout",
     "output_type": "stream",
     "text": [
      " Entre com as dimensoes das matrizes (nl,nc): \r\n",
      " Listagem do Vet1\r\n",
      "  6.00   1.00   1.00  10.00   3.00   5.00   8.00   8.00   7.00   3.00   9.00   1.00   6.00   1.00   7.00   4.00\r\n",
      " \r\n",
      " Listagem do Vet2\r\n",
      "  6.00   6.00   0.00   4.00   3.00   7.00   6.00   7.00   4.00   7.00   3.00   0.00   6.00   6.00   1.00   1.00\r\n",
      " \r\n",
      " Listagem da matriz Mat1 = RESHAPE(Vet1,[nl,nc])\r\n",
      "  6.00   3.00   7.00   6.00\r\n",
      "  1.00   5.00   3.00   1.00\r\n",
      "  1.00   8.00   9.00   7.00\r\n",
      " 10.00   8.00   1.00   4.00\r\n",
      " \r\n",
      " Listagem da matriz Mat2 = RESHAPE(Vet2,[n,nc])\r\n",
      "  6.00   3.00   4.00   6.00\r\n",
      "  6.00   7.00   7.00   6.00\r\n",
      "  0.00   6.00   3.00   1.00\r\n",
      "  4.00   7.00   0.00   1.00\r\n",
      " \r\n",
      "\r\n",
      " Listagem da matriz Mask = Mat1 > Mat2\r\n",
      " F  F  T  F\r\n",
      " F  F  F  F\r\n",
      " T  T  T  T\r\n",
      " T  T  T  T\r\n",
      "\r\n",
      " Listagem da matriz Mat dada por: UNPACK(Vet1, Mask, 7.7)\r\n",
      "  7.70   7.70   3.00   7.70\r\n",
      "  7.70   7.70   7.70   7.70\r\n",
      "  6.00   1.00   5.00   8.00\r\n",
      "  1.00  10.00   8.00   7.00\r\n",
      " \r\n",
      "\r\n",
      " Listagem da matriz Mask = Mat1 <= Mat2\r\n",
      " T  T  F  T\r\n",
      " T  T  T  T\r\n",
      " F  F  F  F\r\n",
      " F  F  F  F\r\n",
      "\r\n",
      " Listagem da matriz Mat dada por: UNPACK(Vet2, Mask, 1.1)\r\n",
      "  6.00   0.00   1.10   7.00\r\n",
      "  6.00   4.00   3.00   6.00\r\n",
      "  1.10   1.10   1.10   1.10\r\n",
      "  1.10   1.10   1.10   1.10\r\n",
      " \r\n"
     ]
    }
   ],
   "source": [
    "# Rodando o programa\n",
    "! echo \"4 4\" | ./x -"
   ]
  },
  {
   "cell_type": "markdown",
   "metadata": {},
   "source": [
    "### Função: SPREAD\n",
    "\n",
    "**SPREAD(MAT, DIM, NCOPIES)** \n",
    "\n",
    "- Junta cópias de uma matriz em uma nova matriz de dimensão maior. A `MAT` é a matriz a ser replicada ao longo da dimensão especificada. `DIM` é um `INTEGER` que especifica a dimensão ao longo da qual a `MAT` será replicada. $1 \\leq DIM \\leq n+1$, onde $n$ é o número de dimensões da matriz. `NCOPIES` é o número de vezes que a `MAT` será replicada.\n",
    "\n",
    "- O retorno é uma matriz da mesma forma da `MAT` e com uma dimensão a mais.\n",
    "\n",
    "\n",
    "**Exemplo:** SPREAD\n",
    "\n",
    "```fortran\n",
    " INTEGER, DIMENSION(2, 3) :: Mat1\n",
    " INTEGER, DIMENSION(3, 2) :: Mat2\n",
    "\n",
    " Mat1=SPREAD((/1,2,3/),DIM=1, NCOPIES=2) ! retorna   1 2 3\n",
    "                                         !           1 2 3\n",
    " Mat2=SPREAD((/1,2,3/), 2, 2) ! retorna   1 1\n",
    "                              !           2 2\n",
    "                              !           3 3\n",
    "```"
   ]
  },
  {
   "cell_type": "code",
   "execution_count": 2,
   "metadata": {
    "ExecuteTime": {
     "end_time": "2019-03-05T17:29:51.210648Z",
     "start_time": "2019-03-05T17:29:51.206444Z"
    }
   },
   "outputs": [
    {
     "name": "stdout",
     "output_type": "stream",
     "text": [
      "Writing src/teste_spread_01.f95\n"
     ]
    }
   ],
   "source": [
    "%%writefile src/teste_spread_01.f95\n",
    "PROGRAM test_spread\n",
    "  IMPLICIT NONE\n",
    "  INTEGER, PARAMETER :: n = 2, m=3\n",
    "  INTEGER, DIMENSION(n, m) :: Mat1\n",
    "  INTEGER, DIMENSION(m, n) :: Mat2\n",
    "  INTEGER :: i, A = 1, B(n) = [1, 2]\n",
    "\n",
    "  Mat1=SPREAD((/1,2,3/),DIM=1, NCOPIES=2) ! retorna   1 2 3\n",
    "                                          !           1 2 3\n",
    "  Mat2=SPREAD((/1,2,3/), 2, 2) ! retorna   1 1\n",
    "                               !           2 2\n",
    "                               !           3 3\n",
    "\n",
    "  PRINT *, \"A = \", SPREAD(A, 1, 2)   ! \"1 1\"\n",
    "  PRINT *, \"B = \", SPREAD(B, 1, 2)   ! \"1 1 2 2\"\n",
    "  PRINT *, \" \"\n",
    "  PRINT *, \"Mat1 = \"\n",
    "  DO i=1, n\n",
    "     PRINT *, Mat1(i, :)\n",
    "  END DO\n",
    "  PRINT *, \" \"\n",
    "  PRINT *, \"Mat2 = \"\n",
    "  DO i=1,m\n",
    "     PRINT *, Mat2(i, :)\n",
    "  END DO\n",
    "END PROGRAM test_spread"
   ]
  },
  {
   "cell_type": "code",
   "execution_count": 3,
   "metadata": {
    "ExecuteTime": {
     "end_time": "2019-03-05T17:29:59.724720Z",
     "start_time": "2019-03-05T17:29:59.501447Z"
    }
   },
   "outputs": [],
   "source": [
    "# A seguir vamos compilar o programa\n",
    "!f95 -std=f2003 -Wall -Waliasing -pedantic -Warray-bounds -Wsurprising \\\n",
    "     -Wunderflow -fcheck=all -o x src/teste_spread_01.f95"
   ]
  },
  {
   "cell_type": "code",
   "execution_count": 4,
   "metadata": {
    "ExecuteTime": {
     "end_time": "2019-03-05T17:30:26.738520Z",
     "start_time": "2019-03-05T17:30:26.624995Z"
    }
   },
   "outputs": [
    {
     "name": "stdout",
     "output_type": "stream",
     "text": [
      " A =            1           1\r\n",
      " B =            1           1           2           2\r\n",
      "  \r\n",
      " Mat1 = \r\n",
      "           1           2           3\r\n",
      "           1           2           3\r\n",
      "  \r\n",
      " Mat2 = \r\n",
      "           1           1\r\n",
      "           2           2\r\n",
      "           3           3\r\n"
     ]
    }
   ],
   "source": [
    "# Rodando o código\n",
    "! ./x"
   ]
  },
  {
   "cell_type": "code",
   "execution_count": 26,
   "metadata": {
    "ExecuteTime": {
     "end_time": "2019-03-05T18:05:18.471986Z",
     "start_time": "2019-03-05T18:05:18.462051Z"
    }
   },
   "outputs": [
    {
     "name": "stdout",
     "output_type": "stream",
     "text": [
      "Overwriting src/teste_spread_02.f95\n"
     ]
    }
   ],
   "source": [
    "%%writefile src/teste_spread_02.f95\n",
    "PROGRAM test_spread\n",
    "!  =====================================================================\n",
    "   USE Imprimir_Matriz\n",
    "!  =====================================================================\n",
    "   IMPLICIT NONE\n",
    "   INTEGER, PARAMETER       :: n = 2, m=4 \n",
    "   REAL, DIMENSION(n, n)    :: p\n",
    "   REAL, DIMENSION(n, m)    :: q\n",
    "   INTEGER, DIMENSION(n, n) :: B\n",
    "!  ---------------------------------------------------------------------  \n",
    "   PRINT *, 'Listagem da matriz b = RESHAPE([1,2,3,4],SHAPE(B)b'\n",
    "   b = RESHAPE([1,2,3,4],SHAPE(b))\n",
    "   PRINT *, 'SHAPE(b) = ', SHAPE(b)    ! writes 2 2\n",
    "   CALL print_mat(b)\n",
    "   PRINT *,\"\" \n",
    "!  ---------------------------------------------------------------------\n",
    "   PRINT '(A23,3(I1,2x))', 'SHAPE(SPREAD(b,1,3)) = ', SHAPE(SPREAD(b,1,3)) ! writes 3 2 2\n",
    "   PRINT '(12(I1,2x))', SPREAD(b,1,3) ! writes 1 1 1 2 2 2 3 3 3 4 4 4\n",
    "   PRINT *,\"\"\n",
    "!  ---------------------------------------------------------------------\n",
    "   PRINT '(A23,3(I1,2x))', 'SHAPE(SPREAD(b,2,3)) = ', SHAPE(SPREAD(b,2,3)) ! writes 2 3 2\n",
    "   PRINT '(12(I1,2x))', SPREAD(b,2,3) ! writes 1 2 1 2 1 2 3 4 3 4 3 4\n",
    "   PRINT *,\"\"\n",
    "!  ---------------------------------------------------------------------\n",
    "   PRINT '(A23,3(I1,2x))', 'SHAPE(SPREAD(b,3,3)) = ', SHAPE(SPREAD(b,3,3)) ! writes 2 2 3\n",
    "   PRINT '(12(I1,2x))', SPREAD(b,3,3) ! writes 1 2 3 4 1 2 3 4 1 2 3 4\n",
    "   PRINT *,\"\"\n",
    "!  ---------------------------------------------------------------------\n",
    "   PRINT *, 'Listagem da matriz p = RESHAPE([1.0, 3.0, 2.0, 4.0], SHAPE(p))'\n",
    "   p = RESHAPE([1.0, 3.0, 2.0, 4.0], SHAPE(p))\n",
    "   CALL print_mat(p)\n",
    "   PRINT *,\"\"\n",
    "!  ---------------------------------------------------------------------        \n",
    "   PRINT *, 'Listagem da matriz q = RESHAPE(SPREAD(p, 2, 2), [2, 4])'\n",
    "   q = RESHAPE(SPREAD(p, 2, 2), [2, 4])\n",
    "   CALL print_mat(q)\n",
    "   PRINT *,\"\"\n",
    "!  ---------------------------------------------------------------------          \n",
    "   PRINT *, 'Listagem da matriz q = RESHAPE(SPREAD(TRANSPOSE(p), 2, 2), [2, 4], order=[2, 1])'\n",
    "   q = RESHAPE(SPREAD(TRANSPOSE(p), 2, 2), [2, 4], order=[2, 1])\n",
    "   CALL print_mat(q)\n",
    "   PRINT *,\"\"\n",
    "!  ---------------------------------------------------------------------          \n",
    "   PRINT *, 'Listagem da matriz q = RESHAPE([p, p], [2, 4])'\n",
    "   q =  RESHAPE([p, p], [2, 4])\n",
    "   CALL print_mat(q)\n",
    "!  ---------------------------------------------------------------------\n",
    "END PROGRAM test_spread"
   ]
  },
  {
   "cell_type": "code",
   "execution_count": 27,
   "metadata": {
    "ExecuteTime": {
     "end_time": "2019-03-05T18:05:19.781635Z",
     "start_time": "2019-03-05T18:05:19.493307Z"
    }
   },
   "outputs": [],
   "source": [
    "# A seguir vamos compilar o programa\n",
    "!f95 -std=f2003 -Wall -Waliasing -pedantic -Warray-bounds -Wsurprising \\\n",
    "     -Wunderflow -fcheck=all -o x src/Mod_ImpMat.f95 src/teste_spread_02.f95"
   ]
  },
  {
   "cell_type": "code",
   "execution_count": 28,
   "metadata": {
    "ExecuteTime": {
     "end_time": "2019-03-05T18:05:20.444221Z",
     "start_time": "2019-03-05T18:05:20.330605Z"
    }
   },
   "outputs": [
    {
     "name": "stdout",
     "output_type": "stream",
     "text": [
      " Listagem da matriz b = RESHAPE([1,2,3,4],SHAPE(B)b\r\n",
      " SHAPE(b) =            2           2\r\n",
      "  1   3\r\n",
      "  2   4\r\n",
      " \r\n",
      "SHAPE(SPREAD(b,1,3)) = 3  2  2\r\n",
      "1  1  1  2  2  2  3  3  3  4  4  4\r\n",
      " \r\n",
      "SHAPE(SPREAD(b,2,3)) = 2  3  2\r\n",
      "1  2  1  2  1  2  3  4  3  4  3  4\r\n",
      " \r\n",
      "SHAPE(SPREAD(b,3,3)) = 2  2  3\r\n",
      "1  2  3  4  1  2  3  4  1  2  3  4\r\n",
      " \r\n",
      " Listagem da matriz p = RESHAPE([1.0, 3.0, 2.0, 4.0], SHAPE(p))\r\n",
      "  1.00   2.00\r\n",
      "  3.00   4.00\r\n",
      " \r\n",
      " Listagem da matriz q = RESHAPE(SPREAD(p, 2, 2), [2, 4])\r\n",
      "  1.00   1.00   2.00   2.00\r\n",
      "  3.00   3.00   4.00   4.00\r\n",
      " \r\n",
      " Listagem da matriz q = RESHAPE(SPREAD(TRANSPOSE(p), 2, 2), [2, 4], order=[2, 1])\r\n",
      "  1.00   2.00   1.00   2.00\r\n",
      "  3.00   4.00   3.00   4.00\r\n",
      " \r\n",
      " Listagem da matriz q = RESHAPE([p, p], [2, 4])\r\n",
      "  1.00   2.00   1.00   2.00\r\n",
      "  3.00   4.00   3.00   4.00\r\n"
     ]
    }
   ],
   "source": [
    "# Rodando o código\n",
    "! ./x"
   ]
  },
  {
   "cell_type": "markdown",
   "metadata": {},
   "source": [
    "#### Função: RESHAPE(MAT, FORMA [,PAD] [,ORDER])\n",
    "\n",
    "**RESHAPE(MAT, FORMA [,PAD=&lt;preenchimento&gt;] [,ORDER\n",
    "=&lt;ordem&gt;])**\n",
    "\n",
    "- Retorna uma matriz da mesma forma da `MAT` e com a forma definida pela vetor `FORMA`. `MAT` é a matriz cujos os elementos serão colocados na ordem padrão do FORTRAN na matriz resultante. `FORMA` é um vetor `INTEGER`, que descreverá a forma da matriz resultante. Se o argumento `PAD` for omitido, o tamanho total especificado pela `FORMA` deve ser menor ou igual ao da `MAT`. O argumento `PAD` tem o mesmo tipo da `MAT`, e ele deve ser uma matriz. Se não houver elementos o suficiente na `MAT` para preencher a matriz de saída, o elementos da matriz `PAD` serão adicionados na ordem padrão do FORTRAN a matriz resultante. Se for necessário será feita cópias extras para preencher a matriz. O argumento `ORDER` é um vetor `INTEGER`, e ele deve ter o mesmo tamanho do vetor  `FORMA`. Ele permuta a ordem das dimensões na matriz resultante. Os valores do vetor `ORDER` são permutações de $(1, 2,\\ldots, n)$ onde $n$ é o tamanho do vetor `FORMA`.\n",
    "\n",
    "**Exemplo:** RESHAPE \n",
    "\n",
    "```fortran\n",
    "INTEGER, DIMENSION(2,5) :: Mat1, Mat2\n",
    "Mat1 = RESHAPE((/1,2,3,4,5,6/),(/2,5/),(/0,0/),(/2,1/))\n",
    "! retorna      1 2 3 4 5\n",
    "!              6 0 0 0 0\n",
    "!\n",
    "Mat2 = RESHAPE((/1,2,3,4,5,6/),(/2,5/),(/9/),(/1,2/))\n",
    "! retorna      1  3  5  9  9\n",
    "!              2  4  6  9  9\n",
    "!\n",
    "!\n",
    "```\n",
    "\n",
    "\n",
    "Com o código a seguir constrói-se uma matriz identidade\n",
    "\n",
    "```fortran\n",
    "INTEGER, PARAMETER :: n = 7 \n",
    "REAL, DIMENSION(n,n) :: Mat\n",
    "INTEGER :: i, j\n",
    "! Construção de uma matriz identidade\n",
    "Mat = RESHAPE( (/ ((0.0, j = 1, i - 1), 1.0, (0.0, j = i + 1, n), i = 1, n) /), (/ n, n /) )\n",
    "```\n",
    "\n",
    "Um outro exemplo\n",
    "\n",
    "```fortran\n",
    "integer, parameter :: N = 10\n",
    "integer, dimension(2), parameter :: Y_SHAPE = (/ 3, 2 /),  Z_SHAPE = (/ N, N /)\n",
    "integer :: I, J\n",
    "! I e J são variáveis\n",
    "real, dimension(2)     :: X\n",
    "real, dimension(3, 2)  :: Y\n",
    "real, dimension(N * N) :: Q\n",
    "real, dimension(N, N)  :: Z\n",
    "! Início\n",
    "X = (/ 4.5, 4.5 /)\n",
    "Y = reshape( (/ (I + 0.2, I = 1, 3), X, 2.0 /), Y_SHAPE )\n",
    "Q = (/ ((0.0, J = 1, I - 1), 1.0, (0.0, J = I + 1, N), I = 1, N) /)\n",
    "Z = reshape( Q, Z_SHAPE )\n",
    "```"
   ]
  },
  {
   "cell_type": "markdown",
   "metadata": {},
   "source": [
    "# Some references\n",
    "\n",
    "- [Fortran sort algorithms](http://jean-pierre.moreau.pagesperso-orange.fr/f_sort.html)\n",
    "- [Sorting](http://www.personal.psu.edu/jhm/f90/lectures/28.html)\n",
    "- [Fortran 90 & 95 Array and Pointer Technique](http://www.fortran.com/product/books/fortran-90-95-array-and-pointer-techniques-pdf/)\n",
    "- [Algorithms and Data Structures in F and Fortran](http://pages.swcp.com/~walt/fortran_store/Html/Info/books/adsff.html)\n",
    "- [ORDERPACK 2.0 -- Unconditional, Unique, and Partial Ranking, Sorting, and Permutation Downloadable Fortran 90 source code](http://www.fortran-2000.com/rank/)\n",
    "- [Comparison of several sorting algorithms](http://warp.povusers.org/SortComparison/)"
   ]
  },
  {
   "cell_type": "code",
   "execution_count": null,
   "metadata": {},
   "outputs": [],
   "source": [
    "%%writefile src/sorting_prog.f95\n",
    "! --------------------------------------------------------------------\n",
    "! PROGRAM  Sorting:\n",
    "!    This program can sort a set of numbers.  The method used is\n",
    "! usually referred to as \"selection\" method.\n",
    "! http://pages.mtu.edu/~shene/COURSES/cs201/NOTES/chap08/sorting.f90\n",
    "! --------------------------------------------------------------------\n",
    "\n",
    "PROGRAM  Sorting\n",
    "   IMPLICIT  NONE\n",
    "   INTEGER, PARAMETER :: MAX_SIZE = 100\n",
    "   INTEGER, DIMENSION(1:MAX_SIZE) :: InputData\n",
    "   INTEGER                        :: ActualSize\n",
    "   INTEGER                        :: i\n",
    "\n",
    "   READ(*,*)  ActualSize, (InputData(i), i = 1, ActualSize)\n",
    "   WRITE(*,*) \"Input Array:\"\n",
    "   WRITE(*,*) (InputData(i), i = 1, ActualSize)\n",
    "\n",
    "   CALL  Sort(InputData, ActualSize)\n",
    "\n",
    "   WRITE(*,*)\n",
    "   WRITE(*,*) \"Sorted Array:\"\n",
    "   WRITE(*,*) (InputData(i), i = 1, ActualSize)\n",
    "\n",
    "CONTAINS\n",
    "\n",
    "! --------------------------------------------------------------------\n",
    "! INTEGER FUNCTION  FindMinimum():\n",
    "!    This function returns the location of the minimum in the section\n",
    "! between Start and End.\n",
    "! --------------------------------------------------------------------\n",
    "\n",
    "   INTEGER FUNCTION  FindMinimum(x, Start, End)\n",
    "      IMPLICIT  NONE\n",
    "      INTEGER, DIMENSION(1:), INTENT(IN) :: x\n",
    "      INTEGER, INTENT(IN)                :: Start, End\n",
    "      INTEGER                            :: Minimum\n",
    "      INTEGER                            :: Location\n",
    "      INTEGER                            :: i\n",
    "\n",
    "      Minimum  = x(Start)     ! assume the first is the min\n",
    "      Location = Start        ! record its position\n",
    "      DO i = Start+1, End     ! start with next elements\n",
    "         IF (x(i) < Minimum) THEN   !   if x(i) less than the min?\n",
    "            Minimum  = x(i)      !      Yes, a new minimum found\n",
    "            Location = i                !      record its position\n",
    "         END IF\n",
    "      END DO\n",
    "      FindMinimum = Location           ! return the position\n",
    "   END FUNCTION  FindMinimum\n",
    "\n",
    "! --------------------------------------------------------------------\n",
    "! SUBROUTINE  Swap():\n",
    "!    This subroutine swaps the values of its two formal arguments.\n",
    "! --------------------------------------------------------------------\n",
    "\n",
    "   SUBROUTINE  Swap(a, b)\n",
    "      IMPLICIT  NONE\n",
    "      INTEGER, INTENT(INOUT) :: a, b\n",
    "      INTEGER                :: Temp\n",
    "\n",
    "      Temp = a\n",
    "      a    = b\n",
    "      b    = Temp\n",
    "   END SUBROUTINE  Swap\n",
    "\n",
    "! --------------------------------------------------------------------\n",
    "! SUBROUTINE  Sort():\n",
    "!    This subroutine receives an array x() and sorts it into ascending\n",
    "! order.\n",
    "! --------------------------------------------------------------------\n",
    "\n",
    "   SUBROUTINE Sort(x, Size)\n",
    "      IMPLICIT  NONE\n",
    "      INTEGER, DIMENSION(1:), INTENT(INOUT) :: x\n",
    "      INTEGER, INTENT(IN)                   :: Size\n",
    "      INTEGER                               :: i\n",
    "      INTEGER                               :: Location\n",
    "\n",
    "      DO i = 1, Size-1        ! except for the last\n",
    "         Location = FindMinimum(x, i, Size)  ! find min from this to last\n",
    "         CALL  Swap(x(i), x(Location)) ! swap this and the minimum\n",
    "      END DO\n",
    "   END SUBROUTINE Sort\n",
    "\n",
    "END PROGRAM Sorting\n"
   ]
  },
  {
   "cell_type": "markdown",
   "metadata": {},
   "source": [
    "## Funções para manipulação de matrizes\n",
    "\n",
    "- **CSHIFT(MATRIZ, SHIFT [,DIM])**\n",
    "\n",
    "  - Realiza um deslocamento circular na matriz ao longo da dimensão especificada.\n",
    "\n",
    "- **EOSHIFT(MATRIZ, SHIFT [,MAT\\_CONT] [,DIM])**\n",
    "\n",
    "  - Realiza um deslocamento circular na matriz ao longo da dimensão especificada, mas tem o limite final no qual as posições deslocadas vazias são preenchidas pela `MAT\\_CONT`.\n",
    "\n",
    "- **TRANSPOSE(MATRIZ)**\n",
    "\n",
    "  Transpõem as linhas com as colunas de uma matriz bidimensional.\n",
    "\n",
    "```fortran\n",
    "INTEGER, DIMENSION(2, 3) :: MATRIZ\n",
    "INTEGER, DIMENSION(3, 2) :: RESULTADO\n",
    "MATRIZ = RESHAPE((/1, 2, 3, 4, 5, 6/), (/2, 3/))\n",
    "! MATRIZ eh  1  3  5\n",
    "!            2  4  6\n",
    "RESULTADO = TRANSPOSE(MATRIZ)\n",
    "! RESULTADO eh 1  2\n",
    "!              3  4\n",
    "!              5  6\n",
    "```\n",
    "\n"
   ]
  },
  {
   "cell_type": "markdown",
   "metadata": {},
   "source": [
    "### Aritmética de vetores e matrizes:\n",
    "\n",
    "- **DOT\\_PRODUCT(VETOR\\_A, VETOR\\_B)** \n",
    "\n",
    "  Multiplicação escalar dos vetores. Os dois argumentos (vetores), devem ter a mesma dimensão e o mesmo tipo. Se os vetores são do tipo `INTEGER` ou `REAL`, está função retornará `SUM(VETOR_A * VETOR_B)`; se forem do tipo `COMPLEX`, ela retornará `SUM(CONJG(VETOR_A) * VETOR_B)`; e se forem tipo `LOGICAL`, ela retornará `ANY(VETOR_A .AND. VETOR_B)`.\n",
    "\n",
    "  ```fortran\n",
    "  I = DOT_PRODUCT((/1,2,3/), (/4,5,6/)) ! retorna 32\n",
    "  ```\n",
    "\n",
    "  \n",
    "\n",
    "- **MATMUL(MATRIZ\\_A, MATRIZ\\_B)**\n",
    "\n",
    "  Faz uma multiplicação matricial.\n",
    "\n",
    "```fortran\n",
    "INTEGER a(2,3), b(3,2), c(2), d(3), e(2,2), f(3), g(2)\n",
    "a = RESHAPE((/1, 2, 3, 4, 5, 6/), (/2, 3/))\n",
    "!  a eh   1 3 5\n",
    "!         2 4 6\n",
    "b = RESHAPE((/1, 2, 3, 4, 5, 6/), (/3, 2/))\n",
    "!  b eh   1 4\n",
    "!         2 5\n",
    "!         3 6\n",
    "c = (/1, 2/)      ! c eh [1 2]\n",
    "d = (/1, 2, 3/)   ! d eh [1 2 3]\n",
    "\n",
    "e = MATMUL(a, b)    ! retorna 22 49\n",
    "!         28 64\n",
    "\n",
    "f = MATMUL(c,a)   ! retorna [5 11 17]\n",
    "g = MATMUL(a,d)   ! retorna [22 28]\n",
    "WRITE(*,*) e, f, g\n",
    "```\n",
    "\n"
   ]
  },
  {
   "cell_type": "markdown",
   "metadata": {},
   "source": [
    "```Fortran\n",
    "\n",
    "```"
   ]
  }
 ],
 "metadata": {
  "author": "m",
  "kernelspec": {
   "display_name": "Python 3",
   "language": "python",
   "name": "python3"
  },
  "language_info": {
   "codemirror_mode": {
    "name": "ipython",
    "version": 3
   },
   "file_extension": ".py",
   "mimetype": "text/x-python",
   "name": "python",
   "nbconvert_exporter": "python",
   "pygments_lexer": "ipython3",
   "version": "3.6.8"
  },
  "latex_envs": {
   "LaTeX_envs_menu_present": true,
   "autoclose": false,
   "autocomplete": true,
   "bibliofile": "biblio.bib",
   "cite_by": "apalike",
   "current_citInitial": 1,
   "eqLabelWithNumbers": true,
   "eqNumInitial": 1,
   "hotkeys": {
    "equation": "Ctrl-E",
    "itemize": "Ctrl-I"
   },
   "labels_anchors": false,
   "latex_user_defs": false,
   "report_style_numbering": false,
   "user_envs_cfg": false
  },
  "nbTranslate": {
   "displayLangs": [
    "pt",
    "en"
   ],
   "hotkey": "alt-t",
   "langInMainMenu": true,
   "sourceLang": "en",
   "targetLang": "pt",
   "useGoogleTranslate": true
  },
  "toc": {
   "base_numbering": 1,
   "nav_menu": {
    "height": "267.997px",
    "width": "338.395px"
   },
   "number_sections": true,
   "sideBar": false,
   "skip_h1_title": false,
   "title_cell": "Table of Contents",
   "title_sidebar": "Contents",
   "toc_cell": true,
   "toc_position": {
    "height": "265px",
    "left": "818px",
    "top": "135.2px",
    "width": "246.025px"
   },
   "toc_section_display": true,
   "toc_window_display": false
  },
  "varInspector": {
   "cols": {
    "lenName": 16,
    "lenType": 16,
    "lenVar": 40
   },
   "kernels_config": {
    "python": {
     "delete_cmd_postfix": "",
     "delete_cmd_prefix": "del ",
     "library": "var_list.py",
     "varRefreshCmd": "print(var_dic_list())"
    },
    "r": {
     "delete_cmd_postfix": ") ",
     "delete_cmd_prefix": "rm(",
     "library": "var_list.r",
     "varRefreshCmd": "cat(var_dic_list()) "
    }
   },
   "types_to_exclude": [
    "module",
    "function",
    "builtin_function_or_method",
    "instance",
    "_Feature"
   ],
   "window_display": false
  }
 },
 "nbformat": 4,
 "nbformat_minor": 2
}
