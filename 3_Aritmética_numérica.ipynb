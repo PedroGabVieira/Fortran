{
 "cells": [
  {
   "cell_type": "markdown",
   "metadata": {},
   "source": [
    "# Aula 03"
   ]
  },
  {
   "cell_type": "markdown",
   "metadata": {},
   "source": [
    "# Aritmética no computador\n",
    "\n",
    "\n",
    "Atualmente os computadores utilizam um sistema de numeração na base 2. Esse sistema é chamado de binário e utiliza os algarismos 0 e 1 para representar os números (apesar de que quaisquer outros dois sı́mbolos poderiam ser usados). \n",
    "\n",
    "O ser humano ao contrário, usa o sistema de numeração decimal, ou de base 10; muito provavelmente, pelo fato de termos dez dedos nas mãos, os quais, nos primórdios, eram utilizados para contar quantidades. A palavra dı́gito, sinônimo para algarismo, vem do latim “*digitus*”, dedo.\n",
    "\n",
    "Os sistemas de numeração decimal e binário são dito serem sistemas posicionais, i.e., os números são\n",
    "representados por somas de potências, convenientemente multiplicadas pelos algarismos. Por exemplo,\n",
    "o número\n",
    "\n",
    "$$ \n",
    "(675,245)_{10} \\Longrightarrow \\color{blue}{6} \\color{red}{\\times 10^{2}} + \\color{blue}{7} \\color{red}{\\times 10^{1}} + \\color{blue}{5} \\color{red}{\\times 10^{0}} + \\color{blue}{2} \\color{red}{\\times 10^{-1}} + \\color{blue}{4} \\color{red}{\\times 10^{-2}} + \\color{blue}{5} \\color{red}{\\times 10^{-3}}\n",
    "$$\n",
    "\n",
    "é representado no sistema decimal como a soma das potências de 10 como mostradas acima.\n",
    "\n",
    "Para usar um sistema de numeração posicional é a necessário escolher um símbolor para representar o elemento vazio, ou seja, o zero. Historicamente, o zero já era usado pela civilização maia e pelos babilônios, esses por volta de 300 A.C. O nosso sistema de numeração decimal foi inventado na Índia por volta do ano 600 D.C. e, tendo sido usado por muitos séculos pelos povos árabes no Oriente Médio, foi introduzido na Europa durante as invasões mouras, no perı́odo entre 1200 e 1600 (daı́ o nome de algarismos “*arábicos*”).\n",
    "\n",
    "A iportância do elemento nulo, o zero num sistema posicional, fica evidente ao compararmos ele com um sistema não-posicional, como o romano, por exemplo. Nesse último, o número 304 é representado como CCCIV. \n",
    "Veja como o zero é importante num sistema posicional, comparado com um sistema não-posicional, como o romano, por exemplo. Nesse último, o número 304 é representado como [CCCIV](http://numeracaoromana.romannums.com/). Porém, no sistema decimal, o 0 é necessário para distinguir 304 de 34 – ele efetivamente serve como um “espaçador” dos algarismos, em termos das potências de 10.\n",
    "\n",
    "É interessante notar que o sistema decimal era utilizado para representar apenas números inteiros, e não frações decimais, até o século XVII. Em paı́ses de lı́ngua inglesa, até hoje persiste o uso de frações inteiras como 1/4, 1/8, 1/16, 3/4, como por exemplo em placas de sinalização rodoviária e na especificação dos diâmetros de ferramentas.\n"
   ]
  },
  {
   "cell_type": "markdown",
   "metadata": {},
   "source": [
    "# Representação numérica\n",
    "\n",
    "Genericamente, podemos dizer que um sistema de numeração numa base $\\beta$ admite apenas os dı́gitos 0, 1, $\\ldots$, $\\beta - 1$. Assim, o número $(1010,10101)_2$ representa o número $(10,65625)_{10}$, na qual os\n",
    "subscritos indicam a base do sistema de numeração utilizado:\n",
    "\n",
    "\\begin{align*}\n",
    "(1010,10101)_2 & = \\color{blue}{1} \\color{red}{\\times 2^{3}} + \\color{blue}{0} \\color{red}{\\times 2^{2}} + \\color{blue}{1} \\color{red}{\\times 2^{1}} + \\color{blue}{0} \\color{red}{\\times 2^{0}} + \\color{blue}{1} \\color{red}{\\times 2^{-1}} + \\color{blue}{0} \\color{red}{\\times 2^{-2}} + \\color{blue}{1} \\color{red}{\\times 2^{-3}} + \\color{blue}{0} \\color{red}{\\times 2^{-4}} + \\color{blue}{1} \\color{red}{\\times 2^{-5}} \\\\\n",
    " &  = \\color{blue}{1}\\times 8 + \\color{blue}{0} \\times 4 + \\color{blue}{1}\\times 2 + \\color{blue}{0} \\times 1 + \\color{blue}{1} \\times 2^{-1} + \\color{blue}{0} \\times 2^{-2} + \\color{blue}{1} \\times 2^{-3} +\n",
    "\\color{blue}{0} \\times 2^{-4} + \\color{blue}{1} \\times 2^{-5} \\\\\n",
    "  & = 8 + 2 + 1/2 + 1/8 + 1/32 \\\\\n",
    "  & = 10 + 0,5 + 0,125 + 0,03125 \\\\\n",
    "  & = 10,65625\n",
    "\\end{align*}\n",
    "\n",
    "Assim como existem números reais, na representação decimal, que possuem uma parte fracionária com um número infinito de dı́gitos, os chamados numeros irracionais, também existem números reais na representação binário com a mesma caracterı́stica. Mais ainda, existem números reais, na representação decimal, cuja parte fracionária tem um número finito de dı́gitos, para os quais a sua representação na representação binária apresenta um número infinito de dı́gitos. Por exemplo, o número $1/10 = 0,1$ não tem uma representação binária finita:\n",
    "\n",
    "$$\n",
    "\\frac{1}{10} = (0,0\\color{red}{0011}00110011\\ldots)_{2} =\\frac{0}{2} + \\frac{\\color{blue}{0}}{4} + \\frac{\\color{blue}{0}}{8}+ \\frac{\\color{blue}{1}}{16}+ \\frac{\\color{blue}{1}}{32}+\\frac{\\color{red}{0}}{64}+\\frac{\\color{red}{0}}{128}+\\frac{\\color{red}{1}}{256}+\\frac{\\color{red}{1}}{512}+\\frac{0}{1024} + \\cdots\n",
    "$$\n",
    "Note que na representação binária o conjunto de digitos $\\color{red}{0011}$ se repete o que constitui uma dizima periódica binária. Notem que as vezes nos surpreendemos como o resultado da soma de alguns números que possuem uma representação decimal finita e simples, e é esse o motivo, pois a máquina realiza a operação na representação binária com um número finito de dgitos, o que torna impossível representar alguns números decimais, pois sua representação binária é uma dizima periódica, e como o número de digitos que a máquina trabalha é finito, isso gera um problema de precisão no armazenamento do número.\n",
    "\n",
    "## Representação dos números em uma dada base\n",
    "\n",
    "Portanto, conforme vimos, de forma geral um número $x$ qualquer pode ser representado \n",
    "numa base $\\beta$ de acordo com a seguinte expressão polinomial:\n",
    "\n",
    "\\begin{equation}\n",
    "x=\\overset{\\text{Parte Inteira}}{\\overbrace{\\color{blue}{a_{m}}{\\beta}^{m}+\\color{blue}{a_{m-1}}{\\beta}^{m-1}\n",
    "+ \\cdots + \\color{blue}{a_{1}}{\\beta}^{1}} + \\color{blue}{a_{0}} } + \\overset{\\text{Parte Fracionária}}{\n",
    "\\overbrace{\\color{blue}{a_{-1}}{\\beta}^{-1}+\\color{blue}{a_{-2}}{\\beta}^{-2} + \\cdots +\\color{blue}{a_{-n}}{\\beta}_{-n}}}\n",
    "\\end{equation}\n",
    "na qual: $0\\le \\color{blue}{a_{k}} < \\beta$\n",
    "\n",
    "**Exemplos:**\n",
    "\n",
    "\\begin{equation}\n",
    "(347,5)_{10} = \\color{blue}{3} \\times 10^{2} + \\color{blue}{4}\\times 10^{1} + \\color{blue}{7} \\times 10^{0} + \\color{blue}{5} \\times 10^{-1}\n",
    "\\end{equation}\n",
    "\n",
    "\\begin{equation}\n",
    "(1101)_{2} = \\color{blue}{1} \\times 2^{3} + \\color{blue}{1} \\times 2^{2} + \\color{blue}{0} \\times 2^{1} + \\color{blue}{1} \\times 2^{0} \n",
    "\\end{equation}\n",
    "\n",
    "\n",
    "Observe que os algarismos que representam o número na base $\\beta$ são\n",
    "os coeficientes da expressão polinomial. É importante também observar\n",
    "que o deslocamento da vírgula no número é realizado pela multiplicação\n",
    "do número pela correspondente potência da base do número.\n",
    "\n",
    "**Exemplos:** \n",
    "\n",
    "\\begin{equation}\n",
    "(0,2345)_{10} = (23,45 \\times 10^{-2})_{10}\n",
    "\\end{equation}\n",
    "\n",
    "\\begin{equation}\n",
    "(0,1101)_{2}=(11,01\\times 2^{-2})_{2}\n",
    "\\end{equation}\n",
    "\n",
    "**Observação** ($\\beta \\ge 10$). Para sistemas de numeração com base $\\beta \\ge 10$ é \n",
    "usual utilizar as seguintes notações:\n",
    "\n",
    "- No sistema de numeração decimal ($\\beta = 10$), costumamos representar o número sem \n",
    "os parênteses e o subíndice, ou seja,\n",
    "\n",
    "\\begin{equation}\n",
    "\\pm d_n d_{n−1} \\ldots d_1 d_0,d_{−1} d_{−2} \\ldots = \\pm ( d_n d_{n−1} \\ldots d_1 d_0,d_{−1} d_{−2} \\ldots)_{10}\n",
    "\\end{equation}\n",
    "\n",
    "- Se $\\beta \\ge 10$, usamos as letras $A$, $B$, $C$, $\\ldots$ para denotar os algarismos: $A = 10$,\n",
    "$B = 11$, $C = 12$, $D = 13$, $E = 14$, $F = 15$.\n",
    "\n",
    "**Exemplo (Sistema hexadecimal).** O sistema de numeração cuja a base é $\\beta = 16$ é chamado de sistema hexadecimal. Neste, temos o conjunto de algarismos $\\{0, 1, 2, 3, 4, 5, 6, 7, 8, 9, A, B, C, D, E, F \\}$. Convertendo o número $(F2AC)_{16}$ para a base 10 temos\n",
    "\n",
    "\n",
    "\\begin{align*}\n",
    "(F2AC)_{16} & = \\color{blue}{15} \\cdot {16}^3 + \\color{blue}{2} \\cdot {16}^2 + \\color{blue}{10} \\cdot {16}^1 + \\color{blue}{12} \\cdot {16}^0 \\\\ \n",
    "& = 61440 + 512 + 160 + 12 = 62124.\n",
    "\\end{align*}\n",
    "\n",
    "\n",
    "\n",
    "## Memória, Bits, bytes e palavras\n",
    "\n",
    "Na computação o termo **memória**, refere-se a todos os dispositivos que permitem a \n",
    "máquina guardar os dados, seja ela de forma permanente ou temporária. Memória é um \n",
    "termo genérico para designar componentes de um sistema capazes de armazenar dados e \n",
    "programas. O conceito de computador digital binário com um programa armazenado \n",
    "(arquitetura de Von Neumann e subsequentes) na memória da máquina é sempre baseado \n",
    "no uso de memória, e não existiria sem a utilização destas.\n",
    "\n",
    "A unidade básica de memória é o digito binário, ou bit. Um bit pode conter os \n",
    "valores 0 ou 1. É a unidade mais simples possível. Um sistema que armazenasse \n",
    "apenas um destes valores não poderia formar a base de um sistema de memória.\n",
    "\n",
    "Nas máquinas atuais a memória de um computador foi idealizada para armazenar dados, os \n",
    "quais podem ser na forma de números e textos. Convencionou-se medir essa capacidade de \n",
    "armazenamento em palavras, a qual representa a unidade de armazenamento da memória. Em \n",
    "termos de bits, para cada arquitetura de computador pode ter uma palavra de tamanho diferente.\n",
    "Portanto, a memória pode ser descrita como um conjunto de palavras. A maioria dos \n",
    "computadores tem sua memória estruturada de tal forma que cada acesso – de leitura ou\n",
    "escrita – é feito em termos de uma ou mais palavras, as quais são acessadas por um endereço\n",
    "único. Tipicamente, uma palavra é composta por 64 bits. Um bit (contração em inglês de \n",
    "“*binary digit*”) é a menor unidade de informação armazenada em um computador, podendo \n",
    "representar os valores 0 ou 1. Um conjunto de *8 bits* é chamado de *byte*; nele, podemos \n",
    "armazenar $2^8 = 256$ diferentes valores inteiros, através das combinações de 0\n",
    "e 1 entre os diferentes *bits*.\n",
    "\n",
    "-   1 byte = 8 bits\n",
    "\n",
    "-   1 KByte = 1024 bytes\n",
    "\n",
    "-   1 MByte = 1024 KBytes\n",
    "\n",
    "-   1 GByte = 1024 MBytes\n",
    "\n",
    "-   1 TByte = 1024 GBytes\n",
    "\n",
    "\n",
    "## Conversão de Bases\n",
    "\n",
    "É sempre importante saber converter de uma base para outra. De forma geral têm-se que:\n",
    "\n",
    "\n",
    "a) Base $\\beta$ $\\longrightarrow$ Base Decimal\n",
    "\n",
    "- Levar os coeficientes à expressão polinomial geral e calcular o valor. Observe que a solução numérica da expressão polinomial sempre resulta num número $N$ na base decimal.\n",
    "\n",
    "- **Exemplo:** \n",
    "    \n",
    "\\begin{equation}\n",
    "    (0,111)_{2} = \\color{blue}{1}\\times 2^{-1} + \\color{blue}{1}\\times 2^{-2} + \\color{blue}{1} \\times 2^{-3} = (0,875)_{10}\n",
    "\\end{equation}    \n",
    "\n",
    "b) Decimal $\\longrightarrow$ Base $\\beta$\n",
    "\n",
    "- A conversão da base decimal para uma base $\\beta$ qualquer se dá em duas etapas, numa primeira etapa se converte a parte inteira do número e numa segunda etapa a parte fracionária do número.\n",
    "\n",
    "\n",
    "## Conversão entre as bases decimas e binária\n",
    "\n",
    "É conveniente saber como converter um número decimal para sua representação em binário e\n",
    "vice-versa. Em algumas aplicações envolvendo o uso de computadores, é necessário saber como\n",
    "converter para decimal um valor armazenado de forma binária.\n",
    "\n",
    "Podemos efetuar a conversão de um número real decimal $x$ para binário convertendo separadamente \n",
    "primeiro sua parte inteira $ip(x)$ e depois sua parte fracionária $fp(x)$, para em seguida justapor a representação binária dessas duas partes, separando-as por uma virgula (ponto no sistema inglês). Nos algoritmos apresentados a seguir, a conversão de decimal para binário resulta em um “*string*” de \n",
    "caracteres 0 e 1, e não num número formado pelos mesmos algarismos, pois não são representações \n",
    "equivalentes.\n",
    "\n",
    "\n",
    "## Parte Inteira\n",
    "\n",
    "Dividir o número sucessivamente pela base $\\beta$ até que o\n",
    "último quociente seja maior que zero e menor que $\\beta$. O\n",
    "número é representado pelo último quociente e os restos na ordem inversa.\n",
    "\n",
    "**Exemplo:**\n",
    "\n",
    "![Conversao na base 2](../Figs/Conversao_base2.png)\n",
    "\n",
    "## Parte Fracionária\n",
    "\n",
    "Multiplicar sucessivamente a parte fracionária por\n",
    "$\\beta$ até que a mesma seja zero se a\n",
    "representação for exata. No caso da representação não ser\n",
    "exata, haverá uma sequência infinita na parte fracionária. O\n",
    "número é representado pelas partes inteiras resultantes.\n",
    "\n",
    "![Conversao_base2.png](../Figs/Conversao_base2_PF.png)\n",
    "\n",
    "A representação de $(0,1)_{10}$ não possui representação exata na base 2.\n",
    "\n",
    "\\begin{equation}\n",
    "(0,10)_{10} \\rightarrow (0,00011001100 \\cdots )_{2}\n",
    "\\end{equation}\n",
    "\n",
    "Em virtude da representação não ser exata, a operação seguinte não terá\n",
    "resultado exato na utilização de microcomputadores.\n",
    "\n",
    "\\begin{equation}\n",
    "\\sum\\limits_{i=1}^{100} 0,1 =9,9999999 \\cdots\n",
    "\\end{equation}\n",
    "\n",
    "\n",
    "**Exemplo completo:** Considere o número $x = (207,140625)_{10}$ . A representação binária de \n",
    "$ip(x) = (207)_{10}$ é obtida, inicialmente, dividindo-se 207 por 2; essa divisão devolve um \n",
    "quociente e um resto. O resto é, necessariamente, 0 ou 1. Após, divide-se esse quociente por \n",
    "2, obtendo-se um outro quociente e resto. Esse processo é repetido até que o quociente seja \n",
    "1; a representação binária é formada, então, pelo último quociente e pelos restos, tomados \n",
    "na ordem inversa a que foram obtidos. A tabela abaixo mostra esse processo. \n",
    "\n",
    "| Dividendo | Quociente | Resto            |\n",
    "| --------- | --------- | ---------------- |\n",
    "| 207       | 103       | $\\color{red}{1}$ |\n",
    "| 103       | 51        | $\\color{red}{1}$ |\n",
    "| 51        | 25        | $\\color{red}{1}$ |\n",
    "| 25        | 12        | $\\color{red}{1}$ |\n",
    "| 12        | 6         | $\\color{red}{0}$ |\n",
    "| 6         | 3         | $\\color{red}{0}$ |\n",
    "| 3         | $\\color{red}{1}$ | $\\color{red}{1}$| \n",
    "\n",
    "A tabela acima representa o processo de conversão para binário da parte inteira \n",
    "de $(207,140625)_{10}$; os dı́gitos em vermelho comporão a representação binária, \n",
    "indo de baixo para cima.\n",
    "\n",
    "Portanto, o número $(207)_{10}=(11001111)_2$. Ou seja, a representação em binário de \n",
    "$ip(x) = (207)_{10}$ é, portanto,\n",
    "\\begin{align*}\n",
    "(207)_{10} & = (11001111)_2 \\\\\n",
    "& = \\color{red}{1}\\cdot 2^7 + \\color{red}{1}\\cdot 2^6 + \n",
    "\\color{red}{0}\\cdot 2^5 + \\color{red}{0}\\cdot 2^4 + \\color{red}{1}\\cdot 2^3 + \n",
    "\\color{red}{1}\\cdot 2^2 + \\color{red}{1}\\cdot 2^1 + \\color{red}{1}\\cdot 2^0 \\\\\n",
    "& = 128 + 64 + 8 + 4 + 2 + 1 = 207\n",
    "\\end{align*}\n",
    "\n",
    "\n",
    "Para convertermos a parte fracionária $fp(x) =(0,140625)_{10}$, fazemos um processo de \n",
    "multiplicações sucessivas por 2. Inicialmente, multiplicamos 0,140625 por 2, resultando \n",
    "em 0,28125. O dı́gito à esquerda do ponto decimal será um dos dı́gitos da representação \n",
    "binária de $fp(x)$; e nesse caso o dı́gito é  0. Esse número é, novamente, multiplicado \n",
    "por 2, resultando em 0,5625; como o dı́gito à esquerda do ponto decimal é o 0, basta\n",
    "multiplicar novamente esse número por 2, o que resulta em 1,125, nesse caso o dígito \n",
    "a esquerda é o 1, subtraímos 1 do resultado, que é 0,125, e multiplicamos ele por 2. O \n",
    "processo continua até que o número multiplicando seja igual a 1, 0; os dı́gitos 0 e 1, \n",
    "à esquerda do ponto decimal, formam a representação binária de $fp(x)$, agora na mesma \n",
    "ordem em que foram obtidos, conforme mostrado na tabela abaixo\n",
    "\n",
    "| Multiplicando | Resultado    |\n",
    "| ------------- | ------------ |\n",
    "| 0,140625      | $\\color{red}{0},28125$ |\n",
    "| 0,28125       | $\\color{red}{0},5625$  |\n",
    "| 0,5625        | $\\color{red}{1},125$   |\n",
    "| 0,125         | $\\color{red}{0},25$    |\n",
    "| 0,25          | $\\color{red}{0},5$     |\n",
    "| 0,5           | $\\color{red}{1}$       |\n",
    "\n",
    "Na tabela acima apresenta-se o processo de conversão para binário da parte fracionária \n",
    "de $(207,140625)_{10}$; os dı́gitos em vermelho comporão a representação binária.\n",
    "\n",
    "\n",
    "Logo, a representação em binário de $fp(x) = 0,140625$ é\n",
    "\\begin{align*}\n",
    "(0, 140625)_{10} & = (0,001001)_2 \\\\\n",
    "& = \\color{red}{0}\\cdot 2^{-1} + \\color{red}{0}\\cdot 2^{-2} + \n",
    "\\color{red}{1}\\cdot 2^{-3} + \\color{red}{0}\\cdot 2^{-4} + \\color{red}{0}\\cdot 2^{-5} + \n",
    "\\color{red}{1}\\cdot 2^{-6} \\\\\n",
    "& = 0,125 + 0,015625 = 0,140625\n",
    "\\end{align*}\n",
    "\n",
    "e, portanto, podemos justapor as representações binárias de $ip(207,140625)_{10}=(11001111)_2$ \n",
    "e $fp(207,140625)_{10}=(0,001001)_2$, obtendo a representação binária de $(207,140625)_{10}$, \n",
    "a qual é $(11001111,001001)_2$. Os algoritmos apresentados a seguir sumarizam os processos de \n",
    "conversão de decimal para binário e de binário para decimal.\n",
    "\n",
    "\n",
    "Note, no entanto, que se por um lado um número inteiro decimal pode ser facilmente \n",
    "representado por um número inteiro binário, a representação da parte fracionária \n",
    "nesse sistema de numeração exige, normalmente, um número bastante elevado de dı́gitos. \n",
    "Por exemplo, $(0,249)_{10}$ -- o qual difere de $(0,25)_{10} = (0,01)_2$ por apenas \n",
    "$(0,001)_{10}$ -- não tem representação binária finita (pois essa diferença não pode \n",
    "ser representada de forma finita): seus primeiros 20 dı́gitos são\n",
    "\n",
    "$$\n",
    "(0,0011111110111110011100\\ldots)_2\n",
    "$$\n",
    "\n",
    "e veja que, como $0,249 < 0,25$, necessariamente o primeiro dı́gito não-nulo na \n",
    "representação binária encontra-se à partir da terceira casa binária (pois \n",
    "$(0,25)_{10} = (0,01)_2$).\n"
   ]
  },
  {
   "cell_type": "markdown",
   "metadata": {},
   "source": [
    "### Referências\n",
    "\n",
    "- [The simple math behind decimal-binary conversion algorithms](https://blog.angularindepth.com/the-simple-math-behind-decimal-binary-conversion-algorithms-d30c967c9724)\n",
    "\n",
    "- [Conversor Online de base](https://www.rapidtables.com/convert/number/decimal-to-binary.html)\n",
    "\n",
    "- [Conversor Online de inteiros](https://www.binaryhexconverter.com/decimal-to-binary-converter)"
   ]
  },
  {
   "cell_type": "markdown",
   "metadata": {},
   "source": [
    "## Exercício\n",
    "\n",
    "Converta os dois algoritmos abaixo em um código Fortran funcional.\n",
    "\n",
    "### Algoritmo 1: Conversão decimal para binário\n",
    "\n",
    "\n",
    "```\n",
    "procedure conv dec_para_bin(input: x; output: b)\n",
    "    ! x é módulo de um número real decimal e b é a sua\n",
    "    ! representação binária, armazenada como uma  \"string\" de caracteres.\n",
    "    x = |x|\n",
    "    b = sinal(x)*conv_dec_para_bin_ip(ip(x)) + conv_dec_para_bin_fp(fp(x))\n",
    "end procedure\n",
    "\n",
    "\n",
    "procedure conv_dec_para_bin_ip(input: x; output: b)\n",
    "    ! x é um numero inteiro e b é a sua representação\n",
    "    ! binária, armazenada como uma \"string\" de caracteres.\n",
    "    d = x/2\n",
    "    r = x - 2*d\n",
    "    x = d\n",
    "    b = num_to_str(r)\n",
    "    while x >= 1\n",
    "        d = x/2 \n",
    "        r = x - 2*d\n",
    "        x = d\n",
    "        b = num_to_str(r) + b\n",
    "    end while\n",
    "end procedure\n",
    "\n",
    "procedure conv_dec_para_bin_fp(input: x; output: b)\n",
    "    ! x é um numero fracionario menor do que 1 e\n",
    "    ! b é a sua representacao binaria, armazenada\n",
    "    ! como uma \"string\" de caracteres.\n",
    "    x = |x| \n",
    "    b = \".\"\n",
    "    while x < 1\n",
    "       d = x ∗ 2\n",
    "       i = d \n",
    "       if d > 1 then\n",
    "          x = d - 1\n",
    "       else\n",
    "          x = d\n",
    "      endif\n",
    "      b = b + num_to_str(i)\n",
    "    end while\n",
    "end procedure\n",
    "```"
   ]
  },
  {
   "cell_type": "markdown",
   "metadata": {},
   "source": [
    "### Algoritmo 2: Conversão binário para decimal\n",
    "\n",
    "```\n",
    "procedure conv bin para dec(input: b; output: x)\n",
    "    ! b é um número binário, armazenado como uma \"string\" \n",
    "    ! de caracteres e x é a sua representação em decimal.\n",
    "    l = length(b)\n",
    "    p = findstr(b, \". \" )     ! Localiza onde está o ponto decimal em b\n",
    "    if p = 0 then      ! b é um número binário com parte fracionária\n",
    "         x = conv_bin_para_dec_ip(substr(b, 1, p - 1)) +\n",
    "                            conv_bin_para_dec_fp(substr(b, p, l))\n",
    "    else     ! b é um número inteiro\n",
    "         x = conv_bin_para_dec_ip(b)\n",
    "end procedure\n",
    "\n",
    "procedure conv bin para dec ip(input: b; output: x)\n",
    "    ! b é um número binário inteiro, armazenado como\n",
    "    ! uma \"string\" de caracteres e x é a sua representação em decimal.\n",
    "    l = length(b)\n",
    "    x = 0\n",
    "    k = l\n",
    "    for i = 1, 2,..., l\n",
    "        x = x + str_to_num(b[i]) * 2 * k\n",
    "        k = k - 1\n",
    "    end for\n",
    "end procedure\n",
    "\n",
    "procedure conv_bin_para_dec_fp(input: b; output: x)\n",
    "    ! b é um número binário menor do que 1, armazenado\n",
    "    ! como um “string” de caracteres (com '.' à frente) e\n",
    "    ! x é a sua representação em decimal.\n",
    "    l = length(b)\n",
    "    x = 0\n",
    "    k = 1\n",
    "    for i = 2, 3, ... , l   ! Desconsidera o 1º. caracter ('.')\n",
    "        x = x + str_to_num(b[i]) ∗ 2 - k\n",
    "        k = k + 1\n",
    "end for\n",
    "end procedure\n",
    "```"
   ]
  },
  {
   "cell_type": "markdown",
   "metadata": {
    "lang": "en"
   },
   "source": [
    "## Transferência de dados em arquivos internos\n",
    "\n",
    "A transferência de dados da representação da máquina para caracteres ou de caracteres de volta para a representação da máquina pode ser feita entre duas variáveis em um programa em execução. Uma declaração de entrada ou saída de acesso sequencial formatada é usada; formatação direcionada por lista é permitida. O formato é usado para interpretar os caracteres. O arquivo interno e a unidade interna são a mesma variável de caractere.\n",
    "\n",
    "Modelos que podem ser usados para construir instruções de transferência de dados em um arquivo interno são\n",
    "\n",
    "\n",
    "```Fortran\n",
    "read ( unit= varaiavel-char-padrao &\n",
    "            , fmt= format &\n",
    "            [ , iostat= varaiavel-escalar-int-padrao ] &\n",
    "            [ , iomsg= varaiavel-escalar-char ] &\n",
    "            ) [ lista-de-entrada ]\n",
    "\n",
    "write ( unit= varaiavel-char-padrao &\n",
    "            , fmt= format &\n",
    "            [ , iostat= varaiavel-escalar-int-padrao ] &\n",
    "            [ , iomsg= varaiavel-escalar-char ] &\n",
    "            ) [ lista-de-saida ]\n",
    "```\n",
    "\n",
    "\n",
    "Exemplos de instruções de transferência de dados em arquivos internos são\n",
    "\n",
    "```Fortran\n",
    "read (unit=char_10, fmt=fmt_1, iostat=io_err) &\n",
    "            energia, En, i, nivel, degenerescencia\n",
    "write (unit=char_var, fmt=*) En]\n",
    "```\n",
    "\n",
    "### Algumas regras e restrições para o uso de arquivos internos são:\n",
    "\n",
    "\n",
    "1. A unidade deve ser uma variável de caractere que não seja uma seção de matriz com um vetor subscrito.\n",
    "\n",
    "2. Cada registro de um arquivo interno é uma variável de caractere escalar.\n",
    "\n",
    "3. Se o arquivo é uma matriz ou uma seção de matriz, cada elemento da matriz ou seção é uma variável de caractere escalar e, portanto, um registro. A ordem dos registros é a ordem dos elementos do array (para arrays de rank dois e maiores, o primeiro subscrito varia mais rapidamente). O comprimento do registro, que deve ser o mesmo para cada registro, é o comprimento de um elemento da matriz.\n",
    "\n",
    "4. Se a variável de caractere for uma matriz ou parte de uma matriz que possui o atributo de ponteiro, a variável deve ser alocada antes de seu uso como um arquivo interno.\n",
    "\n",
    "5. Se o número de caracteres escritos for menor que o comprimento do registro, os caracteres restantes serão configurados em branco. Se o número de caracteres for maior que o comprimento do registro, os caracteres restantes serão truncados.\n",
    "\n",
    "6. Os registros em um arquivo interno recebem valores quando o registro é gravado. Um arquivo interno também pode receber um valor por uma instrução de atribuição de caractere ou por outros meios.\n",
    "\n",
    "7. Para ler um registro em um arquivo interno, ele deve ser definido.\n",
    "\n",
    "8. Um arquivo interno é sempre posicionado no início antes de ocorrer uma transferência de dados.\n",
    "\n",
    "9. Apenas o acesso sequencial formatado é permitido em arquivos internos. A formatação direcionada por lista é permitida.\n",
    "\n",
    "10. Conexão de arquivos, posicionamento e consulta não devem ser usados com arquivos internos.\n",
    "\n",
    "11. O uso dos especificadores iostat e iomsg é o mesmo dos arquivos externos.\n",
    "\n",
    "12. Na entrada, os espaços em branco são ignorados em campos numéricos.\n",
    "\n",
    "13. Na saída direcionada por lista, as constantes de caracteres são delimitadas por aspas.\n",
    "\n",
    "Como um exemplo simples do uso de arquivos internos, a seguinte instrução de gravação converte o valor da variável inteira `n` na cadeia de caracteres `s` de tamanho 10:\n",
    "\n",
    "```Fortran\n",
    "write (unit=s, fmt=\"(i10)\") n\n",
    "```\n",
    "\n",
    "Se `n = 999`, a string `s` seria `\"bbbbbbb999\"`, onde `b` representa um caractere em branco. Para fazer a conversão se comportar de maneira um pouco diferente, podemos forçar o primeiro caractere de `s` a ser um sinal e fazer com que o resto dos caracteres sejam preenchidos, usando quantos zeros à esquerda forem necessários.\n",
    "\n",
    "```Fortran\n",
    "write (unit=s, fmt=\"(sp, i10.9)\") n\n",
    "```\n",
    "\n",
    "Agora `n = 999`, a string `s` terá o valor `\"+000000999\"`.\n",
    "\n",
    "Outro uso de entrada/saída interna é ler os dados de um arquivo diretamente em uma cadeia de caracteres, examiná-lo para certificar-se de que ele tenha o formato apropriado para os dados que devem ser lidos e, em seguida, lê-lo com conversão de formatação variável de cadeia de caracteres para as variáveis necessárias para manter os dados. Para manter o exemplo simples, suponha que algum registro de dados de entrada deva conter dez valores inteiros, mas eles foram inseridos no arquivo como dez inteiros separados por dois-pontos. A entrada direcionada por lista requer que os números sejam separados por espaços em branco ou vírgulas. Uma opção é ler os dados, examinar os caracteres um de cada vez e construir os inteiros; mas a entrada direcionada por lista fará tudo, exceto encontrar os separadores de dois pontos. Portanto, outra possibilidade é ler no registro, alterar os dois-pontos por vírgulas e usar uma instrução de leitura dirigida à lista interna para converter a cadeia de caracteres em dez valores inteiros. Aqui está um programa completo, mas apenas lê os números e os imprime.\n",
    "\n",
    "```Fortran\n",
    "program conv_interno\n",
    "    implicit none\n",
    "    character(len=100) :: reg_interno\n",
    "    integer, dimension(10) :: numeros\n",
    "    integer :: col_pos\n",
    "\n",
    "    read (unit=*, fmt=\"(a)\") reg_interno\n",
    "    do\n",
    "        col_pos = index(reg_interno, \":\")\n",
    "        if (col_pos == 0) exit\n",
    "        reg_interno (col_pos:col_pos) = \",\"\n",
    "    end do\n",
    "    read (unit=reg_interno, fmt=*) numeros\n",
    "    print \"(5i5)\", numeros\n",
    "    stop\n",
    "end program conv_interno\n",
    "```\n",
    "\n",
    "Se a entrada for dada por \n",
    "\n",
    "```\n",
    "3:24:53:563:-34:290:-9:883:9:224\n",
    "```\n",
    "\n",
    "a saída será dada por\n",
    "\n",
    "```\n",
    "   3     24     53   563   -34\n",
    "290    -9    883      9    224\n",
    "```\n",
    "\n",
    "Naturalmente, em um programa real, alguma verificação de erro deve ser feita para garantir que o registro interno tenha o formato correto depois que os dois-pontos forem convertidos em vírgulas."
   ]
  },
  {
   "cell_type": "markdown",
   "metadata": {},
   "source": [
    "## Implementação de erro no Fortran\n",
    "\n",
    "A seguir apresentamos um exemplo para avaliar o erro em uma soma, cujo o passo é uma dizima no sistema binário:"
   ]
  },
  {
   "cell_type": "code",
   "execution_count": 1,
   "metadata": {
    "ExecuteTime": {
     "end_time": "2019-04-15T12:23:21.641751Z",
     "start_time": "2019-04-15T12:23:21.620053Z"
    }
   },
   "outputs": [
    {
     "name": "stdout",
     "output_type": "stream",
     "text": [
      "Overwriting src/SomaReal.f95\n"
     ]
    }
   ],
   "source": [
    "%%writefile src/SomaReal.f95\n",
    "PROGRAM somareal\n",
    "  IMPLICIT NONE\n",
    "  INTEGER :: i, n\n",
    "  REAL    :: dx=0.1, soma, r\n",
    "  READ *, n\n",
    "  r = n * dx\n",
    "  soma = 0.0\n",
    "  DO i=1,n\n",
    "     soma = soma + dx\n",
    "  END DO\n",
    "  IF( soma == r ) THEN\n",
    "     PRINT*, \"Soma = N*dx \"\n",
    "  ELSE\n",
    "     PRINT*, \"Soma /= N*dx; N =\", n, \"Soma = \", soma\n",
    "  END IF\n",
    "  STOP\n",
    "END PROGRAM somareal"
   ]
  },
  {
   "cell_type": "code",
   "execution_count": 2,
   "metadata": {
    "ExecuteTime": {
     "end_time": "2019-04-15T12:23:24.470349Z",
     "start_time": "2019-04-15T12:23:24.290862Z"
    }
   },
   "outputs": [],
   "source": [
    "#Compilando\n",
    "! f95 -std=f2008 -o x src/SomaReal.f95"
   ]
  },
  {
   "cell_type": "code",
   "execution_count": 3,
   "metadata": {
    "ExecuteTime": {
     "end_time": "2019-04-15T12:23:36.361094Z",
     "start_time": "2019-04-15T12:23:36.247585Z"
    }
   },
   "outputs": [
    {
     "name": "stdout",
     "output_type": "stream",
     "text": [
      " Soma = N*dx \r\n"
     ]
    }
   ],
   "source": [
    "#Rodando com algumas opções diferentes\n",
    "! echo \"6\" | ./x -"
   ]
  },
  {
   "cell_type": "code",
   "execution_count": 4,
   "metadata": {
    "ExecuteTime": {
     "end_time": "2019-04-15T12:23:38.681956Z",
     "start_time": "2019-04-15T12:23:38.570379Z"
    }
   },
   "outputs": [
    {
     "name": "stdout",
     "output_type": "stream",
     "text": [
      " Soma /= N*dx; N =           7 Soma =   0.700000048    \r\n"
     ]
    }
   ],
   "source": [
    "#Rodando com algumas opções diferentes\n",
    "! echo \"7\" | ./x -"
   ]
  },
  {
   "cell_type": "code",
   "execution_count": 5,
   "metadata": {
    "ExecuteTime": {
     "end_time": "2019-04-15T12:24:04.208179Z",
     "start_time": "2019-04-15T12:24:04.094911Z"
    }
   },
   "outputs": [
    {
     "name": "stdout",
     "output_type": "stream",
     "text": [
      " Soma /= N*dx; N =          10 Soma =    1.00000012    \r\n"
     ]
    }
   ],
   "source": [
    "#Rodando com algumas opções diferentes\n",
    "! echo \"10\" | ./x -"
   ]
  },
  {
   "cell_type": "code",
   "execution_count": 6,
   "metadata": {
    "ExecuteTime": {
     "end_time": "2019-04-15T12:24:06.843934Z",
     "start_time": "2019-04-15T12:24:06.733401Z"
    }
   },
   "outputs": [
    {
     "name": "stdout",
     "output_type": "stream",
     "text": [
      " Soma /= N*dx; N =         100 Soma =    10.0000019    \r\n"
     ]
    }
   ],
   "source": [
    "#Rodando com algumas opções diferentes\n",
    "! echo \"100\" | ./x -"
   ]
  },
  {
   "cell_type": "code",
   "execution_count": 7,
   "metadata": {
    "ExecuteTime": {
     "end_time": "2019-04-15T12:24:10.430750Z",
     "start_time": "2019-04-15T12:24:10.317715Z"
    }
   },
   "outputs": [
    {
     "name": "stdout",
     "output_type": "stream",
     "text": [
      " Soma /= N*dx; N =        1000 Soma =    99.9990463    \r\n"
     ]
    }
   ],
   "source": [
    "#Rodando com algumas opções diferentes\n",
    "! echo \"1000\" | ./x -"
   ]
  },
  {
   "cell_type": "code",
   "execution_count": 8,
   "metadata": {
    "ExecuteTime": {
     "end_time": "2019-04-15T12:28:16.472106Z",
     "start_time": "2019-04-15T12:28:16.457024Z"
    }
   },
   "outputs": [
    {
     "name": "stdout",
     "output_type": "stream",
     "text": [
      "Overwriting src/Comparar.f95\n"
     ]
    }
   ],
   "source": [
    "%%writefile src/Comparar.f95\n",
    "PROGRAM comparar\n",
    "  IMPLICIT NONE\n",
    "  INTEGER :: i, n\n",
    "  REAL, PARAMETER :: dx=0.1, tol = 1.0e-6\n",
    "  REAL :: soma, r\n",
    "  READ *, n\n",
    "  r = n * dx\n",
    "  soma = 0.0\n",
    "  DO i=1,n\n",
    "     soma = soma + dx\n",
    "  END DO\n",
    "  ! Importante\n",
    "  IF( ABS(soma - r) < tol ) THEN\n",
    "     PRINT*, \"Soma = N*dx \"\n",
    "  ELSE\n",
    "     PRINT*, \"Soma /= N*dx; N =\", n, \"Soma = \", soma\n",
    "  END IF\n",
    "  STOP\n",
    "END PROGRAM comparar"
   ]
  },
  {
   "cell_type": "code",
   "execution_count": 9,
   "metadata": {
    "ExecuteTime": {
     "end_time": "2019-04-15T12:28:18.787694Z",
     "start_time": "2019-04-15T12:28:18.599928Z"
    }
   },
   "outputs": [],
   "source": [
    "#Compilando\n",
    "! f95 -std=f2008 -o x src/Comparar.f95"
   ]
  },
  {
   "cell_type": "code",
   "execution_count": 10,
   "metadata": {
    "ExecuteTime": {
     "end_time": "2019-04-15T12:28:19.639989Z",
     "start_time": "2019-04-15T12:28:19.527544Z"
    }
   },
   "outputs": [
    {
     "name": "stdout",
     "output_type": "stream",
     "text": [
      " Soma = N*dx \r\n"
     ]
    }
   ],
   "source": [
    "#Rodando com algumas opções diferentes\n",
    "! echo \"6\" | ./x -"
   ]
  },
  {
   "cell_type": "code",
   "execution_count": 11,
   "metadata": {
    "ExecuteTime": {
     "end_time": "2019-04-15T12:28:20.413888Z",
     "start_time": "2019-04-15T12:28:20.301500Z"
    }
   },
   "outputs": [
    {
     "name": "stdout",
     "output_type": "stream",
     "text": [
      " Soma = N*dx \r\n"
     ]
    }
   ],
   "source": [
    "#Rodando com algumas opções diferentes\n",
    "! echo \"7\" | ./x -"
   ]
  },
  {
   "cell_type": "code",
   "execution_count": 12,
   "metadata": {
    "ExecuteTime": {
     "end_time": "2019-04-15T12:28:21.090430Z",
     "start_time": "2019-04-15T12:28:20.975381Z"
    }
   },
   "outputs": [
    {
     "name": "stdout",
     "output_type": "stream",
     "text": [
      " Soma = N*dx \r\n"
     ]
    }
   ],
   "source": [
    "#Rodando com algumas opções diferentes\n",
    "! echo \"10\" | ./x -"
   ]
  },
  {
   "cell_type": "code",
   "execution_count": 13,
   "metadata": {
    "ExecuteTime": {
     "end_time": "2019-04-15T12:28:24.222366Z",
     "start_time": "2019-04-15T12:28:24.110822Z"
    }
   },
   "outputs": [
    {
     "name": "stdout",
     "output_type": "stream",
     "text": [
      " Soma /= N*dx; N =         100 Soma =    10.0000019    \r\n"
     ]
    }
   ],
   "source": [
    "#Rodando com algumas opções diferentes\n",
    "! echo \"100\" | ./x -"
   ]
  },
  {
   "cell_type": "code",
   "execution_count": 14,
   "metadata": {
    "ExecuteTime": {
     "end_time": "2019-04-15T12:28:26.856120Z",
     "start_time": "2019-04-15T12:28:26.744028Z"
    }
   },
   "outputs": [
    {
     "name": "stdout",
     "output_type": "stream",
     "text": [
      " Soma /= N*dx; N =        1000 Soma =    99.9990463    \r\n"
     ]
    }
   ],
   "source": [
    "#Rodando com algumas opções diferentes\n",
    "! echo \"1000\" | ./x -"
   ]
  },
  {
   "cell_type": "markdown",
   "metadata": {},
   "source": [
    "### Números Binários e a Memória\n",
    "\n",
    "Na representação decimal, o número $2436$ é\n",
    "\\begin{equation}\n",
    "2436 = 2 \\times 10^{3} + 4\\times 10^{2} + 3\\times 10^{1} + 6\\times 10^{0}+\n",
    "\\color{blue}{2} \\color{red}{\\times 10^{3}}+\\color{blue}{4} \\color{red}{\\times 10^{2}}+\\color{blue}{3} \\color{red}{\\times 10^{1}}+\\color{blue}{6} \\color{red}{\\times 10^{0}}\n",
    "\\end{equation}\n",
    "\n",
    "enquanto na representação binária ele é dado por\n",
    "\\begin{equation}\n",
    "2436 = 2048 + 256 + 128 + 4 = \\color{blue}{2}^{11} + \\color{blue}{2}^{8} + \\color{blue}{2}^{7}+\\color{blue}{2}^{2}\n",
    "\\end{equation}\n",
    "%%\\color{blue}{} \\color{red}{\\times 10^{}}\n",
    "%%\\color{blue}{} \\color{red}{\\times 2^{}}\n",
    "\\begin{aligned}\n",
    "2436  = & \\color{blue}{1} \\color{red}{\\times 2^{11}}+\\color{blue}{0} \\color{red}{\\times 2^{10}}+\n",
    "\\color{blue}{0} \\color{red}{\\times 2^{9}}+\\color{blue}{1} \\color{red}{\\times 2^{8}} + \\\\\n",
    "& \\color{blue}{1} \\color{red}{\\times 2^{7}}+\\color{blue}{0} \\color{red}{\\times 2^{6}}+\n",
    "  \\color{blue}{0} \\color{red}{\\times 2^{5}}+\\color{blue}{0} \\color{red}{\\times 2^{4}} \\\\\n",
    "& \\color{blue}{0} \\color{red}{\\times 2^{3}}+\\color{blue}{1} \\color{red}{\\times 2^{2}} +\n",
    "  \\color{blue}{0} \\color{red}{\\times 2^{1}}+\\color{blue}{0} \\color{red}{\\times 2^{0}} \\\\\n",
    "%%        & 1\\times 2^{11} + 0\\times 2^{10} + 0\\times 2^{9} + 1\\times 2^{8} + \\\\\n",
    "%%        & 1\\times 2^{7}  + 0\\times 2^{6}  + 0\\times 2^{5} + 0\\times 2^{4} + \\\\\n",
    "%%        & 0\\times 2^{3}  + 1\\times 2^{2}  + 0\\times 2^{1} + 0\\times 2^{0} \\\\\n",
    "      = & 100110000100 \n",
    "\\end{aligned}\n",
    "Portanto, o número $2436$ precisa de 12 bits para ser representado na forma binária, \n",
    "que é $100110000100$\n",
    "\n",
    "### Memória\n",
    "\n",
    "-   1 byte = 8 bits\n",
    "\n",
    "-   1 KByte = 1024 bytes\n",
    "\n",
    "-   1 MByte = 1024 KBytes\n",
    "\n",
    "-   1 GByte = 1024 MBytes\n",
    "\n",
    "<!-- comentário -->\n",
    "\n",
    "-   Inteiro é representado por no mínimo 2 bytes\n",
    "\n",
    "-   Número de ponto flutuante é representado por no mínimo 4 bytes\n",
    "\n",
    "| Bytes    | bits     | Inteiro                                         |\n",
    "|:-------- |:-------- |:----------------------------------------------- |\n",
    "| 1 Byte   | 8 bits   | $-2^{7} \\leq n \\leq 2^{7}-1 = 127$              |\n",
    "| 2 Bytes  | 16 bits  | $-2^{15} \\leq n \\leq 2^{15}-1 = 32767$          |\n",
    "| 4 Bytes  | 32 bits  | $-2^{31} \\leq n \\leq 2^{31}-1=2.1\\times 10^{9}$ |\n",
    "| 8 Bytes  | 64 bits  | $-2^{63}\\leq n \\leq 2^{63}-1=1.0\\times 10^{19}$ |\n",
    "|----------|----------|------------------------------------------------------|\n",
    "\n",
    "Num computador de 16 bits a *palavra* tem 16 bits.\n",
    "\n",
    "### Memória\n",
    "\n",
    "O quanto da memória de um computador um programa usa? Para respondermos\n",
    "a essa pergunta, vamos considerar que há um computador com 1 Gb de\n",
    "memória e que 100% desta memória estará disponível para o nosso\n",
    "programa. Considere ainda que o o programa só utilizará números reais de\n",
    "precisão dupla, então:\n",
    "\n",
    "-   1 GBytes = 1024 MBytes = 1048576 KBytes = 1073741824 Bytes\n",
    "\n",
    "-   Se 1 número real de dupla precisão consome 16 bytes, então:\n",
    "\n",
    "-   1073741824/16 = 67108864 números reais de precisão dupla\n",
    "\n",
    "-   Parece muito... mas o quanto isso equivale em relação a um array\n",
    "    quadrado?\n",
    "\n",
    "-   $67108864^{1/2} = \\sqrt{67108864} = 8192$\n",
    "\n",
    "-   **CONCLUSÃO:** O tamanho máximo do array, neste caso, seria:\n",
    "\n",
    "```Fortran\n",
    "   real*8, dimension(8192,8192) :: array\n",
    "```\n",
    "\n",
    "### Números de ponto flutuante: Motivação\n",
    "\n",
    "-   Na representação de grandezas físicas pode-se ter uma faixa de\n",
    "    variação dos números muito grande. Ex:\n",
    "\n",
    "    - Massa do elétron: $9,0 \\times 10^{-31}$ kg;\n",
    "\n",
    "    - Carga do elétron: $1,62 \\times 10^{-19}$ C;\n",
    "\n",
    "    - Massa do sol: $1,98892 \\times 10^{30}$ kg;\n",
    "\n",
    "    - Distância Terra Sol: $1,496 \\times 10^{11}$ m.\n",
    "\n",
    "-   Tipicamente temos uma faixa de variação de ;\n",
    "\n",
    "-   Exemplo de representação: \n",
    "\n",
    "\n",
    "\\begin{aligned}\n",
    "    m_{\\text{elétron}} & = 0000000000000000000000000000000000.0000000000000000000000000009 \\\\\n",
    "    m_{\\text{sol}}     & = 1988920000000000000000000000000000.0000000000000000000000000000\n",
    "\\end{aligned}\n",
    "\n",
    "-   Surge então a questão: Como representá-los?\n",
    "\n",
    "### Número de ponto flutuante\n",
    "\n",
    "-   Deve-se usar um sistema de representação de maneira que a faixa de\n",
    "    variação dos números seja independente do número de dígitos\n",
    "    significativos dos números representados.\n",
    "\n",
    "-   Solução: Notação científica\n",
    "    $$\\text{Número} \\times \\text{Base}^{\\text{Expoente}}$$\n",
    "\n",
    "### Número de ponto flutuante\n",
    "\n",
    "-   Há várias formas de representação numérica na qual a vírgula\n",
    "    “flutua” e muda o expoente, considere por exemplo os seguintes\n",
    "    casos:\n",
    "    $$3,1415 = 0,031415 \\times 10^2 = 314,15 \\times 10^{-2} = 3141,5 \\times 10^{-3}$$\n",
    "    Para resolver o problema, padronizou-se:\n",
    "\n",
    "-   Contém um único dígito diferente de zero antes da vírgula, assim\n",
    "    teríamos $$3,1415 = 3,1415 \\times 10^{0}$$\n",
    "\n",
    "    -   Portanto há uma única forma de representar um número\n",
    "\n",
    "    -   Em geral, é melhor que a forma não normalizada na representação\n",
    "        computacional de números em ponto flutuante.\n",
    "\n",
    "### Número de ponto flutuante\n",
    "\n",
    "-   As máquinas usam a base 2, ou seja binária\n",
    "\n",
    "-   Na representação normalizada binária há apenas o número “1” antes da\n",
    "    vírgula.\n",
    "\n",
    "-   Tudo é armazenado em base 2.\n",
    "\n",
    "-   Exemplos: $$1,01101x(10)101$$ Mantissa = 1,01101\n",
    "\n",
    "    Expoente = 101\n",
    "\n",
    "### Número de ponto flutuante\n",
    "\n",
    "-   No caso da forma normalizada, o número “1” antes da vírgula fica\n",
    "    implícito e é economizado um bit. Esse bit é chamado de .\n",
    "\n",
    "-   O número de bits para representar a mantissa e o expoente dependem\n",
    "    da norma\n",
    "\n",
    "![Numero de Ponto flutuante](../Figs/PontoFlutuante.png)"
   ]
  },
  {
   "cell_type": "markdown",
   "metadata": {},
   "source": [
    "### A Norma IEEE 754-1985\n",
    "\n",
    "-   Até a década de 1980, cada fabricante de computador tinha seu\n",
    "    próprio formato de representação de ponto flutuante.\n",
    "\n",
    "-   IEEE: Institute of Electrical and Electronic Engineers. Organização\n",
    "    composta por engenheiros, cientistas e estudantes, que desenvolvem\n",
    "    padrões para a indústria de computadores e eletro-eletrônicos.\n",
    "\n",
    "-   O padrão IEEE 754 foi inventado para padronizar essa forma de\n",
    "    representação e é o mais usado.\n",
    "\n",
    "-   Em Agosto de 2008 elaborou-se uma nova versão da IEEE 754.\n",
    "\n",
    "-   Formatos e aritmética binária são preservados no IEEE 754-2008.\n",
    "\n",
    "-   4 formatos de representação de valores de ponto flutuante:\n",
    "\n",
    "    -   Precisão simples (32 bits)\n",
    "\n",
    "    -   Precisão dupla (64 bits)\n",
    "\n",
    "    -   Precisão simples estendida (&gt;= 43 bits, não é comumente\n",
    "        usada)\n",
    "\n",
    "    -   Precisão dupla estendida (&gt;= 79 bits, usualmente implementada\n",
    "        com 80 bits)\n",
    "\n",
    "-   Apenas a precisão simples é requerida pelo padrão, as outras são\n",
    "    opcionais.\n",
    "    \n",
    " Na tabela abaixo, apresenta-se a precisão e o intervalo dos números reais no padrão IEEE 754.\n",
    "\n",
    "| Bits | Bits da mantissa | Dígitos da precisão decimal | bits do expoente | Variação do expoente        |\n",
    "| ---- | ---------------- | --------------------------- | ---------------- | --------------------------- |\n",
    "| 32   | 24               | 7                           | 8                | $10^{-38}$ à $10^{+38}$     |\n",
    "| 64   | 53               | 15                          | 11               | $10^{-308}$ à $10^{+308}$   |\n",
    "| 128  | 112              | 34                          | 16               | $10^{-4932}$ à $10^{+4932}$ |\n",
    "\n",
    "   \n",
    "    \n",
    "\n",
    "### Número de Ponto Flutuante \n",
    "\n",
    "-   Ponto flutuante (do inglês *floating point*), é um formato de\n",
    "    representação digital de números reais, que é usado nos\n",
    "    computadores.\n",
    "\n",
    "-   O número é dividido numa mantissa (M) e um expoente (e) e uma Base\n",
    "    (B). O valor representado é obtido pelo produto:\n",
    "    $$\\pm M \\times B^{\\pm e}.$$\n",
    "\n",
    "-   Desta forma é possível cobrir um largo espectro de números,\n",
    "    maximizando o número de bits significativos e consequentemente a\n",
    "    precisão da aproximação. Esta forma de representação foi criada por\n",
    "    Konrad Zuse para os seus computadores Z1 e Z3.\n",
    "\n",
    "-   O número de bits alocados para representar a mantissa e o expoente\n",
    "    depende da norma utilizada. A maioria dos sistemas que operam com\n",
    "    ponto flutuante utilizam representações definidas na norma IEEE 754.\n",
    "\n",
    "-   A Norma IEEE 754-2008 define os formatos adequados para representar\n",
    "    números em ponto flutuante de precisão simples (32 bits) e de\n",
    "    precisão dupla (64 bits).\n",
    "\n",
    "\n",
    "O formato de ponto flutuante de precisão simples (32 bits) consiste de:\n",
    "\n",
    "-   Um bit para o sinal (s) da mantissa e um para do expoente, cujo\n",
    "    valor é:\n",
    "\n",
    "    -   0 (zero) para números positivos;\n",
    "\n",
    "    -   1 para números negativos.\n",
    "\n",
    "-   8 bits para o expoente (e); ele varia entre\n",
    "    $$-128 \\leq e \\leq 127 ,$$ o que equivale a um intervalo decimal de\n",
    "    $10^{-38}$ a $10^{38}$\n",
    "\n",
    "-   23 bits para a mantissa (m), que corresponde à parte fracionária da\n",
    "    mantissa do número representado. Considera-se a sempre a mantissa\n",
    "    normalizada entre 1 e 2. Desta forma a sua parte inteira é sempre\n",
    "    apenas um bit igual a 1 (um) o que não é necessário representar.\n",
    "\n",
    "### Exemplo\n",
    "\n",
    "$$V = S \\times M \\times 2^E,$$\n",
    "\n",
    "na qual $$S = 1 − 2 \\times s $$ $$M = 1 \\cdot m = 1 + m \\times 2^{−23}$$\n",
    "$$E = e − 127$$\n",
    "\n",
    "### Ponto Flutuante: Precisão Simples\n",
    "\n",
    "![Numero de Ponto flutuante](../Figs/PontoFlutuante_PS.png)\n",
    "\n",
    "-   O número usa 32 bits para ser representado;\n",
    "\n",
    "-   Se o Sinal for $0$ o número é positivo;\n",
    "\n",
    "-   Se o Sinal for $1$ o número é negativo;\n",
    "\n",
    "-   O expoente varia entre $-128 \\leq p \\leq 127$, o que equivale a um\n",
    "    intervalo decimal de $10^{-38}$ a $10^{38}$\n",
    "\n",
    "-   A mantissa de 23 bits fornece uma precisão entre $6$ e $9$ dígitos.\n",
    "\n",
    "-   <https://pt.wikipedia.org/wiki/IEEE_754>\n",
    "\n",
    "-   <https://pt.wikipedia.org/wiki/Ponto_flutuante>\n",
    "\n",
    "### Ponto Flutuante: Precisão Dupla\n",
    "\n",
    "![Numero de Ponto flutuante](../Figs/PontoFlutuante_PD.png)\n",
    "\n",
    "-   O número usa 64 bits para ser representado;\n",
    "\n",
    "-   Se o Sinal for $0$ o número é positivo, se $1$ é negativo;\n",
    "\n",
    "-   O expoente varia entre $-308 \\leq p \\leq 308$, o que equivale a um\n",
    "    intervalo decimal de $-2.225073 \\times 10^{-308}$ a\n",
    "    $+1.797693 \\times 10^{+308}$;\n",
    "\n",
    "-   A mantissa de $53$ bits fornece uma precisão entre $15$ e $17$\n",
    "    dígitos.\n",
    "\n",
    "-   <https://pt.wikipedia.org/wiki/IEEE_754>\n",
    "\n",
    "-   <https://pt.wikipedia.org/wiki/Ponto_flutuante>\n",
    "\n",
    "### Ponto Flutuante: Precisão Quadupla\n",
    "\n",
    "![Numero de Ponto flutuante](../Figs/PontoFlutuante_PQ.png)\n",
    "\n",
    "-   O número usa 64 bits para ser representado;\n",
    "\n",
    "-   Se o Sinal for $0$ o número é positivo, se $1$ é negativo;\n",
    "\n",
    "-   O expoente varia entre $-4951 \\leq p \\leq 4932$, o que equivale a um\n",
    "    intervalo decimal de $-3.65 \\times 10^{-4951}$ a\n",
    "    $+1.18 \\times 10^{+4932}$;\n",
    "\n",
    "-   A mantissa de $63$ bits fornece uma precisão entre $19$ e $20$\n",
    "    dígitos.\n",
    "\n",
    "-   <https://en.wikipedia.org/wiki/Extended_precision>\n",
    "\n",
    "-   <https://en.wikipedia.org/wiki/Quadruple-precision_floating-point_format>\n",
    "\n",
    "### Representação do Número de Ponto Flutuante\n",
    "\n",
    "A fração decimal: $0,125$ é representada por: $1/10 + 2/100 + 5/1000$.\n",
    "\n",
    "$$0,125 \\longrightarrow 0,125 = 1/10 + 2/100 + 5/1000$$\n",
    "\n",
    "Da mesma forma, a fração binária: $0,001$ tem valor: $0/2 + 0/4 + 1/8$.\n",
    "\n",
    "$$0,001 \\longrightarrow 0.001 = 0/2 + 0/4 + 1/8$$\n",
    "\n",
    "Os dois valores são idênticos, sendo o primeiro escrito na base 10 e o\n",
    "segundo na base 2.\n",
    "\n",
    "\n",
    "| Valor  |  $S\\times M \\times 2^{E}$      | S |  M       | E   |   IEEE 754 - Precisão simples            |\n",
    "|:-------|:------------------------------ |:- | :--------| :---| :----------------------------------------|\n",
    "|1       |  $1 \\times 1 \\times 2^0$       | 0 | 0x00     | 127 | 0 0111 1111 000 0000 0000 0000 0000 0000 |\n",
    "|-1      |  $-1 \\times 1 \\times 2^0$      | 1 | 0x00     | 127 | 1 0111 1111 000 0000 0000 0000 0000 0000 |\n",
    "|0,5     |  $ 1 \\times 1 \\times 2^{−1}$   | 0 | 0x00     | 126 | 0 0111 1110 000 0000 0000 0000 0000 0000 |\n",
    "|-0,5    |  $-1 \\times 1 \\times 2^{−1}$   | 1 | 0x00     | 126 | 1 0111 1110 000 0000 0000 0000 0000 0000 |\n",
    "|0,15625 |  $ 1\\times 1,25 \\times 2^{−3}$ | 0 | 0x200000 | 124 | 0 0111 1100 010 0000 0000 0000 0000 0000 |\n",
    "\n",
    "\n",
    "### Programa Epsilon.f95\n",
    "\n",
    "```Fortran\n",
    "PROGRAM encontra_epsilon \n",
    "  IMPLICIT NONE ! Encontrar a precisao da maquina \n",
    "  REAL :: eps=1.0, eps1 \n",
    "  DO \n",
    "     eps = eps / 2.0; eps1 = eps + 1.0 \n",
    "     IF ( eps1 > 1.0 ) THEN \n",
    "        CYCLE      ! Retorna para o inicio do DO\n",
    "     ELSE \n",
    "        EXIT       ! Saí do DO\n",
    "     END IF \n",
    "  END DO \n",
    "  PRINT *, 'A maquina acha que, ', eps, ' vale zero' \n",
    "  PRINT *, 'A funcao intrinseca epsilon(1.0) = ', epsilon(eps) \n",
    "  STOP \n",
    "END PROGRAM encontra_epsilon\n",
    "```\n",
    "\n",
    "**NOTA:** No código acima aprecerem duas novas funções intrísecas do Fortran 90: `CYCLE` e `EXIT`, elas são usadas dentro de uma estrutura de repetição para tranferir a execução para o início o seu início ou para fora dela respectivamente. São os únicos desvios/saltos permitidos no Fortran 95 em diante.\n",
    "\n",
    "\n",
    "```bash\n",
    "> f95 -O3 -o x Epsilon.f95\n",
    "> ./x\n",
    "A maquina acha que, 5.96046448E-08 vale zero \n",
    "A funcao intrinseca epsilon(1.0) = 1.19209290E-07\n",
    "```"
   ]
  },
  {
   "cell_type": "code",
   "execution_count": 1,
   "metadata": {
    "ExecuteTime": {
     "end_time": "2019-04-17T11:18:10.497981Z",
     "start_time": "2019-04-17T11:18:10.483470Z"
    }
   },
   "outputs": [
    {
     "name": "stdout",
     "output_type": "stream",
     "text": [
      "Overwriting src/Epsilon.f95\n"
     ]
    }
   ],
   "source": [
    "%%writefile src/Epsilon.f95\n",
    "PROGRAM encontra_epsilon \n",
    "  IMPLICIT NONE ! Encontrar a precisao da maquina \n",
    "  REAL :: eps=1.0, eps1 \n",
    "  DO \n",
    "     eps = eps / 2.0; eps1 = eps + 1.0 \n",
    "     IF ( eps1 > 1.0 ) THEN \n",
    "        CYCLE      ! Retorna para o inicio do DO\n",
    "     ELSE \n",
    "        EXIT       ! Saí do DO\n",
    "     END IF \n",
    "  END DO \n",
    "  PRINT *, 'A maquina acha que, ', eps, ' vale zero' \n",
    "  PRINT *, 'A funcao intrinseca epsilon(1.0) = ', epsilon(eps) \n",
    "  STOP \n",
    "END PROGRAM encontra_epsilon"
   ]
  },
  {
   "cell_type": "markdown",
   "metadata": {},
   "source": [
    "Primeiro verifica-se o código compilando ele com as opções tradicionais:\n",
    "\n",
    "```\n",
    "> f95 -Wall -Waliasing -pedantic -Warray-bounds -Wsurprising -Wunderflow -fcheck=all -std=f2008 -o x prog.f95\n",
    "```\n",
    "\n",
    "Uma vez que o program tenha rodado normalmente, deve-se então iniciar uma análise dos resultados, precisão e desenpenho, do código considerando as seguintes opções de compilação individualmente:\n",
    "\n",
    "1. `-O1`\n",
    "2. `-O2`\n",
    "3. `-O3`\n",
    "4. `-Ofast`\n",
    "5. `-ffast-math`\n",
    "6. `-OS`\n",
    "7. `-Og`\n"
   ]
  },
  {
   "cell_type": "code",
   "execution_count": 3,
   "metadata": {
    "ExecuteTime": {
     "end_time": "2019-04-17T11:19:09.060834Z",
     "start_time": "2019-04-17T11:19:08.767848Z"
    }
   },
   "outputs": [
    {
     "name": "stdout",
     "output_type": "stream",
     "text": [
      "-rwxr-xr-x 1 salviano salviano 12992 abr 17 08:19 x\r\n"
     ]
    }
   ],
   "source": [
    "# Rodando o programa\n",
    "! f95 -Wall -Waliasing -pedantic -Warray-bounds -Wsurprising -Wunderflow -fcheck=all -std=f2008 -o x src/Epsilon.f95\n",
    "! ls -al x"
   ]
  },
  {
   "cell_type": "code",
   "execution_count": 5,
   "metadata": {
    "ExecuteTime": {
     "end_time": "2019-04-17T11:19:38.366874Z",
     "start_time": "2019-04-17T11:19:38.251960Z"
    }
   },
   "outputs": [
    {
     "name": "stdout",
     "output_type": "stream",
     "text": [
      " A maquina acha que,    5.96046448E-08  vale zero\r\n",
      " A funcao intrinseca epsilon(1.0) =    1.19209290E-07\r\n",
      "0.00user 0.00system 0:00.00elapsed 0%CPU (0avgtext+0avgdata 2820maxresident)k\r\n",
      "0inputs+0outputs (0major+100minor)pagefaults 0swaps\r\n"
     ]
    }
   ],
   "source": [
    "! time ./x"
   ]
  },
  {
   "cell_type": "code",
   "execution_count": 7,
   "metadata": {
    "ExecuteTime": {
     "end_time": "2019-04-17T11:27:55.543241Z",
     "start_time": "2019-04-17T11:27:55.252973Z"
    }
   },
   "outputs": [
    {
     "name": "stdout",
     "output_type": "stream",
     "text": [
      "-rwxr-xr-x 1 salviano salviano 8792 abr 17 08:27 x\r\n"
     ]
    }
   ],
   "source": [
    "# Rodando o programa\n",
    "! f95 -std=f2008 -o x src/Epsilon.f95\n",
    "! ls -al x"
   ]
  },
  {
   "cell_type": "code",
   "execution_count": 8,
   "metadata": {
    "ExecuteTime": {
     "end_time": "2019-04-17T11:28:19.617469Z",
     "start_time": "2019-04-17T11:28:19.505768Z"
    }
   },
   "outputs": [
    {
     "name": "stdout",
     "output_type": "stream",
     "text": [
      " A maquina acha que,    5.96046448E-08  vale zero\r\n",
      " A funcao intrinseca epsilon(1.0) =    1.19209290E-07\r\n",
      "0.00user 0.00system 0:00.00elapsed ?%CPU (0avgtext+0avgdata 2828maxresident)k\r\n",
      "0inputs+0outputs (0major+101minor)pagefaults 0swaps\r\n"
     ]
    }
   ],
   "source": [
    "# rodando\n",
    "! time ./x"
   ]
  },
  {
   "cell_type": "code",
   "execution_count": 9,
   "metadata": {
    "ExecuteTime": {
     "end_time": "2019-04-17T11:33:18.808838Z",
     "start_time": "2019-04-17T11:33:18.788937Z"
    }
   },
   "outputs": [
    {
     "name": "stdout",
     "output_type": "stream",
     "text": [
      "Overwriting src/Epsilon_Dupla.f95\n"
     ]
    }
   ],
   "source": [
    "%%writefile src/Epsilon_Dupla.f95\n",
    "PROGRAM encontra_epsilon \n",
    "  IMPLICIT NONE ! Encontrar a precisao da maquina \n",
    "  INTEGER,  PARAMETER :: dp = selected_real_kind(15,600)\n",
    "  REAL(dp) :: eps=1.0, eps1 \n",
    "  DO \n",
    "     eps = eps / 2.0_dp; eps1 = eps + 1.0_dp \n",
    "     IF ( eps1 > 1.0_dp ) THEN \n",
    "        CYCLE      ! Retorna para o inicio do DO\n",
    "     ELSE \n",
    "        EXIT       ! Saí do DO\n",
    "     END IF \n",
    "  END DO \n",
    "  PRINT *, 'A maquina acha que, ', eps, ' vale zero' \n",
    "  PRINT *, 'A funcao intrinseca epsilon(1.0) = ', epsilon(eps) \n",
    "  STOP \n",
    "END PROGRAM encontra_epsilon"
   ]
  },
  {
   "cell_type": "code",
   "execution_count": 10,
   "metadata": {
    "ExecuteTime": {
     "end_time": "2019-04-17T11:34:02.225121Z",
     "start_time": "2019-04-17T11:34:01.912671Z"
    }
   },
   "outputs": [
    {
     "name": "stdout",
     "output_type": "stream",
     "text": [
      "-rwxr-xr-x 1 salviano salviano 13016 abr 17 08:34 x\r\n"
     ]
    }
   ],
   "source": [
    "# Rodando o programa\n",
    "! f95 -Wall -Waliasing -pedantic -Warray-bounds -Wsurprising -Wunderflow -fcheck=all -std=f2008 -o x  src/Epsilon_Dupla.f95\n",
    "! ls -al x"
   ]
  },
  {
   "cell_type": "code",
   "execution_count": 11,
   "metadata": {
    "ExecuteTime": {
     "end_time": "2019-04-17T11:34:17.152997Z",
     "start_time": "2019-04-17T11:34:17.042419Z"
    }
   },
   "outputs": [
    {
     "name": "stdout",
     "output_type": "stream",
     "text": [
      " A maquina acha que,    5.42101086242752217004E-0020  vale zero\r\n",
      " A funcao intrinseca epsilon(1.0) =    1.08420217248550443401E-0019\r\n",
      "0.00user 0.00system 0:00.00elapsed ?%CPU (0avgtext+0avgdata 2828maxresident)k\r\n",
      "0inputs+0outputs (0major+101minor)pagefaults 0swaps\r\n"
     ]
    }
   ],
   "source": [
    "# Rodando o programa\n",
    "! time ./x"
   ]
  },
  {
   "cell_type": "code",
   "execution_count": 12,
   "metadata": {
    "ExecuteTime": {
     "end_time": "2019-04-17T11:35:44.687104Z",
     "start_time": "2019-04-17T11:35:44.408275Z"
    }
   },
   "outputs": [
    {
     "name": "stdout",
     "output_type": "stream",
     "text": [
      "-rwxr-xr-x 1 salviano salviano 8808 abr 17 08:35 x\r\n"
     ]
    }
   ],
   "source": [
    "! f95 -std=f2008 -o x  src/Epsilon_Dupla.f95\n",
    "! ls -al x"
   ]
  },
  {
   "cell_type": "code",
   "execution_count": 13,
   "metadata": {
    "ExecuteTime": {
     "end_time": "2019-04-17T11:36:13.264963Z",
     "start_time": "2019-04-17T11:36:13.152814Z"
    }
   },
   "outputs": [
    {
     "name": "stdout",
     "output_type": "stream",
     "text": [
      " A maquina acha que,    5.42101086242752217004E-0020  vale zero\r\n",
      " A funcao intrinseca epsilon(1.0) =    1.08420217248550443401E-0019\r\n",
      "0.00user 0.00system 0:00.00elapsed ?%CPU (0avgtext+0avgdata 2884maxresident)k\r\n",
      "0inputs+0outputs (0major+104minor)pagefaults 0swaps\r\n"
     ]
    }
   ],
   "source": [
    "# rodando\n",
    "! time ./x"
   ]
  },
  {
   "cell_type": "code",
   "execution_count": 18,
   "metadata": {
    "ExecuteTime": {
     "end_time": "2019-04-17T11:38:26.715494Z",
     "start_time": "2019-04-17T11:38:26.599865Z"
    }
   },
   "outputs": [
    {
     "name": "stdout",
     "output_type": "stream",
     "text": [
      " A maquina acha que,    5.42101086242752217004E-0020  vale zero\n",
      " A funcao intrinseca epsilon(1.0) =    1.08420217248550443401E-0019\n",
      "CPU times: user 1.82 ms, sys: 3.7 ms, total: 5.52 ms\n",
      "Wall time: 109 ms\n"
     ]
    }
   ],
   "source": [
    "%%time\n",
    "# comentário\n",
    "! ./x"
   ]
  },
  {
   "cell_type": "markdown",
   "metadata": {},
   "source": [
    "### Variáveis Inteiras no Fortran 95\n",
    "\n",
    "Os inteiros variam tipicamente nos seguintes intervalos de valores:\n",
    "\n",
    "| Tipo do inteiro |     Intervalo                       |\n",
    "|:--------------- |:------------------------------------|\n",
    "|**`INTEGER*1`**  | $-128$ a $127$                      |\n",
    "|**`INTEGER*2`**  | $-32.768$ a $32.767$                |\n",
    "|**`INTEGER*4`**  | $-2.147.483.648$ a $2.147.483.647$  |\n",
    "\n",
    "pode ser representado somente por: .\n",
    "\n",
    "Para obter um inteiro qualquer use a função , a qual retorna o valor de\n",
    "tipo do menor tipo de inteiro que pode representar todos os valores que\n",
    "variam de $-10^ R$ (exclusivo) a $10^R$ (exclusivo). Se não houver\n",
    "nenhum tipo inteiro que acomode esse intervalo, retorna -1."
   ]
  },
  {
   "cell_type": "markdown",
   "metadata": {},
   "source": [
    "### O limite dos inteiros\n",
    "\n",
    "```Fortran\n",
    "PROGRAM estouro_dos_inteiros\n",
    "  IMPLICIT NONE\n",
    "  INTEGER,  PARAMETER :: kint = selected_int_kind(4)\n",
    "  INTEGER(kint) :: i, k=32760\n",
    "  DO i = 1, 12\n",
    "     k = k + 1\n",
    "     PRINT *, \"i = \", i, \"  k = \", k\n",
    "  END DO\n",
    "  STOP\n",
    "END PROGRAM estouro_dos_inteiros\n",
    "```\n",
    "\n",
    "```bash\n",
    "> f95 -o x Ciclo-dos-inteiros.f95\n",
    "> ./x\n",
    " i =       1   k =   32761\n",
    " i =       2   k =   32762\n",
    " i =       3   k =   32763\n",
    " i =       4   k =   32764\n",
    " i =       5   k =   32765\n",
    " i =       6   k =   32766\n",
    " i =       7   k =   32767\n",
    " i =       8   k =  -32768\n",
    " i =       9   k =  -32767\n",
    " i =      10   k =  -32766\n",
    " i =      11   k =  -32765\n",
    " i =      12   k =  -32764\n",
    "```"
   ]
  },
  {
   "cell_type": "code",
   "execution_count": 28,
   "metadata": {
    "ExecuteTime": {
     "end_time": "2019-04-17T11:58:45.357778Z",
     "start_time": "2019-04-17T11:58:45.350586Z"
    }
   },
   "outputs": [
    {
     "name": "stdout",
     "output_type": "stream",
     "text": [
      "Overwriting src/Estouro_dos_inteiros.f95\n"
     ]
    }
   ],
   "source": [
    "%%writefile src/Estouro_dos_inteiros.f95\n",
    "PROGRAM estouro_dos_inteiros\n",
    "  IMPLICIT NONE\n",
    "  INTEGER,  PARAMETER :: kint = selected_int_kind(4)\n",
    "  INTEGER(kint) :: i, k=32760\n",
    "  INTEGER :: j = 32760\n",
    "  DO i = 1, 12\n",
    "     k = k + 1\n",
    "     PRINT *, \"i = \", i, \"  k = \", k\n",
    "     j = j + 1\n",
    "     PRINT *, \"i = \", i, \"  j = \", j\n",
    "  END DO\n",
    "  STOP\n",
    "END PROGRAM estouro_dos_inteiros"
   ]
  },
  {
   "cell_type": "code",
   "execution_count": 29,
   "metadata": {
    "ExecuteTime": {
     "end_time": "2019-04-17T11:58:49.244037Z",
     "start_time": "2019-04-17T11:58:49.072612Z"
    }
   },
   "outputs": [
    {
     "name": "stdout",
     "output_type": "stream",
     "text": [
      "\u001b[01m\u001b[Ksrc/Estouro_dos_inteiros.f95:7:9:\u001b[m\u001b[K\r\n",
      "\r\n",
      "      k = k + 1\r\n",
      "         \u001b[01;35m\u001b[K1\u001b[m\u001b[K\r\n",
      "\u001b[01;35m\u001b[KWarning:\u001b[m\u001b[K Possible change of value in conversion from INTEGER(4) to INTEGER(2) at (1) [\u001b[01;35m\u001b[K-Wconversion\u001b[m\u001b[K]\r\n"
     ]
    }
   ],
   "source": [
    "# Rodando o programa\n",
    "! f95 -Wall -std=f2008 -o x src/Estouro_dos_inteiros.f95"
   ]
  },
  {
   "cell_type": "code",
   "execution_count": 30,
   "metadata": {
    "ExecuteTime": {
     "end_time": "2019-04-17T11:58:52.459067Z",
     "start_time": "2019-04-17T11:58:52.344947Z"
    }
   },
   "outputs": [
    {
     "name": "stdout",
     "output_type": "stream",
     "text": [
      " i =       1   k =   32761\r\n",
      " i =       1   j =        32761\r\n",
      " i =       2   k =   32762\r\n",
      " i =       2   j =        32762\r\n",
      " i =       3   k =   32763\r\n",
      " i =       3   j =        32763\r\n",
      " i =       4   k =   32764\r\n",
      " i =       4   j =        32764\r\n",
      " i =       5   k =   32765\r\n",
      " i =       5   j =        32765\r\n",
      " i =       6   k =   32766\r\n",
      " i =       6   j =        32766\r\n",
      " i =       7   k =   32767\r\n",
      " i =       7   j =        32767\r\n",
      " i =       8   k =  -32768\r\n",
      " i =       8   j =        32768\r\n",
      " i =       9   k =  -32767\r\n",
      " i =       9   j =        32769\r\n",
      " i =      10   k =  -32766\r\n",
      " i =      10   j =        32770\r\n",
      " i =      11   k =  -32765\r\n",
      " i =      11   j =        32771\r\n",
      " i =      12   k =  -32764\r\n",
      " i =      12   j =        32772\r\n"
     ]
    }
   ],
   "source": [
    "! ./x"
   ]
  },
  {
   "cell_type": "markdown",
   "metadata": {},
   "source": [
    "### Inteiros Portáveis\n",
    "\n",
    "A precisão dos números inteiros no intervalo $-10^{4}$ até $+10^{4}$,\n",
    "pode ser obtida definindo a constante dois\\_bytes:\n",
    "\n",
    "```Fortran\n",
    "INTEGER, PARAMETER :: dois_bytes = SELECTED_INT_KIND(4)\n",
    "```\n",
    "que nos permite definir variáveis inteiras da forma:\n",
    "\n",
    "```Fortran\n",
    "INTEGER (dois_bytes) :: A, B\n",
    "A=-1234_dois_bytes ;  B=+1_dois_bytes\n",
    "```\n",
    "\n",
    "o parâmetro dois_bytes seleciona um intervalo dos inteiros. Também pode\n",
    "ser feito por uma constante literal inteira:\n",
    "```Fortran\n",
    "D=-1234_2 ! D e um integer*2\n",
    "```\n",
    "O uso de uma constante literal explícita não é portável."
   ]
  },
  {
   "cell_type": "markdown",
   "metadata": {},
   "source": [
    "### Exemplo de constante literal\n",
    "\n",
    "```Fortran \n",
    "PROGRAM ConstIntLit\n",
    "  IMPLICIT NONE\n",
    "\n",
    "  INTEGER(2) :: tiny\n",
    "  INTEGER(4) :: short\n",
    "  INTEGER(8) :: long\n",
    "  \n",
    "  \n",
    "  INTEGER*2 :: tiny\n",
    "  INTEGER*4 :: short\n",
    "  INTEGER*8 :: long  \n",
    "  \n",
    "  \n",
    "\n",
    "  tiny = 1\n",
    "  short = 1\n",
    "  long = 1\n",
    "\n",
    "  PRINT*, HUGE(tiny)\n",
    "  PRINT*, HUGE(1_2)\n",
    "\n",
    "  PRINT*, HUGE(short)\n",
    "  PRINT*, HUGE(1_4)\n",
    "\n",
    "  PRINT*, HUGE(long)\n",
    "  PRINT*, HUGE(1_8)\n",
    "\n",
    "  STOP\n",
    "END PROGRAM ConstIntLit\n",
    "\n",
    "```\n",
    "\n",
    "```bash\n",
    "> f95 -o x ConstLitInt.f95\n",
    "> ./x\n",
    "  32767\n",
    "  32767\n",
    "  2147483647\n",
    "  2147483647\n",
    "  9223372036854775807\n",
    "  9223372036854775807\n",
    "```"
   ]
  },
  {
   "cell_type": "code",
   "execution_count": 31,
   "metadata": {
    "ExecuteTime": {
     "end_time": "2019-04-17T12:03:37.733482Z",
     "start_time": "2019-04-17T12:03:37.713578Z"
    }
   },
   "outputs": [
    {
     "name": "stdout",
     "output_type": "stream",
     "text": [
      "Overwriting src/ConstLiteral.f95\n"
     ]
    }
   ],
   "source": [
    "%%writefile src/ConstLiteral.f95\n",
    "PROGRAM ConstIntLit\n",
    "  IMPLICIT NONE\n",
    "\n",
    "  INTEGER(2) :: tiny\n",
    "  INTEGER(4) :: short\n",
    "  INTEGER(8) :: long\n",
    "\n",
    "  tiny = 1\n",
    "  short = 1\n",
    "  long = 1\n",
    "\n",
    "  PRINT*, HUGE(tiny)\n",
    "  PRINT*, HUGE(1_2)\n",
    "\n",
    "  PRINT*, HUGE(short)\n",
    "  PRINT*, HUGE(1_4)\n",
    "\n",
    "  PRINT*, HUGE(long)\n",
    "  PRINT*, HUGE(1_8)\n",
    "\n",
    "  STOP\n",
    "END PROGRAM ConstIntLit"
   ]
  },
  {
   "cell_type": "code",
   "execution_count": 32,
   "metadata": {
    "ExecuteTime": {
     "end_time": "2019-04-17T12:03:38.612356Z",
     "start_time": "2019-04-17T12:03:38.444124Z"
    }
   },
   "outputs": [],
   "source": [
    "# Compilando o programa\n",
    "! f95 -Wall -std=f2008 -o x src/ConstLiteral.f95"
   ]
  },
  {
   "cell_type": "code",
   "execution_count": 33,
   "metadata": {
    "ExecuteTime": {
     "end_time": "2019-04-17T12:03:39.326636Z",
     "start_time": "2019-04-17T12:03:39.214498Z"
    }
   },
   "outputs": [
    {
     "name": "stdout",
     "output_type": "stream",
     "text": [
      "  32767\r\n",
      "  32767\r\n",
      "  2147483647\r\n",
      "  2147483647\r\n",
      "  9223372036854775807\r\n",
      "  9223372036854775807\r\n"
     ]
    }
   ],
   "source": [
    "# Rodando o programa\n",
    "! ./x"
   ]
  },
  {
   "cell_type": "markdown",
   "metadata": {},
   "source": [
    "A função fornece o valor que categoriza um determinado tipo:\n",
    "```Fortran\n",
    "tipo1=KIND(1);     tipo2 = KIND(1_dois_bytes)\n",
    "```\n",
    "e a função fornece o intervalo decimal daquele tipo de variável:\n",
    "```Fortran\n",
    "RANGE(1_dois_bytes)\n",
    "```"
   ]
  },
  {
   "cell_type": "markdown",
   "metadata": {},
   "source": [
    "### Intervalo dos reais\n",
    "\n",
    "| Tipo          | Bytes | Bits | Variação                                               |\n",
    "| --------------| ------| -----| -------------------------------------------------------|\n",
    "|**`REAL(4)`**  | 4     | 32   | $1.17549435\\times10^{-38}$ a $3.40282347\\times10^{38}$ | \n",
    "|**`REAL(8)`**  | 8     | 64   | $D_{min}$ a $D_{max}$                                  |\n",
    "|**`REAL(16)`** | 16    | 128  | $Q_{min}$ a $Q_{max}$                                  |\n",
    "|    ...        |  ...  |  ... | ....................................................   |\n",
    "\n",
    "com $$D_{min} = 2.2250738585072013\\times10^{-308}$$\n",
    "$$D_{max} = 1.7976931348623158\\times10^{308}$$\n",
    "$$Q_{min} = 6.4751751194380251109244389582276465524996\\times10^{-4966}$$\n",
    "\n",
    "$$Q_{max} = 1.189731495357231765085759326628007016196477\\times10^{4932}$$\n",
    "\n",
    "### Variáveis Reais no Fortran 90\n",
    "\n",
    "Os reais variam tipicamente nos seguintes intervalos de valores:\n",
    "\n",
    "| PRECISAO | KIND | DIGITOS | Variação Expoente            |\n",
    "|:---------|:-----|:--------|:-----------------------------|\n",
    "| SIMPLES  | $4$  |  $6$    | $10^{-38}$ a $10^{+38}$      |\n",
    "| DUPLA    | $8$  |  $15$   | $10^{-308}$ a $10^{+308}$    |\n",
    "| QUADUPLA | $16$ |  $33$   | $10^{-4932}$ a $10^{+4932}$  |\n",
    "\n",
    "Um real de precisão dupla também pode ser declarado como:\n",
    "\n",
    "```Fortran\n",
    "DOUBLE PRECISION ::\n",
    "```\n",
    "\n",
    "\n",
    "### Maiores e Menores Reais\n",
    "\n",
    "\n",
    "| PRECISÃO |  Menor Número $>0$                                    |\n",
    "| :--------| :-----------------------------------------------------|\n",
    "| SIMPLES  | $1.1754944\\times10^{-38}$                             |\n",
    "| DUPLA    | $2.225073858507201\\times10^{-308}$                    |\n",
    "| QUADUPLA | $3.362103143112093506262677817321753\\times10^{-4932}$ | \n",
    "| ........ | xxxxxxxxxxxxxxxxxxxxxxxxxxxxxxxxxxxxxxxxxxxxxxxxxxxx  |\n",
    "\n",
    "\n",
    "| PRECISÃO | Maior Número                                         |\n",
    "| :--------| :----------------------------------------------------|\n",
    "| SIMPLES  | $3.4028235\\times10^{38}$                             |\n",
    "| DUPLA    | $1.797693134862316\\times10^{308}$                    |\n",
    "| QUADUPLA | $1.189731495357231765085759326628007\\times10^{4932}$ |\n",
    "| ........ | xxxxxxxxxxxxxxxxxxxxxxxxxxxxxxxxxxxxxxxxxxxxxxxxxxxx  |"
   ]
  },
  {
   "cell_type": "markdown",
   "metadata": {},
   "source": [
    "# Erros devido aritmética computacional\n",
    "\n",
    "## Erros \"Round Off\"  e Aritmética de Computadores\n",
    "\n",
    "Precisão não é o mesmo que exatidão. Nesta era de cronometragem digital, é fácil fornecer uma resposta extremamente precisa à questão. Que horas são? Esta resposta não precisa ser exata, mesmo que seja reportada a décimos (ou até centésimos!). De um segundo. Não se iluda acreditando que uma resposta relacionada a dez casas decimais deve ser precisa até dez casas decimais. O computador só pode reter uma precisão limitada. Quando os cálculos são realizados, essa limitação tenderá a gerar imprecisões no resultado. A estimativa de tais imprecisões é o domínio do ramo da matemática conhecido como \"Análise Numérica\".\n",
    "\n",
    "Para dar uma ideia dos problemas, considere um computador decimal imaginário que retenha dois dígitos significativos em seus cálculos. Por exemplo, 1.2, 12.0, 120.0 e 0.12 são todos dados com precisão de dois dígitos. Observe, portanto, que 1234.5 seria representado como 1200.0 neste dispositivo. Quando qualquer operação aritmética é executada, o resultado (incluindo quaisquer cálculos intermediários) terá dois dígitos significativos. Portanto:\n",
    "\n",
    "\n",
    "\n",
    "```fortran\n",
    "130 + 12 = 140  ! (arredondado para baixo de 142)\n",
    "```\n",
    "\n",
    "e similarmente:\n",
    "\n",
    "```fortran\n",
    "17 / 3 = 5.7    ! (arredondado para cima de 5.666666...)\n",
    "```\n",
    "\n",
    "e:\n",
    "\n",
    "```fortran\n",
    "16 * 16 = 260\n",
    "```\n",
    "\n",
    "onde há cálculos mais envolvidos, os resultados podem se tornar ainda menos atraentes. Considere que desejamos avaliar\n",
    "\n",
    "\n",
    "```fortran\n",
    "(16 * 16) / 0.14\n",
    "```\n",
    "\n",
    "Deseja-se uma resposta na região de 1828.5718, ou, para dois dígitos significativos, 1800.0. Se avaliarmos primeiro, os termos entre parênteses, a resposta é 260/0.14 ou 1857.1428; 1900.0 na máquina de dois dígitos.\n",
    "\n",
    "Pensando que poderíamos fazer melhor, poderíamos reescrever a fração como\n",
    "\n",
    "\n",
    "```fortran\n",
    "(16 / 0.14) * 16\n",
    "```\n",
    "\n",
    "Que dá um resultado de 1800.0.\n",
    "\n",
    "A álgebra mostra que todas essas avaliações são equivalentes se uma precisão ilimitada estiver disponível.\n",
    "\n",
    "Um erro de arredondamento *round-off error*, também chamado de erro de *rounding error*, é a diferença entre a aproximação usada para calcular um número e seu valor matemático exato. \n",
    "\n",
    "\n",
    "## Erros relativos e absolutos\n",
    "\n",
    "Quando estamos calculando aproximações numéricas para a solução de um problema, muitas vezes precisamos medir a precisão da nossa solução estimada. Se estivermos usando um método iterativo, podemos observar a diferença entre cálculos sucessivos ou nosso algoritmo pode ter uma expressão para estimar erros.\n",
    "\n",
    "De qualquer forma, existem dois tipos de erros, absolutos e relativos.\n",
    "\n",
    "Observar os erros relativos é uma maneira melhor de medir a precisão do que os erros absolutos, porque um erro absoluto depende do tamanho aproximado do número.\n",
    "\n",
    "Se $p'$ é uma aproximação de $p$, então o erro relativo é $|p - p'|/|p|$ e o absoluto\n",
    "erro é $|p - p'|$.\n",
    "\n",
    "Aqui está um exemplo para ilustrar o acima.\n",
    "\n",
    "\n",
    "## Exemplo: Erro relativo e absoluto\n",
    "\n",
    "\n",
    "```fortran\n",
    "PROGRAM error\n",
    "  IMPLICIT NONE\n",
    "  REAL :: p = 0.4e-4, papprox = 0.41e-4\n",
    "  REAL :: abs_error, rel_error\n",
    "  INTEGER :: i\n",
    "  CHARACTER(LEN=60) :: fmt1, fmt2\n",
    "  fmt1 = \"('p= ', e11.4,/'papprox = ', e11.4)\"\n",
    "  fmt2 = \"('abs error:', 12x, e11.4,/'rel error:', 12x, e11.4/)\"\n",
    "  DO i = 1, 3\n",
    "     abs_error = ABS(p-papprox)\n",
    "     rel_error = ABS(p-papprox)/ABS(p)\n",
    "     PRINT fmt1, p, papprox\n",
    "     PRINT fmt2, abs_error, rel_error\n",
    "     p = p*1.0e5\n",
    "     papprox = papprox*1.0e5\n",
    "  END DO\n",
    "END PROGRAM error\n",
    "```\n",
    "\n",
    "Este programa introduz a função intrínseca `abs`."
   ]
  },
  {
   "cell_type": "code",
   "execution_count": 34,
   "metadata": {
    "ExecuteTime": {
     "end_time": "2019-04-17T12:14:45.469771Z",
     "start_time": "2019-04-17T12:14:45.442454Z"
    }
   },
   "outputs": [
    {
     "name": "stdout",
     "output_type": "stream",
     "text": [
      "Overwriting src/erros_teste.f95\n"
     ]
    }
   ],
   "source": [
    "%%writefile src/erros_teste.f95\n",
    "PROGRAM error\n",
    "  IMPLICIT NONE\n",
    "  REAL :: p = 0.4e-4, papprox = 0.41e-4\n",
    "  REAL :: abs_error, rel_error\n",
    "  INTEGER :: i\n",
    "  CHARACTER(LEN=60) :: fmt1, fmt2\n",
    "  fmt1 = \"('p= ', e11.4,/'papprox = ', e11.4)\"\n",
    "  fmt2 = \"('abs error:', 12x, e11.4,/'rel error:', 12x, e11.4/)\"\n",
    "  DO i = 1, 3\n",
    "     abs_error = ABS(p-papprox)\n",
    "     rel_error = ABS(p-papprox)/ABS(p)\n",
    "     PRINT fmt1, p, papprox\n",
    "     PRINT fmt2, abs_error, rel_error\n",
    "     p = p*1.0e5\n",
    "     papprox = papprox*1.0e5\n",
    "  END DO\n",
    "END PROGRAM error"
   ]
  },
  {
   "cell_type": "code",
   "execution_count": 35,
   "metadata": {
    "ExecuteTime": {
     "end_time": "2019-04-17T12:15:02.607193Z",
     "start_time": "2019-04-17T12:15:02.403487Z"
    }
   },
   "outputs": [],
   "source": [
    "# Compilando o programa\n",
    "! f95 -Wall -std=f2008 -o x src/erros_teste.f95"
   ]
  },
  {
   "cell_type": "code",
   "execution_count": 36,
   "metadata": {
    "ExecuteTime": {
     "end_time": "2019-04-17T12:15:04.312614Z",
     "start_time": "2019-04-17T12:15:04.198722Z"
    }
   },
   "outputs": [
    {
     "name": "stdout",
     "output_type": "stream",
     "text": [
      "p=  0.4000E-04\r\n",
      "papprox =  0.4100E-04\r\n",
      "abs error:             0.1000E-05\r\n",
      "rel error:             0.2500E-01\r\n",
      "\r\n",
      "p=  0.4000E+01\r\n",
      "papprox =  0.4100E+01\r\n",
      "abs error:             0.1000E+00\r\n",
      "rel error:             0.2500E-01\r\n",
      "\r\n",
      "p=  0.4000E+06\r\n",
      "papprox =  0.4100E+06\r\n",
      "abs error:             0.1000E+05\r\n",
      "rel error:             0.2500E-01\r\n",
      "\r\n"
     ]
    }
   ],
   "source": [
    "#Rodando\n",
    "! ./x"
   ]
  },
  {
   "cell_type": "markdown",
   "metadata": {},
   "source": [
    "Aqui está a saída do compilador gfortran.\n",
    "\n",
    "\n",
    "```bash\n",
    "p=  0.4000E-04\n",
    "papprox =  0.4100E-04\n",
    "abs error:             0.1000E-05\n",
    "rel error:             0.2500E-01\n",
    "\n",
    "p=  0.4000E+01\n",
    "papprox =  0.4100E+01\n",
    "abs error:             0.1000E+00\n",
    "rel error:             0.2500E-01\n",
    "\n",
    "p=  0.4000E+06\n",
    "papprox =  0.4100E+06\n",
    "abs error:             0.1000E+05\n",
    "rel error:             0.2500E-01\n",
    "```\n",
    "\n",
    "Este exemplo mostra que o mesmo erro relativo de $0.25 * 10^{-1}$ ocorre por erros absolutos amplamente variáveis, portanto, o erro absoluto pode ser enganoso.\n",
    "\n",
    "O erro relativo é mais significativo porque leva em consideração o tamanho do número."
   ]
  },
  {
   "cell_type": "markdown",
   "metadata": {},
   "source": [
    "## Erros em somatórias e precisão finita\n",
    "\n",
    "O próximo exemplo examina alguns dos problemas que ocorrem com a soma dos números de ponto flutuante.\n",
    "\n",
    "### Exemplo: Problema de arredondamento\n",
    "\n",
    "Considere o seguinte programa\n",
    "\n",
    "\n",
    "```fortran\n",
    "PROGRAM soma\n",
    "  IMPLICIT NONE\n",
    "  REAL :: x1 = 1.0\n",
    "  REAL :: x2 = 0.1\n",
    "  INTEGER i\n",
    "  PRINT *, ' x1 = ', x1\n",
    "  PRINT *, ' x2 = ', x2\n",
    "  DO i = 1, 990\n",
    "     x1 = x1 + x2\n",
    "  END DO\n",
    "  PRINT *, ' x1 = ', x1\n",
    "END PROGRAM soma\n",
    "```\n",
    "\n",
    "Cuja saída no compilador gfortran é:\n",
    "\n",
    "```bash\n",
    "  x1 =    1.00000000    \n",
    "  x2 =   0.100000001    \n",
    "  x1 =    99.9990463\n",
    "```\n",
    "\n",
    "\n",
    "A somtória é inexata, devido aos erros de arredondamento."
   ]
  },
  {
   "cell_type": "code",
   "execution_count": 37,
   "metadata": {
    "ExecuteTime": {
     "end_time": "2019-04-17T12:24:02.413905Z",
     "start_time": "2019-04-17T12:24:02.388550Z"
    }
   },
   "outputs": [
    {
     "name": "stdout",
     "output_type": "stream",
     "text": [
      "Overwriting src/somatoria_01.f95\n"
     ]
    }
   ],
   "source": [
    "%%writefile src/somatoria_01.f95\n",
    "PROGRAM soma\n",
    "  IMPLICIT NONE\n",
    "  REAL :: x1 = 1.0\n",
    "  REAL :: x2 = 0.1\n",
    "  INTEGER i\n",
    "  PRINT *, ' x1 = ', x1\n",
    "  PRINT *, ' x2 = ', x2\n",
    "  DO i = 1, 990\n",
    "     x1 = x1 + x2\n",
    "  END DO\n",
    "  PRINT *, ' x1 = ', x1\n",
    "END PROGRAM soma"
   ]
  },
  {
   "cell_type": "code",
   "execution_count": 38,
   "metadata": {
    "ExecuteTime": {
     "end_time": "2019-04-17T12:24:03.470567Z",
     "start_time": "2019-04-17T12:24:03.294052Z"
    }
   },
   "outputs": [],
   "source": [
    "# Compilando o programa\n",
    "! f95 -Wall -std=f2008 -o x src/somatoria_01.f95"
   ]
  },
  {
   "cell_type": "code",
   "execution_count": 39,
   "metadata": {
    "ExecuteTime": {
     "end_time": "2019-04-17T12:24:05.715193Z",
     "start_time": "2019-04-17T12:24:05.602385Z"
    }
   },
   "outputs": [
    {
     "name": "stdout",
     "output_type": "stream",
     "text": [
      "  x1 =    1.00000000    \r\n",
      "  x2 =   0.100000001    \r\n",
      "  x1 =    99.9990463    \r\n"
     ]
    }
   ],
   "source": [
    "# Rodando o programa\n",
    "! ./x"
   ]
  },
  {
   "cell_type": "code",
   "execution_count": 40,
   "metadata": {
    "ExecuteTime": {
     "end_time": "2019-04-17T12:24:32.354431Z",
     "start_time": "2019-04-17T12:24:32.077978Z"
    }
   },
   "outputs": [],
   "source": [
    "# Compilando o programa\n",
    "! f95 -Ofast -std=f2008 -o x src/somatoria_01.f95"
   ]
  },
  {
   "cell_type": "code",
   "execution_count": 41,
   "metadata": {
    "ExecuteTime": {
     "end_time": "2019-04-17T12:24:34.553160Z",
     "start_time": "2019-04-17T12:24:34.442901Z"
    }
   },
   "outputs": [
    {
     "name": "stdout",
     "output_type": "stream",
     "text": [
      "  x1 =    1.00000000    \r\n",
      "  x2 =   0.100000001    \r\n",
      "  x1 =    100.000000    \r\n"
     ]
    }
   ],
   "source": [
    "# Rodando o programa\n",
    "! ./x"
   ]
  },
  {
   "cell_type": "code",
   "execution_count": 42,
   "metadata": {
    "ExecuteTime": {
     "end_time": "2019-04-17T12:24:56.753346Z",
     "start_time": "2019-04-17T12:24:56.566745Z"
    }
   },
   "outputs": [],
   "source": [
    "# Compilando o programa\n",
    "! f95 -O1 -std=f2008 -o x src/somatoria_01.f95"
   ]
  },
  {
   "cell_type": "code",
   "execution_count": 49,
   "metadata": {
    "ExecuteTime": {
     "end_time": "2019-04-17T12:26:10.665596Z",
     "start_time": "2019-04-17T12:26:10.554174Z"
    }
   },
   "outputs": [
    {
     "name": "stdout",
     "output_type": "stream",
     "text": [
      "  x1 =    1.00000000    \r\n",
      "  x2 =   0.100000001    \r\n",
      "  x1 =    99.9990463    \r\n"
     ]
    }
   ],
   "source": [
    "# Rodando o programa\n",
    "! ./x"
   ]
  },
  {
   "cell_type": "code",
   "execution_count": 55,
   "metadata": {
    "ExecuteTime": {
     "end_time": "2019-04-17T12:32:47.908268Z",
     "start_time": "2019-04-17T12:32:47.796569Z"
    }
   },
   "outputs": [
    {
     "name": "stdout",
     "output_type": "stream",
     "text": [
      "\u001b[01m\u001b[Kgfortran:\u001b[m\u001b[K \u001b[01;31m\u001b[Kfatal error: \u001b[m\u001b[Kno input files\r\n",
      "compilation terminated.\r\n"
     ]
    }
   ],
   "source": [
    "! gfortran "
   ]
  },
  {
   "cell_type": "code",
   "execution_count": 45,
   "metadata": {
    "ExecuteTime": {
     "end_time": "2019-04-17T12:25:07.099919Z",
     "start_time": "2019-04-17T12:25:06.927012Z"
    }
   },
   "outputs": [],
   "source": [
    "# Compilando o programa\n",
    "! f95 -ffast-math -std=f2008 -o x src/somatoria_01.f95"
   ]
  },
  {
   "cell_type": "code",
   "execution_count": 46,
   "metadata": {
    "ExecuteTime": {
     "end_time": "2019-04-17T12:25:07.941246Z",
     "start_time": "2019-04-17T12:25:07.830411Z"
    }
   },
   "outputs": [
    {
     "name": "stdout",
     "output_type": "stream",
     "text": [
      "  x1 =    1.00000000    \r\n",
      "  x2 =   0.100000001    \r\n",
      "  x1 =    99.9990463    \r\n"
     ]
    }
   ],
   "source": [
    "# Rodando o programa\n",
    "! ./x"
   ]
  },
  {
   "cell_type": "code",
   "execution_count": 47,
   "metadata": {
    "ExecuteTime": {
     "end_time": "2019-04-17T12:25:11.959131Z",
     "start_time": "2019-04-17T12:25:11.783593Z"
    }
   },
   "outputs": [],
   "source": [
    "# Compilando o programa\n",
    "! f95 -frounding-math -std=f2008 -o x src/somatoria_01.f95"
   ]
  },
  {
   "cell_type": "code",
   "execution_count": 48,
   "metadata": {
    "ExecuteTime": {
     "end_time": "2019-04-17T12:25:12.723603Z",
     "start_time": "2019-04-17T12:25:12.613189Z"
    }
   },
   "outputs": [
    {
     "name": "stdout",
     "output_type": "stream",
     "text": [
      "  x1 =    1.00000000    \r\n",
      "  x2 =   0.100000001    \r\n",
      "  x1 =    99.9990463    \r\n"
     ]
    }
   ],
   "source": [
    "# Rodando o programa\n",
    "! ./x"
   ]
  },
  {
   "cell_type": "markdown",
   "metadata": {},
   "source": [
    "# Overflow e Underflow\n",
    "\n",
    "\n",
    "A condição de *overflow* ocorre quando o valor atribuído a uma variável é maior que o maior valor que o tipo desta variável consegue representar. Por exemplo, se houvesse um tipo decimal, que somente consegue representar os valores de 0 a 9, no caso de tentarmos atribuir o resultado da operação 5+5 a uma variável deste tipo, o resultado seria um *overflow*. Um *underflow* acontece nos casos em que o valor que se tenta atribuir é menor que o menor valor que o tipo é capaz de representar.\n",
    "m\n",
    "Sempre que estivermos trabalhando com números que estejam próximos do limite da máquina devemos levar em conta o surgimento dos erros devido ao *Overflow* e *Underflow*. Por isso é sempre uma boa prática de programação adimensionalzar o programa de forma adequada de modo que ele sempre trabalhe dentro do limite númérico da máquina. \n",
    "\n",
    "Para compreendermos o que significa *overflow*, considere o seguinte exemplo:\n",
    "\n",
    "```fortran\n",
    "x = b * c / d\n",
    "```\n",
    "\n",
    "no qual `b`, `c` e `d` são todas variáveis da ordem de O($10^{30}$) e estamos usando números de ponto flutuante de 32-bit para os quais o real máximo é da ordem de O($10^{38}$). Aqui o produto `b * c` gera um número da ordem de O($10^{60}$), o que está além dos limites da máquina. Isso é chamado de *overflow* estouro porque o número é muito grande e a máquina não consegue  armazenar ele. Note que podemos evitar esse problema rescrevendo o código da seguinte forma\n",
    "\n",
    "\n",
    "```fortran\n",
    "x = b * (c / d)\n",
    "```\n",
    "\n",
    "no qual a expressão entre parenteses `c/d` seria da ordem de O($10^{30}$)/O($10^{30}$), o que está dentro dos limites da máquina.\n",
    "\n",
    "## Exemplo: Overflow\n",
    "\n",
    "Aqui está um exemplo de programa que ilustra o problema do *overflow* mencionado acima.\n",
    "\n",
    "```fortran\n",
    "PROGRAM overflow\n",
    "  IMPLICIT NONE\n",
    "  REAL :: x = 0.0\n",
    "  REAL :: b = 1.0e30\n",
    "  REAL :: c = 1.0e30\n",
    "  REAL :: d = 1.0e30\n",
    "  x = b*c/d\n",
    "  PRINT *, x\n",
    "  x = b*(c/d)\n",
    "  PRINT *, x\n",
    "END PROGRAM overflow\n",
    "```"
   ]
  },
  {
   "cell_type": "code",
   "execution_count": 62,
   "metadata": {
    "ExecuteTime": {
     "end_time": "2019-04-17T12:35:42.165371Z",
     "start_time": "2019-04-17T12:35:42.155348Z"
    }
   },
   "outputs": [
    {
     "name": "stdout",
     "output_type": "stream",
     "text": [
      "Overwriting src/overflow_01.f95\n"
     ]
    }
   ],
   "source": [
    "%%writefile src/overflow_01.f95\n",
    "PROGRAM overflow_certo\n",
    "  IMPLICIT NONE\n",
    "  REAL :: x = 0.0\n",
    "  REAL :: b = 1.0e30\n",
    "  REAL :: c = 1.0e30\n",
    "  REAL :: d = 1.0e30\n",
    "  x = b*c/d\n",
    "  PRINT *, x\n",
    "  x = b*(c/d)\n",
    "  PRINT *, x\n",
    "END PROGRAM overflow_certo"
   ]
  },
  {
   "cell_type": "code",
   "execution_count": 63,
   "metadata": {
    "ExecuteTime": {
     "end_time": "2019-04-17T12:35:43.047220Z",
     "start_time": "2019-04-17T12:35:42.883122Z"
    }
   },
   "outputs": [],
   "source": [
    "# Compilando o programa\n",
    "! f95 -Wall -std=f2008 -o x src/overflow_01.f95"
   ]
  },
  {
   "cell_type": "code",
   "execution_count": 64,
   "metadata": {
    "ExecuteTime": {
     "end_time": "2019-04-17T12:35:43.677435Z",
     "start_time": "2019-04-17T12:35:43.566338Z"
    }
   },
   "outputs": [
    {
     "name": "stdout",
     "output_type": "stream",
     "text": [
      "         Infinity\r\n",
      "   1.00000002E+30\r\n"
     ]
    }
   ],
   "source": [
    "#Rodando o programa\n",
    "! ./x"
   ]
  },
  {
   "cell_type": "markdown",
   "metadata": {},
   "source": [
    "Aqui está a saída do compilador gfortran\n",
    "\n",
    "```bash\n",
    "         Infinity\n",
    "   1.00000002E+30\n",
    "```\n",
    "\n",
    "Alguns compiladores irão se comportar de forma diferente diante do problema. Alguns poderão até te alertar para o problema, já durante a compilação. "
   ]
  },
  {
   "cell_type": "code",
   "execution_count": 65,
   "metadata": {
    "ExecuteTime": {
     "end_time": "2019-04-17T12:36:21.676784Z",
     "start_time": "2019-04-17T12:36:21.668476Z"
    }
   },
   "outputs": [
    {
     "name": "stdout",
     "output_type": "stream",
     "text": [
      "Overwriting src/overflow_02.f95\n"
     ]
    }
   ],
   "source": [
    "%%writefile src/overflow_02.f95\n",
    "PROGRAM overflow_errado\n",
    "  IMPLICIT NONE\n",
    "  REAL :: x = 0.0\n",
    "  REAL :: b = 1.0e30\n",
    "  REAL :: c = 1.0e30\n",
    "  REAL :: d = 1.0e30\n",
    "  x = b*c/d\n",
    "  PRINT *, x\n",
    "  x = b*c/d\n",
    "  PRINT *, x\n",
    "END PROGRAM overflow_errado"
   ]
  },
  {
   "cell_type": "code",
   "execution_count": 66,
   "metadata": {
    "ExecuteTime": {
     "end_time": "2019-04-17T12:36:26.027257Z",
     "start_time": "2019-04-17T12:36:25.852554Z"
    }
   },
   "outputs": [],
   "source": [
    "# Compilando o programa\n",
    "! f95 -Wall -std=f2008 -o x src/overflow_02.f95"
   ]
  },
  {
   "cell_type": "code",
   "execution_count": 67,
   "metadata": {
    "ExecuteTime": {
     "end_time": "2019-04-17T12:36:26.641062Z",
     "start_time": "2019-04-17T12:36:26.530620Z"
    }
   },
   "outputs": [
    {
     "name": "stdout",
     "output_type": "stream",
     "text": [
      "         Infinity\r\n",
      "         Infinity\r\n"
     ]
    }
   ],
   "source": [
    "#Rodando o programa\n",
    "! ./x"
   ]
  },
  {
   "cell_type": "markdown",
   "metadata": {},
   "source": [
    "## Exemplo 7: Underflow\n",
    "\n",
    "Existe um inverso chamado *underflow* quando o número é muito pequeno, o que é ilustrado abaixo:\n",
    "\n",
    "```fortran\n",
    "z = b * c * d\n",
    "```\n",
    " \n",
    "na qual `b` e` c` são da ordem de O($10^{-30}$)/O($10^{30}$). O resultado intermediário de `b * c` é da ordem de O($10^{-60}$) - novamente as operações intermediárias ficam além dos limites da máquina. Esse problema poderia ter sido evitado ao escrevendo o código como\n",
    "\n",
    "\n",
    "\n",
    "```fortran\n",
    "z = b * (c * d)\n",
    "```\n",
    "\n",
    "Here is a simple program that illustrates underflow.\n",
    "\n",
    "```fortran\n",
    "PROGRAM underflow\n",
    "  IMPLICIT NONE\n",
    "  REAL :: x = 0.0\n",
    "  REAL :: b = 1.0e-30\n",
    "  REAL :: c = 1.0e-30\n",
    "  REAL :: d = 1.0e30\n",
    "  x = b*c*d\n",
    "  PRINT *, x\n",
    "  x = b*(c*d)\n",
    "  PRINT *, x\n",
    "END PROGRAM underflow\n",
    "```"
   ]
  },
  {
   "cell_type": "code",
   "execution_count": 68,
   "metadata": {
    "ExecuteTime": {
     "end_time": "2019-04-17T12:36:50.934228Z",
     "start_time": "2019-04-17T12:36:50.908705Z"
    }
   },
   "outputs": [
    {
     "name": "stdout",
     "output_type": "stream",
     "text": [
      "Overwriting src/underflow_01.f95\n"
     ]
    }
   ],
   "source": [
    "%%writefile src/underflow_01.f95\n",
    "PROGRAM underflow_certo\n",
    "  IMPLICIT NONE\n",
    "  REAL :: x = 0.0\n",
    "  REAL :: b = 1.0e-30\n",
    "  REAL :: c = 1.0e-30\n",
    "  REAL :: d = 1.0e30\n",
    "  x = b*c*d\n",
    "  PRINT *, x\n",
    "  x = b*(c*d)\n",
    "  PRINT *, x\n",
    "END PROGRAM underflow_certo"
   ]
  },
  {
   "cell_type": "code",
   "execution_count": 69,
   "metadata": {
    "ExecuteTime": {
     "end_time": "2019-04-17T12:36:55.214524Z",
     "start_time": "2019-04-17T12:36:55.037979Z"
    }
   },
   "outputs": [],
   "source": [
    "# Compilando o programa\n",
    "! f95 -Wall -std=f2008 -o x src/underflow_01.f95"
   ]
  },
  {
   "cell_type": "code",
   "execution_count": 70,
   "metadata": {
    "ExecuteTime": {
     "end_time": "2019-04-17T12:36:56.177709Z",
     "start_time": "2019-04-17T12:36:56.063991Z"
    }
   },
   "outputs": [
    {
     "name": "stdout",
     "output_type": "stream",
     "text": [
      "   0.00000000    \r\n",
      "   1.00000000E-30\r\n"
     ]
    }
   ],
   "source": [
    "# Rodando o programa\n",
    "! ./x"
   ]
  },
  {
   "cell_type": "markdown",
   "metadata": {},
   "source": [
    "Aqui está a saída do compilador gfortran:\n",
    "\n",
    "```bash\n",
    "   0.00000000    \n",
    "   1.00000000E-30\n",
    "```\n",
    "\n",
    "Note que se não tomarmos cuidado o resultado não é correto. Veja o que ocorre"
   ]
  },
  {
   "cell_type": "code",
   "execution_count": 71,
   "metadata": {
    "ExecuteTime": {
     "end_time": "2019-04-17T12:37:00.785732Z",
     "start_time": "2019-04-17T12:37:00.780197Z"
    }
   },
   "outputs": [
    {
     "name": "stdout",
     "output_type": "stream",
     "text": [
      "Overwriting src/underflow_02.f95\n"
     ]
    }
   ],
   "source": [
    "%%writefile src/underflow_02.f95\n",
    "PROGRAM underflow_errado\n",
    "  IMPLICIT NONE\n",
    "  REAL :: x = 0.0\n",
    "  REAL :: b = 1.0e-30\n",
    "  REAL :: c = 1.0e-30\n",
    "  REAL :: d = 1.0e30\n",
    "  x = b*c*d\n",
    "  PRINT *, x\n",
    "  x = b*c*d\n",
    "  PRINT *, x\n",
    "END PROGRAM underflow_errado"
   ]
  },
  {
   "cell_type": "code",
   "execution_count": 72,
   "metadata": {
    "ExecuteTime": {
     "end_time": "2019-04-17T12:37:01.688159Z",
     "start_time": "2019-04-17T12:37:01.515126Z"
    }
   },
   "outputs": [],
   "source": [
    "# Compilando o programa\n",
    "! f95 -Wall -std=f2008 -o x src/underflow_02.f95"
   ]
  },
  {
   "cell_type": "code",
   "execution_count": 73,
   "metadata": {
    "ExecuteTime": {
     "end_time": "2019-04-17T12:37:02.820832Z",
     "start_time": "2019-04-17T12:37:02.708371Z"
    }
   },
   "outputs": [
    {
     "name": "stdout",
     "output_type": "stream",
     "text": [
      "   0.00000000    \r\n",
      "   0.00000000    \r\n"
     ]
    }
   ],
   "source": [
    "# Rodando o programa \n",
    "! ./x"
   ]
  },
  {
   "cell_type": "markdown",
   "metadata": {},
   "source": [
    "```Fortran\n",
    "program exemplo\n",
    "   implict none\n",
    "end program exemplo\n",
    "```"
   ]
  },
  {
   "cell_type": "markdown",
   "metadata": {},
   "source": [
    "```Fortran\n",
    "\n",
    "```"
   ]
  }
 ],
 "metadata": {
  "jupytext": {},
  "kernelspec": {
   "display_name": "Python 3",
   "language": "python",
   "name": "python3"
  },
  "language_info": {
   "codemirror_mode": {
    "name": "ipython",
    "version": 3
   },
   "file_extension": ".py",
   "mimetype": "text/x-python",
   "name": "python",
   "nbconvert_exporter": "python",
   "pygments_lexer": "ipython3",
   "version": "3.6.8"
  },
  "latex_envs": {
   "LaTeX_envs_menu_present": true,
   "autoclose": false,
   "autocomplete": false,
   "bibliofile": "biblio.bib",
   "cite_by": "key",
   "current_citInitial": 1,
   "eqLabelWithNumbers": true,
   "eqNumInitial": 1,
   "hotkeys": {
    "equation": "Ctrl-E",
    "itemize": "Ctrl-I"
   },
   "labels_anchors": false,
   "latex_user_defs": false,
   "report_style_numbering": false,
   "user_envs_cfg": false
  },
  "nbTranslate": {
   "displayLangs": [
    "en",
    "pt"
   ],
   "hotkey": "alt-t",
   "langInMainMenu": true,
   "sourceLang": "en",
   "targetLang": "pt",
   "useGoogleTranslate": true
  },
  "toc": {
   "base_numbering": 1,
   "nav_menu": {},
   "number_sections": true,
   "sideBar": true,
   "skip_h1_title": false,
   "title_cell": "Table of Contents",
   "title_sidebar": "Contents",
   "toc_cell": false,
   "toc_position": {},
   "toc_section_display": "block",
   "toc_window_display": false
  },
  "varInspector": {
   "cols": {
    "lenName": 16,
    "lenType": 16,
    "lenVar": 40
   },
   "kernels_config": {
    "python": {
     "delete_cmd_postfix": "",
     "delete_cmd_prefix": "del ",
     "library": "var_list.py",
     "varRefreshCmd": "print(var_dic_list())"
    },
    "r": {
     "delete_cmd_postfix": ") ",
     "delete_cmd_prefix": "rm(",
     "library": "var_list.r",
     "varRefreshCmd": "cat(var_dic_list()) "
    }
   },
   "types_to_exclude": [
    "module",
    "function",
    "builtin_function_or_method",
    "instance",
    "_Feature"
   ],
   "window_display": false
  }
 },
 "nbformat": 4,
 "nbformat_minor": 2
}
