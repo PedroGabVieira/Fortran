{
 "cells": [
  {
   "cell_type": "markdown",
   "metadata": {},
   "source": [
    "# Aula 04"
   ]
  },
  {
   "cell_type": "markdown",
   "metadata": {},
   "source": [
    "# Os Erros e o Debugg de um programa\n",
    "\n",
    "Para quem já em alguma experiência com alguma lingugem de programação sabe que sempre que se escreve um programa de tamanho significativo, ele não irá funcionará na primeira vez que se tentar! Erros em programas são conhecidos como *bugs*, e o processo de localizá-los e eliminá-los é conhecido como depuração. Dado que nós escrevemos um programa e ele não está funcionando, como vamos depurá-lo?\n",
    "\n",
    "Há basicamente três tipos de erros que se comete ao programar. O primeiro tipo de erro é um erro de sintaxe. Erros de sintaxe são erros na própria instrução da linguagem, como erros de ortografia ou erros de pontuação. Esses erros são detectados pelo compilador/interpretador durante a compilação. O segundo tipo de erro é o erro de tempo de execução. Um erro de tempo de execução ocorre quando uma operação matemática ilegal é tentada durante a execução do programa (por exemplo, tentando dividir por zero). Esses erros fazem com que o programa seja interrompido durante a execução. O terceiro tipo de erro é um erro lógico. Erros lógicos ocorrem quando o programa compila e executa com êxito, mas produz a resposta errada.\n",
    "\n",
    "Os erros mais comuns cometidos durante a programação são erros tipográficos. Alguns erros tipográficos criam instruções inválidas. Esses erros produzem erros de sintaxe que são capturados pelo compilador/interpretador. Outros erros tipográficos ocorrem em nomes de variáveis. Por exemplo, as letras em alguns nomes de variáveis podem ter sido transpostas. Por exemplo, no caso da lingugem Fortran, se a instrução `IMPLICIT NONE` foi usada, então o compilador também irá capturar a maioria desses erros. No entanto, se um nome de variável legal for substituído por outro nome de variável legal, o compilador não poderá detectar o erro. Esse tipo de substituição pode ocorrer se tivermos dois nomes de variáveis semelhantes. Por exemplo, se as variáveis `ct1` e `ct2` forem usadas para constantes no programa, uma delas pode ser usada inadvertidamente em vez da outra em algum momento. Esse tipo de erro tipográfico produzirá um erro lógico. Deve-se verificar esse tipo de erro inspecionando manualmente o código, pois o compilador não irá capturá-lo.\n",
    "\n",
    "Por exemplo, no caso do Fortran, às vezes, é possível compilar e *linkar* com sucesso o programa, mas haverá erros de execução ou erros lógicos quando o programa for executado. Nesse caso, há algo errado com os dados de entrada ou com a estrutura lógica do programa. O primeiro passo para localizar esse tipo de *bug* deve ser verificar os dados de entrada no programa. Seu programa deveria ter sido projetado para imprimir na tela (ecoar) os seus dados de entrada. Se não, volte e adicione as instruções `WRITE` ou `PRINT` para verificar se os valores de entrada são o que se espera que eles sejam.\n",
    "\n",
    "Nos casos em que os nomes das variáveis parecem corretos e os dados de entrada estão corretos, provavelmente estamos lidando com um erro lógico. Portanto, o primeiro passo é verificar cada uma das  instruções de atribuição do programa.\n",
    "\n",
    "1. Se uma instrução de atribuição for muito longa, divida-a em várias instruções de atribuição menores. Declarações menores são mais fáceis de verificar. Escreva o o programa de forma a facilitar a leitura. Quebre as linhas longas para melhor visualização.\n",
    "2. Verifique o posicionamento dos parênteses nas instruções de atribuição. É um erro muito comum ter as operações em uma instrução de atribuição avaliadas na ordem errada. Se houver alguma dúvida quanto à ordem em que as variáveis estão sendo avaliadas, adicione conjuntos extras de parênteses para deixá-las claras.\n",
    "3. Certifique-se de ter inicializado todas as variáveis corretamente.\n",
    "4. Certifique-se de que todas as funções utilizadas estejam nas unidades corretas. Por exemplo, a entrada para funções trigonométricas deve estar em unidades de radianos, não em graus.\n",
    "5. Verifique possíveis erros devido à aritmética de inteiro ou de modo misto.\n",
    "6. Sempre que possível quebre o programa em subrotinas e ou funções que são mais fácil de testar e verificar. Isso é particularmente útil para estruturas que se repetem no programa.\n",
    "\n",
    "Se mesmo assim a resposta recebida estiver errada , adicione as instruçõesc em vários pontos do  programa para ver os resultados dos cálculos intermediários. Se conseguirmos localizar o ponto onde os cálculos estão sendo realizados de forma errônea, saberemos exatamente onde procurar pelo problema, que é 95% da batalha.\n",
    "\n",
    "Se mesmo assim não conseguirmos encontrar o problema depois de todas as etapas acima, primeiro de um tempo, caso seja possível, pois estamos tão habituados com o código que não conseguimos mais ver os detalhes importantes da lógica. Caso não seja possível esperar um pouco, tente explicar o que o seu código está fazendo para uma outra pessoa e deixe-a examinar o código. É muito comum uma pessoa ver exatamente o que ela espera ver quando olha para o próprio código. Outra pessoa pode detectar rapidamente um erro que você observou repetidas vezes.\n",
    "\n",
    "\n",
    "\n",
    "**Boa Prática de Programação**\n",
    "\n",
    "Para reduzir seu esforço de depuração, certifique-se de que durante o design do seu programa você:\n",
    "\n",
    "1. Use a instrução `IMPLICIT NONE`.\n",
    "2. Ecoar todos os valores de entrada.\n",
    "3. Inicialize todas as variáveis.\n",
    "4. Use parênteses para tornar claras as funções das instruções de atribuição.\n",
    "\n",
    "\n",
    "\n",
    "Todos os compiladores modernos possuem ferramentas de depuração especiais chamadas de depuradores simbólicos. Um depurador simbólico é uma ferramenta que permite percorrer a execução do seu programa, uma instrução de cada vez, e examinar os valores de qualquer variável em cada etapa ao longo do caminho. Depuradores simbólicos permitem que você veja todos os resultados intermediários sem ter que inserir muitas instruções `WRITE` ou `PRINT`  em seu código. Eles são poderosos e flexíveis, mas infelizmente são diferentes para cada tipo de compilador. Se você estiver usando um debugger simbólico. Os compiladores GNU também possuem um debugger que é o `gdb`. "
   ]
  },
  {
   "cell_type": "markdown",
   "metadata": {
    "lang": "pt"
   },
   "source": [
    "## Parâmetros e constantes nomeadas \n",
    "\n",
    "No fortran a palavra reservada `parameter` é usada para designar uma constante nomeada. Cada `parameter` deve ser declarado em uma declaração de tipo. As declarações de tipo aparecem entre a instrução do programa e o início da parte executável do programa. Essas declarações também são usadas para dar nomes às variáveis e indicar seu correspondente tipo de dado. A sintaxe do comando parameter é a seguinte:\n",
    "\n",
    "```fortran\n",
    "  TIPO, PARAMETER :: CTE1 = valor1, CTE2 = valor2,\n",
    "```\n",
    "\n",
    "na declaracção acima `TIPO` pode ser um `INTEGER`, `REAL`, `LOGICAL`, `COMPLEX`, e até mesmo um *tipo derivado*, que será visto posteriormente.\n",
    "\n",
    "Por exemplo,\n",
    "\n",
    "```fortran\n",
    "   REAL, PARAMETER :: pi  = 3.14159             ! O número pi  \n",
    "   REAL, PARAMETER :: phi = 1.61803398875       ! A razão áurea\n",
    "   REAL, PARAMETER :: ee  = 1.6021766208e-19    ! Carga elementar\n",
    "   REAL, PARAMETER :: KB  = 8.61738573E-2_PR    ! Cte. de Boltzman em meV/K\n",
    "   REAL, PARAMETER :: A0  = 0.52917724924_PR    ! Raio de Bohr em Angstrons\n",
    "   REAL, PARAMETER :: RY  = 13.60569809E+3_PR   ! Rydberg em meV\n",
    "   REAL, PARAMETER :: MB  = 0.057883826352_PR   ! Magneton de Bohr em meV/T\n",
    "   REAL, PARAMETER :: GM  = 2.00231930438620_PR ! Fator giromagnetico do eletron\n",
    "   REAL, PARAMETER :: HB  = 658.21122020_PR     ! Cte. de Planck em mev*fsec\n",
    "   REAL, PARAMETER :: HR  = 20.67071735_PR      ! (HBAR/Ry) em fsec^(-1) \n",
    "   REAL, PARAMETER :: HWC = 0.1157676524_PR     ! (HBAR * W_C) em meV/T \n",
    "   REAL, PARAMETER :: GWC = 8.508762422E-6_PR   ! (HBAR * W_C)/Ry em 1/T \n",
    "   INTEGER, PARAMETER ::  numero_de_niveis = 50\n",
    "```\n",
    "\n",
    "No exemplo acima declarou-se `pi`, `phi`, `ee`, etc,  como parâmetros reais e o `numero_de_niveis` como um parâmetro inteiro com o valor 50.\n",
    "\n",
    "**Observação:** A [razão áurea](https://pt.wikipedia.org/wiki/Propor%C3%A7%C3%A3o_%C3%A1urea) é dada por\n",
    "\n",
    "\\begin{equation}\n",
    "\\displaystyle \\phi =\\frac{1+{\\sqrt {5}}}{2}\\approx 1.61803398875 \n",
    "\\qquad \\Longrightarrow \\qquad \n",
    "\\phi = \\frac{1 + \\sqrt{5}}{2} \\approx 1.61803398875, \n",
    "\\end{equation}\n",
    "\n",
    "que é o número $\\phi$, conhecido como razão áurea.\n",
    "\n",
    "\n",
    "\n",
    "O valor de um `parameter` é fixado por sua declaração e não pode mudar durante a execução de um programa.\n",
    "\n",
    "Um nome de parâmetro pode ser usado em todo lugar em um programa onde a constante correspondente pode ser usada; É por isso que também é chamado de constante nomeada. Além disso, um parâmetro pode ser usado em alguns lugares onde uma variável não pode ser usada. Exemplos estão indicando o tamanho de uma matriz estática e os valores selecionados por uma instrução `case`, a qual será vista posteriormente.\n",
    "\n",
    "```fortran\n",
    "PROGRAM Matriz\n",
    "  IMPLICIT NONE\n",
    "  INTEGER, PARAMETER    :: n=5, m = n*n\n",
    "  REAL, DIMENSION(n,n)  :: Mat_A, Mat_B\n",
    "  CHARACTER(LEN=50)     :: fmt1\n",
    "  INTEGER, DIMENSION(m) :: Vetor(m)\n",
    "  INTEGER :: i, j, k\n",
    "  CALL RANDOM_NUMBER(Mat_A) ! Preenche Mat_A com números aleatórios entre 0 e 1\n",
    "  Mat_A=NINT(100*Mat_A)/10  ! Faz a matrix variar entre 0 e 10\n",
    "  CALL RANDOM_NUMBER(Mat_B)\n",
    "  Mat_B = NINT(100*Mat_B)/10    \n",
    "  WRITE(fmt1,'(a1,i2,a10)') '(', n, '(f4.1,3x))'\n",
    "  PRINT *, \"Matriz A\"\n",
    "  DO i=1,n\n",
    "     WRITE(*,fmt1) (Mat_A(i,j), j=1,n)\n",
    "  END DO\n",
    "  PRINT *, \"Matriz B\"\n",
    "  DO i=1,n\n",
    "     WRITE(*,fmt1) (Mat_B(i,j), j=1,n)\n",
    "  END DO\n",
    "  k = 1\n",
    "  DO j=1,n\n",
    "     DO i=1,n\n",
    "        Vetor(k) = NINT(Mat_A(i,j)+ Mat_B(i,j))\n",
    "        k = k + 1\n",
    "     END DO\n",
    "  END DO\n",
    "  ! imprimindo o vetor \n",
    "  DO i=1,m\n",
    "     WRITE(*,'(a6,i2,a4,i2)') \"Vetor(\",i,\") = \", Vetor(i)\n",
    "  END DO\n",
    "END PROGRAM Matriz\n",
    "```\n",
    "\n",
    "A seguir vamos rodar o programa"
   ]
  },
  {
   "cell_type": "code",
   "execution_count": 1,
   "metadata": {
    "ExecuteTime": {
     "end_time": "2019-02-08T13:51:01.474626Z",
     "start_time": "2019-02-08T13:51:01.439097Z"
    }
   },
   "outputs": [
    {
     "name": "stdout",
     "output_type": "stream",
     "text": [
      "Overwriting src/Matriz_com_Parameter_01.f95\n"
     ]
    }
   ],
   "source": [
    "%%writefile src/Matriz_com_Parameter_01.f95\n",
    "PROGRAM Matriz\n",
    "  IMPLICIT NONE\n",
    "  INTEGER, PARAMETER    :: n=5, m = n*n\n",
    "  REAL, DIMENSION(n,n)  :: Mat_A, Mat_B\n",
    "  CHARACTER(LEN=50)     :: fmt1\n",
    "  INTEGER, DIMENSION(m) :: Vetor(m)\n",
    "  INTEGER :: i, j, k\n",
    "  CALL RANDOM_NUMBER(Mat_A) ! Preenche Mat_A com números aleatórios entre 0 e 1\n",
    "  Mat_A=NINT(100*Mat_A)/10  ! Faz a matrix variar entre 0 e 10\n",
    "  CALL RANDOM_NUMBER(Mat_B)\n",
    "  Mat_B = NINT(100*Mat_B)/10    \n",
    "  WRITE(fmt1,'(a1,i2,a10)') '(', n, '(f4.1,3x))'\n",
    "  PRINT *, \"Matriz A\"\n",
    "  DO i=1,n\n",
    "     WRITE(*,fmt1) (Mat_A(i,j), j=1,n)\n",
    "  END DO\n",
    "  PRINT *, \"Matriz B\"\n",
    "  DO i=1,n\n",
    "     WRITE(*,fmt1) (Mat_B(i,j), j=1,n)\n",
    "  END DO\n",
    "  k = 1\n",
    "  DO j=1,n\n",
    "     DO i=1,n\n",
    "        Vetor(k) = NINT(Mat_A(i,j)+ Mat_B(i,j))\n",
    "        k = k + 1\n",
    "     END DO\n",
    "  END DO\n",
    "  ! imprimindo o vetor \n",
    "  DO i=1,m\n",
    "     WRITE(*,'(a6,i2,a4,i2)') \"Vetor(\",i,\") = \", Vetor(i)\n",
    "  END DO\n",
    "END PROGRAM Matriz"
   ]
  },
  {
   "cell_type": "code",
   "execution_count": 22,
   "metadata": {
    "ExecuteTime": {
     "end_time": "2019-01-21T15:02:46.031029Z",
     "start_time": "2019-01-21T15:02:45.838668Z"
    }
   },
   "outputs": [],
   "source": [
    "# Compilando o programa\n",
    "! f95 -Wall -std=f2008 -o x src/Matriz_com_Parameter_01.f95"
   ]
  },
  {
   "cell_type": "code",
   "execution_count": 23,
   "metadata": {
    "ExecuteTime": {
     "end_time": "2019-01-21T15:02:49.960113Z",
     "start_time": "2019-01-21T15:02:49.847607Z"
    }
   },
   "outputs": [
    {
     "name": "stdout",
     "output_type": "stream",
     "text": [
      " Matriz A\r\n",
      " 1.0    2.0    0.0    4.0    4.0\r\n",
      " 3.0    7.0    8.0    2.0    8.0\r\n",
      " 3.0    8.0    1.0    7.0    3.0\r\n",
      " 0.0    2.0    5.0    7.0    7.0\r\n",
      " 2.0    1.0    4.0    5.0    7.0\r\n",
      " Matriz B\r\n",
      " 3.0    2.0    1.0    6.0    9.0\r\n",
      " 8.0    4.0    4.0    7.0    5.0\r\n",
      " 6.0    3.0    6.0    5.0    6.0\r\n",
      " 3.0    8.0    8.0    8.0    5.0\r\n",
      " 3.0    5.0    2.0    5.0    4.0\r\n",
      "Vetor( 1) =  4\r\n",
      "Vetor( 2) = 11\r\n",
      "Vetor( 3) =  9\r\n",
      "Vetor( 4) =  3\r\n",
      "Vetor( 5) =  5\r\n",
      "Vetor( 6) =  4\r\n",
      "Vetor( 7) = 11\r\n",
      "Vetor( 8) = 11\r\n",
      "Vetor( 9) = 10\r\n",
      "Vetor(10) =  6\r\n",
      "Vetor(11) =  1\r\n",
      "Vetor(12) = 12\r\n",
      "Vetor(13) =  7\r\n",
      "Vetor(14) = 13\r\n",
      "Vetor(15) =  6\r\n",
      "Vetor(16) = 10\r\n",
      "Vetor(17) =  9\r\n",
      "Vetor(18) = 12\r\n",
      "Vetor(19) = 15\r\n",
      "Vetor(20) = 10\r\n",
      "Vetor(21) = 13\r\n",
      "Vetor(22) = 13\r\n",
      "Vetor(23) =  9\r\n",
      "Vetor(24) = 12\r\n",
      "Vetor(25) = 11\r\n"
     ]
    }
   ],
   "source": [
    "# Rodando o programa\n",
    "!./x"
   ]
  },
  {
   "cell_type": "markdown",
   "metadata": {
    "lang": "pt"
   },
   "source": [
    "**Nota de estilo:** É uma boa prática de programação declarar quantidades como parâmetros sempre que possível. Atribuir um valor constante a um parâmetro informa ao leitor do programa que o valor correspondente a esse nome nunca será alterado quando o programa estiver em execução. Também permite que o computador forneça uma mensagem de diagnóstico se o programador tentar inadvertidamente alterar seu valor. \n",
    "\n",
    "Como os parâmetros são nomeados constantes, o uso de um nome de parâmetro em vez da constante correspondente torna um programa mais legível. É fácil esquecer qual o papel que uma constante sem nome desempenha em um programa.\n",
    "\n",
    "Outra razão importante para usar uma declaração de parâmetro é que o programa pode ser modificado facilmente se o valor particular representado pelo nome do parâmetro precisar ser alterado. O programador pode então ter certeza de que a constante estará correta sempre que for usada em todo o programa. Por exemplo, no exemplo anteiror basta alterar o parâmeto `n` de 5 para 4 ou para 6 e compilar novamente o programa.\n",
    "\n",
    "Uma razão bastante diferente para usar um parâmetro é que seu valor é conhecido pelo compilador e, portanto, pode ser usado para indicar coisas como o tamanho de uma matriz ou o tipo de variável real."
   ]
  },
  {
   "cell_type": "markdown",
   "metadata": {},
   "source": [
    "## Enumeradores\n",
    "\n",
    "O Fortran2003 define o tipo `ENUMERATOR`, semelhante ao C `enum`. Ao contrário de C, um enumerador específico não pode ser um tipo definido. Um atributo de tipo nomeado ajuda a evitar erros, garantindo que um dado enumerador seja usado no contexto correto e pode ser usado para distinguir procedimentos específicos em uma interface genérica.\n",
    "\n",
    "Usar um enumerador é uma maneira de declarar alguns parâmetros relacionados. O atributo `BIND(C)` requerido, dá a eles o mesmo tipo e tipo que um enumerador C, mas não é necessário chamar um programa em C ao usar um enumerador.\n",
    "\n",
    "\n",
    "Uma sintaxe possível é seguir a sintaxe do tipo derivado:\n",
    "\n",
    "```fortran\n",
    "enum, bind(c)\n",
    "\tenumerator :: Branco\n",
    "\tenumerator :: Verde= 5, Azul\n",
    "end enum\n",
    "```\n",
    "\n",
    "A menos que seja indicado de outra forma, o primeiro parâmetro do enumerador é definido como 0, então `Branco` é 0, `Verde` é 5 e `Azul` é 6.\n",
    "\n",
    "Veja o exemplo da [wikipedia](https://en.wikipedia.org/wiki/Enumerated_type#Fortran).\n",
    "\n",
    "\n",
    "O exemplo a seguir usa a instrução ENUM de maneiras diferentes para definir enumeradores.\n",
    "```fortran\n",
    "enum, bind (c)\n",
    "\n",
    "   enumerator :: vermelho = 1, azul, preto = 5\n",
    "   enumerator  amarelo \n",
    "   enumerator  ouro, prata, bronze\n",
    "   enumerator :: roxo\n",
    "   enumerator :: rosa, lavanda\n",
    "\n",
    "end enum\n",
    "```\n",
    "\n",
    "Os valores destes enumeradores são: `vermelho = 1`, `azul = 2`, `preto = 5`, `amarelo = 6`, `ouro = 7`, `prata = 8`, `bronze = 9`, `roxo = 10`, `rosa = 11`, `lavanda = 12`.\n",
    "\n",
    "Se você fornecer um valor inicial para um enumerador, então :: é obrigatório na instrução ENUMERATOR. Os enumeradores vermelho e preto na lista são inicializados com uma expressão de inicialização de inteiro escalar.\n",
    "\n",
    "O `::` é opcional em uma definição de enumerador quando expressões de inicialização de inteiro escalar não são usadas para inicializar qualquer um dos enumeradores na lista de enumeradores sendo declarados:\n",
    "Nas definições do segundo e terceiro enumerador, o `::` não é necessário como amarelo, ouro, prata e bronze não são inicializados com uma expressão de inicialização inteiro escalar.\n",
    "\n",
    "As definições do quarto e quinto enumerador mostram que `::` pode ser usado mesmo quando o `roxo` não é inicializado com uma expressão de inicialização inteira escalar."
   ]
  },
  {
   "cell_type": "code",
   "execution_count": 8,
   "metadata": {
    "ExecuteTime": {
     "end_time": "2019-04-22T10:02:29.672796Z",
     "start_time": "2019-04-22T10:02:29.664208Z"
    }
   },
   "outputs": [
    {
     "name": "stdout",
     "output_type": "stream",
     "text": [
      "Overwriting src/Teste_Enumerator_01.f95\n"
     ]
    }
   ],
   "source": [
    "%%writefile src/Teste_Enumerator_01.f95\n",
    "PROGRAM enumerar\n",
    "  IMPLICIT NONE\n",
    "  !REAL :: branco, preto, verde, azul, amarelo, laranja\n",
    "  ENUM, BIND(c)\n",
    "     ENUMERATOR :: branco=2\n",
    "     ENUMERATOR  preto\n",
    "     ENUMERATOR :: verde = 5, azul\n",
    "     ENUMERATOR  amarelo, laranja\n",
    "  END ENUM\n",
    "  PRINT *, 'Branco = ', branco\n",
    "  PRINT *, 'Preto = ', preto\n",
    "  PRINT *, 'Verde = ', verde\n",
    "  PRINT *, 'Azul = ', azul\n",
    "  PRINT *, 'Amarelo = ', amarelo\n",
    "  PRINT *, 'Laranja = ', laranja \n",
    "END PROGRAM enumerar"
   ]
  },
  {
   "cell_type": "code",
   "execution_count": 9,
   "metadata": {
    "ExecuteTime": {
     "end_time": "2019-04-22T10:02:30.893976Z",
     "start_time": "2019-04-22T10:02:30.711975Z"
    }
   },
   "outputs": [],
   "source": [
    "# Compilando o programa\n",
    "! f95 -Wall -std=f2008 -o x src/Teste_Enumerator_01.f95"
   ]
  },
  {
   "cell_type": "code",
   "execution_count": 10,
   "metadata": {
    "ExecuteTime": {
     "end_time": "2019-04-22T10:02:31.641578Z",
     "start_time": "2019-04-22T10:02:31.529583Z"
    }
   },
   "outputs": [
    {
     "name": "stdout",
     "output_type": "stream",
     "text": [
      " Branco =            2\r\n",
      " Preto =            3\r\n",
      " Verde =            5\r\n",
      " Azul =            6\r\n",
      " Amarelo =            7\r\n",
      " Laranja =            8\r\n"
     ]
    }
   ],
   "source": [
    "# Rodando o programa\n",
    "!./x"
   ]
  },
  {
   "cell_type": "markdown",
   "metadata": {},
   "source": [
    "### Regras para nomes\n",
    "\n",
    "As variáveis `Mat_A` e `Mat_B` são nomes de parâmetros usados no `PROGRAM Matriz` acima. A seguir lista-se algumas regras para nomes de parâmetros, bem como todos os outros nomes em um programa Fortran:\n",
    "\n",
    "1. O primeiro caractere do nome deve ser uma letra.\n",
    "2. Os caracteres restantes podem ser qualquer mistura de letras, dígitos ou caracteres de sublinhado (`_`).\n",
    "3. Pode haver no máximo 63 caracteres em um nome.\n",
    "\n",
    "**Nota de estilo:** Os nomes podem conter letras maiúsculas e minúsculas, mas um programa não deve conter dois nomes que diferem apenas no caso de algumas de suas letras. Por exemplo, uma variável poderia ser `Numero_de_Estados`, mas onde quer que seja usada em um programa, ela deve ter o `N` e o `E` em maiúscula. Embora o Fortran  não faça distinção entre maiúscula e minúscula, outra linguagem o fazem e por uma questão de estilo de programação deve-se adotar um padrão. Note que no caso do Fortran, a variável de nome `numero_de_estados` é a mesma variável que `Numero_de_Estados`, entretanto para quem lê o códio ela parece ser uma variável diferente.\n",
    "\n",
    "Essas regras permitem que nomes comuns como Galileu, Newton e Planck sejam usados como nomes. Eles também permitem que palavras comuns, como total e área, e nomes mais técnicos, como X3J3 e WG5, sejam usados como nomes. O sublinhado permite que nomes mais longos sejam mais legíveis, como em \"distancia_terra_lua\", \"area_superficial\" e \"numero_de_palavras_do_texto\".\n",
    "\n",
    "Todos os nomes em Fortran, incluindo nomes de programas, seguem estas regras."
   ]
  },
  {
   "cell_type": "markdown",
   "metadata": {},
   "source": [
    "## Parâmetro `KIND`\n",
    "\n",
    "Os parâmetros `KIND` fornecem uma maneira de parametrizar a seleção de diferentes representações de máquinas possíveis para cada um dos tipos de dados intrínsecos. Se o programador for cuidadoso, isso fornece um mecanismo para fazer a seleção de precisão numérica e seu intervalo de variação portáteis. Isso, é muito importante, pois em geral os códigos maiores são desenvolvidos em máquinas pessoais para somente depois serem rodados em grandes máquinas. Portanto a porbailidade é um aspecto muito importante da computação científica.\n",
    "\n",
    "Cada tipo de dado intrínseco possui um parâmetro, chamado parâmetro de tipo, associado a ele. Um parâmetro `KIND` destina-se a designar uma representação de máquina para um tipo de dados específico. Como exemplo, uma implementação pode ter três tipos reais, informalmente conhecidos como precisão simples, dupla e quádrupla.\n",
    "\n",
    "O parâmetro `KIND` é um inteiro. *Esses números dependem do processador/compilador*, de modo que os parâmetros de tipo 1, 2 e 3 podem ser de precisão simples, dupla e quádrupla; ou em um sistema diferente, os parâmetros de tipo 4, 8 e 16 poderiam ser usados para as mesmas coisas. Existem pelo menos dois tipos reais e complexos e pelo menos um tipo para os tipos de dados inteiro, lógico e de caractere. Deve haver um tipo inteiro capaz de representar todos os inteiros de 18 dígitos. Observe que o valor do parâmetro `KIND` geralmente não é o número de dígitos decimais de precisão ou intervalo; em muitos sistemas, é o número de bytes usados para representar o valor.\n",
    "\n",
    "É possível determinar quais parâmetros de tipo estão disponíveis para cada tipo em seu sistema usando os parâmetros `real_kinds`,` integer_kinds`, `logical_kinds` e` character_kinds` no módulo intrínseco `iso_fortran_env`.\n",
    "\n",
    "```fortran\n",
    "PROGRAM kinds\n",
    "  USE iso_fortran_env\n",
    "  IMPLICIT NONE\n",
    "  PRINT *,\"Os tipos caracter são: \", character_kinds\n",
    "  PRINT *,\"Os tipos inteiros são: \", integer_kinds\n",
    "  PRINT *,\"Os tipos reais são: \", real_kinds\n",
    "END PROGRAM kinds\n",
    "```\n",
    "\n",
    "Os parâmetros de tipo são opcionais em todos os casos, portanto, é possível usar sempre o tipo padrão, se isso for suficiente para seu aplicativo.\n",
    "\n",
    "As funções intrínsecas `selected_int_kind` e `selected_real_kind` podem ser usadas para selecionar um tipo apropriado para uma variável ou uma constante nomeada. Essas funções fornecem os meios para tornar um programa portátil nos casos em que os valores precisam ser calculados com uma certa precisão especificada que pode usar precisão única em uma máquina, mas requer precisão dupla em outra máquina.\n",
    "\n",
    "Quando um parâmetro `kind` é usado em um programa, ele deve ser uma constante de número inteiro (`parameter`). Nas constantes `integer`,` real` e `logical`, segue um caractere de sublinhado (`_`) no final.\n",
    "\n",
    "```fortran\n",
    "13579_curto\n",
    "1.602_precisao_dupla\n",
    ".true._logico\n",
    "```\n",
    "\n",
    "Os dois operandos de uma operação numérica podem ter valores de parâmetro de tipo diferentes. Neste caso, se os dois operandos tiverem o mesmo tipo ou um é real e um complexo, o resultado tem o parâmetro kind do operando com maior precisão. Por exemplo, se o tipo `qp` (precisão quadupla) tiver maior precisão que o tipo `dp` (precisão dupla), o valor de\n",
    "\n",
    "```fortran\n",
    "1.602_dp + 3.204_qp\n",
    "```\n",
    "\n",
    "o resultado da operação é $4.806$ com parâmetro de tipo `qp`, entretanto ele será convertido automaticamente no tipo da variável que o recebe. Note que a operação é realziada no tipo de maior precisão e ao atribuir o resultado final ele será convertido automaticamente no valor no tipo da variável que o recebe.\n",
    "\n",
    "\n",
    "Se um operando for tipo inteiro e o outro for real ou complexo, o parâmetro de tipo do resultado será o do operando real ou complexo, dependendo da variável que o recebe."
   ]
  },
  {
   "cell_type": "code",
   "execution_count": 13,
   "metadata": {
    "ExecuteTime": {
     "end_time": "2019-04-22T10:10:55.178354Z",
     "start_time": "2019-04-22T10:10:55.170755Z"
    },
    "run_control": {
     "marked": false
    }
   },
   "outputs": [
    {
     "name": "stdout",
     "output_type": "stream",
     "text": [
      "Overwriting src/iso_env_fortran_kind.f95\n"
     ]
    }
   ],
   "source": [
    "%%writefile src/iso_env_fortran_kind.f95\n",
    "PROGRAM kinds\n",
    "  USE iso_fortran_env\n",
    "  IMPLICIT NONE\n",
    "  INTEGER :: sl, sc, si, sr\n",
    "  CHARACTER(len=50) :: fmtl, fmtc, fmti, fmtr\n",
    "  sl = SIZE(logical_kinds)        \n",
    "  sc = SIZE(character_kinds) \n",
    "  si = SIZE(integer_kinds) \n",
    "  sr = SIZE(real_kinds)\n",
    "  PRINT *, \"O tamanho de logical_kinds = \", sl\n",
    "  PRINT *, \"O tamanho de character_kinds = \", sc\n",
    "  PRINT *, \"O tamanho de integer_kinds = \", si\n",
    "  PRINT *, \"O tamanho de real_kinds = \", sr\n",
    "  PRINT *, \"O tamanho de real_kinds = \", sr\n",
    "  ! Definindo-se os formatos\n",
    "  WRITE(fmtl,'(A5,I2,A8)') \"(A24,\", sl, \"(I2,3X))\"\n",
    "  WRITE(fmtc,'(A5,I2,A8)') \"(A24,\", sc, \"(I2,3X))\"\n",
    "  WRITE(fmti,'(A5,I2,A8)') \"(A24,\", si, \"(I2,3X))\"\n",
    "  WRITE(fmtr,'(A5,I2,A8)') \"(A24,\", sr, \"(I2,3X))\"\n",
    "  PRINT fmtl,\"Os tipos logicas  são: \", logical_kinds\n",
    "  PRINT fmtc,\"Os tipos caracter são: \", character_kinds\n",
    "  PRINT fmti,\"Os tipos inteiros são: \", integer_kinds\n",
    "  PRINT fmtr,\"Os tipos reais são: \", real_kinds\n",
    "END PROGRAM kinds"
   ]
  },
  {
   "cell_type": "code",
   "execution_count": 14,
   "metadata": {
    "ExecuteTime": {
     "end_time": "2019-04-22T10:10:57.581107Z",
     "start_time": "2019-04-22T10:10:56.366726Z"
    }
   },
   "outputs": [],
   "source": [
    "# Compilando o código\n",
    "! f95 -Wall -std=f2008 -o x src/iso_env_fortran_kind.f95"
   ]
  },
  {
   "cell_type": "code",
   "execution_count": 15,
   "metadata": {
    "ExecuteTime": {
     "end_time": "2019-04-22T10:10:58.636737Z",
     "start_time": "2019-04-22T10:10:58.424062Z"
    }
   },
   "outputs": [
    {
     "name": "stdout",
     "output_type": "stream",
     "text": [
      " O tamanho de logical_kinds =            5\r\n",
      " O tamanho de character_kinds =            2\r\n",
      " O tamanho de integer_kinds =            5\r\n",
      " O tamanho de real_kinds =            4\r\n",
      " O tamanho de real_kinds =            4\r\n",
      "Os tipos logicas  são:  1    2    4    8   16\r\n",
      "Os tipos caracter são:  1    4\r\n",
      "Os tipos inteiros são:  1    2    4    8   16\r\n",
      "   Os tipos reais são:  4    8   10   16\r\n"
     ]
    }
   ],
   "source": [
    "# rodando o código\n",
    "! ./x"
   ]
  },
  {
   "cell_type": "markdown",
   "metadata": {},
   "source": [
    "## ISO_FORTRAN_ENV\n",
    "\n",
    "Padrão: Fortran 2003 e posterior, exceto quando especificado. Essas são atuais diretivas suportadas pelo [gfortran](https://gcc.gnu.org/onlinedocs/gfortran/ISO_005fFORTRAN_005fENV.html).\n",
    "\n",
    "O módulo `ISO_FORTRAN_ENV` fornece as seguinte constantes escalares inteiras por padrão:\n",
    "\n",
    "- `ATOMIC_INT_KIND` : \n",
    "  Constante inteira de valor padrão a ser usada como parâmetro de tipo ao definir variáveis inteiras usadas em operações atômicas. (Fortran 2008 ou posterior)\n",
    "- `ATOMIC_LOGICAL_KIND`:\n",
    "  Constante de inteiro de valor padrão a ser usada como parâmetro de tipo ao definir variáveis lógicas usadas em operações atômicas. (Fortran 2008 ou posterior)\n",
    "- `CHARACTER_KINDS`:\n",
    "  Array de constante de número inteiro padrão-tipo de rank um contendo os parâmetros de tipo suportados do tipo CHARACTER. (Fortran 2008 ou posterior)\n",
    "- `CHARACTER_STORAGE_SIZE`:\n",
    "  Tamanho em bits da unidade de armazenamento de caracteres.\n",
    "- `ERROR_UNIT`:\n",
    "  Identifica a unidade pré-conectada usada para relatório de erros.\n",
    "- `FILE_STORAGE_SIZE`:\n",
    "  Tamanho em bits da unidade de armazenamento de arquivos.\n",
    "- `INPUT_UNIT`:\n",
    "  Identifica a unidade pré-conectada identificada pelo asterisco (*) na instrução `READ`. Por padrão é geralmente a unidade 5.\n",
    "- `INT8`, `INT16`, `INT32`, `INT64`:\n",
    "  Parâmetros de tipo de tipo para especificar um tipo INTEGER com um tamanho de armazenamento de 16, 32 e 64 bits. É negativo se uma plataforma de destino não suportar o tipo específico. (Fortran 2008 ou posterior)\n",
    "- `INTEGER_KINDS`:\n",
    "  Tipo-padrão constante de matriz de rank um contendo os parâmetros de tipo suportados do tipo INTEGER. (Fortran 2008 ou posterior)\n",
    "- `IOSTAT_END`:\n",
    "  O valor atribuído à variável passada para o `IOSTAT` = especificador de uma instrução de entrada/saída, se uma condição de final de arquivo ocorreu.\n",
    "- `IOSTAT_EOR`:\n",
    "  O valor atribuído à variável passada para o `IOSTAT` = especificador de uma instrução de entrada/saída, se uma condição de fim de registro ocorreu.\n",
    "- `IOSTAT_INQUIRE_INTERNAL_UNIT`:\n",
    "  Constante de inteiro-padrão escalar, usada por `INQUIRE` para o especificador `IOSTAT` = para indicar que um número de unidade identifica uma unidade interna. (Fortran 2008 ou posterior)\n",
    "- `NUMERIC_STORAGE_SIZE`:\n",
    "  O tamanho em bits da unidade de armazenamento numérico.\n",
    "- `LOGICAL_KINDS`:\n",
    "  Tipo-padrão constante de matriz de rank um contendo os parâmetros de tipo suportados do tipo `LOGICAL`. (Fortran 2008 ou posterior)\n",
    "- `OUTPUT_UNIT`:\n",
    "  Identifica a unidade pré-conectada identificada pelo asterisco (*) na instrução `WRITE`. Por padrão é geralmente a unidade 6.\n",
    "- `REAL32`, `REAL64`, `REAL128`:\n",
    "  Parâmetros de tipo para especificar um tipo REAL com um tamanho de armazenamento de 32, 64 e 128 bits. É negativo se uma plataforma de destino não suportar o tipo específico. (Fortran 2008 ou posterior)\n",
    "- `REAL_KINDS`:\n",
    "  Array constante de número inteiro padrão-tipo de rank um contendo os parâmetros de tipo suportados do tipo `REAL`. (Fortran 2008 ou posterior)\n",
    "- `STAT_LOCKED`:\n",
    "  Constante de inteiro padrão escalar usada como `STAT` = valor de retorno por `LOCK` para indicar que a variável de bloqueio está bloqueada pela imagem em execução. (Fortran 2008 ou posterior)\n",
    "- `STAT_LOCKED_OTHER_IMAGE`:\n",
    "  Constante de inteiro padrão escalar usada como `STAT` = valor de retorno por `UNLOCK` para indicar que a variável de bloqueio está bloqueada por outra imagem. (Fortran 2008 ou posterior)\n",
    "- `STAT_STOPPED_IMAGE`:\n",
    "  Constante de número inteiro escalar positiva, usada como `STAT` = valor de retorno, se o argumento na instrução exigir sincronização com uma imagem, que iniciou o término da execução. (Fortran 2008 ou posterior)\n",
    "- `STAT_FAILED_IMAGE`:\n",
    "  Constante de inteiro-escalar positiva, escalar, usada como `STAT` = valor de retorno, se o argumento na instrução exigir comunicação com uma imagem, que está no estado de falha. (TS 18508 ou posterior)\n",
    "- `STAT_UNLOCKED`:\n",
    "  Constante de inteiro padrão escalar usada como STAT = valor de retorno por UNLOCK para indicar que a variável de bloqueio está desbloqueada. (Fortran 2008 ou posterior)\n",
    "\n",
    "O módulo fornece o seguinte tipo derivado:\n",
    "\n",
    "- `LOCK_TYPE`:\n",
    "  Tipo derivado com componentes privados a serem usados com a instrução `LOCK` e `UNLOCK`. Uma variável de seu tipo deve ser sempre declarada como coarray e pode não aparecer em um contexto de definição de variável. (Fortran 2008 ou posterior)\n",
    "\n",
    "O módulo também fornece os seguintes procedimentos intrínsecos: COMPILER_OPTIONS e COMPILER_VERSION.\n",
    "\n",
    "### `COMPILER_OPTIONS` - Opções passadas para o compilador\n",
    "\n",
    "- *Descrição*: `COMPILER_OPTIONS` retorna uma string com as opções usadas para compilar.\n",
    "- *Padrão*: Fortran 2008\n",
    "- *Classe*: Função de consulta do módulo `ISO_FORTRAN_ENV`\n",
    "- *Sintaxe*: `STR = COMPILER_OPTIONS()`\n",
    "- *Argumentos*: Nenhum.\n",
    "- *Valor de retorno*: O valor de retorno é uma cadeia de caracteres padrão com comprimento dependente do sistema. Ele contém os flags do compilador usados para compilar o arquivo, que chamou o intrínseco `COMPILER_OPTIONS`.\n",
    "\n",
    "\n",
    "### `COMPILER_VERSION` - String de versão do compilador\n",
    "\n",
    "- *Descrição*: `COMPILER_VERSION` retorna uma string com o nome e a versão do compilador.\n",
    "- *Padrão*: Fortran 2008\n",
    "- *Classe*: Função de consulta do módulo `ISO_FORTRAN_ENV`\n",
    "- *Sintaxe*: `STR = COMPILER_VERSION ()`\n",
    "- *Argumentos*: Nenhum.\n",
    "- *Valor de retorno*: O valor de retorno é uma cadeia de caracteres padrão com comprimento dependente do sistema. Ele contém o nome do compilador e seu número de versão.\n",
    "\n",
    "#### Exemplo\n",
    "\n",
    "```fortran\n",
    "PROGRAM teste\n",
    "  USE iso_fortran_env\n",
    "  IMPLICIT NONE\n",
    "  PRINT '(4a)', 'Este arquivo foi compilado pelo ', &\n",
    "       compiler_VERSION(), ' usando as seguintes opções ', &\n",
    "       compiler_OPTIONS()\n",
    "END PROGRAM teste\n",
    "```"
   ]
  },
  {
   "cell_type": "code",
   "execution_count": 4,
   "metadata": {
    "ExecuteTime": {
     "end_time": "2019-01-23T16:10:50.044618Z",
     "start_time": "2019-01-23T16:10:50.019929Z"
    }
   },
   "outputs": [
    {
     "name": "stdout",
     "output_type": "stream",
     "text": [
      "Overwriting src/iso-env-fortran_02.f95\n"
     ]
    }
   ],
   "source": [
    "%%writefile src/iso-env-fortran_02.f95\n",
    "PROGRAM teste\n",
    "  USE iso_fortran_env\n",
    "  IMPLICIT NONE\n",
    "  PRINT '(4a)', 'Este arquivo foi compilado pelo ', &\n",
    "       compiler_VERSION(), ' usando as seguintes opções ', &\n",
    "       compiler_OPTIONS()\n",
    "END PROGRAM teste"
   ]
  },
  {
   "cell_type": "code",
   "execution_count": 5,
   "metadata": {
    "ExecuteTime": {
     "end_time": "2019-01-23T16:11:29.257585Z",
     "start_time": "2019-01-23T16:11:28.834637Z"
    }
   },
   "outputs": [],
   "source": [
    "# Compilando o código com o gfortran-7 o padrão da instalação atual\n",
    "! f95 -Wall -pedantic -Warray-bounds -Wsurprising -Wunderflow -fcheck=all -std=f2008 -o x src/iso-env-fortran_02.f95"
   ]
  },
  {
   "cell_type": "code",
   "execution_count": 6,
   "metadata": {
    "ExecuteTime": {
     "end_time": "2019-01-23T16:11:29.917744Z",
     "start_time": "2019-01-23T16:11:29.803006Z"
    }
   },
   "outputs": [
    {
     "name": "stdout",
     "output_type": "stream",
     "text": [
      "Este arquivo foi compilado pelo GCC version 7.3.0 usando as seguintes opções -mtune=generic -march=x86-64 -Wall -Wpedantic -Warray-bounds -Wsurprising -Wunderflow -std=f2008 -fcheck=all\r\n"
     ]
    }
   ],
   "source": [
    "# Rodando o programa\n",
    "! ./x"
   ]
  },
  {
   "cell_type": "code",
   "execution_count": 7,
   "metadata": {
    "ExecuteTime": {
     "end_time": "2019-01-23T16:11:42.753639Z",
     "start_time": "2019-01-23T16:11:42.587024Z"
    }
   },
   "outputs": [],
   "source": [
    "# Compilando o programa \n",
    "!gfortran-8 -Wall -Waliasing -pedantic -Warray-bounds -Wsurprising -Wunderflow -fcheck=all -std=f2008 -o x src/iso-env-fortran_02.f95"
   ]
  },
  {
   "cell_type": "code",
   "execution_count": 8,
   "metadata": {
    "ExecuteTime": {
     "end_time": "2019-01-23T16:11:43.956761Z",
     "start_time": "2019-01-23T16:11:43.846417Z"
    }
   },
   "outputs": [
    {
     "name": "stdout",
     "output_type": "stream",
     "text": [
      "Este arquivo foi compilado pelo GCC version 8.2.0 usando as seguintes opções -mtune=generic -march=x86-64 -Wall -Waliasing -Wpedantic -Warray-bounds -Wsurprising -Wunderflow -std=f2008 -fcheck=all\r\n"
     ]
    }
   ],
   "source": [
    "# Rodando o programa\n",
    "! ./x"
   ]
  },
  {
   "cell_type": "markdown",
   "metadata": {},
   "source": [
    "# Selecionar uma precisão\n",
    "\n",
    "\n",
    "## Função KIND\n",
    "\n",
    "\n",
    "A função `kind` retorna o valor do parâmetro `kind` de seu argumento; o valor depende dos inteiros usados como parâmetros de tipo no computador que está sendo usado. Por exemplo, `kind (x)` é o parâmetro kind da variável `x`; pode ser 1 ou 4, por exemplo. `kind (0)` é o tipo `integer` padrão; `kind (0.0)` é o tipo `real` padrão; e `kind (.false.)` é o tipo `logical` padrão.\n",
    "\n",
    "Existe uma função intrínseca `selected_real_kind` que produz um valor` kind` cuja representação tem pelo menos uma certa precisão e alcance. Por exemplo, `selected_real_kind (10, 60)` produzirá um `tipo` (se houver) que tenha pelo menos 10 dígitos decimais de precisão e permita um intervalo de valores entre $-10^{+60}$ e $-10^{-60}$, valores entre $+10^{-60}$ e $+10^{+60}$ e o zero. Isso permite que o programador selecione representações com precisão ou alcance requerido e forneça esses valores de tipo dependentes do processador para constantes nomeadas. As constantes nomeadas podem então ser usadas para indicar o tipo de variável.\n",
    "\n",
    "Para o tipo de dados inteiro, existe uma função intrínseca `selected_int_kind` com apenas um argumento. Por exemplo, `selected_int_kind(8)` produz uma representação inteira a qual permitir representar no mínimo todos os inteiros entre $-10^8$ e $+10^8$.\n",
    "\n",
    "\n",
    "- São 5 Tipos intrínsecos: `REAL`, `INTEGER`, `COMPLEX`, `CHARACTER`, `LOGICAL`;\n",
    "\n",
    "- Cada tipo tem um valor inteiro não negativo associado ao comando `KIND`;\n",
    "\n",
    "- Característica usual para se escrever um código portável com a precisão requerida;\n",
    "\n",
    "- Um processador deve suporta no mínimo 2 tipos para as variáveis do tipo `REAL` e `COMPLEX`, e 1 para as variáveis do tipo `INTEGER`,  `LOGICAL` e  `CHARACTER`;\n",
    "\n",
    "- Há formas intrínsecas para se requisitar e atribuir um valor  `KIND`\n",
    "\n",
    "## Função KIND\n",
    "\n",
    "A função `KIND()` fornece o valor do tipo de entidade\n",
    "\n",
    "- **Descrição:** `KIND(X)` retorna o valor de tipo  da entidade X.\n",
    "- **Padrão:** Fortran 95 e posterior\n",
    "- **Classe:** Função de consulta\n",
    "- **Sintaxe:** `K = KIND(X)`\n",
    "- **Argumentos:** X Deve ser do tipo `LOGICAL`, `INTEGER`, `REAL`, `COMPLEX` ou `CHARACTER`.\n",
    "- **Retorno:** Um escalar do tipo `INTEGER` e do tipo inteiro padrão.\n",
    "\n",
    "### Exemplo:\n",
    "\n",
    "```fortran\n",
    "PROGRAM Testa_kind\n",
    "   IMPLICIT NONE\n",
    "   INTEGER, PARAMETER :: kc = KIND ('')\n",
    "   INTEGER, PARAMETER :: kl = KIND (.TRUE.)\n",
    "   INTEGER, PARAMETER :: kr = KIND (2.3)\n",
    "   INTEGER, PARAMETER :: ki = KIND (2)\n",
    "   INTEGER, PARAMETER :: kcp = KIND ((1.0,1.0))\n",
    "        \n",
    "   PRINT *, \"O tipo padrão de uma variável CHARACTER é: \", kc\n",
    "   PRINT *, \"O tipo padrão de uma variável LOGICAL é:   \", kl\n",
    "   PRINT *, \"O tipo padrão de uma variável REAL é:      \", kr\n",
    "   PRINT *, \"O tipo padrão de uma variável INTEGER é:   \", ki\n",
    "   PRINT *, \"O tipo padrão de uma variável COMPLEX é:   \", kcp\n",
    "   STOP\n",
    "END PROGRAM Testa_kind\n",
    "```"
   ]
  },
  {
   "cell_type": "code",
   "execution_count": 16,
   "metadata": {
    "ExecuteTime": {
     "end_time": "2019-01-23T17:30:59.123183Z",
     "start_time": "2019-01-23T17:30:59.112501Z"
    }
   },
   "outputs": [
    {
     "name": "stdout",
     "output_type": "stream",
     "text": [
      "Writing src/kind_test_01.f95\n"
     ]
    }
   ],
   "source": [
    "%%writefile src/kind_test_01.f95\n",
    "PROGRAM Testa_kind\n",
    "   IMPLICIT NONE\n",
    "   INTEGER, PARAMETER :: kc = KIND ('c')\n",
    "   INTEGER, PARAMETER :: kl = KIND (.TRUE.)\n",
    "   INTEGER, PARAMETER :: kr = KIND (2.3)\n",
    "   INTEGER, PARAMETER :: ki = KIND (2)\n",
    "   INTEGER, PARAMETER :: kcp = KIND ((1.0,1.0))\n",
    "        \n",
    "   PRINT *, \"O tipo padrão de uma variável CHARACTER é: \", kc\n",
    "   PRINT *, \"O tipo padrão de uma variável LOGICAL é:   \", kl\n",
    "   PRINT *, \"O tipo padrão de uma variável REAL é:      \", kr\n",
    "   PRINT *, \"O tipo padrão de uma variável INTEGER é:   \", ki\n",
    "   PRINT *, \"O tipo padrão de uma variável COMPLEX é:   \", kcp\n",
    "   STOP\n",
    "END PROGRAM Testa_kind"
   ]
  },
  {
   "cell_type": "code",
   "execution_count": 17,
   "metadata": {
    "ExecuteTime": {
     "end_time": "2019-01-23T17:31:00.235009Z",
     "start_time": "2019-01-23T17:31:00.060124Z"
    }
   },
   "outputs": [],
   "source": [
    "# A seguir vamos compilar o programa\n",
    "!f95 -std=f2008 -Wall -Waliasing -pedantic -Wsurprising -Wunderflow -o x src/kind_test_01.f95"
   ]
  },
  {
   "cell_type": "code",
   "execution_count": 18,
   "metadata": {
    "ExecuteTime": {
     "end_time": "2019-01-23T17:31:01.624276Z",
     "start_time": "2019-01-23T17:31:01.513944Z"
    }
   },
   "outputs": [
    {
     "name": "stdout",
     "output_type": "stream",
     "text": [
      " O tipo padrão de uma variável CHARACTER é:            1\r\n",
      " O tipo padrão de uma variável LOGICAL é:              4\r\n",
      " O tipo padrão de uma variável REAL é:                 4\r\n",
      " O tipo padrão de uma variável INTEGER é:              4\r\n",
      " O tipo padrão de uma variável COMPLEX é:              4\r\n"
     ]
    }
   ],
   "source": [
    "# A seguir vamos rodar o programa. O executável gerado é o x\n",
    "!./x"
   ]
  },
  {
   "cell_type": "markdown",
   "metadata": {},
   "source": [
    "### Função `SELECTED_CHAR_KIND(NOME)`\n",
    "\n",
    "A função `SELECTED_CHAR_KIND` escolhe um tipo de conjunto de  caracteres.\n",
    "\n",
    "- **Descrição:** A `SELECTED_CHAR_KIND(NOME)` retorna um valor inteiro positivo que representa o conjunto de caracteres NOME, se um caracter do conjunto com tal nome for suportado, casso contrário retorna $-1$. Atualmente, os conjuntos de caracteres suportados incluem \"ASCII\" e \"DEFAULT\", que são equivalentes, e \"ISO_10646\" (Universal Character Set, UCS-4), comumente conhecido como Unicode.\n",
    "\n",
    "- **Padrão:** Fortran 2003 e posterior\n",
    "   \n",
    "- **Classe:** Função Transformacional\n",
    "   \n",
    "- **Sintaxe:** `ret = SELECTED_CHAR_KIND(NOME)`\n",
    "   \n",
    "- **Argumentos:** NOME será um escalar e do tipo de caractere padrão.\n",
    "\n",
    "### Exemplos\n",
    "\n",
    "```fortran\n",
    "PROGRAM caracter_kind\n",
    "  USE iso_fortran_env\n",
    "  IMPLICIT NONE\n",
    "  INTEGER, PARAMETER :: ascii = selected_char_KIND (\"ascii\")\n",
    "  INTEGER, PARAMETER :: ucs4  = selected_char_KIND ('ISO_10646')\n",
    "  INTEGER :: i\n",
    "  CHARACTER(kind=ascii, len=26) :: alfabeto\n",
    "  CHARACTER(kind=ucs4,  len=80) :: GregoUp, GregoDown\n",
    "  alfabeto = ascii_\"abcdefghijklmnopqrstuvwxyz\"\n",
    "  GregoDown = \"\" ! varia de 945 a 969\n",
    "  GregoUp   = \"\" ! varia de 913 a 937\n",
    "  DO i =0,24\n",
    "     GregoDown = trim(GregoDown) // CHAR(945+i,ucs4)\n",
    "     GregoUp = trim(GregoUp) // CHAR(913+i,ucs4)\n",
    "  END DO\n",
    "  GregoDown = TRIM(GregoDown)\n",
    "  GregoUp   = TRIM(GregoUp)\n",
    "  OPEN (output_unit, encoding='UTF-8')\n",
    "  WRITE (*,*) alfabeto\n",
    "  WRITE (*,*) gregodown\n",
    "  WRITE (*,*) gregoup\n",
    "  STOP\n",
    "END PROGRAM caracter_kind\n",
    "```"
   ]
  },
  {
   "cell_type": "code",
   "execution_count": 19,
   "metadata": {
    "ExecuteTime": {
     "end_time": "2019-01-23T17:31:25.312874Z",
     "start_time": "2019-01-23T17:31:25.289741Z"
    }
   },
   "outputs": [
    {
     "name": "stdout",
     "output_type": "stream",
     "text": [
      "Overwriting src/Caracter_Kind.f95\n"
     ]
    }
   ],
   "source": [
    "%%writefile src/Caracter_Kind.f95\n",
    "PROGRAM caracter_kind\n",
    "  USE iso_fortran_env\n",
    "  IMPLICIT NONE\n",
    "  INTEGER, PARAMETER :: ascii = selected_char_KIND (\"ascii\")\n",
    "  INTEGER, PARAMETER :: ucs4  = selected_char_KIND ('ISO_10646')\n",
    "  INTEGER :: i\n",
    "  CHARACTER(kind=ascii, len=26) :: alfabeto\n",
    "  CHARACTER(kind=ucs4,  len=80) :: GregoUp, GregoDown\n",
    "  alfabeto = ascii_\"abcdefghijklmnopqrstuvwxyz\"\n",
    "  GregoDown = \"\" ! varia de 945 a 969\n",
    "  GregoUp   = \"\" ! varia de 913 a 937\n",
    "  DO i =0,24\n",
    "     GregoDown = trim(GregoDown) // CHAR(945+i,ucs4)\n",
    "     GregoUp = trim(GregoUp) // CHAR(913+i,ucs4)\n",
    "  END DO\n",
    "  GregoDown = TRIM(GregoDown)\n",
    "  GregoUp   = TRIM(GregoUp)\n",
    "  OPEN (output_unit, encoding='UTF-8')\n",
    "  WRITE (*,*) alfabeto\n",
    "  WRITE (*,*) gregodown\n",
    "  WRITE (*,*) gregoup\n",
    "  STOP\n",
    "END PROGRAM caracter_kind"
   ]
  },
  {
   "cell_type": "code",
   "execution_count": 20,
   "metadata": {
    "ExecuteTime": {
     "end_time": "2019-01-23T17:31:28.454749Z",
     "start_time": "2019-01-23T17:31:28.233324Z"
    }
   },
   "outputs": [],
   "source": [
    "# A seguir vamos compilar o programa\n",
    "!f95 -std=f2008 -Wall -Waliasing -pedantic -Wsurprising -Wunderflow -o x src/Caracter_Kind.f95"
   ]
  },
  {
   "cell_type": "code",
   "execution_count": 21,
   "metadata": {
    "ExecuteTime": {
     "end_time": "2019-01-23T17:31:29.227874Z",
     "start_time": "2019-01-23T17:31:29.115443Z"
    }
   },
   "outputs": [
    {
     "name": "stdout",
     "output_type": "stream",
     "text": [
      " abcdefghijklmnopqrstuvwxyz\r\n",
      " αβγδεζηθικλμνξοπρςστυφχψω                                                       \r\n",
      " ΑΒΓΔΕΖΗΘΙΚΛΜΝΞΟΠΡ΢ΣΤΥΦΧΨΩ                                                       \r\n"
     ]
    }
   ],
   "source": [
    "# A seguir vamos rodar o programa. O executável gerado é o x\n",
    "!./x"
   ]
  },
  {
   "cell_type": "code",
   "execution_count": 14,
   "metadata": {
    "ExecuteTime": {
     "end_time": "2018-05-06T16:55:19.639322Z",
     "start_time": "2018-05-06T16:55:19.634119Z"
    }
   },
   "outputs": [
    {
     "name": "stdout",
     "output_type": "stream",
     "text": [
      "Overwriting src/Caracter_Kind_list.f95\n"
     ]
    }
   ],
   "source": [
    "%%writefile src/Caracter_Kind_list.f95\n",
    "PROGRAM caracter_kind\n",
    "   USE iso_fortran_env\n",
    "   IMPLICIT NONE\n",
    "   INTEGER, PARAMETER :: ascii = selected_char_KIND (\"ascii\")\n",
    "   INTEGER, PARAMETER :: ucs4  = selected_char_KIND ('ISO_10646')\n",
    "   INTEGER :: i,j,n\n",
    "   CHARACTER(len=30) :: fmt= '(4(3x,i4,2x,A1))'\n",
    "   n = 5\n",
    "   ! Converte o inteiro n no caracter fmt de tamanho variável\n",
    "   WRITE(fmt,'(a1,i1,a15)') \"(\",n,\"(3x,i4,2x,a1))\"\n",
    "   fmt=TRIM(fmt)\n",
    "   PRINT *, fmt  \n",
    "   OPEN (output_unit, encoding='UTF-8')\n",
    "   PRINT *, \"As diversas setas estão no intervalo: 8592 - 8703\"\n",
    "   DO i = 8592, 8703, n\n",
    "      WRITE (*,fmt) (i+j, CHAR(i+j,ucs4), j=0,n-1) \n",
    "   END DO\n",
    "   STOP\n",
    "END PROGRAM caracter_kind"
   ]
  },
  {
   "cell_type": "code",
   "execution_count": 15,
   "metadata": {
    "ExecuteTime": {
     "end_time": "2018-05-06T15:56:58.196604Z",
     "start_time": "2018-05-06T15:56:57.982251Z"
    }
   },
   "outputs": [],
   "source": [
    "# A seguir vamos compilar o programa\n",
    "!f95 -std=f2008 -Wall -Waliasing -pedantic -Wsurprising -Wunderflow -o x src/Caracter_Kind_list.f95"
   ]
  },
  {
   "cell_type": "code",
   "execution_count": 16,
   "metadata": {
    "ExecuteTime": {
     "end_time": "2018-05-06T15:57:07.197377Z",
     "start_time": "2018-05-06T15:57:07.081162Z"
    }
   },
   "outputs": [
    {
     "name": "stdout",
     "output_type": "stream",
     "text": [
      " (5 (3x,i4,2x,a1))             \r\n",
      " As diversas setas estão no intervalo: 8592 - 8703\r\n",
      "   8592  ←   8593  ↑   8594  →   8595  ↓   8596  ↔\r\n",
      "   8597  ↕   8598  ↖   8599  ↗   8600  ↘   8601  ↙\r\n",
      "   8602  ↚   8603  ↛   8604  ↜   8605  ↝   8606  ↞\r\n",
      "   8607  ↟   8608  ↠   8609  ↡   8610  ↢   8611  ↣\r\n",
      "   8612  ↤   8613  ↥   8614  ↦   8615  ↧   8616  ↨\r\n",
      "   8617  ↩   8618  ↪   8619  ↫   8620  ↬   8621  ↭\r\n",
      "   8622  ↮   8623  ↯   8624  ↰   8625  ↱   8626  ↲\r\n",
      "   8627  ↳   8628  ↴   8629  ↵   8630  ↶   8631  ↷\r\n",
      "   8632  ↸   8633  ↹   8634  ↺   8635  ↻   8636  ↼\r\n",
      "   8637  ↽   8638  ↾   8639  ↿   8640  ⇀   8641  ⇁\r\n",
      "   8642  ⇂   8643  ⇃   8644  ⇄   8645  ⇅   8646  ⇆\r\n",
      "   8647  ⇇   8648  ⇈   8649  ⇉   8650  ⇊   8651  ⇋\r\n",
      "   8652  ⇌   8653  ⇍   8654  ⇎   8655  ⇏   8656  ⇐\r\n",
      "   8657  ⇑   8658  ⇒   8659  ⇓   8660  ⇔   8661  ⇕\r\n",
      "   8662  ⇖   8663  ⇗   8664  ⇘   8665  ⇙   8666  ⇚\r\n",
      "   8667  ⇛   8668  ⇜   8669  ⇝   8670  ⇞   8671  ⇟\r\n",
      "   8672  ⇠   8673  ⇡   8674  ⇢   8675  ⇣   8676  ⇤\r\n",
      "   8677  ⇥   8678  ⇦   8679  ⇧   8680  ⇨   8681  ⇩\r\n",
      "   8682  ⇪   8683  ⇫   8684  ⇬   8685  ⇭   8686  ⇮\r\n",
      "   8687  ⇯   8688  ⇰   8689  ⇱   8690  ⇲   8691  ⇳\r\n",
      "   8692  ⇴   8693  ⇵   8694  ⇶   8695  ⇷   8696  ⇸\r\n",
      "   8697  ⇹   8698  ⇺   8699  ⇻   8700  ⇼   8701  ⇽\r\n",
      "   8702  ⇾   8703  ⇿   8704  ∀   8705  ∁   8706  ∂\r\n"
     ]
    }
   ],
   "source": [
    "# A seguir vamos rodar o programa. O executável gerado é o x\n",
    "!./x"
   ]
  },
  {
   "cell_type": "markdown",
   "metadata": {
    "ExecuteTime": {
     "end_time": "2018-05-06T15:59:46.849035Z",
     "start_time": "2018-05-06T15:59:46.832682Z"
    }
   },
   "source": [
    "## Unicode: Referências\n",
    "\n",
    "-   [Programming with Unicode](http://unicodebook.readthedocs.io/index.html)\n",
    "\n",
    "-   [UTF-32/UCS-4](https://pt.wikipedia.org/wiki/UTF-32/UCS-4)\n",
    "\n",
    "-   [List of Unicode characters](https://en.wikipedia.org/wiki/List_of_Unicode_characters)\n",
    "\n",
    "-   [Unicode chart](http://www.ssec.wisc.edu/~tomw/java/unicode.html)\n",
    "\n",
    "-   [Unicode table](https://unicode-table.com/en/#devanagari)\n",
    "\n",
    "-   [Unicode character table](http://www.rapidtables.com/code/text/unicode-characters.htm)\n",
    "\n",
    "-   [Unicode](http://www.ssec.wisc.edu/~tomw/java/unicode.html)"
   ]
  },
  {
   "cell_type": "markdown",
   "metadata": {
    "ExecuteTime": {
     "end_time": "2018-05-06T15:59:46.849035Z",
     "start_time": "2018-05-06T15:59:46.832682Z"
    }
   },
   "source": [
    "### Função KIND: Valores Inteiros\n",
    "\n",
    "-   Inteiros geralmente tem 16, 32 ou 64 bit;\n",
    "\n",
    "-   Inteiros de 16 bit usualmente estão no intervalo $-32768 \\le i \\le 32767$;\n",
    "\n",
    "-   Inteiros de 32 bits estão no intervalo:  $-2147483648 \\le i \\le 2147483647$;\n",
    "\n",
    "-   Há um valor de para cada tipo suportado;\n",
    "\n",
    "-   Para declarar um inteiro independente do sistema, especificamos o\n",
    "    valor associado com o intervalo dos inteiros necessários, e esse\n",
    "    intervalo é obtido com a função .\n",
    "\n",
    "```fortran\n",
    "INTEGER, PARAMETER     :: range = SELECTED_INT_KIND(8)\n",
    "INTEGER (KIND = range) :: ia, ib, ic\n",
    "```\n",
    "                    \n",
    "<span style=\"color:blue\"> ia, ib e ic podem conter um valor qualquer entre $-10^{8}$ e $+10^{8}$ (se for permitido pelo processador).</span>"
   ]
  },
  {
   "cell_type": "markdown",
   "metadata": {},
   "source": [
    "## Função `SELECTED_INT_KIND()`\n",
    "\n",
    "- **Decrição:** A função `SELECTED_INT_KIND(R)` retorna um inteiro do menor tipo de inteiro que pode <span style=\"color:blue\"> representar todos os valores inteiros que variam de $-10^R$ (exclusivo) a $10^R$ (exclusivo)</span>. Se não houver nenhum tipo inteiro que acomode esse intervalo, `SELECTED_INT_KIND` retorna <span style=\"color:red\"> **$-1$**</span>.\n",
    "\n",
    "- **Padrão:** Fortran 95 e posterior\n",
    "   \n",
    "- **Classe:** Função de transformação\n",
    "\n",
    "- **Sintaxe:** `res = SELECTED_INT_KIND(R)`\n",
    "\n",
    "- **Argumentos:** R Será um escalar e do tipo `INTEGER`.\n"
   ]
  },
  {
   "cell_type": "markdown",
   "metadata": {},
   "source": [
    "### Exemplo de uso da função `SELECTED_INT_KIND()`"
   ]
  },
  {
   "cell_type": "code",
   "execution_count": 38,
   "metadata": {
    "ExecuteTime": {
     "end_time": "2019-01-23T21:03:43.962029Z",
     "start_time": "2019-01-23T21:03:43.947866Z"
    }
   },
   "outputs": [
    {
     "name": "stdout",
     "output_type": "stream",
     "text": [
      "Overwriting src/Grandes_inteiros.f95\n"
     ]
    }
   ],
   "source": [
    "%%writefile src/Grandes_inteiros.f95\n",
    "PROGRAM Grandes_inteiros\n",
    "  USE iso_fortran_env\n",
    "  IMPLICIT NONE\n",
    "  INTEGER,PARAMETER :: k5 = selected_int_KIND(5)   ! Seleciona -10**{5} <= i <= 10**{5}\n",
    "  INTEGER,PARAMETER :: k15 = selected_int_KIND(15) ! Seleciona -10**{15} <= i <= 10**{15}\n",
    "  INTEGER(kind=k5)  :: i5,  i=HUGE(i5)\n",
    "  INTEGER(kind=k15) :: i15, j=HUGE(i15)\n",
    "  INTEGER           :: si      \n",
    "  CHARACTER(len=50) :: fmti \n",
    "  si = SIZE(integer_kinds)         \n",
    "  PRINT *, \"O tamanho de integer_kinds = \", si \n",
    "  WRITE(fmti,'(a8,i2,a8)') \"(1x,A24,\", si, \"(i2,3x))\" \n",
    "  PRINT fmti,\"Os tipos inteiros são: \", integer_kinds\n",
    "  PRINT *\n",
    "  PRINT*, \"O maior e o menor inteiro i no intervalo $\\pm 10^{\\pm 5}$ são:\"\n",
    "  PRINT *, i+1, \" <= i <= \", i\n",
    "  PRINT *\n",
    "  PRINT*, \"O maior e o menor inteiro i no intervalo $\\pm 10^{\\pm 15}$ são:\"\n",
    "  PRINT *, j+1, \" <= i <= \", j\n",
    "  PRINT *\n",
    "  ! As seguintes desigualdades são sempre verdadeiras\n",
    "  PRINT *, 'HUGE(i5)  >= 10_k5**5-1   = ', HUGE(i5)  >= 10_k5**5-1\n",
    "  PRINT *, 'HUGE(i15) >= 10_k15**15-1 = ', HUGE(i15) >= 10_k15**15-1\n",
    "END PROGRAM Grandes_inteiros\n"
   ]
  },
  {
   "cell_type": "code",
   "execution_count": 39,
   "metadata": {
    "ExecuteTime": {
     "end_time": "2019-01-23T21:03:46.099534Z",
     "start_time": "2019-01-23T21:03:45.927438Z"
    }
   },
   "outputs": [],
   "source": [
    "# A seguir vamos compilar o programa\n",
    "!f95 -std=f2008 -Wall -Waliasing -pedantic -Warray-bounds -Wsurprising -Wunderflow -fcheck=all -o x src/Grandes_inteiros.f95"
   ]
  },
  {
   "cell_type": "code",
   "execution_count": 40,
   "metadata": {
    "ExecuteTime": {
     "end_time": "2019-01-23T21:03:47.091670Z",
     "start_time": "2019-01-23T21:03:46.978599Z"
    }
   },
   "outputs": [
    {
     "name": "stdout",
     "output_type": "stream",
     "text": [
      " O tamanho de integer_kinds =            5\r\n",
      " Os tipos inteiros são:  1    2    4    8   16\r\n",
      "\r\n",
      " O maior e o menor inteiro i no intervalo $\\pm 10^{\\pm 5}$ são:\r\n",
      " -2147483648  <= i <=   2147483647\r\n",
      "\r\n",
      " O maior e o menor inteiro i no intervalo $\\pm 10^{\\pm 15}$ são:\r\n",
      " -9223372036854775808  <= i <=   9223372036854775807\r\n",
      "\r\n",
      " HUGE(i5)  >= 10_k5**5-1   =  T\r\n",
      " HUGE(i15) >= 10_k15**15-1 =  T\r\n"
     ]
    }
   ],
   "source": [
    "# A seguir vamos rodar o programa. O executável gerado é o x\n",
    "!./x"
   ]
  },
  {
   "cell_type": "markdown",
   "metadata": {},
   "source": [
    "### Avaliando os inteiros"
   ]
  },
  {
   "cell_type": "code",
   "execution_count": 27,
   "metadata": {
    "ExecuteTime": {
     "end_time": "2019-01-23T20:55:30.242183Z",
     "start_time": "2019-01-23T20:55:30.236748Z"
    }
   },
   "outputs": [
    {
     "name": "stdout",
     "output_type": "stream",
     "text": [
      "Overwriting src/Avaliando_inteiros_01.f95\n"
     ]
    }
   ],
   "source": [
    "%%writefile src/Avaliando_inteiros_01.f95\n",
    "PROGRAM tipos_de_inteiros\n",
    "  INTEGER, PARAMETER :: ip1 = 1\n",
    "  INTEGER, PARAMETER :: ip2 = 2\n",
    "  INTEGER, PARAMETER :: ip3 = 4\n",
    "  INTEGER, PARAMETER :: ip4 = 8\n",
    "  INTEGER, PARAMETER :: ip5 = 16\n",
    "  INTEGER(1)  :: i1 = 1\n",
    "  INTEGER(2)  :: i2 = 2\n",
    "  INTEGER(4)  :: i3 = 3\n",
    "  INTEGER(8)  :: i4 = 4\n",
    "  INTEGER(16) :: i5 = 5\n",
    "  PRINT *, '        Tipo      Digitos    Expoente  Bit_Size'\n",
    "  PRINT '(9x,4(i3,8x))', kind(i1), digits(i1), RANGE(i1),  BIT_SIZE(i1)\n",
    "  PRINT '(9x,4(i3,8x))', kind(i2), digits(i2), RANGE(i2),  BIT_SIZE(i2)\n",
    "  PRINT '(9x,4(i3,8x))', kind(i3), digits(i3), RANGE(i3),  BIT_SIZE(i3)\n",
    "  PRINT '(9x,4(i3,8x))', kind(i4), digits(i4), RANGE(i4),  BIT_SIZE(i4)\n",
    "  PRINT '(9x,4(i3,8x))', kind(i5), digits(i5), RANGE(i5),  BIT_SIZE(i5)\n",
    "END PROGRAM tipos_de_inteiros"
   ]
  },
  {
   "cell_type": "code",
   "execution_count": 28,
   "metadata": {
    "ExecuteTime": {
     "end_time": "2019-01-23T20:55:36.754588Z",
     "start_time": "2019-01-23T20:55:36.574463Z"
    }
   },
   "outputs": [],
   "source": [
    "# A seguir vamos compilar o programa\n",
    "!f95 -std=f2008 -Wall -Waliasing -pedantic -Wsurprising -Wunderflow -o x src/Avaliando_inteiros_01.f95"
   ]
  },
  {
   "cell_type": "code",
   "execution_count": 29,
   "metadata": {
    "ExecuteTime": {
     "end_time": "2019-01-23T20:55:41.299808Z",
     "start_time": "2019-01-23T20:55:41.188523Z"
    }
   },
   "outputs": [
    {
     "name": "stdout",
     "output_type": "stream",
     "text": [
      "         Tipo      Digitos    Expoente  Bit_Size\r\n",
      "           1          7          2          8\r\n",
      "           2         15          4         16\r\n",
      "           4         31          9         32\r\n",
      "           8         63         18         64\r\n",
      "          16        127         38        128\r\n"
     ]
    }
   ],
   "source": [
    "# Rodando o programa\n",
    "! ./x"
   ]
  },
  {
   "cell_type": "code",
   "execution_count": 30,
   "metadata": {
    "ExecuteTime": {
     "end_time": "2019-01-23T20:55:41.934423Z",
     "start_time": "2019-01-23T20:55:41.929124Z"
    }
   },
   "outputs": [
    {
     "name": "stdout",
     "output_type": "stream",
     "text": [
      "Writing src/Avaliando_inteiros_02.f95\n"
     ]
    }
   ],
   "source": [
    "%%writefile src/Avaliando_inteiros_02.f95\n",
    "PROGRAM tipos_de_inteiros\n",
    "  INTEGER, PARAMETER :: ip1 = selected_int_KIND(2)\n",
    "  INTEGER, PARAMETER :: ip2 = selected_int_KIND(4)\n",
    "  INTEGER, PARAMETER :: ip3 = selected_int_KIND(8)\n",
    "  INTEGER, PARAMETER :: ip4 = selected_int_KIND(10)\n",
    "  INTEGER, PARAMETER :: ip5 = selected_int_KIND(20)\n",
    "  INTEGER(ip1) :: i1 = 1\n",
    "  INTEGER(ip2) :: i2 = 2\n",
    "  INTEGER(ip3) :: i3 = 3\n",
    "  INTEGER(ip4) :: i4 = 4\n",
    "  INTEGER(ip5) :: i5 = 5\n",
    "  PRINT *, '        Tipo      Digitos    Expoente  Bit_Size'\n",
    "  PRINT '(9x,4(i3,8x))', kind(i1), digits(i1), RANGE(i1),  BIT_SIZE(i1)\n",
    "  PRINT '(9x,4(i3,8x))', kind(i2), digits(i2), RANGE(i2),  BIT_SIZE(i2)\n",
    "  PRINT '(9x,4(i3,8x))', kind(i3), digits(i3), RANGE(i3),  BIT_SIZE(i3)\n",
    "  PRINT '(9x,4(i3,8x))', kind(i4), digits(i4), RANGE(i4),  BIT_SIZE(i4)\n",
    "  PRINT '(9x,4(i3,8x))', kind(i5), digits(i5), RANGE(i5),  BIT_SIZE(i5)\n",
    "  STOP\n",
    "END PROGRAM tipos_de_inteiros"
   ]
  },
  {
   "cell_type": "code",
   "execution_count": 31,
   "metadata": {
    "ExecuteTime": {
     "end_time": "2019-01-23T20:55:45.153115Z",
     "start_time": "2019-01-23T20:55:44.972031Z"
    }
   },
   "outputs": [],
   "source": [
    "# A seguir vamos compilar o programa\n",
    "!f95 -std=f2008 -Wall -Waliasing -pedantic -Wsurprising -Wunderflow -o x src/Avaliando_inteiros_02.f95"
   ]
  },
  {
   "cell_type": "code",
   "execution_count": 32,
   "metadata": {
    "ExecuteTime": {
     "end_time": "2019-01-23T20:55:46.032262Z",
     "start_time": "2019-01-23T20:55:45.917774Z"
    }
   },
   "outputs": [
    {
     "name": "stdout",
     "output_type": "stream",
     "text": [
      "         Tipo      Digitos    Expoente  Bit_Size\r\n",
      "           1          7          2          8\r\n",
      "           2         15          4         16\r\n",
      "           4         31          9         32\r\n",
      "           8         63         18         64\r\n",
      "          16        127         38        128\r\n"
     ]
    }
   ],
   "source": [
    "# A seguir vamos rodar o programa. O executável gerado é o x\n",
    "!./x"
   ]
  },
  {
   "cell_type": "code",
   "execution_count": 25,
   "metadata": {
    "ExecuteTime": {
     "end_time": "2019-04-22T10:32:27.038038Z",
     "start_time": "2019-04-22T10:32:27.030887Z"
    }
   },
   "outputs": [
    {
     "name": "stdout",
     "output_type": "stream",
     "text": [
      "Overwriting src/Avaliando_inteiros_03.f95\n"
     ]
    }
   ],
   "source": [
    "%%writefile src/Avaliando_inteiros_03.f95\n",
    "PROGRAM tipos_de_inteiros\n",
    "  USE iso_fortran_env\n",
    "  IMPLICIT NONE\n",
    "  INTEGER, PARAMETER :: int128 = selected_int_KIND(20)\n",
    "  INTEGER(int8)   :: i2 = 2\n",
    "  INTEGER(int16)  :: i3 = 3\n",
    "  INTEGER(int32)  :: i4 = 4\n",
    "  INTEGER(int64)  :: i5 = 5\n",
    "  INTEGER(int128) :: i6 = 6\n",
    "  PRINT *, '        Tipo      Digitos    Expoente  Bit_Size'\n",
    "  PRINT '(9x,4(i3,8x))', kind(i2), digits(i2), RANGE(i2),  BIT_SIZE(i2)\n",
    "  PRINT '(9x,4(i3,8x))', kind(i3), digits(i3), RANGE(i3),  BIT_SIZE(i3)\n",
    "  PRINT '(9x,4(i3,8x))', kind(i4), digits(i4), RANGE(i4),  BIT_SIZE(i4)\n",
    "  PRINT '(9x,4(i3,8x))', kind(i5), digits(i5), RANGE(i5),  BIT_SIZE(i5)\n",
    "  PRINT '(9x,4(i3,8x))', kind(i6), digits(i6), RANGE(i6),  BIT_SIZE(i6)\n",
    "  STOP\n",
    "END PROGRAM tipos_de_inteiros"
   ]
  },
  {
   "cell_type": "code",
   "execution_count": 26,
   "metadata": {
    "ExecuteTime": {
     "end_time": "2019-04-22T10:32:28.406765Z",
     "start_time": "2019-04-22T10:32:28.251424Z"
    }
   },
   "outputs": [],
   "source": [
    "# A seguir vamos compilar o programa\n",
    "!f95 -std=f2008 -Wall -Waliasing -pedantic -Wsurprising -Wunderflow -o x src/Avaliando_inteiros_03.f95"
   ]
  },
  {
   "cell_type": "code",
   "execution_count": 27,
   "metadata": {
    "ExecuteTime": {
     "end_time": "2019-04-22T10:32:32.069070Z",
     "start_time": "2019-04-22T10:32:31.958908Z"
    }
   },
   "outputs": [
    {
     "name": "stdout",
     "output_type": "stream",
     "text": [
      "         Tipo      Digitos    Expoente  Bit_Size\r\n",
      "           1          7          2          8\r\n",
      "           2         15          4         16\r\n",
      "           4         31          9         32\r\n",
      "           8         63         18         64\r\n",
      "          16        127         38        128\r\n"
     ]
    }
   ],
   "source": [
    "# A seguir vamos rodar o programa. O executável gerado é o x\n",
    "!./x"
   ]
  },
  {
   "cell_type": "markdown",
   "metadata": {},
   "source": [
    "## Função `KIND`: Valores Intrínsecos\n",
    "\n",
    "A seleção de um `INTEGER` deve ser feita da seguinte forma\n",
    "\n",
    "```fortran\n",
    "INTEGER, PARAMETER  :: i8 = SELECTED_INT_KIND(8)\n",
    "INTEGER (KIND = i8) :: ia\n",
    "PRINT *, HUGE(ia), KIND(ia)\n",
    "```\n",
    "Este trecho imprimi o maior inteiro disponibilizado pela menor precisão inteira selecionada cuja intervalor contém o intervalo $-10^{8} \\le i \\le 10^{8}$ selecionado. Nesse caso a precisão inteira selecionada, ou seja, o tipo de inteiro, está no intervalo de $-2147483648 \\le i \\le 2147483674$ e o seu valor `KIND` é 4."
   ]
  },
  {
   "cell_type": "markdown",
   "metadata": {},
   "source": [
    "A seleção de um `REAL` dever ser feita da seguinte forma:\n",
    "\n",
    "```fortran\n",
    "INTEGER, PARAMETER :: i10 =  SELECTED_REAL_KIND(10, 200)\n",
    "REAL (KIND = i10)  :: a\n",
    "PRINT *, RANGE(a), PRECISION(a), KIND(a)\n",
    "```\n",
    "Este trecho imprimi o intervalo do expoente, os dígitos da precião\n",
    "decimal e o valor <span style=\"color:red\">`KIND`</span> de a.\n",
    "\n",
    "### Exemplo de possíveis declarações:\n",
    "\n",
    "```fortran\n",
    "INTEGER, PARAMETER :: PR = 8, WP=4\n",
    "REAL(KIND=pr) :: ra     ! ou\n",
    "REAL(wp)      :: ra, cte, a, b\n",
    "REAL(4)       :: x\n",
    "REAL          :: y\n",
    "INTEGER       :: i, j, k\n",
    "\n",
    "cte = 1.0_pr          ! Inicializando a constante\n",
    "a   = 1.50E-10_pr     ! Inicializando a constante\n",
    "i   = KIND(x)         ! O valor de i=4\n",
    "j   = KIND(y)         ! Determinando o valor do real na maq.\n",
    "b   = REAL(i,KIND=pr) ! b recebe um valor real tipo wp\n",
    "```"
   ]
  },
  {
   "cell_type": "markdown",
   "metadata": {},
   "source": [
    "## Função `KIND` para os reais\n",
    "\n",
    "-   Declara uma variável real, <span style=\"color:red\">ra</span>, cuja a\n",
    "precisão é determinada pelo valor parâmetro `KIND`, <span style=\"color:red\">pr</span>;\n",
    "\n",
    "-  Os valores `KIND` dependem do sistema;\n",
    "\n",
    "-  Uma  variável real de 8 byte (64 bit) geralmente tem o valor `KIND` 8 ou 2;\n",
    "\n",
    "-  Uma variável real de 4 byte (32 bit) geralmente tem o valor `KIND` 4 ou 1;\n",
    "\n",
    "-  Constantes literais inicializadas com valores `KIND`: \n",
    "\n",
    "   - `const = 1.0_pr;    e=1.602e-19_pr`\n",
    "\n",
    "- Um real pode ser declarado de forma independente do sistema, especificando o valor `KIND` associado com a precisão e o intervalo do expoente necessário da seguinte forma:\n",
    "\n",
    "```fortran\n",
    "INTEGER, PARAMETER :: i10 = SELECTED_REAL_KIND(10,200)\n",
    "REAL (KIND = i10)  :: a, b, c\n",
    "```\n",
    "\n",
    "<span style=\"color:blue; font-size: 1.25em;\"> a, b e c tem no mínimo 10 dígitos decimais de precisão e um expoente com intervalo de $-10^{200}$ a $10^{200}$. </span>\n"
   ]
  },
  {
   "cell_type": "markdown",
   "metadata": {},
   "source": [
    "## Selecionando precisão de um real\n",
    "\n",
    "O `SELECTED_REAL_KIND(D, E, RADIX)` retorna um inteiro que define o tipo do real com precisão decimal de pelo menos $D$ dígitos, e com expoentes variam entre $-10^E$ e $10^E$ e com uma base dada por `radix`. O `radix` é um argumento opcional. A precisão retornada é a que atende  aos dois requisitos simultâneamete, podendo exceder um deles. Os possíveis valores retornados são:\n",
    "\n",
    "- $>0$ Precisão que mais se aproxima da desejada;\n",
    "\n",
    "- $-1$ Se a precisão dos dígitos decimais D não estiver disponível, embora os requisitos de E e `radix` possam ter sidos satisfeitos.\n",
    "\n",
    "- $-2$ Se a prescisão do expoente E não estiver disponível, embora os requisitos de D e `radix` possam ter sidos satisfeitos.\n",
    "\n",
    "- $-3$ Se os requisitos de `radix` são satisfeitos mas os de D e E não são satisfeitos.\n",
    "\n",
    "- $-4$ Se os requisitos de `radix` e D ou E são satisfeitos.\n",
    "\n",
    "- $-5$ Se não houver nenhum tipo real com o `radix` dado.\n",
    "\n",
    "- Forma geral: `SELECTED_REAL_KIND(d, d)`\n",
    "\n",
    "```Fortran\n",
    "INTEGER, PARAMETER :: D = 10  ! Digitos de precisao\n",
    "INTEGER, PARAMETER :: E = 200 ! Digitos variação do expoente: -10^e a +10^e\n",
    "\n",
    "INTEGER, PARAMETER :: pr = SELECTED_REAL_KIND(d,e)\n",
    "REAL (KIND = pr)   :: ra\n",
    "```\n",
    "Na expressão <span style=\"color:blue\">SELECTED_REAL_KIND(d,e)</span> :\n",
    "\n",
    "- <span style=\"color:red\">d</span> é o número mínimo de dígitos decimais de precisão que será selecionada pelo parâmetro <span style=\"color:red\">pr</span>.\n",
    "\n",
    "- <span style=\"color:red\">e</span> é o número mínimo de dígitos decimais de precisão da variação do expoente que será selecionada pelo parâmetro <span style=\"color:red\">pr</span>.\n",
    "\n",
    "- **CUIDADOS**\n",
    "  - Devemos estar atentos a razão entre precisão e tempo de CPU.\n",
    "  - Cuidado com a escolha de \\fortran{d}, pois este valor pode estar no limite entre duas precisões.\n",
    "  - Cuidado ao analisar os resultados provenientes de máquinas que possuem preciões diferentes.\n"
   ]
  },
  {
   "cell_type": "markdown",
   "metadata": {},
   "source": [
    "## Exemplo: Avaliando reais"
   ]
  },
  {
   "cell_type": "code",
   "execution_count": 52,
   "metadata": {
    "ExecuteTime": {
     "end_time": "2019-01-23T21:09:14.217319Z",
     "start_time": "2019-01-23T21:09:14.206695Z"
    },
    "run_control": {
     "marked": true
    }
   },
   "outputs": [
    {
     "name": "stdout",
     "output_type": "stream",
     "text": [
      "Overwriting src/Avaliando_reais.f95\n"
     ]
    }
   ],
   "source": [
    "%%writefile src/Avaliando_reais_01.f95\n",
    "PROGRAM tipos_de_reais\n",
    "  USE iso_fortran_env\n",
    "  IMPLICIT NONE\n",
    "  INTEGER, PARAMETER :: ps = selected_real_KIND(6)\n",
    "  INTEGER, PARAMETER :: pd = selected_real_KIND(10,100)\n",
    "  INTEGER, PARAMETER :: pq = selected_real_KIND(r=400)\n",
    "  INTEGER, PARAMETER :: pO = selected_real_KIND(20,1500)        \n",
    "  REAL(kind=ps) :: x\n",
    "  REAL(kind=pd) :: y\n",
    "  REAL(kind=pq) :: w\n",
    "  REAL(kind=pO) :: z        \n",
    "  INTEGER           :: sr      \n",
    "  CHARACTER(len=50) :: fmtr \n",
    "  sr = SIZE(real_kinds)         \n",
    "  PRINT *, \"O tamanho de real_kinds = \", sr \n",
    "  WRITE(fmtr,'(a8,i2,a8)') \"(1x,A20,\", sr, \"(i2,3x))\" \n",
    "  PRINT fmtr,\"Os tipos reais são: \", real_kinds\n",
    "  PRINT *                \n",
    "  PRINT *, ' Tipo      Precisao    Expoente    Dígitos'\n",
    "  PRINT '(1x,4(i4,8x))', kind(x), PRECISION(x), RANGE(x), DIGITS(x)\n",
    "  PRINT '(1x,4(i4,8x))', kind(y), PRECISION(y), RANGE(y), DIGITS(y)\n",
    "  PRINT '(1x,4(i4,8x))', kind(w), PRECISION(w), RANGE(w), DIGITS(w)    \n",
    "  PRINT '(1x,4(i4,8x))', kind(z), PRECISION(z), RANGE(z), DIGITS(z)\n",
    "END PROGRAM tipos_de_reais"
   ]
  },
  {
   "cell_type": "code",
   "execution_count": 53,
   "metadata": {
    "ExecuteTime": {
     "end_time": "2019-01-23T21:09:15.358086Z",
     "start_time": "2019-01-23T21:09:15.162606Z"
    }
   },
   "outputs": [],
   "source": [
    "# A seguir vamos compilar o programa\n",
    "!f95 -std=f2008 -Wall -Waliasing -pedantic -Wsurprising -Wunderflow -o x src/Avaliando_reais_01.f95"
   ]
  },
  {
   "cell_type": "code",
   "execution_count": 54,
   "metadata": {
    "ExecuteTime": {
     "end_time": "2019-01-23T21:09:16.158542Z",
     "start_time": "2019-01-23T21:09:16.046187Z"
    }
   },
   "outputs": [
    {
     "name": "stdout",
     "output_type": "stream",
     "text": [
      " O tamanho de real_kinds =            4\r\n",
      " Os tipos reais são: 4    8   10   16\r\n",
      "\r\n",
      "  Tipo      Precisao    Expoente    Dígitos\r\n",
      "    4           6          37          24\r\n",
      "    8          15         307          53\r\n",
      "   10          18        4931          64\r\n",
      "   16          33        4931         113\r\n"
     ]
    }
   ],
   "source": [
    "# A seguir vamos rodar o programa. O executável gerado é o x\n",
    "!./x"
   ]
  },
  {
   "cell_type": "code",
   "execution_count": 16,
   "metadata": {
    "ExecuteTime": {
     "end_time": "2019-04-22T10:21:59.640928Z",
     "start_time": "2019-04-22T10:21:59.606092Z"
    }
   },
   "outputs": [
    {
     "name": "stdout",
     "output_type": "stream",
     "text": [
      "Writing src/Avaliando_reais_02.f95\n"
     ]
    }
   ],
   "source": [
    "%%writefile src/Avaliando_reais_02.f95\n",
    "PROGRAM tipos_de_reais\n",
    "  USE iso_fortran_env\n",
    "  IMPLICIT NONE\n",
    "  INTEGER, PARAMETER :: ps = selected_real_KIND(6)\n",
    "  INTEGER, PARAMETER :: pd = selected_real_KIND(10,100)\n",
    "  INTEGER, PARAMETER :: pq = selected_real_KIND(r=400)\n",
    "  INTEGER, PARAMETER :: pO = selected_real_KIND(20,1500)        \n",
    "  REAL:: x\n",
    "  REAL(real32) :: y\n",
    "  REAL(real64) :: w\n",
    "  REAL(real128) :: z        \n",
    "  INTEGER           :: sr      \n",
    "  CHARACTER(len=50) :: fmtr \n",
    "  sr = SIZE(real_kinds)         \n",
    "  PRINT *, \"O tamanho de real_kinds = \", sr \n",
    "  WRITE(fmtr,'(a8,i2,a8)') \"(1x,A20,\", sr, \"(i2,3x))\" \n",
    "  PRINT fmtr,\"Os tipos reais são: \", real_kinds\n",
    "  PRINT *                \n",
    "  PRINT *, ' Tipo      Precisao    Expoente    Dígitos'\n",
    "  PRINT '(1x,4(i4,8x))', kind(x), PRECISION(x), RANGE(x), DIGITS(x)\n",
    "  PRINT '(1x,4(i4,8x))', kind(y), PRECISION(y), RANGE(y), DIGITS(y)\n",
    "  PRINT '(1x,4(i4,8x))', kind(w), PRECISION(w), RANGE(w), DIGITS(w)    \n",
    "  PRINT '(1x,4(i4,8x))', kind(z), PRECISION(z), RANGE(z), DIGITS(z)\n",
    "END PROGRAM tipos_de_reais"
   ]
  },
  {
   "cell_type": "code",
   "execution_count": 17,
   "metadata": {
    "ExecuteTime": {
     "end_time": "2019-04-22T10:22:01.696511Z",
     "start_time": "2019-04-22T10:22:00.536116Z"
    }
   },
   "outputs": [],
   "source": [
    "# A seguir vamos compilar o programa\n",
    "!f95 -std=f2008 -Wall -Waliasing -pedantic -Wsurprising -Wunderflow -o x src/Avaliando_reais_02.f95"
   ]
  },
  {
   "cell_type": "code",
   "execution_count": 18,
   "metadata": {
    "ExecuteTime": {
     "end_time": "2019-04-22T10:22:02.644656Z",
     "start_time": "2019-04-22T10:22:02.441289Z"
    }
   },
   "outputs": [
    {
     "name": "stdout",
     "output_type": "stream",
     "text": [
      " O tamanho de real_kinds =            4\r\n",
      " Os tipos reais são: 4    8   10   16\r\n",
      "\r\n",
      "  Tipo      Precisao    Expoente    Dígitos\r\n",
      "    4           6          37          24\r\n",
      "    4           6          37          24\r\n",
      "    8          15         307          53\r\n",
      "   16          33        4931         113\r\n"
     ]
    }
   ],
   "source": [
    "# A seguir vamos rodar o programa. O executável gerado é o x\n",
    "!./x"
   ]
  },
  {
   "cell_type": "markdown",
   "metadata": {},
   "source": [
    "## Selecionado um real\n",
    "\n",
    "O parâmetro longo definido como:\n",
    "\n",
    "```fortran\n",
    " INTEGER, PARAMETER :: longo = SELECTED_REAL_KIND(9, 99)\n",
    "```\n",
    "seleciona o menor tipo de real que contém um número real com $9$ dígitos de precisão decimal e que seu expoente varie no intervalo de $10^{-99}$ a $10^{99}$. Assim,\n",
    "\n",
    "```fortran\n",
    "REAL(longo) :: a, b\n",
    "...\n",
    "a=1.7_longo; b=6.56e-15_longo\n",
    "```\n",
    "\n",
    "Temos também as funções intrínsecas\n",
    "```fortran\n",
    "INTEGER     :: n\n",
    "REAL(longo) :: a, b\n",
    "n=KIND(1.7_long)\n",
    "a=PRECISION(1.7_long);  b=RANGE(1.7_long)\n",
    "```"
   ]
  },
  {
   "cell_type": "markdown",
   "metadata": {},
   "source": [
    "## Portabilidade numérica, exemplo: Modulo precisao\n",
    "\n",
    "A seguir mostraremos como usar um módulo em fortran e compilar o programa o qual usa ele. Eles estão em arquivos separados, para facilitar a manutenção."
   ]
  },
  {
   "cell_type": "code",
   "execution_count": 6,
   "metadata": {
    "ExecuteTime": {
     "end_time": "2019-02-08T14:07:14.014806Z",
     "start_time": "2019-02-08T14:07:14.005255Z"
    }
   },
   "outputs": [
    {
     "name": "stdout",
     "output_type": "stream",
     "text": [
      "Overwriting src/Mod_Precisao.f95\n"
     ]
    }
   ],
   "source": [
    "%%writefile src/Mod_Precisao.f95\n",
    "MODULE PRECISAO\n",
    "  IMPLICIT NONE\n",
    "  ! Definindo os possíveis tipos de reais\n",
    "  INTEGER, PARAMETER :: sp = SELECTED_REAL_KIND(5,20)    ! precisao simple\n",
    "  INTEGER, PARAMETER :: dp = SELECTED_REAL_KIND(10,100)  ! precisao dupla\n",
    "  INTEGER, PARAMETER :: qp = SELECTED_REAL_KIND(20,400)  ! precisao quadupla\n",
    "  INTEGER, PARAMETER :: op = SELECTED_REAL_KIND(26,4000) ! precisao octupla\n",
    "  ! Definindo a precisão selecionada\n",
    "  INTEGER, PARAMETER :: pr = dp\n",
    "  ! Definindo os possíveis tipos de inteiros\n",
    "  INTEGER, PARAMETER :: ip1 = selected_int_KIND(2)\n",
    "  INTEGER, PARAMETER :: ip2 = selected_int_KIND(4)\n",
    "  INTEGER, PARAMETER :: ip3 = selected_int_KIND(8)\n",
    "  INTEGER, PARAMETER :: ip4 = selected_int_KIND(10)\n",
    "  INTEGER, PARAMETER :: ip5 = selected_int_KIND(20)\n",
    "END MODULE PRECISAO"
   ]
  },
  {
   "cell_type": "code",
   "execution_count": 7,
   "metadata": {
    "ExecuteTime": {
     "end_time": "2019-02-08T14:07:20.106028Z",
     "start_time": "2019-02-08T14:07:20.089745Z"
    }
   },
   "outputs": [
    {
     "name": "stdout",
     "output_type": "stream",
     "text": [
      "Overwriting src/Teste_Precisao.f95\n"
     ]
    }
   ],
   "source": [
    "%%writefile src/Teste_Precisao.f95\n",
    "PROGRAM test\n",
    "  USE precisao ! Essa declaração vem antes do implicit none\n",
    "  IMPLICIT NONE\n",
    "  REAL(pr) :: a, b\n",
    "  REAL(dp) :: c, d\n",
    "  print *, 'Inicio do programa'\n",
    "  a = 15.0_pr * SIN( 5.0_pr * b )\n",
    "  b = SQRT( 17.0_dp ) * 5.0_pr\n",
    "  c = 2.0*(a + b)\n",
    "  d = a/2.0e+2\n",
    "  print *, \"a = \", a , \" b = \", b\n",
    "  print *, \"c = \", c , \" d = \", d\n",
    "  print *, 'Fim do programa'\n",
    "  STOP\n",
    "END PROGRAM test"
   ]
  },
  {
   "cell_type": "markdown",
   "metadata": {},
   "source": [
    "Para compilar o programa e o módulo, que estão em arquivos separados, devemos tomar o cuidado de colocar eles na ordem correta de dependência. Assim como o módulo não depende do programa ele deve vir primeiro, logo a linha de compilção tem a seguinte forma:"
   ]
  },
  {
   "cell_type": "code",
   "execution_count": 8,
   "metadata": {
    "ExecuteTime": {
     "end_time": "2019-02-08T14:07:24.987828Z",
     "start_time": "2019-02-08T14:07:24.775860Z"
    }
   },
   "outputs": [],
   "source": [
    "# A seguir vamos compilar o programa com o módulo\n",
    "!f95 -std=f2008 -Wall -Waliasing -pedantic -Wsurprising -Wunderflow -o x src/Mod_Precisao.f95 src/Teste_Precisao.f95"
   ]
  },
  {
   "cell_type": "markdown",
   "metadata": {},
   "source": [
    "Note que o módulo deve vir antes do programa o qual depende dele."
   ]
  },
  {
   "cell_type": "code",
   "execution_count": 9,
   "metadata": {
    "ExecuteTime": {
     "end_time": "2019-02-08T14:07:30.166592Z",
     "start_time": "2019-02-08T14:07:30.055416Z"
    }
   },
   "outputs": [
    {
     "name": "stdout",
     "output_type": "stream",
     "text": [
      " Inicio do programa\r\n",
      " a =    0.0000000000000000       b =    20.615528128088304     \r\n",
      " c =    41.231056256176608       d =    0.0000000000000000     \r\n",
      " Fim do programa\r\n"
     ]
    }
   ],
   "source": [
    "# A seguir vamos rodar o programa. O executável gerado é o x\n",
    "!./x"
   ]
  },
  {
   "cell_type": "markdown",
   "metadata": {},
   "source": [
    "### A função `DOUBLE PRECISION`\n",
    "\n",
    "No exemplo mais simples é usar `DOUBLE PRECISION`, a qual foi herdada do fortran 77, dessea forma o módulo precisão poderia ser reescrito da seguinte forma:\n",
    "\n",
    "```fortran\n",
    "MODULE PRECISAO\n",
    "  IMPLICIT NONE\n",
    "  ! Definindo os possíveis tipos de reais\n",
    "  INTEGER, PARAMETER :: sp = SELECTED_REAL_KIND(5,20)    ! precisao simple\n",
    "  INTEGER, PARAMETER :: dp = KIND(1.0D0)                 ! precisao dupla\n",
    "  INTEGER, PARAMETER :: qp = SELECTED_REAL_KIND(18,400)  ! precisao quadupla\n",
    "  INTEGER, PARAMETER :: op = SELECTED_REAL_KIND(25,4000) ! precisao octupla\n",
    "  ! Definindo a precisão selecionada\n",
    "  INTEGER, PARAMETER :: pr = dp\n",
    "  ! Definindo os possíveis tipos de inteiros\n",
    "  INTEGER, PARAMETER :: ip1 = selected_int_KIND(2)\n",
    "  INTEGER, PARAMETER :: ip2 = selected_int_KIND(4)\n",
    "  INTEGER, PARAMETER :: ip3 = selected_int_KIND(8)\n",
    "  INTEGER, PARAMETER :: ip4 = selected_int_KIND(10)\n",
    "  INTEGER, PARAMETER :: ip5 = selected_int_KIND(20)\n",
    "END MODULE PRECISAO\n",
    "```\n",
    "\n",
    "- Um outro exemplo de uso mais simples é usar o `DOUBLE PRECISION` na declaração de seu program:\n",
    "\n",
    "```fortran\n",
    "INTEGER, PARAMETER :: dp = KIND(1.0D0)\n",
    "\n",
    "REAL (KIND = dp) :: ra\n",
    "```\n",
    "- <span style=\"color:red\">ra</span> foi declarada como `DOUBLE PRECISION` mas ela depende do sistema.\n"
   ]
  },
  {
   "cell_type": "markdown",
   "metadata": {},
   "source": [
    "## Portabilidade Numérica\n",
    "\n",
    "Há funções intrínsecas que fornecem as características do modelo de número no qual estão baseadas as definições dos tipos numéricos, que independem do argumento, e os valores retornados só dependem do tipo do argumento.\n",
    "\n",
    "|  Função          |  Descrição                                   |\n",
    "| :----------------| : -------------------------------------------|\n",
    "| `DIGITS(X)`      |  Número de dígitos significantes             |\n",
    "| `EPSILON(X)`     |  Quase negligenciável comparada a um (real)  |\n",
    "| `HUGE(X)`        |  Maior número                                |\n",
    "| `MAXEXPONENT(X)` |  Expoente máximo do modelo (real)            |\n",
    "| `MINEXPONENT(X)` |  Expoente mínimo do modelo (real)            |\n",
    "| `PRECISION(X)`   |  Precisão decimal (real, complex)            |\n",
    "| `RADIX(X)`       |  Base do modelo                              |\n",
    "| `RANGE(X)`       |  Variação decimal do exponente               |\n",
    "| `BIT_SIZE(I)`    |  Retorna o número de bits de I, um `INTEGER` |\n",
    "| `TINY(X)`        |  Menor número positivo (real)                | \n",
    "\n",
    "Estas funções são importantes para portar softwares numéricos.\n",
    "\n",
    "### Exemplos"
   ]
  },
  {
   "cell_type": "markdown",
   "metadata": {},
   "source": [
    "## Precisão dos inteiros\n",
    "\n",
    "Vamos analisar as seguintes precisões dos inteiros:\n",
    "\n",
    "- kind=2\n",
    "- kind=4\n",
    "- kind=8\n",
    "- kind=10\n",
    "- kind=20\n",
    "\n"
   ]
  },
  {
   "cell_type": "markdown",
   "metadata": {},
   "source": [
    "## Inteiros kind=2"
   ]
  },
  {
   "cell_type": "code",
   "execution_count": null,
   "metadata": {
    "ExecuteTime": {
     "end_time": "2018-05-06T19:38:53.534924Z",
     "start_time": "2018-05-06T19:38:53.528811Z"
    }
   },
   "outputs": [],
   "source": [
    "%%writefile src/Tamanho_dos_inteiros_2.f95\n",
    "PROGRAM varsize_inteiro\n",
    "   IMPLICIT NONE\n",
    "   INTEGER, PARAMETER :: k = selected_int_kind(2)\n",
    "   INTEGER(k)         :: i = 1\n",
    "   PRINT *,\" INTEIRO COM AS SEGUINTES CARACTERÍSTICAS\"\n",
    "   PRINT *,\" KIND         = \", KIND( I )\n",
    "   PRINT *,\" Digits       = \", DIGITS( I )\n",
    "   PRINT *,\" Radix        = \", RADIX( I )\n",
    "   PRINT *,\" Range        = \", RANGE( I )\n",
    "   PRINT *,\" Huge         = \", HUGE( i )\n",
    "   i = HUGE( i );        i = i + 1\n",
    "   PRINT *,\" Menor valor  = \", i\n",
    "   PRINT *,\" Bit_Size     = \", BIT_SIZE( I )\n",
    "   STOP\n",
    "END PROGRAM  varsize_inteiro"
   ]
  },
  {
   "cell_type": "code",
   "execution_count": null,
   "metadata": {
    "ExecuteTime": {
     "end_time": "2018-05-06T19:38:54.738954Z",
     "start_time": "2018-05-06T19:38:54.565060Z"
    }
   },
   "outputs": [],
   "source": [
    "# A seguir vamos compilar o programa\n",
    "!f95 -std=f2008 -Wall -Waliasing -pedantic -Wsurprising -Wunderflow  -o x src/Tamanho_dos_inteiros_2.f95"
   ]
  },
  {
   "cell_type": "code",
   "execution_count": null,
   "metadata": {
    "ExecuteTime": {
     "end_time": "2018-05-06T19:43:48.679668Z",
     "start_time": "2018-05-06T19:43:48.566541Z"
    }
   },
   "outputs": [],
   "source": [
    "# A seguir vamos rodar o programa. O executável gerado é o x\n",
    "!./x"
   ]
  },
  {
   "cell_type": "markdown",
   "metadata": {},
   "source": [
    "## Inteiros kind=4"
   ]
  },
  {
   "cell_type": "code",
   "execution_count": 40,
   "metadata": {
    "ExecuteTime": {
     "end_time": "2018-05-06T19:39:57.484239Z",
     "start_time": "2018-05-06T19:39:57.475537Z"
    }
   },
   "outputs": [
    {
     "name": "stdout",
     "output_type": "stream",
     "text": [
      "Overwriting src/Tamanho_dos_inteiros_4.f95\n"
     ]
    }
   ],
   "source": [
    "%%writefile src/Tamanho_dos_inteiros_4.f95\n",
    "PROGRAM varsize_inteiro\n",
    "   IMPLICIT NONE\n",
    "   INTEGER, PARAMETER :: k = selected_int_kind(4)\n",
    "   INTEGER(k)         :: i = 1\n",
    "   PRINT *,\" INTEIRO COM AS SEGUINTES CARACTERÍSTICAS\"\n",
    "   PRINT *,\" KIND         = \", KIND( I )\n",
    "   PRINT *,\" Digits       = \", DIGITS( I )\n",
    "   PRINT *,\" Radix        = \", RADIX( I )\n",
    "   PRINT *,\" Range        = \", RANGE( I )\n",
    "   PRINT *,\" Huge         = \", HUGE( i )\n",
    "   i = HUGE( i );        i = i + 1\n",
    "   PRINT *,\" Menor valor  = \", i\n",
    "   PRINT *,\" Bit_Size     = \", BIT_SIZE( I )\n",
    "   STOP\n",
    "END PROGRAM  varsize_inteiro"
   ]
  },
  {
   "cell_type": "code",
   "execution_count": 41,
   "metadata": {
    "ExecuteTime": {
     "end_time": "2018-05-06T19:40:16.241068Z",
     "start_time": "2018-05-06T19:40:16.061322Z"
    }
   },
   "outputs": [
    {
     "name": "stdout",
     "output_type": "stream",
     "text": [
      "\u001b[01m\u001b[KFortran/Tamanho_dos_inteiros_4.f95:11:29:\u001b[m\u001b[K\r\n",
      "\r\n",
      "    i = HUGE( i );        i = i + 1\r\n",
      "\u001b[01;32m\u001b[K                             1\u001b[m\u001b[K\r\n",
      "\u001b[01;35m\u001b[KWarning:\u001b[m\u001b[K Possible change of value in conversion from INTEGER(4) to INTEGER(2) at (1) [-Wconversion]\r\n"
     ]
    }
   ],
   "source": [
    "# A seguir vamos compilar o programa\n",
    "!f95 -std=f2008 -Wall -Waliasing -pedantic -Wsurprising -Wunderflow  -o x src/Tamanho_dos_inteiros_4.f95\n"
   ]
  },
  {
   "cell_type": "code",
   "execution_count": 42,
   "metadata": {
    "ExecuteTime": {
     "end_time": "2018-05-06T19:40:26.323709Z",
     "start_time": "2018-05-06T19:40:26.211878Z"
    }
   },
   "outputs": [
    {
     "name": "stdout",
     "output_type": "stream",
     "text": [
      "  INTEIRO COM AS SEGUINTES CARACTERÍSTICAS\r\n",
      "  KIND         =            2\r\n",
      "  Digits       =           15\r\n",
      "  Radix        =            2\r\n",
      "  Range        =            4\r\n",
      "  Huge         =   32767\r\n",
      "  Menor valor  =  -32768\r\n",
      "  Bit_Size     =      16\r\n"
     ]
    }
   ],
   "source": [
    "# A seguir vamos rodar o programa. O executável gerado é o x\n",
    "!./x"
   ]
  },
  {
   "cell_type": "markdown",
   "metadata": {},
   "source": [
    "## Inteiros kind=8"
   ]
  },
  {
   "cell_type": "code",
   "execution_count": 34,
   "metadata": {
    "ExecuteTime": {
     "end_time": "2018-05-06T20:49:34.444759Z",
     "start_time": "2018-05-06T20:49:34.434136Z"
    }
   },
   "outputs": [
    {
     "name": "stdout",
     "output_type": "stream",
     "text": [
      "Overwriting src/Tamanho_dos_inteiros_8.f95\n"
     ]
    }
   ],
   "source": [
    "%%writefile src/Tamanho_dos_inteiros_8.f95\n",
    "PROGRAM varsize_inteiro\n",
    "   IMPLICIT NONE\n",
    "   INTEGER, PARAMETER :: k = selected_int_kind(8)\n",
    "   INTEGER(k)         :: i = 1\n",
    "   PRINT *,\" INTEIRO COM AS SEGUINTES CARACTERÍSTICAS\"\n",
    "   PRINT *,\" KIND         = \", KIND( I )\n",
    "   PRINT *,\" Digits       = \", DIGITS( I )\n",
    "   PRINT *,\" Radix        = \", RADIX( I )\n",
    "   PRINT *,\" Range        = \", RANGE( I )\n",
    "   PRINT *,\" Huge         = \", HUGE( i )\n",
    "   i = HUGE( i );        i = i + 1\n",
    "   PRINT *,\" Menor valor  = \", i\n",
    "   PRINT *,\" Bit_Size     = \", BIT_SIZE( I )\n",
    "   STOP\n",
    "END PROGRAM  varsize_inteiro"
   ]
  },
  {
   "cell_type": "code",
   "execution_count": 35,
   "metadata": {
    "ExecuteTime": {
     "end_time": "2018-05-06T20:49:35.593269Z",
     "start_time": "2018-05-06T20:49:35.422791Z"
    }
   },
   "outputs": [],
   "source": [
    "# A seguir vamos compilar o programa\n",
    "!f95 -std=f2008 -Wall -Waliasing -pedantic -Wsurprising -Wunderflow  -o x src/Tamanho_dos_inteiros_8.f95"
   ]
  },
  {
   "cell_type": "code",
   "execution_count": 36,
   "metadata": {
    "ExecuteTime": {
     "end_time": "2018-05-06T20:50:28.677575Z",
     "start_time": "2018-05-06T20:50:28.565364Z"
    }
   },
   "outputs": [
    {
     "name": "stdout",
     "output_type": "stream",
     "text": [
      "  INTEIRO COM AS SEGUINTES CARACTERÍSTICAS\r\n",
      "  KIND         =            4\r\n",
      "  Digits       =           31\r\n",
      "  Radix        =            2\r\n",
      "  Range        =            9\r\n",
      "  Huge         =   2147483647\r\n",
      "  Menor valor  =  -2147483648\r\n",
      "  Bit_Size     =           32\r\n"
     ]
    }
   ],
   "source": [
    "# A seguir vamos rodar o programa. O executável gerado é o x\n",
    "!./x"
   ]
  },
  {
   "cell_type": "markdown",
   "metadata": {},
   "source": [
    "## Inteiros kind=10"
   ]
  },
  {
   "cell_type": "code",
   "execution_count": 37,
   "metadata": {
    "ExecuteTime": {
     "end_time": "2018-05-06T21:29:12.317733Z",
     "start_time": "2018-05-06T21:29:12.310854Z"
    }
   },
   "outputs": [
    {
     "name": "stdout",
     "output_type": "stream",
     "text": [
      "Overwriting src/Tamanho_dos_inteiros_10.f95\n"
     ]
    }
   ],
   "source": [
    "%%writefile src/Tamanho_dos_inteiros_10.f95\n",
    "PROGRAM varsize_inteiro\n",
    "   IMPLICIT NONE\n",
    "   INTEGER, PARAMETER :: k = selected_int_kind(10)\n",
    "   INTEGER(k)         :: i = 1\n",
    "   PRINT *,\" INTEIRO COM AS SEGUINTES CARACTERÍSTICAS\"\n",
    "   PRINT *,\" KIND         = \", KIND( I )\n",
    "   PRINT *,\" Digits       = \", DIGITS( I )\n",
    "   PRINT *,\" Radix        = \", RADIX( I )\n",
    "   PRINT *,\" Range        = \", RANGE( I )\n",
    "   PRINT *,\" Huge         = \", HUGE( i )\n",
    "   i = HUGE( i );        i = i + 1\n",
    "   PRINT *,\" Menor valor  = \", i\n",
    "   PRINT *,\" Bit_Size     = \", BIT_SIZE( I )\n",
    "   STOP\n",
    "END PROGRAM  varsize_inteiro"
   ]
  },
  {
   "cell_type": "code",
   "execution_count": 38,
   "metadata": {
    "ExecuteTime": {
     "end_time": "2018-05-06T21:29:15.868082Z",
     "start_time": "2018-05-06T21:29:15.657166Z"
    }
   },
   "outputs": [],
   "source": [
    "# A seguir vamos compilar o programa\n",
    "!f95 -std=f2008 -Wall -Waliasing -pedantic -Wsurprising -Wunderflow  -o x src/Tamanho_dos_inteiros_10.f95"
   ]
  },
  {
   "cell_type": "code",
   "execution_count": 39,
   "metadata": {
    "ExecuteTime": {
     "end_time": "2018-05-06T21:29:17.692970Z",
     "start_time": "2018-05-06T21:29:17.580852Z"
    }
   },
   "outputs": [
    {
     "name": "stdout",
     "output_type": "stream",
     "text": [
      "  INTEIRO COM AS SEGUINTES CARACTERÍSTICAS\r\n",
      "  KIND         =            8\r\n",
      "  Digits       =           63\r\n",
      "  Radix        =            2\r\n",
      "  Range        =           18\r\n",
      "  Huge         =   9223372036854775807\r\n",
      "  Menor valor  =  -9223372036854775808\r\n",
      "  Bit_Size     =                    64\r\n"
     ]
    }
   ],
   "source": [
    "# A seguir vamos rodar o programa. O executável gerado é o x\n",
    "!./x"
   ]
  },
  {
   "cell_type": "markdown",
   "metadata": {},
   "source": [
    "## Inteiros kind=20"
   ]
  },
  {
   "cell_type": "code",
   "execution_count": 43,
   "metadata": {
    "ExecuteTime": {
     "end_time": "2018-05-06T21:30:14.574944Z",
     "start_time": "2018-05-06T21:30:14.568012Z"
    }
   },
   "outputs": [
    {
     "name": "stdout",
     "output_type": "stream",
     "text": [
      "Overwriting src/Tamanho_dos_inteiros_20.f95\n"
     ]
    }
   ],
   "source": [
    "%%writefile src/Tamanho_dos_inteiros_20.f95\n",
    "PROGRAM varsize_inteiro\n",
    "   IMPLICIT NONE\n",
    "   INTEGER, PARAMETER :: k = selected_int_kind(20)\n",
    "   INTEGER(k)         :: i = 1\n",
    "   PRINT *,\" INTEIRO COM AS SEGUINTES CARACTERÍSTICAS\"\n",
    "   PRINT *,\" KIND         = \", KIND( I )\n",
    "   PRINT *,\" Digits       = \", DIGITS( I )\n",
    "   PRINT *,\" Radix        = \", RADIX( I )\n",
    "   PRINT *,\" Range        = \", RANGE( I )\n",
    "   PRINT *,\" Huge         = \", HUGE( i )\n",
    "   i = HUGE( i );        i = i + 1\n",
    "   PRINT *,\" Menor valor  = \", i\n",
    "   PRINT *,\" Bit_Size     = \", BIT_SIZE( I )\n",
    "   STOP\n",
    "END PROGRAM  varsize_inteiro"
   ]
  },
  {
   "cell_type": "code",
   "execution_count": 44,
   "metadata": {
    "ExecuteTime": {
     "end_time": "2018-05-06T21:30:16.036191Z",
     "start_time": "2018-05-06T21:30:15.821821Z"
    }
   },
   "outputs": [],
   "source": [
    "# A seguir vamos compilar o programa\n",
    "!f95 -std=f2008 -Wall -Waliasing -pedantic -Wsurprising -Wunderflow  -o x src/Tamanho_dos_inteiros_20.f95"
   ]
  },
  {
   "cell_type": "code",
   "execution_count": 45,
   "metadata": {
    "ExecuteTime": {
     "end_time": "2018-05-06T21:30:59.987676Z",
     "start_time": "2018-05-06T21:30:59.871222Z"
    }
   },
   "outputs": [
    {
     "name": "stdout",
     "output_type": "stream",
     "text": [
      "  INTEIRO COM AS SEGUINTES CARACTERÍSTICAS\r\n",
      "  KIND         =           16\r\n",
      "  Digits       =          127\r\n",
      "  Radix        =            2\r\n",
      "  Range        =           38\r\n",
      "  Huge         =  170141183460469231731687303715884105727\r\n",
      "  Menor valor  =  -170141183460469231731687303715884105728\r\n",
      "  Bit_Size     =  128\r\n"
     ]
    }
   ],
   "source": [
    "# A seguir vamos rodar o programa. O executável gerado é o x\n",
    "!./x"
   ]
  },
  {
   "cell_type": "markdown",
   "metadata": {},
   "source": [
    "## Tamanho dos reais\n",
    "\n",
    "Vamos analizar as precisões dos reais:\n",
    "- Simples\n",
    "- Dupla\n",
    "- Quadupla\n",
    "- Octupla"
   ]
  },
  {
   "cell_type": "markdown",
   "metadata": {},
   "source": [
    "### Reais de precisão simples"
   ]
  },
  {
   "cell_type": "code",
   "execution_count": 81,
   "metadata": {
    "ExecuteTime": {
     "end_time": "2019-01-23T21:23:56.356043Z",
     "start_time": "2019-01-23T21:23:56.350951Z"
    }
   },
   "outputs": [
    {
     "name": "stdout",
     "output_type": "stream",
     "text": [
      "Overwriting src/Reais_Precisao_Simples.f95\n"
     ]
    }
   ],
   "source": [
    "%%writefile src/Reais_Precisao_Simples.f95\n",
    "PROGRAM precisao_dos_reais\n",
    "  IMPLICIT NONE\n",
    "  INTEGER, PARAMETER :: ps = SELECTED_REAL_KIND(5,30)    ! precisao simples\n",
    "  REAL(ps), PARAMETER :: x = 1.0\n",
    "  PRINT *,\" Real precisão simples \"\n",
    "  PRINT *,\" kind        = \", KIND( x )\n",
    "  PRINT *,\" digits      = \", DIGITS( x )\n",
    "  PRINT *,\" maxexponent = \", MAXEXPONENT( x )\n",
    "  PRINT *,\" minexponent = \", MINEXPONENT( x )\n",
    "  PRINT *,\" precision   = \", PRECISION( x )\n",
    "  PRINT *,\" radix       = \", RADIX( x )\n",
    "  PRINT *,\" range       = \", RANGE( x )\n",
    "  PRINT *,\" epsilon     = \", EPSILON( x )\n",
    "  PRINT *,\" spacing     = \", SPACING( x )\n",
    "  PRINT *,\" tiny        = \", TINY( x )\n",
    "  PRINT *,\" huge        = \", HUGE( x )\n",
    "  STOP\n",
    "END PROGRAM  precisao_dos_reais"
   ]
  },
  {
   "cell_type": "code",
   "execution_count": 82,
   "metadata": {
    "ExecuteTime": {
     "end_time": "2019-01-23T21:23:57.902318Z",
     "start_time": "2019-01-23T21:23:57.709224Z"
    }
   },
   "outputs": [],
   "source": [
    "# A seguir vamos compilar o programa\n",
    "!f95 -std=f2008 -Wall -Waliasing -pedantic -Wsurprising -Wunderflow  -o x src/Reais_Precisao_Simples.f95"
   ]
  },
  {
   "cell_type": "code",
   "execution_count": 83,
   "metadata": {
    "ExecuteTime": {
     "end_time": "2019-01-23T21:23:58.954458Z",
     "start_time": "2019-01-23T21:23:58.842501Z"
    }
   },
   "outputs": [
    {
     "name": "stdout",
     "output_type": "stream",
     "text": [
      "  Real precisão simples \r\n",
      "  kind        =            4\r\n",
      "  digits      =           24\r\n",
      "  maxexponent =          128\r\n",
      "  minexponent =         -125\r\n",
      "  precision   =            6\r\n",
      "  radix       =            2\r\n",
      "  range       =           37\r\n",
      "  epsilon     =    1.19209290E-07\r\n",
      "  spacing     =    1.19209290E-07\r\n",
      "  tiny        =    1.17549435E-38\r\n",
      "  huge        =    3.40282347E+38\r\n"
     ]
    }
   ],
   "source": [
    "# A seguir vamos rodar o programa. O executável gerado é o x\n",
    "!./x"
   ]
  },
  {
   "cell_type": "markdown",
   "metadata": {},
   "source": [
    "### Reais de precisão dupla"
   ]
  },
  {
   "cell_type": "code",
   "execution_count": 84,
   "metadata": {
    "ExecuteTime": {
     "end_time": "2019-01-23T21:24:10.737181Z",
     "start_time": "2019-01-23T21:24:10.730013Z"
    }
   },
   "outputs": [
    {
     "name": "stdout",
     "output_type": "stream",
     "text": [
      "Overwriting src/Reais_Precisao_Dupla.f95\n"
     ]
    }
   ],
   "source": [
    "%%writefile src/Reais_Precisao_Dupla.f95\n",
    "PROGRAM precisao_dos_reais\n",
    "  IMPLICIT NONE\n",
    "  INTEGER, PARAMETER :: ps = SELECTED_REAL_KIND(8,130)    ! precisao dupla\n",
    "  REAL(ps), PARAMETER :: x = 1.0\n",
    "  PRINT *,\" Real precisão dupla \"\n",
    "  PRINT *,\" kind        = \", KIND( x )\n",
    "  PRINT *,\" digits      = \", DIGITS( x )\n",
    "  PRINT *,\" maxexponent = \", MAXEXPONENT( x )\n",
    "  PRINT *,\" minexponent = \", MINEXPONENT( x )\n",
    "  PRINT *,\" precision   = \", PRECISION( x )\n",
    "  PRINT *,\" radix       = \", RADIX( x )\n",
    "  PRINT *,\" range       = \", RANGE( x )\n",
    "  PRINT *,\" epsilon     = \", EPSILON( x )\n",
    "  PRINT *,\" spacing     = \", SPACING( x )\n",
    "  PRINT *,\" tiny        = \", TINY( x )\n",
    "  PRINT *,\" huge        = \", HUGE( x )\n",
    "  STOP\n",
    "END PROGRAM precisao_dos_reais"
   ]
  },
  {
   "cell_type": "code",
   "execution_count": 85,
   "metadata": {
    "ExecuteTime": {
     "end_time": "2019-01-23T21:24:12.101700Z",
     "start_time": "2019-01-23T21:24:11.928415Z"
    }
   },
   "outputs": [],
   "source": [
    "# A seguir vamos compilar o programa\n",
    "!f95 -std=f2008 -Wall -Waliasing -pedantic -Wsurprising -Wunderflow  -o x src/Reais_Precisao_Dupla.f95"
   ]
  },
  {
   "cell_type": "code",
   "execution_count": 86,
   "metadata": {
    "ExecuteTime": {
     "end_time": "2019-01-23T21:24:14.233712Z",
     "start_time": "2019-01-23T21:24:14.118889Z"
    }
   },
   "outputs": [
    {
     "name": "stdout",
     "output_type": "stream",
     "text": [
      "  Real precisão dupla \r\n",
      "  kind        =            8\r\n",
      "  digits      =           53\r\n",
      "  maxexponent =         1024\r\n",
      "  minexponent =        -1021\r\n",
      "  precision   =           15\r\n",
      "  radix       =            2\r\n",
      "  range       =          307\r\n",
      "  epsilon     =    2.2204460492503131E-016\r\n",
      "  spacing     =    2.2204460492503131E-016\r\n",
      "  tiny        =    2.2250738585072014E-308\r\n",
      "  huge        =    1.7976931348623157E+308\r\n"
     ]
    }
   ],
   "source": [
    "# A seguir vamos rodar o programa. O executável gerado é o x\n",
    "!./x"
   ]
  },
  {
   "cell_type": "markdown",
   "metadata": {},
   "source": [
    "## Reais precisão quadupla"
   ]
  },
  {
   "cell_type": "code",
   "execution_count": 87,
   "metadata": {
    "ExecuteTime": {
     "end_time": "2019-01-23T21:24:53.902230Z",
     "start_time": "2019-01-23T21:24:53.873576Z"
    },
    "scrolled": true
   },
   "outputs": [
    {
     "name": "stdout",
     "output_type": "stream",
     "text": [
      "Overwriting src/Reais_Precisao_Quadupla.f95\n"
     ]
    }
   ],
   "source": [
    "%%writefile src/Reais_Precisao_Quadupla.f95\n",
    "PROGRAM precisao_dos_reais\n",
    "  IMPLICIT NONE\n",
    "  INTEGER, PARAMETER :: ps = SELECTED_REAL_KIND(18,400)    ! precisao quadupla\n",
    "  REAL(ps), PARAMETER :: x = 1.0\n",
    "  PRINT *,\" Real precisão quadupla \"\n",
    "  PRINT *,\" kind        = \", KIND( x )\n",
    "  PRINT *,\" digits      = \", DIGITS( x )\n",
    "  PRINT *,\" maxexponent = \", MAXEXPONENT( x )\n",
    "  PRINT *,\" minexponent = \", MINEXPONENT( x )\n",
    "  PRINT *,\" precision   = \", PRECISION( x )\n",
    "  PRINT *,\" radix       = \", RADIX( x )\n",
    "  PRINT *,\" range       = \", RANGE( x )\n",
    "  PRINT *,\" epsilon     = \", EPSILON( x )\n",
    "  PRINT *,\" spacing     = \", SPACING( x )\n",
    "  PRINT *,\" tiny        = \", TINY( x )\n",
    "  PRINT *,\" huge        = \", HUGE( x )\n",
    "  STOP\n",
    "END PROGRAM precisao_dos_reais"
   ]
  },
  {
   "cell_type": "code",
   "execution_count": 88,
   "metadata": {
    "ExecuteTime": {
     "end_time": "2019-01-23T21:24:55.504995Z",
     "start_time": "2019-01-23T21:24:55.331823Z"
    }
   },
   "outputs": [],
   "source": [
    "# A seguir vamos compilar o programa\n",
    "!f95 -std=f2008 -Wall -Waliasing -pedantic -Wsurprising -Wunderflow  -o x src/Reais_Precisao_Quadupla.f95"
   ]
  },
  {
   "cell_type": "code",
   "execution_count": 89,
   "metadata": {
    "ExecuteTime": {
     "end_time": "2019-01-23T21:24:57.326801Z",
     "start_time": "2019-01-23T21:24:57.214100Z"
    }
   },
   "outputs": [
    {
     "name": "stdout",
     "output_type": "stream",
     "text": [
      "  Real precisão quadupla \r\n",
      "  kind        =           10\r\n",
      "  digits      =           64\r\n",
      "  maxexponent =        16384\r\n",
      "  minexponent =       -16381\r\n",
      "  precision   =           18\r\n",
      "  radix       =            2\r\n",
      "  range       =         4931\r\n",
      "  epsilon     =    1.08420217248550443401E-0019\r\n",
      "  spacing     =    1.08420217248550443401E-0019\r\n",
      "  tiny        =    3.36210314311209350626E-4932\r\n",
      "  huge        =    1.18973149535723176502E+4932\r\n"
     ]
    }
   ],
   "source": [
    "# A seguir vamos rodar o programa. O executável gerado é o x\n",
    "!./x"
   ]
  },
  {
   "cell_type": "markdown",
   "metadata": {},
   "source": [
    "## Reais precisão octupla"
   ]
  },
  {
   "cell_type": "code",
   "execution_count": 90,
   "metadata": {
    "ExecuteTime": {
     "end_time": "2019-01-23T21:27:30.113709Z",
     "start_time": "2019-01-23T21:27:30.109643Z"
    }
   },
   "outputs": [
    {
     "name": "stdout",
     "output_type": "stream",
     "text": [
      "Writing src/Reais_Precisao_Octupla.f95\n"
     ]
    }
   ],
   "source": [
    "%%writefile src/Reais_Precisao_Octupla.f95\n",
    "PROGRAM precisao_dos_reais\n",
    "  IMPLICIT NONE\n",
    "  INTEGER, PARAMETER :: ps = SELECTED_REAL_KIND(25,4000)    ! precisao octupla\n",
    "  REAL(ps), PARAMETER :: x = 1.0\n",
    "  PRINT *,\" Real precisão octupla \"\n",
    "  PRINT *,\" kind        = \", KIND( x )\n",
    "  PRINT *,\" digits      = \", DIGITS( x )\n",
    "  PRINT *,\" maxexponent = \", MAXEXPONENT( x )\n",
    "  PRINT *,\" minexponent = \", MINEXPONENT( x )\n",
    "  PRINT *,\" precision   = \", PRECISION( x )\n",
    "  PRINT *,\" radix       = \", RADIX( x )\n",
    "  PRINT *,\" range       = \", RANGE( x )\n",
    "  PRINT *,\" epsilon     = \", EPSILON( x )\n",
    "  PRINT *,\" spacing     = \", SPACING( x )\n",
    "  PRINT *,\" tiny        = \", TINY( x )\n",
    "  PRINT *,\" huge        = \", HUGE( x )\n",
    "  STOP\n",
    "END PROGRAM precisao_dos_reais"
   ]
  },
  {
   "cell_type": "code",
   "execution_count": 91,
   "metadata": {
    "ExecuteTime": {
     "end_time": "2019-01-23T21:27:59.172248Z",
     "start_time": "2019-01-23T21:27:58.996805Z"
    }
   },
   "outputs": [],
   "source": [
    "# A seguir vamos compilar o programa\n",
    "!f95 -std=f2008 -Wall -Waliasing -pedantic -Wsurprising -Wunderflow  -o x src/Reais_Precisao_Octupla.f95"
   ]
  },
  {
   "cell_type": "code",
   "execution_count": 92,
   "metadata": {
    "ExecuteTime": {
     "end_time": "2019-01-23T21:28:11.125063Z",
     "start_time": "2019-01-23T21:28:11.009861Z"
    }
   },
   "outputs": [
    {
     "name": "stdout",
     "output_type": "stream",
     "text": [
      "  Real precisão octupla \r\n",
      "  kind        =           16\r\n",
      "  digits      =          113\r\n",
      "  maxexponent =        16384\r\n",
      "  minexponent =       -16381\r\n",
      "  precision   =           33\r\n",
      "  radix       =            2\r\n",
      "  range       =         4931\r\n",
      "  epsilon     =    1.92592994438723585305597794258492732E-0034\r\n",
      "  spacing     =    1.92592994438723585305597794258492732E-0034\r\n",
      "  tiny        =    3.36210314311209350626267781732175260E-4932\r\n",
      "  huge        =    1.18973149535723176508575932662800702E+4932\r\n"
     ]
    }
   ],
   "source": [
    "# A seguir vamos rodar o programa. O executável gerado é o x\n",
    "!./x"
   ]
  },
  {
   "cell_type": "markdown",
   "metadata": {},
   "source": [
    "## Declaração de Variáveis\n",
    "\n",
    "Sintaxe geral da declaração de variáveis do Fortran 90 em diante:\n",
    "\n",
    "```Fortran\n",
    "TIPO, atributo1, atributo2, ... :: lista de variáveis\n",
    "```\n",
    "\n",
    "- O `TIPO` pode ser: `INTEGER`, `REAL`, `COMPLEX`, `LOGICAL`, `CHARACTER`,  com os valores `KIND` opcionais. Há também o tipo definido pelo usuário com o `TYPE`:\n",
    "\n",
    "    - INTEGER [(KIND=] kind_valor)]\n",
    "\n",
    "    - CHARACTER ([lista de parâmetros atuais ]) ([LEN=] len_valor e/ou [KIND=] kind_valor)\n",
    "\n",
    "    - (nome do novo tipo `TYPE`)\n",
    "    \n",
    "- Os atributos podem ser:\n",
    "<span style=\"color:red\"> </span>\n",
    "\n",
    "| PARAMETER      | INTRINSIC             |\n",
    "| :--------------| :---------------------|\n",
    "| ALLOCATABLE    | DIMENSION(extentlist) |\n",
    "| INTENT(inout)  | OPTIONAL              |\n",
    "| POINTER        | TARGET                |\n",
    "| PRIVATE        | PUBLIC                |\n",
    "| EXTERNAL       | SAVE                  |\n",
    "\n",
    "\n",
    "- As variáveis também podem ser inicializadas na declaração.\n",
    "\n",
    "### Um exemplo com algumas declarações\n",
    "\n",
    "```Fortran\n",
    "INTEGER, PARAMETER :: pr = SELECTED_REAL_KIND(8,100) ! Seleciona a precisão\n",
    "INTEGER            :: ia, ib                         ! Variaveis inteiras:\n",
    "INTEGER, PARAMETER :: n=100, m=1000                  ! Parametros:\n",
    "! Inicializacao das variaveis:\n",
    "REAL(pr), PARAMETER :: c = 3.0e8_pr, g=9.8_pr, e=1.602e-19_pr  ! Aqui define-se alguns parâmetros\n",
    "REAL :: a = 2.61828, b = 3.14159\n",
    "CHARACTER (LEN = 8) :: ch1, ch2, ch3  ! Variaveis caracter de comprimento 8:\n",
    "CHARACTER (LEN = *) :: Linha          ! Variaveis caracter de comprimento indefinido:\n",
    "INTEGER, DIMENSION(-1:7, 7) :: mat    ! Matriz inteira limite inferior negativo\n",
    "INTEGER,DIMENSION(-3:5,7):: ia, ib, ic(5, 5)  ! Declaração mista de matrizes inteiras\n",
    "```\n",
    "\n"
   ]
  },
  {
   "cell_type": "markdown",
   "metadata": {},
   "source": [
    "### Declaração `IMPLICIT NONE`\n",
    "\n",
    "- Em Fortran 77, o uso de tipos implícitos nos permite usar variáveis não declaradas.\n",
    "\n",
    "- Usar tipos implícitos pode ser a fonte de muitos erros de programação.\n",
    "\n",
    "<span style=\"color:blue; font-size:1.2em;\"> Uma boa prática de programação é sempre declarar as variáveis usadas. Portanto, deve-se sempre usar o:</span>  <span style=\"color:red\">IMPLICIT NONE</span> \n",
    "\n",
    "- <span style=\"color:red\">IMPLICIT NONE</span>: Força a declaração de todas as variáveis.\n",
    "\n",
    "- <span style=\"color:red\">IMPLICIT NONE</span>: Esta declaração só pode ser precedido em uma unidade de programa pelas declarações <span style=\"color:red\">USE</span> e <span style=\"color:red\">FORMAT</span>.\n",
    "\n",
    "```Fortran\n",
    "INTEGER :: i, j, n      ! Variaveis inteiras\n",
    "REAL    :: a, b, c, d   ! Variaveis reais\n",
    "CHARACTER (LEN=8) :: nome\n",
    "CHARACTER (LEN=85):: fmt0, fmt1, fmt2\n",
    "LOGICAL :: Verdade, Falso, teste\n",
    "COMPLEX :: psi\n",
    "```"
   ]
  },
  {
   "cell_type": "markdown",
   "metadata": {},
   "source": [
    "## Tipo `CHARACTER`\n",
    "\n",
    "O `CHARACTER` é o tipo que possui características mais específicas. Uma vez que ele se destina a trabalhar com palavras e como uma palavra (’*string*’) tem como atributo o comprimento, então o valor de comprimento deve ser anexado às declarações da variável. Há duas maneiras de fazer isso:\n",
    "\n",
    "-   Use `CHARACTER(LEN=i)` para declarar variáveis de caráter de comprimento \n",
    "    `i`. Por exemplo, `Nome` e `Rua` são variáveis\n",
    "    `CHARACTER` que podem conter uma palavra de no máximo 15 caracteres\n",
    "\n",
    "    `CHARACTER(LEN=15): Nome, Rua`\n",
    "\n",
    "    Nome, Sobrenome e Apelido são variáveis `CHARACTER` que podem conter\n",
    "    uma palavra de no máximo 20 caracteres:\n",
    "\n",
    "    `CHARACTER(LEN=20):: Nome, Sobrenome, Apelido`\n",
    "\n",
    "-   A função `SELECTED_CHAR_KIND(NOME)` do fortran 2003 em diante, retorna \n",
    "    o valor de tipo para o conjunto de caracteres de nome  `NOME`, se um \n",
    "    conjunto de caracteres com esse nome for suportado, ou -1 caso contrário. \n",
    "    Atualmente, os conjuntos de caracteres suportados incluem \n",
    "    \"[ASCII](https://pt.wikipedia.org/wiki/ASCII)\" e \"DEFAULT\", que são\n",
    "    equivalentes, e o \"ISO_10646\" (Universal Character Set, UCS-4),\n",
    "    comumente conhecido como [Unicode](https://pt.wikipedia.org/wiki/Unicode). \n",
    "    \n",
    "    - [Tabela ASCII](https://www.rapidtables.com/code/text/ascii-table.html)\n",
    "    - [Tabela ASCII](http://www.theasciicode.com.ar/)\n",
    "    - [Tabela UNICODE](https://www.rapidtables.com/code/text/unicode-characters.html)\n",
    "\n",
    "\n",
    "A declaração `CHARACTER(i)` declara variáveis caráter de comprimento `i`, ou seja, neste caso o argumento LEN foi omitido. Por exemplo, `Nome` e `Rua` são variáveis `CHARACTER` que podem conter uma palavra de no máximo 15 caracteres\n",
    "\n",
    "`CHARACTER(15): Nome, Rua`\n",
    "\n",
    "Nome, Sobrenome e Apelido são variáveis `CHARACTER` que podem conter uma\n",
    "palavra de no máximo 20 caracteres:\n",
    "\n",
    "`CHARACTER(20):: Nome, Sobrenome, Apelido`\n",
    "\n",
    "Se uma variável só pode conter um único caráter, a parte do\n",
    "comprimento pode ser removida. As três declarações seguintes são\n",
    "equivalentes:\n",
    "\n",
    "```Fortran\n",
    "   CHARACTER(LEN=1):: Letra, Digito\n",
    "   CHARACTER(1)    :: Letra, Digito\n",
    "   CHARACTER       :: Letra, Digito\n",
    "```\n",
    "\n",
    "Aqui, as variáveis Letra, Digito só podem conter um único caráter.\n",
    "\n",
    "\n",
    "Para declarar variáveis `CHARACTER` de comprimento diferente, com uma\n",
    "única instrução, pode-se anexar uma especificação de comprimento, `*i`,\n",
    "à direita da variável. Neste caso, a variável correspondente terá o\n",
    "comprimento indicado e todas as outras variáveis não serão afetadas.\n",
    "\n",
    "```Fortran\n",
    "   CHARACTER(LEN=50):: Pais*20, Estado, Cidade, Rua*150, CEP*9, Bug*1\n",
    "```\n",
    "\n",
    "Aqui, as variáveis Estado e Cidade pode guardar uma palavra de no máximo\n",
    "50 caracteres, Pais pode guardar uma palavra de no máximo 20 caracteres,\n",
    "Rua pode guardar uma palavra de no máximo 150, CEP pode guardar uma\n",
    "palavra de no máximo 9 e Bug pode conter apenas um caractere.\n",
    "\n",
    "\n",
    "Há mais uma maneira de especificar o comprimento de uma variável\n",
    "`CHARACTER`. Se o valor de comprimento for substituído por um asterisco\n",
    "\\*, significa que o comprimento das variáveis declaradas são\n",
    "determinados em outros lugares. Em geral, este tipo de declarações é\n",
    "utilizado em argumentos subprograma ou em parâmetro e é arbitrada a\n",
    "especificação de comprimento como assumido.\n",
    "\n",
    "```Fortran\n",
    "   CHARACTER(LEN=*):: Marca, Automovel, Modelo, Cor\n",
    "   CHARACTER(*)    :: Marca, Automovel, Modelo, Cor\n",
    "```\n",
    "\n",
    "Aqui, o tamanho atual de variáveis Marca, Automovel, Modelo e Cor são\n",
    "desconhecidas e serão determinadas em outros lugares."
   ]
  },
  {
   "cell_type": "markdown",
   "metadata": {},
   "source": [
    "### Tabela ASCII\n",
    "\n",
    "\n",
    "| ASCII | Símbolo | Descrição                    | ASCII | Símbolo | Descrição                     |\n",
    "|:------|:--------|:-----------------------------|:------|:--------|:------------------------------|\n",
    "|   0   | NULL    | (Null character)             |   33  |  !   | (exclamation mark)               |\n",
    "|   1   | SOH     | (Start of Header)            |   34  |  \"   | (Quotation mark)                 |\n",
    "|   2   | STX     | (Start of Text)              |   35  |  #   | (Number sign)                    |\n",
    "|   3   | ETX     | (End of Text)                |   36  |  $   | (Dollar sign)                    |\n",
    "|   4   | EOT     | (End of Transmission)        |   37  |  %   | (Percent sign)                   |\n",
    "|   5   | ENQ     | (Enquiry)                    |   38  |  &   | (Ampersand)                      |\n",
    "|   6   | ACK     | (Acknowledgement)            |   39  |  '   | (Apostrophe)                     |\n",
    "|   7   | BEL     | (Bell)                       |   40  |  (   | (round brackets or parentheses)  |\n",
    "|   8   | BS      | (Backspace)                  |   41  |  )   | (round brackets or parentheses)  |\n",
    "|   9   | HT      | (Horizontal Tab)             |   42  |  *   | (Asterisk)                       |\n",
    "|   10  | LF      | (Line feed)                  |   43  |  +   | (Plus sign)                      |\n",
    "|   11  | VT      | (Vertical Tab)               |   44  |  ,   | (Comma)                          |\n",
    "|   12  | FF      | (Form feed)                  |   45  |  -   | (Hyphen)                         |\n",
    "|   13  | CR      | (Carriage return)            |   46  |  .   | (Full stop , dot)                |\n",
    "|   14  | SO      | (Shift Out)                  |   47  |  /   | (Slash)                          |\n",
    "|   15  | SI      | (Shift In)                   |   48  |  0   | (number zero)                    |\n",
    "|   16  | DLE     | (Data link escape)           |   49  |  1   | (number one)                     |\n",
    "|   17  | DC1     | (Device control 1)           |   50  |  2   | (number two)                     |\n",
    "|   18  | DC2     | (Device control 2)           |   51  |  3   | (number three)                   |\n",
    "|   19  | DC3     | (Device control 3)           |   52  |  4   | (number four)                    |\n",
    "|   20  | DC4     | (Device control 4)           |   53  |  5   | (number five)                    |\n",
    "|   21  | NAK     | (Negative acknowledgement)   |   54  |  6   | (number six)                     |\n",
    "|   22  | SYN     | (Synchronous idle)           |   55  |  7   | (number seven)                   |\n",
    "|   23  | ETB     | (End of transmission block)  |   56  |  8   | (number eight)                   |\n",
    "|   24  | CAN     | (Cancel)                     |   57  |  9   | (number nine)                    |\n",
    "|   25  | EM      | (End of medium)              |   58  |  :   | (Colon)                          |\n",
    "|   26  | SUB     | (Substitute)                 |   59  |  ;   | (Semicolon)                      |\n",
    "|   27  | ESC     | (Escape)                     |   60  |  <   | (Less-than sign )                |\n",
    "|   28  | FS      | (File separator)             |   61  |  =   | (Equals sign)                    |\n",
    "|   29  | GS      | (Group separator)            |   62  |  >   | (Greater-than sign ; Inequality) |\n",
    "|   30  | RS      | (Record separator)           |   63  |  ?   | (Question mark)                  |\n",
    "|   31  | US      | (Unit separator)             |   64  |  @   | (At sign)                        |\n",
    "|   32  |         | (space)                      |\n",
    "\n",
    "\n",
    "\n",
    "\n",
    "| ASCII | Símbolo | Descrição                     | ASCII | Símbolo | Descrição                            |\n",
    "|:------|:--------|:------------------------------|:------|:--------|:-------------------------------------|\n",
    "|  65   |   A     |  (Capital A )                 |  97   |   a     |  (Lowercase  a )                     |\n",
    "|  66   |   B     |  (Capital B )                 |  98   |   b     |  (Lowercase  b )                     |\n",
    "|  67   |   C     |  (Capital C )                 |  99   |   c     |  (Lowercase  c )                     |\n",
    "|  68   |   D     |  (Capital D )                 |  100  |   d     |  (Lowercase  d )                     |\n",
    "|  69   |   E     |  (Capital E )                 |  101  |   e     |  (Lowercase  e )                     |\n",
    "|  70   |   F     |  (Capital F )                 |  102  |   f     |  (Lowercase  f )                     |\n",
    "|  71   |   G     |  (Capital G )                 |  103  |   g     |  (Lowercase  g )                     |\n",
    "|  72   |   H     |  (Capital H )                 |  104  |   h     |  (Lowercase  h )                     |\n",
    "|  73   |   I     |  (Capital I )                 |  105  |   i     |  (Lowercase  i )                     |\n",
    "|  74   |   J     |  (Capital J )                 |  106  |   j     |  (Lowercase  j )                     |\n",
    "|  75   |   K     |  (Capital K )                 |  107  |   k     |  (Lowercase  k )                     |\n",
    "|  76   |   L     |  (Capital L )                 |  108  |   l     |  (Lowercase  l )                     |\n",
    "|  77   |   M     |  (Capital M )                 |  109  |   m     |  (Lowercase  m )                     |\n",
    "|  78   |   N     |  (Capital N )                 |  110  |   n     |  (Lowercase  n )                     |\n",
    "|  79   |   O     |  (Capital O )                 |  111  |   o     |  (Lowercase  o )                     |\n",
    "|  80   |   P     |  (Capital P )                 |  112  |   p     |  (Lowercase  p )                     |\n",
    "|  81   |   Q     |  (Capital Q )                 |  113  |   q     |  (Lowercase  q )                     |\n",
    "|  82   |   R     |  (Capital R )                 |  114  |   r     |  (Lowercase  r )                     |\n",
    "|  83   |   S     |  (Capital S )                 |  115  |   s     |  (Lowercase  s )                     |\n",
    "|  84   |   T     |  (Capital T )                 |  116  |   t     |  (Lowercase  t )                     |\n",
    "|  85   |   U     |  (Capital U )                 |  117  |   u     |  (Lowercase  u )                     |\n",
    "|  86   |   V     |  (Capital V )                 |  118  |   v     |  (Lowercase  v )                     |\n",
    "|  87   |   W     |  (Capital W )                 |  119  |   w     |  (Lowercase  w )                     |\n",
    "|  88   |   X     |  (Capital X )                 |  120  |   x     |  (Lowercase  x )                     |\n",
    "|  89   |   Y     |  (Capital Y )                 |  121  |   y     |  (Lowercase  y )                     |\n",
    "|  90   |   Z     |  (Capital Z )                 |  122  |   z     |  (Lowercase  z )                     |\n",
    "|  91   |   [     |  (square/box brackets)        |  123  |   {     |  (curly brackets or braces)          |\n",
    "|  92   |   \\     |  (Backslash)                  |  124  | $\\vert$ |  (vertical-bar, vertical line/slash) | \n",
    "|  93   |   ]     |  (square/box brackets)        |  125  |   }     |  (curly brackets or braces)          |\n",
    "|  94   |   ^     |  (Caret or circumflex accent) |  126  |   ~     |  (Tilde ; swung dash)                |\n",
    "|  95   |   _     |  (underscore , understrike )  |  127  |   DEL   |  (Delete)                            |\n",
    "|  96   |   `     |  (Grave accent)               |       |         |                                      |\n",
    "\n",
    "\n",
    "| ASCII | Símbolo | Descrição            | ASCII | Símbolo | Descrição               |\n",
    "|:------|:--------|:---------------------|:------|:--------|:------------------------| \n",
    "| 128 |  Ç | (Majuscule C-cedilla )                                  | 192 |  └ | (Box drawing character)                                |\n",
    "| 129 |  ü | (letter \"u\" with umlaut or diaeresis ; \"u-umlaut\")      | 193 |  ┴ | (Box drawing character)                                |\n",
    "| 130 |  é | (letter \"e\" with acute accent or \"e-acute\")             | 194 |  ┬ | (Box drawing character)                                |\n",
    "| 131 |  â | (letter \"a\" with circumflex accent or \"a-circumflex\")   | 195 |  ├ | (Box drawing character)                                |\n",
    "| 132 |  ä | (letter \"a\" with umlaut or diaeresis ; \"a-umlaut\")      | 196 |  ─ | (Box drawing character)                                |\n",
    "| 133 |  à | (letter \"a\" with grave accent)                          | 197 |  ┼ | (Box drawing character)                                |\n",
    "| 134 |  å | (letter \"a\"  with a ring)                               | 198 |  ã | (letter \"a\" with tilde or \"a-tilde\")                   |\n",
    "| 135 |  ç | (Minuscule c-cedilla)                                   | 199 |  Ã | (letter \"A\" with tilde or \"A-tilde\")                   |\n",
    "| 136 |  ê | (letter \"e\" with circumflex accent or \"e-circumflex\")   | 200 |  ╚ | (Box drawing character)                                |\n",
    "| 137 |  ë | (letter \"e\" with umlaut or diaeresis ; \"e-umlaut\")      | 201 |  ╔ | (Box drawing character)                                |\n",
    "| 138 |  è | (letter \"e\" with grave accent)                          | 202 |  ╩ | (Box drawing character)                                |\n",
    "| 139 |  ï | (letter \"i\" with umlaut or diaeresis ; \"i-umlaut\")      | 203 |  ╦ | (Box drawing character)                                |\n",
    "| 140 |  î | (letter \"i\" with circumflex accent or \"i-circumflex\")   | 204 |  ╠ | (Box drawing character)                                |\n",
    "| 141 |  ì | (letter \"i\" with grave accent)                          | 205 |  ═ | (Box drawing character)                                |\n",
    "| 142 |  Ä | (letter \"A\" with umlaut or diaeresis ; \"A-umlaut\")      | 206 |  ╬ | (Box drawing character)                                |\n",
    "| 143 |  Å | (letter \"A\"  with a ring)                               | 207 |  ¤ | (generic currency sign )                               |\n",
    "| 144 |  É | (Capital letter \"E\" with acute accent or \"E-acute\")     | 208 |  ð | (lowercase \"eth\")                                      |\n",
    "| 145 |  æ | (Latin diphthong \"ae\")                                  | 209 |  Ð | (Capital letter \"Eth\")                                 |\n",
    "| 146 |  Æ | (Latin diphthong \"AE\")                                  | 210 |  Ê | (letter \"E\" with circumflex accent or \"E-circumflex\")  |    \n",
    "| 147 |  ô | (letter \"o\" with circumflex accent or \"o-circumflex\")   | 211 |  Ë | (letter \"E\" with umlaut or diaeresis ; \"E-umlaut\")     |                    \n",
    "| 148 |  ö | (letter \"o\" with umlaut or diaeresis ; \"o-umlaut\")      | 212 |  È | (letter \"E\" with grave accent)                         |\n",
    "| 149 |  ò | (letter \"o\" with grave accent)                          | 213 |  ı | (lowercase dot less i)                                 |\n",
    "| 150 |  û | (letter \"u\" with circumflex accent or \"u-circumflex\")   | 214 |  Í | (Capital letter \"I\" with acute accent or \"I-acute\")    |                    \n",
    "| 151 |  ù | (letter \"u\" with grave accent)                          | 215 |  Î | (letter \"I\" with circumflex accent or \"I-circumflex\")  |    \n",
    "| 152 |  ÿ | (letter \"y\" with diaeresis)                             | 216 |  Ï | (letter \"I\" with umlaut or diaeresis ; \"I-umlaut\")     |    \n",
    "| 153 |  Ö | (letter \"O\" with umlaut or diaeresis ; \"O-umlaut\")      | 217 |  ┘ | (Box drawing character)                                |\n",
    "| 154 |  Ü | (letter \"U\" with umlaut or diaeresis ; \"U-umlaut\")      | 218 |  ┌ | (Box drawing character)                                |\n",
    "| 155 |  ø | (slashed zero or empty set)                             | 219 |  █ | (Block)                                                |\n",
    "| 156 |  £ | (Pound sign ; symbol for the pound sterling)            | 220 |  ▄ |                                                        |\n",
    "| 157 |  Ø | (slashed zero or empty set)                             | 221 |  ¦ | (vertical broken bar )                                 |\n",
    "| 158 |  × | (multiplication sign)                                   | 222 |  Ì | (letter \"I\" with grave accent)                         |\n",
    "| 159 |  ƒ | (function sign ; f with hook sign ; florin sign )       | 223 |  ▀ |                                                        |\n",
    "| 160 |  á | (letter \"a\" with acute accent or \"a-acute\")             | 224 |  Ó | (Capital letter \"O\" with acute accent or \"O-acute\")    |            \n",
    "| 161 |  í | (letter \"i\" with acute accent or \"i-acute\")             | 225 |  ß | (letter \"Eszett\" ; \"scharfes S\" or \"sharp S\")          |       \n",
    "| 162 |  ó | (letter \"o\" with acute accent or \"o-acute\")             | 226 |  Ô | (letter \"O\" with circumflex accent or \"O-circumflex\")  |            \n",
    "| 163 |  ú | (letter \"u\" with acute accent or \"u-acute\")             | 227 |  Ò | (letter \"O\" with grave accent)                         |\n",
    "| 164 |  ñ | (letter \"n\" with tilde ; enye)                          | 228 |  õ | (letter \"o\" with tilde or \"o-tilde\")                   |\n",
    "| 165 |  Ñ | (letter \"N\" with tilde ; enye)                          | 229 |  Õ | (letter \"O\" with tilde or \"O-tilde\")                   |\n",
    "| 166 |  ª | (feminine ordinal indicator )                           | 230 |  µ | (Lowercase letter \"Mu\" ; micro sign or micron)         |\n",
    "| 167 |  º | (masculine ordinal indicator)                           | 231 |  þ | (capital letter \"Thorn\")                               |\n",
    "| 168 |  ¿ | (Inverted question marks)                               | 232 |  Þ | (lowercase letter \"thorn\")                             |\n",
    "| 169 |  ® | (Registered trademark symbol)                           | 233 |  Ú | (Capital letter \"U\" with acute accent or \"U-acute\")    |    \n",
    "| 170 |  ¬ | (Logical negation symbol)                               | 234 |  Û | (letter \"U\" with circumflex accent or \"U-circumflex\")  |    \n",
    "| 171 |  ½ | (One half)                                              | 235 |  Ù | (letter \"U\" with grave accent)                         |\n",
    "| 172 |  ¼ | (Quarter or  one fourth)                                | 236 |  ý | (letter \"y\" with acute accent)                         |\n",
    "| 173 |  ¡ | (Inverted exclamation marks)                            | 237 |  Ý | (Capital letter \"Y\" with acute accent)                 |\n",
    "| 174 |  « | (Guillemets or  angle quotes)                           | 238 |  ¯ | (macron symbol)                                        |\n",
    "| 175 |  » | (Guillemets or  angle quotes)                           | 239 |  ´ | (Acute accent)                                         |\n",
    "| 176 |  ░ |                                                         | 240 |  ¬ | (Hyphen)                                               |\n",
    "| 177 |  ▒ |                                                         | 241 |  ± | (Plus-minus sign)                                      |\n",
    "| 178 |  ▓ |                                                         | 242 |  ‗ | (underline or underscore)                              |\n",
    "| 179 |  │ | (Box drawing character)                                 | 243 |  ¾ | (three quarters)                                       |\n",
    "| 180 |  ┤ | (Box drawing character)                                 | 244 |  ¶ | (paragraph sign or pilcrow)                            |\n",
    "| 181 |  Á | (Capital letter \"A\" with acute accent)                  | 245 |  § | (Section sign)                                         |\n",
    "| 182 |  Â | (letter \"A\" with circumflex accent)                     | 246 |  ÷ | (The division sign ; Obelus)                           |\n",
    "| 183 |  À | (letter \"A\" with grave accent)                          | 247 |  ¸ | (cedilla)                                              |\n",
    "| 184 |  © | (Copyright symbol)                                      | 248 |  ° | (degree symbol )                                       |\n",
    "| 185 |  ╣ | (Box drawing character)                                 | 249 |  ¨ | (Diaeresis)                                            |\n",
    "| 186 |  ║ | (Box drawing character)                                 | 250 |  • | (Interpunct or space dot)                              |\n",
    "| 187 |  ╗ | (Box drawing character)                                 | 251 |  ¹ | (superscript one)                                      |\n",
    "| 188 |  ╝ | (Box drawing character)                                 | 252 |  ³ | (cube or superscript three)                            |\n",
    "| 189 |  ¢ | (Cent symbol)                                           | 253 |  ² | (Square or superscript two)                            |\n",
    "| 190 |  ¥ | (YEN and YUAN sign)                                     | 254 |  ■ | (black square)                                         |\n",
    "| 191 |  ┐ | (Box drawing character)                                 | 255 |  nbsp | (non-breaking space or no-break space)              |\n",
    "\n",
    "\n",
    "\t"
   ]
  },
  {
   "cell_type": "markdown",
   "metadata": {},
   "source": [
    "## Tipos Derivados \n",
    "\n",
    "A seguir apresentamos algumas características dos tipos derivados\n",
    "\n",
    "- São definidos pelo usuário;\n",
    "\n",
    "- Pode-se incluir diferentes tipos intrínsecos e derivados;\n",
    "\n",
    "- As componentes são acessadas usando o símbolo da porcentagem (\\%);\n",
    "\n",
    "- A atribuição (=) é o único operador pré definido;\n",
    "\n",
    "- Somente operadores definidos podem ser usados por tipos derivados;\n",
    "\n",
    "- Os operadores podem ser (re)definidos;\n",
    "\n",
    "- Porque criar um novo tipo de variável:\n",
    "\n",
    "   - <span style=\"color:red\">Quando se tem listas de transferência longas;</span>\n",
    "\n",
    "   - <span style=\"color:red\">Para separar as variáveis por grupos;</span>\n",
    "\n",
    "   - <span style=\"color:red\">Para aumentar a legibilidade do programa.</span>\n",
    "   \n",
    "### Exemplos\n",
    "\n",
    "\n",
    "- A declaração de um tipo derivado é:\n",
    "\n",
    "```Fortran\n",
    "TYPE reg_vec\n",
    "   CHARACTER (LEN = 3)  :: lit\n",
    "   INTEGER              :: numero\n",
    "   CHARACTER (LEN = 40) :: cidade\n",
    "END TYPE reg_vec\n",
    "TYPE (reg_vec) :: meucar1, meucar2\n",
    "meucar1 = reg_vec('dcz', 4940, 'Goiania')\n",
    "meucar2%cidade = 'Brasilia'\n",
    "```\n",
    "\n",
    "- Criando as estruturas daqueles tipos derivados:\n",
    "```Fortran\n",
    "TYPE (reg_vec) :: meucar1, meucar2\n",
    "```\n",
    "\n",
    "- Inicializando um tipo derivado constante:\n",
    "```Fortran\n",
    "meucar1 = reg_vec('dcz', 4940, 'Goiania')\n",
    "```\n",
    "\n",
    "- Usando % para selecionar uma componente daquele tipo:\n",
    "```Fortran\n",
    "meucar2%cidade = 'Brasilia'\n",
    "```"
   ]
  },
  {
   "cell_type": "code",
   "execution_count": 61,
   "metadata": {},
   "outputs": [
    {
     "name": "stdout",
     "output_type": "stream",
     "text": [
      "Overwriting src/TipoDerivado_RegVeiculo1.f95\n"
     ]
    }
   ],
   "source": [
    "%%writefile src/TipoDerivado_RegVeiculo1.f95\n",
    "PROGRAM Teste_Reg_Veic_01\n",
    "  IMPLICIT NONE\n",
    "  TYPE reg_vec\n",
    "     INTEGER              :: numero\n",
    "     CHARACTER (LEN = 3)  :: lit\n",
    "     CHARACTER (LEN = 40) :: cidade\n",
    "  END TYPE reg_vec\n",
    "  TYPE (reg_vec)    :: meucar1 , meucar2, atual\n",
    "  CHARACTER(len=50) :: fmt = '(a11,2x,i4.4,2x,a3,2x,a40)'\n",
    "  ! Atribuido todos os elementos de uma vez na ordem\n",
    "  meucar1 = reg_vec ( 4940, \"dcz\" , 'Goiania' )\n",
    "  meucar2 = reg_vec ( 2010, \"abc\" , 'Goiania' )\n",
    "  ! Atribuido elemento por elemento\n",
    "  meucar2%cidade = \"Brasilia\"\n",
    "  ! Atribuido todos os elementos pelo nome\n",
    "  atual = reg_vec( cidade=\"Goiania\", numero=2880, lit=\"NWM\" )\n",
    "  PRINT fmt, \"Carro 1 = \", meucar1\n",
    "  PRINT fmt, \"Carro 2 = \", meucar2\n",
    "  PRINT fmt, \"Atual   = \", atual\n",
    "END PROGRAM Teste_Reg_Veic_01"
   ]
  },
  {
   "cell_type": "code",
   "execution_count": 62,
   "metadata": {
    "ExecuteTime": {
     "end_time": "2018-05-06T21:46:10.323079Z",
     "start_time": "2018-05-06T21:46:10.154293Z"
    }
   },
   "outputs": [],
   "source": [
    "# A seguir vamos compilar o programa\n",
    "!f95 -std=f2008 -Wall -Waliasing -pedantic -Wsurprising -Wunderflow  -o x src/TipoDerivado_RegVeiculo1.f95"
   ]
  },
  {
   "cell_type": "code",
   "execution_count": 63,
   "metadata": {
    "ExecuteTime": {
     "end_time": "2018-05-06T21:46:21.193745Z",
     "start_time": "2018-05-06T21:46:21.076961Z"
    }
   },
   "outputs": [
    {
     "name": "stdout",
     "output_type": "stream",
     "text": [
      " Carro 1 =   4940  dcz  Goiania                                 \r\n",
      " Carro 2 =   2010  abc  Brasilia                                \r\n",
      " Atual   =   2880  NWM  Goiania                                 \r\n"
     ]
    }
   ],
   "source": [
    "# A seguir vamos rodar o programa. O executável gerado é o x\n",
    "!./x"
   ]
  },
  {
   "cell_type": "code",
   "execution_count": 64,
   "metadata": {},
   "outputs": [
    {
     "name": "stdout",
     "output_type": "stream",
     "text": [
      "Overwriting src/TipoDerivado_RegVeiculo2.f95\n"
     ]
    }
   ],
   "source": [
    "%%writefile src/TipoDerivado_RegVeiculo2.f95\n",
    "PROGRAM Teste_Reg_Veic_02\n",
    "  IMPLICIT NONE\n",
    "  TYPE reg_vec\n",
    "     INTEGER              :: numero\n",
    "     CHARACTER (LEN = 3)  :: lit\n",
    "     CHARACTER (LEN = 40) :: cidade\n",
    "  END TYPE reg_vec\n",
    "  TYPE (reg_vec) :: MeuCarro\n",
    "  TYPE (reg_vec), DIMENSION(10) :: Carros\n",
    "  CHARACTER(len=50) :: fmt='(a6,i2.2,a4,i4.4,2x,a3,2x,a40)'\n",
    "  INTEGER :: i\n",
    "  REAL    :: x\n",
    "  MeuCarro  = reg_vec( cidade=\"Goiânia\", numero=2880, lit=\"NWM\" )\n",
    "  Carros = MeuCarro\n",
    "  DO i = 1, 10\n",
    "     CALL RANDOM_NUMBER(x)\n",
    "     Carros(i)%numero = 10000 * x\n",
    "     PRINT fmt, \"Carro(\", i, \") = \", Carros(i)\n",
    "  END DO\n",
    "END PROGRAM Teste_Reg_Veic_02"
   ]
  },
  {
   "cell_type": "code",
   "execution_count": 67,
   "metadata": {
    "ExecuteTime": {
     "end_time": "2018-05-06T21:46:10.323079Z",
     "start_time": "2018-05-06T21:46:10.154293Z"
    }
   },
   "outputs": [
    {
     "name": "stdout",
     "output_type": "stream",
     "text": [
      "\u001b[01m\u001b[KFortran/TipoDerivado_RegVeiculo2.f95:17:24:\u001b[m\u001b[K\r\n",
      "\r\n",
      "      Carros(i)%numero = 10000 * x\r\n",
      "\u001b[01;32m\u001b[K                        1\u001b[m\u001b[K\r\n",
      "\u001b[01;35m\u001b[KWarning:\u001b[m\u001b[K Possible change of value in conversion from REAL(4) to INTEGER(4) at (1) [-Wconversion]\r\n"
     ]
    }
   ],
   "source": [
    "# A seguir vamos compilar o programa\n",
    "!f95 -std=f2008 -Wall -Waliasing -pedantic -Wsurprising -Wunderflow  -o x src/TipoDerivado_RegVeiculo2.f95"
   ]
  },
  {
   "cell_type": "markdown",
   "metadata": {},
   "source": [
    "Para evitar a mensagem de \"warning\" acima, basta fazer a conversão de real em inteiro de forma explicita, asssim aquela linha do código toma a forma:\n",
    "\n",
    "`Carros(i)%numero = NINT(10000 * x) `"
   ]
  },
  {
   "cell_type": "code",
   "execution_count": 66,
   "metadata": {
    "ExecuteTime": {
     "end_time": "2018-05-06T21:46:21.193745Z",
     "start_time": "2018-05-06T21:46:21.076961Z"
    }
   },
   "outputs": [
    {
     "name": "stdout",
     "output_type": "stream",
     "text": [
      "Carro(01) = 9975  NWM  Goiânia                                \r\n",
      "Carro(02) = 5668  NWM  Goiânia                                \r\n",
      "Carro(03) = 9659  NWM  Goiânia                                \r\n",
      "Carro(04) = 7479  NWM  Goiânia                                \r\n",
      "Carro(05) = 3673  NWM  Goiânia                                \r\n",
      "Carro(06) = 4806  NWM  Goiânia                                \r\n",
      "Carro(07) = 0737  NWM  Goiânia                                \r\n",
      "Carro(08) = 0053  NWM  Goiânia                                \r\n",
      "Carro(09) = 3470  NWM  Goiânia                                \r\n",
      "Carro(10) = 3422  NWM  Goiânia                                \r\n"
     ]
    }
   ],
   "source": [
    "# A seguir vamos rodar o programa. O executável gerado é o x\n",
    "!./x"
   ]
  },
  {
   "cell_type": "markdown",
   "metadata": {},
   "source": [
    "### Exemplo de matrizes de tipos derivados\n",
    "\n",
    "Matrizes de tipos derivados são declaradas como:\n",
    "\n",
    "```Fortran\n",
    "TYPE (reg_vec), DIMENSION (n) :: meuscar\n",
    "```\n",
    "\n",
    "Tipos derivados incluindo tipos derivados:\n",
    "\n",
    "```Fortran\n",
    "TYPE morador\n",
    "CHARACTER (LEN = 30) :: nome\n",
    "CHARACTER (LEN = 50) :: endereco\n",
    "TYPE (reg_vec)       :: car\n",
    "END TYPE morador\n",
    "INTEGER :: i\n",
    "TYPE (morador) :: lar\n",
    "lar%car%cidade = 'Goiania'\n",
    "do i = 1, 10\n",
    "   meuscar(i)%numero = 1000 + 100 * (i-1)\n",
    "end do\n",
    "```\n",
    "\n",
    "Um outro exemplo\n",
    "\n",
    "```Fortran\n",
    "TYPE pessoa\n",
    "     CHARACTER(LEN=10) :: nome\n",
    "     REAL              :: idade\n",
    "     INTEGER           :: rg\n",
    "END TYPE pessoa\n",
    "\n",
    "INTEGER      :: soma\n",
    "TYPE(pessoa) :: voce, eu, nos\n",
    "voce%rg    = 1526780\n",
    "voce%idade = 35.0\n",
    "eu         = pessoa( 28.0, 1340729 )  ! ou assim\n",
    "!eu         = pessoa( 'Joao', 28.0, 1340729 )\n",
    "soma       = voce%idade  + 9\n",
    "nos%rg     = voce%rg    + eu%rg\n",
    "nos%idade  = voce%idade + eu%idade\n",
    "```"
   ]
  },
  {
   "cell_type": "code",
   "execution_count": 68,
   "metadata": {},
   "outputs": [
    {
     "name": "stdout",
     "output_type": "stream",
     "text": [
      "Overwriting src/TipoDerivado_Ponto.f95\n"
     ]
    }
   ],
   "source": [
    "%%writefile src/TipoDerivado_Ponto.f95\n",
    "PROGRAM Def_Tipo_Ponto\n",
    "  IMPLICIT NONE\n",
    "  TYPE PONTO\n",
    "     REAL :: X, Y, Z\n",
    "  END TYPE PONTO\n",
    "  TYPE(PONTO) :: P, Q, R\n",
    "  P=PONTO( x = 3.0, z = 5.0 , y = 4.0)\n",
    "  ! Definindo o valor de Q\n",
    "  Q%X = 4.30\n",
    "  Q%Y = 3.10\n",
    "  Q%Z = 1.60\n",
    "  ! Operações somente entre os elementos\n",
    "  R%X = Q%X + P%X\n",
    "  R%Y = Q%Y + P%Y\n",
    "  R%Z = Q%Z + P%Z\n",
    "  ! Resultado\n",
    "  PRINT *, 'P = ', P\n",
    "  PRINT *, 'Q = ', Q\n",
    "  PRINT *, 'R = ', R\n",
    "END PROGRAM Def_Tipo_Ponto"
   ]
  },
  {
   "cell_type": "code",
   "execution_count": 69,
   "metadata": {
    "ExecuteTime": {
     "end_time": "2018-05-06T21:46:10.323079Z",
     "start_time": "2018-05-06T21:46:10.154293Z"
    }
   },
   "outputs": [],
   "source": [
    "# A seguir vamos compilar o programa\n",
    "!f95 -std=f2008 -Wall -Waliasing -pedantic -Wsurprising -Wunderflow  -o x src/TipoDerivado_Ponto.f95"
   ]
  },
  {
   "cell_type": "code",
   "execution_count": 70,
   "metadata": {
    "ExecuteTime": {
     "end_time": "2018-05-06T21:46:21.193745Z",
     "start_time": "2018-05-06T21:46:21.076961Z"
    }
   },
   "outputs": [
    {
     "name": "stdout",
     "output_type": "stream",
     "text": [
      " P =    3.00000000       4.00000000       5.00000000    \r\n",
      " Q =    4.30000019       3.09999990       1.60000002    \r\n",
      " R =    7.30000019       7.09999990       6.59999990    \r\n"
     ]
    }
   ],
   "source": [
    "# A seguir vamos rodar o programa. O executável gerado é o x\n",
    "!./x"
   ]
  },
  {
   "cell_type": "markdown",
   "metadata": {},
   "source": [
    "## Variáveis Locais versus Globais\n",
    "\n",
    "- Uma variável, quanto ao seu uso no código, poderá ser global ou local.\n",
    "\n",
    "- As variáveis locais do código são aquelas cujo o acesso só é  permitido no objeto no qual ela foi declarada, seja ele o programa principal, um procedimento `MODULE` (aqui ela pode ser pública ou privada), ou uma função `function` ou ainda em uma subrotina `subroutine`.\n",
    "\n",
    "- As variáveis declaradas locais, no programa principal e no interior dos subprogramas, não podem ser acessadas fora dos mesmos e no caso dos subprogramas só \"existirão\" enquanto o referido subprograma estiver ativo no fluxo de execução do programa\n",
    "\n",
    "-  Uma variável global é uma variável declarada em um procedimento `MODULE` e ativada pela instrução `USE`. Ela pode ser acessada por qualquer parte do código que faça uso da instrução `USE` o nome do modulo.\n",
    "\n",
    "\n",
    "```Fortran\n",
    "MODULE PRECISAO\n",
    "  IMPLICIT NONE\n",
    "  ! Definindo os possíveis tipos de reais\n",
    "  INTEGER, PARAMETER :: sp = SELECTED_REAL_KIND(5,30)   ! precisao simple\n",
    "  INTEGER, PARAMETER :: dp = SELECTED_REAL_KIND(8,100)  ! precisao dupla\n",
    "  INTEGER, PARAMETER :: qp = SELECTED_REAL_KIND(18,400) ! precisao quadupla\n",
    "  ! Definindo a precisão selecionada\n",
    "  INTEGER, PARAMETER :: pr = dp\n",
    "  ! Definindo os possíveis tipos de inteiros\n",
    "  INTEGER, PARAMETER :: ip1 = selected_int_KIND(2)\n",
    "  INTEGER, PARAMETER :: ip2 = selected_int_KIND(4)\n",
    "  INTEGER, PARAMETER :: ip3 = selected_int_KIND(8)\n",
    "  INTEGER, PARAMETER :: ip4 = selected_int_KIND(10)\n",
    "  INTEGER, PARAMETER :: ip5 = selected_int_KIND(20)\n",
    "END MODULE PRECISAO\n",
    "```\n",
    "\n",
    "A seguir apresentamos um exemplo de uso desse módulo"
   ]
  },
  {
   "cell_type": "code",
   "execution_count": 10,
   "metadata": {
    "ExecuteTime": {
     "end_time": "2019-02-08T14:12:53.366848Z",
     "start_time": "2019-02-08T14:12:53.354525Z"
    }
   },
   "outputs": [
    {
     "name": "stdout",
     "output_type": "stream",
     "text": [
      "Overwriting src/Mod_Precisao.f95\n"
     ]
    }
   ],
   "source": [
    "%%writefile src/Mod_Precisao.f95\n",
    "MODULE PRECISAO\n",
    "  IMPLICIT NONE\n",
    "  ! Definindo os possíveis tipos de reais\n",
    "  INTEGER, PARAMETER :: sp = SELECTED_REAL_KIND(5,30)    ! precisao simple\n",
    "  INTEGER, PARAMETER :: dp = SELECTED_REAL_KIND(8,100)   ! precisao dupla\n",
    "  INTEGER, PARAMETER :: qp = SELECTED_REAL_KIND(18,400)  ! precisao quadupla\n",
    "  INTEGER, PARAMETER :: op = SELECTED_REAL_KIND(25,4000) ! precisao octupla\n",
    "  ! Definindo a precisão selecionada\n",
    "  INTEGER, PARAMETER :: pr = dp\n",
    "  ! Definindo os possíveis tipos de inteiros\n",
    "  INTEGER, PARAMETER :: ip1 = selected_int_KIND(2)\n",
    "  INTEGER, PARAMETER :: ip2 = selected_int_KIND(4)\n",
    "  INTEGER, PARAMETER :: ip3 = selected_int_KIND(8)\n",
    "  INTEGER, PARAMETER :: ip4 = selected_int_KIND(10)\n",
    "  INTEGER, PARAMETER :: ip5 = selected_int_KIND(20)\n",
    "END MODULE PRECISAO"
   ]
  },
  {
   "cell_type": "code",
   "execution_count": 11,
   "metadata": {
    "ExecuteTime": {
     "end_time": "2019-02-08T14:12:58.165360Z",
     "start_time": "2019-02-08T14:12:58.149027Z"
    }
   },
   "outputs": [
    {
     "name": "stdout",
     "output_type": "stream",
     "text": [
      "Overwriting src/Testa_Mod_Precisao.f95\n"
     ]
    }
   ],
   "source": [
    "%%writefile src/Testa_Mod_Precisao.f95\n",
    "PROGRAM test_precisao\n",
    "  USE precisao\n",
    "  IMPLICIT NONE\n",
    "  REAL        :: a = 2.0, b = 4.0\n",
    "  INTEGER     :: i = 3, j = 5\n",
    "  REAL(pr)    :: c\n",
    "  COMPLEX(pr) :: d\n",
    "  COMPLEX(qp) :: g\n",
    "  REAL(sp)    :: E\n",
    "  !  --------------------------------\n",
    "  E = 4.0_DP\n",
    "  c = a*j\n",
    "  d = CMPLX(a, b)*i\n",
    "  g = CMPLX(e,c)\n",
    "  !  --------------------------------\n",
    "  PRINT *, 'SP = ', sp\n",
    "  PRINT *, 'DP = ', dp\n",
    "  PRINT *, 'QP = ', qp\n",
    "  PRINT *, 'OP = ', op\n",
    "  PRINT *, 'PR = ', pr\n",
    "  PRINT *\n",
    "  PRINT *, 'c = ', c\n",
    "  PRINT *\n",
    "  PRINT *, 'd = ', d\n",
    "  PRINT *\n",
    "  PRINT *, 'g = ', g\n",
    "  PRINT *\n",
    "  PRINT *, 'Funcoes de a ', SIN(a), SQRT(a), LOG(a)\n",
    "  PRINT *\n",
    "  PRINT *, 'Funcoes de C ', SIN(c), SQRT(c), LOG(c)\n",
    "  PRINT *\n",
    "  PRINT *, 'Funcoes de E ', SIN(E), SQRT(E), LOG(E)\n",
    "  PRINT *\n",
    "END PROGRAM test_precisao"
   ]
  },
  {
   "cell_type": "code",
   "execution_count": 12,
   "metadata": {
    "ExecuteTime": {
     "end_time": "2019-02-08T14:13:01.785338Z",
     "start_time": "2019-02-08T14:13:01.589952Z"
    }
   },
   "outputs": [
    {
     "name": "stdout",
     "output_type": "stream",
     "text": [
      "\u001b[01m\u001b[Ksrc/Testa_Mod_Precisao.f95:14:14:\u001b[m\u001b[K\r\n",
      "\r\n",
      "   g = CMPLX(e,c)\r\n",
      "              \u001b[01;35m\u001b[K1\u001b[m\u001b[K\r\n",
      "\u001b[01;35m\u001b[KWarning:\u001b[m\u001b[K Conversion from REAL(8) to default-kind COMPLEX(4) at (1) might lose precision, consider using the KIND argument [\u001b[01;35m\u001b[K-Wconversion\u001b[m\u001b[K]\r\n"
     ]
    }
   ],
   "source": [
    "# A seguir vamos compilar o programa\n",
    "!f95 -std=f2008 -Wall -Waliasing -pedantic -Wsurprising -Wunderflow -o x src/Mod_Precisao.f95 src/Testa_Mod_Precisao.f95"
   ]
  },
  {
   "cell_type": "code",
   "execution_count": 13,
   "metadata": {
    "ExecuteTime": {
     "end_time": "2019-02-08T14:13:04.809388Z",
     "start_time": "2019-02-08T14:13:04.696607Z"
    }
   },
   "outputs": [
    {
     "name": "stdout",
     "output_type": "stream",
     "text": [
      " SP =            4\r\n",
      " DP =            8\r\n",
      " QP =           10\r\n",
      " OP =           16\r\n",
      " PR =            8\r\n",
      "\r\n",
      " c =    10.000000000000000     \r\n",
      "\r\n",
      " d =                (6.0000000000000000,12.000000000000000)\r\n",
      "\r\n",
      " g =                  (4.00000000000000000000,10.0000000000000000000)\r\n",
      "\r\n",
      " Funcoes de a   0.909297407       1.41421354      0.693147182    \r\n",
      "\r\n",
      " Funcoes de C  -0.54402111088936977        3.1622776601683795        2.3025850929940459     \r\n",
      "\r\n",
      " Funcoes de E  -0.756802499       2.00000000       1.38629436    \r\n",
      "\r\n"
     ]
    }
   ],
   "source": [
    "# A seguir vamos rodar o programa. O executável gerado é o x\n",
    "!./x"
   ]
  },
  {
   "cell_type": "markdown",
   "metadata": {},
   "source": [
    "## Estruturas de Controle do Fortran 90\n",
    "\n",
    "As estruturas de controle podem ser separadas em:\n",
    "\n",
    "- Tomadas de decisão:\n",
    "  - `IF`\n",
    "  - `CASE`\n",
    "- Repetição\n",
    "  - `DO`\n",
    "  - `DO WHILE`, obsoleta.\n",
    "  - `FORALL`, somente a partir do Fortran 95.\n",
    "- Desvios\n",
    "  - `GOTO`, obsoleta (Programa perde estruturação).\n",
    "  \n",
    "A seguir listamos algumas características destas estruturas:\n",
    "\n",
    "- Todas estas estruturas podem crescer;\n",
    "- Todas estas estruturas podem ter um nome por construção (rótulo), para melhorar a legibilidade e  aumentar a flexibilidade.\n",
    "- As estruturas de decisão precisam dos operadores relacionais, para tomar as decisões."
   ]
  },
  {
   "cell_type": "markdown",
   "metadata": {},
   "source": [
    "## Estruturas de Controle:  `IF`\n",
    "\n",
    "- Forma Geral:\n",
    "\n",
    "```Fortran\n",
    "[nome:]IF (expressao logica) THEN\n",
    "    bloco\n",
    "[ELSE IF (expressao logica) THEN [nome]\n",
    "    bloco]...\n",
    "[ELSE [nome]\n",
    "    bloco]\n",
    "END IF [nome]\n",
    "```\n",
    "\n",
    "\n",
    "### Estrutura do `IF`, exemplo:\n",
    "\n",
    "```Fortran\n",
    "selecao:   IF (i < 0) THEN\n",
    "              CALL negativo\n",
    "           ELSE IF (i == 0) THEN selecao\n",
    "              CALL zero\n",
    "           ELSE selecao\n",
    "              CALL positivo\n",
    "           END IF selecao\n",
    "```"
   ]
  },
  {
   "cell_type": "markdown",
   "metadata": {},
   "source": [
    "## Controle de Seleção com `CASE`:\n",
    "\n",
    "\n",
    "- Modo estruturado de selecionar diferentes opções, dependendo do valor de um única expressão;\n",
    "\n",
    "- Ela pode ser usada para substituir algumas estruturas complexas do tipo:\n",
    "\n",
    "\n",
    "- Desvios `GOTO`;\n",
    "\n",
    "- Construções de `IF` $\\ldots$ `THEN` $\\ldots$ `ELSE IF` $\\ldots$ `END IF`.\n",
    "\n",
    "\n",
    "- Ela simplifica algumas estruturas.\n",
    "\n",
    "\n",
    "\n",
    "## Estrutura do `CASE`:\n",
    "\n",
    "Forma geral do comando:\n",
    "\n",
    "```Fortran\n",
    "[nome:] SELECT CASE (expressao)\n",
    "CASE (seletor1)\n",
    "[bloco1]\n",
    "CASE (seletor2)\n",
    "[bloco2]\n",
    "...\n",
    "CASE DEFAULT\n",
    "[bloco]\n",
    "END SELECT [nome]\n",
    "```\n",
    "- A <span style=\"color:red\">expressao</span> pode ser: <span style=\"color:red\">CHARACTER</span>,\n",
    "<span style=\"color:red\">LOGICAL</span> ou <span style=\"color:red\">INTEGER</span>;\n",
    "\n",
    "- O <span style=\"color:red\">seletor</span>, pode ter um ou mais valores, entretanto eles\n",
    "devem ser do mesmo tipo da <span style=\"color:red\">expressao</span>. Ele pode ter:\n",
    "\n",
    "   - somente um valor;\n",
    "\n",
    "   - um intervalo de valores separados por <span style=\"color:red\">:</span>\n",
    "   ( <span style=\"color:red\">CHARACTER</span> ou  <span style=\"color:red\">INTEGER</span>) e somente,\n",
    "   valores inferiores ou superiores podem estar ausentes;\n",
    "\n",
    "   - uma lista dos valores ou o intervalo.\n",
    "\n",
    "- O <span style=\"color:red\">DEFAULT</span>, é para os casos omitidos.\n",
    "\n",
    "\n",
    "### Características do seletor `CASE`:\n",
    "\n",
    "```Fortran\n",
    "INTEGER :: i\n",
    "...\n",
    "SELECT CASE (i)\n",
    "  CASE (:-1)  ! Todos os numeros menores que 0\n",
    "    PRINT*,\"i eh menor que 0\"\n",
    "  CASE (0)    ! Somente o 0\n",
    "    PRINT*,\"i = 0\"\n",
    "  CASE (1:10) ! O intevalo 0 < i <= 10\n",
    "    PRINT*,\"i esta no intervalo 0 < i <= 10\"\n",
    "  CASE (11,13,17,30:40,53,55) ! Pode conter uma lista\n",
    "    PRINT*,\"i esta no intervalo 0 < i <= 10\"\n",
    "  CASE DEFAULT\n",
    "    PRINT*, \"Nao eh nenhuma das opcoes acima\"\n",
    "END SELECT\n",
    "```\n",
    "\n",
    "\n",
    "### `CASE`: Exemplos\n",
    "\n",
    "```Fortran\n",
    "CHARACTER(LEN=1)  :: ch\n",
    "CHARACTER(LEN=20) :: cor\n",
    "\n",
    "cor: SELECT CASE (ch)\n",
    "  CASE ('C','D','G':'M')\n",
    "      cor = 'vermelho'\n",
    "  CASE ('X':)\n",
    "      cor = 'verde'\n",
    "  CASE DEFAULT\n",
    "      cor = 'azul'\n",
    "END SELECT cor\n",
    "\n",
    "```\n",
    "\n",
    "```Fortran\n",
    "INTEGER :: i\n",
    "...\n",
    "SELECT CASE (i)\n",
    "  CASE (3,5,7)\n",
    "    PRINT*,\"i eh primo\"\n",
    "  CASE (10:)\n",
    "    PRINT*,\"i eh > 10\"\n",
    "  CASE DEFAULT\n",
    "    PRINT*, \"i nao eh &\n",
    "    & primo e eh < 10\"\n",
    "END SELECT\n",
    "```\n",
    "\n",
    "- No caso dos caracteres há uma diferença entre maiúsculas e minúsculas.\n",
    "\n",
    "```Fortran\n",
    "pes: SELECT CASE (idade)\n",
    "CASE (0:12)\n",
    "PRINT*, \"Crianca\"\n",
    "CASE (13:18)\n",
    "PRINT*, \"Adolescente\"\n",
    "CASE (19:)\n",
    "PRINT*, \"Adulto\"\n",
    "END SELECT pes\n",
    "```\n",
    "\n",
    "```Fortran\n",
    "SELECT CASE (num)\n",
    "CASE (6,9,99,66)\n",
    "PRINT*, \"Melhora\"\n",
    "CASE (10:65,67:98)\n",
    "PRINT*, \"Ajuda\"\n",
    "CASE DEFAULT\n",
    "PRINT*, \"Eh Bom\"\n",
    "END SELECT\n",
    "```"
   ]
  },
  {
   "cell_type": "markdown",
   "metadata": {},
   "source": [
    "## Repetições com o DO:\n",
    "\n",
    "-  <span style=\"color:red\">Forma Geral:</span>\n",
    "```Fortran\n",
    "[nome:] DO [condicao]\n",
    "   Bloco\n",
    "END DO [nome]\n",
    "```\n",
    "\n",
    "- condicao pode ser:\n",
    "\n",
    "   - Uma condição de iteração;\n",
    "```Fortran\n",
    "k=inicio,fim[,incremento]\n",
    "```\n",
    "\n",
    "   - Uma condição `WHILE`;\n",
    "```Fortran\n",
    "WHILE (expressao logica)\n",
    "```\n",
    "   - ou nenhuma.\n",
    "\n",
    "\n",
    "### Exemplo da Estrutura do `DO`\n",
    "\n",
    "- Uma iteração com uma condição de controle:\n",
    "\n",
    "```Fortran\n",
    "lin: DO i = 1, n\n",
    "   cols: DO j = 1, m\n",
    "      a(i, j) = i + j\n",
    "   END DO cols\n",
    "END DO lin\n",
    "```\n",
    "\n",
    "- Uma iteração, sendo incrementada de dois em dois, ou seja, $i=1,3,5,\\ldots,n$.\n",
    "```Fortran\n",
    "Inc: DO i = 1, n, 2\n",
    "   b(i) = ( i + 1) * c(i)\n",
    "END DO Inc\n",
    "```\n",
    "\n",
    "-  Uma condição de controle <span style=\"color:red\">WHILE</span>:\n",
    "\n",
    "```Fortran\n",
    "ok: DO WHILE (i <= 100)\n",
    "   ...\n",
    "   corpo do loop\n",
    "   ...\n",
    "END DO ok\n",
    "```\n",
    "\n",
    "<span style=\"color:red\">Está é uma forma obsoleta a qual não dever\n",
    "ser usada. Foi abolida no FORTRAN 95.</span>"
   ]
  },
  {
   "cell_type": "markdown",
   "metadata": {},
   "source": [
    "## O Uso do `EXIT` e do `CYCLE`\n",
    "\n",
    "- O comando <span style=\"color:red\">EXIT nome</span> é usados para sair do loop nome;\n",
    "\n",
    "- O comando <span style=\"color:red\">CYCLE nome</span> transfere execução para o\n",
    "      <span style=\"color:red\">END DO nome</span>;\n",
    "\n",
    "- Os comandos <span style=\"color:red\">EXIT</span> e <span style=\"color:red\">CYCLE</span>\n",
    "se aplicam aos loops internos (padrão) mas podem ser referidos, para especificarem\n",
    "loops com nomes.\n",
    "\n",
    "\n",
    "## Exemplo do `EXIT` e `CYCLE`\n",
    "\n",
    "```Fortran\n",
    "Ext: DO i = 1, n\n",
    "   Meio: DO j = 1, m\n",
    "      Int: DO k = 1, l\n",
    "         ! A cond. abaixo sai dos loops\n",
    "         IF (a(i,j,k) < 0.0) EXIT Ext\n",
    "         ! A cond. abaixo sai do loop do meio e faz j = 6\n",
    "         IF (j == 5) CYCLE meio\n",
    "         ! A cond. abaixo sai do loop Int\n",
    "         IF (i == 5) CYCLE\n",
    "         ...\n",
    "      END DO Int\n",
    "   END DO Meio\n",
    "END DO Ext\n",
    "```\n",
    "\n",
    "### Estrutura do DO: Exemplo\n",
    "\n",
    "- <span style=\"color:red\">Sem nenhuma condição:</span>\n",
    "\n",
    "```Fortran\n",
    "DO\n",
    "  READ (*, *) x\n",
    "  IF (x < 0) EXIT\n",
    "  y = SQRT(x)\n",
    "  ...\n",
    "END DO\n",
    "```\n",
    "\n",
    "```Fortran\n",
    "READ (*, *) x\n",
    "DO WHILE ( x >= 0)\n",
    "  y = SQRT(x)\n",
    "  ...\n",
    "  READ (*, *) x\n",
    "END DO\n",
    "```\n",
    "\n",
    "<span style=\"color:red\">Note que esta forma tem o mesmo efeito de um loop `DO WHILE`.</span>"
   ]
  },
  {
   "cell_type": "markdown",
   "metadata": {},
   "source": [
    "## Estrutura de Controle: `DO WHILE`\n",
    "\n",
    "A estrutura de controle <span style=\"color:red\">DO WHILE</span> abaixo:\n",
    "```Fortran\n",
    "DO WHILE ( x >= 0)\n",
    "  y = SQRT(x)\n",
    "  ...\n",
    "END DO\n",
    "```\n",
    "foi abolida no FORTRAN 95, por isso, deve-se evitar seu uso, e em seu\n",
    "lugar deve-se usar a seguinte estrutura de controle,\n",
    "```Fortran\n",
    "DO\n",
    "  IF (.not. (x >= 0) ) EXIT\n",
    "  y = SQRT(x)\n",
    "  ...\n",
    "END DO\n",
    "```\n",
    "em vez do loop <span style=\"color:red\">DO WHILE</span>."
   ]
  },
  {
   "cell_type": "markdown",
   "metadata": {},
   "source": [
    "### Exemplos"
   ]
  },
  {
   "cell_type": "code",
   "execution_count": 98,
   "metadata": {},
   "outputs": [
    {
     "name": "stdout",
     "output_type": "stream",
     "text": [
      "Overwriting src/Test_do_01.f95\n"
     ]
    }
   ],
   "source": [
    "%%writefile src/Test_do_01.f95\n",
    "PROGRAM test\n",
    "  IMPLICIT NONE\n",
    "  INTEGER :: i\n",
    "  REAL    :: x,y\n",
    "  l0: DO i=1,10\n",
    "     x=i\n",
    "     y=2.0+i\n",
    "     WRITE(*,'(a2,1x,i5)')'i=',i\n",
    "     IF (i == 5) CYCLE;\n",
    "     IF(x==7) EXIT\n",
    "     WRITE(*,*)'2i=',2*i,'y=',y\n",
    "  END DO l0\n",
    "  STOP\n",
    "END PROGRAM test"
   ]
  },
  {
   "cell_type": "code",
   "execution_count": 99,
   "metadata": {},
   "outputs": [],
   "source": [
    "# A seguir vamos compilar o programa\n",
    "!f95 -std=f2008 -Wall -Waliasing -pedantic -Wsurprising -Wunderflow -o x src/Test_do_01.f95"
   ]
  },
  {
   "cell_type": "code",
   "execution_count": 101,
   "metadata": {},
   "outputs": [
    {
     "name": "stdout",
     "output_type": "stream",
     "text": [
      "i=     1\r\n",
      " 2i=           2 y=   3.00000000    \r\n",
      "i=     2\r\n",
      " 2i=           4 y=   4.00000000    \r\n",
      "i=     3\r\n",
      " 2i=           6 y=   5.00000000    \r\n",
      "i=     4\r\n",
      " 2i=           8 y=   6.00000000    \r\n",
      "i=     5\r\n",
      "i=     6\r\n",
      " 2i=          12 y=   8.00000000    \r\n",
      "i=     7\r\n"
     ]
    }
   ],
   "source": [
    "#Agora vamos rodar\n",
    "!./x"
   ]
  },
  {
   "cell_type": "markdown",
   "metadata": {},
   "source": [
    "A seguir mostramos outro exemplo"
   ]
  },
  {
   "cell_type": "code",
   "execution_count": 102,
   "metadata": {},
   "outputs": [
    {
     "name": "stdout",
     "output_type": "stream",
     "text": [
      "Writing src/Test_do_02.f95\n"
     ]
    }
   ],
   "source": [
    "%%writefile src/Test_do_02.f95\n",
    "PROGRAM test\n",
    "  IMPLICIT NONE\n",
    "  INTEGER :: i\n",
    "  REAL    :: x, y\n",
    "  REAL, DIMENSION(15) :: a\n",
    "  l0: DO i=1,10\n",
    "     x=i\n",
    "     y=2.0+i\n",
    "     WRITE(*,'(1x,a2,4x,i5)')'i=',i\n",
    "     IF (i == 5) CYCLE;\n",
    "     IF(x==7) EXIT\n",
    "     WRITE(*,*)'2i=',2*i,'y=',y\n",
    "  END DO l0\n",
    "  a(1:10)  =  5.0\n",
    "  a(11:15) = 10.0\n",
    "  DO i = 1, 15\n",
    "     PRINT *, 'a(',i,')=', a(i)\n",
    "  END DO\n",
    "  STOP\n",
    "END PROGRAM test"
   ]
  },
  {
   "cell_type": "code",
   "execution_count": 103,
   "metadata": {},
   "outputs": [],
   "source": [
    "# A seguir vamos compilar o programa\n",
    "!f95 -std=f2008 -Wall -Waliasing -pedantic -Wsurprising -Wunderflow -o x src/Test_do_02.f95"
   ]
  },
  {
   "cell_type": "code",
   "execution_count": 104,
   "metadata": {},
   "outputs": [
    {
     "name": "stdout",
     "output_type": "stream",
     "text": [
      " i=        1\r\n",
      " 2i=           2 y=   3.00000000    \r\n",
      " i=        2\r\n",
      " 2i=           4 y=   4.00000000    \r\n",
      " i=        3\r\n",
      " 2i=           6 y=   5.00000000    \r\n",
      " i=        4\r\n",
      " 2i=           8 y=   6.00000000    \r\n",
      " i=        5\r\n",
      " i=        6\r\n",
      " 2i=          12 y=   8.00000000    \r\n",
      " i=        7\r\n",
      " a(           1 )=   5.00000000    \r\n",
      " a(           2 )=   5.00000000    \r\n",
      " a(           3 )=   5.00000000    \r\n",
      " a(           4 )=   5.00000000    \r\n",
      " a(           5 )=   5.00000000    \r\n",
      " a(           6 )=   5.00000000    \r\n",
      " a(           7 )=   5.00000000    \r\n",
      " a(           8 )=   5.00000000    \r\n",
      " a(           9 )=   5.00000000    \r\n",
      " a(          10 )=   5.00000000    \r\n",
      " a(          11 )=   10.0000000    \r\n",
      " a(          12 )=   10.0000000    \r\n",
      " a(          13 )=   10.0000000    \r\n",
      " a(          14 )=   10.0000000    \r\n",
      " a(          15 )=   10.0000000    \r\n"
     ]
    }
   ],
   "source": [
    "#Agora vamos rodar\n",
    "!./x"
   ]
  },
  {
   "cell_type": "code",
   "execution_count": 1,
   "metadata": {
    "ExecuteTime": {
     "end_time": "2019-02-01T12:16:57.869350Z",
     "start_time": "2019-02-01T12:16:57.842898Z"
    }
   },
   "outputs": [
    {
     "name": "stdout",
     "output_type": "stream",
     "text": [
      "Overwriting src/Test_do_03.f95\n"
     ]
    }
   ],
   "source": [
    "%%writefile src/Test_do_03.f95\n",
    "PROGRAM loop_test\n",
    "  IMPLICIT NONE\n",
    "  REAL    :: a, b\n",
    "  INTEGER :: i, j\n",
    "\n",
    "  le: DO i = 1, 5\n",
    "     li: DO j = 1, 5\n",
    "        IF(j == i ) CYCLE li\n",
    "        PRINT *, 'I = ', i, '  j = ', j\n",
    "     END DO li\n",
    "  END DO le\n",
    "  PRINT *, 'Digite <enter> para continuar '\n",
    "  READ *\n",
    "  l1: DO i = 1, 5\n",
    "     l2: DO j = 1, 5\n",
    "        IF(j == i ) EXIT l2\n",
    "        PRINT *, 'I = ', i, '  j = ', j\n",
    "     END DO l2\n",
    "  END DO l1\n",
    "\n",
    "  PRINT *, 'Digite <enter> para continuar '\n",
    "  READ *\n",
    "  l3: DO i = 1, 5\n",
    "     l4: DO j = 1, 5\n",
    "        IF(i == 3 ) EXIT l3\n",
    "        PRINT *, 'I = ', i, '  j = ', j\n",
    "     END DO l4\n",
    "  END DO l3\n",
    "\n",
    "  STOP\n",
    "END PROGRAM loop_test"
   ]
  },
  {
   "cell_type": "code",
   "execution_count": 2,
   "metadata": {
    "ExecuteTime": {
     "end_time": "2019-02-01T12:17:01.555224Z",
     "start_time": "2019-02-01T12:17:01.360189Z"
    }
   },
   "outputs": [
    {
     "name": "stdout",
     "output_type": "stream",
     "text": [
      "\u001b[01m\u001b[Ksrc/Test_do_03.f95:3:14:\u001b[m\u001b[K\r\n",
      "\r\n",
      "   REAL    :: a, b\r\n",
      "              \u001b[01;35m\u001b[K1\u001b[m\u001b[K\r\n",
      "\u001b[01;35m\u001b[KWarning:\u001b[m\u001b[K Unused variable ‘\u001b[01m\u001b[Ka\u001b[m\u001b[K’ declared at (1) [\u001b[01;35m\u001b[K-Wunused-variable\u001b[m\u001b[K]\r\n",
      "\u001b[01m\u001b[Ksrc/Test_do_03.f95:3:17:\u001b[m\u001b[K\r\n",
      "\r\n",
      "   REAL    :: a, b\r\n",
      "                 \u001b[01;35m\u001b[K1\u001b[m\u001b[K\r\n",
      "\u001b[01;35m\u001b[KWarning:\u001b[m\u001b[K Unused variable ‘\u001b[01m\u001b[Kb\u001b[m\u001b[K’ declared at (1) [\u001b[01;35m\u001b[K-Wunused-variable\u001b[m\u001b[K]\r\n"
     ]
    }
   ],
   "source": [
    "# A seguir vamos compilar o programa\n",
    "!f95 -std=f2008 -Wall -Waliasing -pedantic -Wsurprising -Wunderflow -o x src/Test_do_03.f95"
   ]
  },
  {
   "cell_type": "code",
   "execution_count": 3,
   "metadata": {
    "ExecuteTime": {
     "end_time": "2019-02-01T12:17:32.846150Z",
     "start_time": "2019-02-01T12:17:32.733612Z"
    }
   },
   "outputs": [
    {
     "name": "stdout",
     "output_type": "stream",
     "text": [
      " I =            1   j =            2\r\n",
      " I =            1   j =            3\r\n",
      " I =            1   j =            4\r\n",
      " I =            1   j =            5\r\n",
      " I =            2   j =            1\r\n",
      " I =            2   j =            3\r\n",
      " I =            2   j =            4\r\n",
      " I =            2   j =            5\r\n",
      " I =            3   j =            1\r\n",
      " I =            3   j =            2\r\n",
      " I =            3   j =            4\r\n",
      " I =            3   j =            5\r\n",
      " I =            4   j =            1\r\n",
      " I =            4   j =            2\r\n",
      " I =            4   j =            3\r\n",
      " I =            4   j =            5\r\n",
      " I =            5   j =            1\r\n",
      " I =            5   j =            2\r\n",
      " I =            5   j =            3\r\n",
      " I =            5   j =            4\r\n",
      " Digite <enter> para continuar \r\n",
      " I =            2   j =            1\r\n",
      " I =            3   j =            1\r\n",
      " I =            3   j =            2\r\n",
      " I =            4   j =            1\r\n",
      " I =            4   j =            2\r\n",
      " I =            4   j =            3\r\n",
      " I =            5   j =            1\r\n",
      " I =            5   j =            2\r\n",
      " I =            5   j =            3\r\n",
      " I =            5   j =            4\r\n",
      " Digite <enter> para continuar \r\n",
      " I =            1   j =            1\r\n",
      " I =            1   j =            2\r\n",
      " I =            1   j =            3\r\n",
      " I =            1   j =            4\r\n",
      " I =            1   j =            5\r\n",
      " I =            2   j =            1\r\n",
      " I =            2   j =            2\r\n",
      " I =            2   j =            3\r\n",
      " I =            2   j =            4\r\n",
      " I =            2   j =            5\r\n"
     ]
    }
   ],
   "source": [
    "#Agora vamos rodar\n",
    "! echo  \"\\n \\n\"  | ./x"
   ]
  },
  {
   "cell_type": "code",
   "execution_count": 76,
   "metadata": {},
   "outputs": [
    {
     "name": "stdout",
     "output_type": "stream",
     "text": [
      "Overwriting src/Testa_While_Case.f95\n"
     ]
    }
   ],
   "source": [
    "%%writefile src/Testa_While_Case.f95\n",
    "PROGRAM tstcase\n",
    "   IMPLICIT NONE \n",
    "   INTEGER :: x\n",
    "   LOGICAL :: flg = .TRUE.\n",
    "   CHARACTER(1) :: resp\n",
    "   DO WHILE( flg )\n",
    "      PRINT *, 'Entre com o valor de x: '\n",
    "      READ  *, x\n",
    "      caso: SELECT CASE ( x )\n",
    "      CASE ( : 0 )\n",
    "         PRINT *, ' x < 0 , pois x = ', x\n",
    "      CASE ( 1:10)\n",
    "         PRINT *, ' 0 < x <= 10 , pois x = ', x               \n",
    "      CASE ( 11:14, 16:20 )\n",
    "         PRINT *, '11 <= x < 15 ou 16 <= x <=20 , x = ', x \n",
    "      CASE ( 15 )\n",
    "         PRINT *, 'valor= 15' \n",
    "      CASE default\n",
    "         PRINT *, \"Voce entrou com um valor acima de 20\"\n",
    "      END SELECT caso\n",
    "\n",
    "      PRINT *, 'Voce quer continuar? (S/N) '\n",
    "      READ *, resp\n",
    "      IF( resp == \"N\" .or. resp == \"n\" ) flg= .FALSE.\n",
    "   END DO\n",
    "END PROGRAM tstcase"
   ]
  },
  {
   "cell_type": "code",
   "execution_count": 77,
   "metadata": {},
   "outputs": [],
   "source": [
    "# A seguir vamos compilar o programa\n",
    "!f95 -std=f2008 -Wall -Waliasing -pedantic -Wsurprising -Wunderflow -o x src/Mod_Precisao.f95 src/Testa_While_Case.f95"
   ]
  },
  {
   "cell_type": "code",
   "execution_count": 87,
   "metadata": {},
   "outputs": [
    {
     "name": "stdout",
     "output_type": "stream",
     "text": [
      " Entre com o valor de x: \r\n",
      "  x < 0 , pois x =           -2\r\n",
      " Voce quer continuar? (S/N) \r\n",
      " Entre com o valor de x: \r\n",
      "  x < 0 , pois x =            0\r\n",
      " Voce quer continuar? (S/N) \r\n",
      " Entre com o valor de x: \r\n",
      "  0 < x <= 10 , pois x =            2\r\n",
      " Voce quer continuar? (S/N) \r\n",
      " Entre com o valor de x: \r\n",
      "  0 < x <= 10 , pois x =            4\r\n",
      " Voce quer continuar? (S/N) \r\n",
      " Entre com o valor de x: \r\n",
      "  0 < x <= 10 , pois x =            6\r\n",
      " Voce quer continuar? (S/N) \r\n",
      " Entre com o valor de x: \r\n",
      "  0 < x <= 10 , pois x =            8\r\n",
      " Voce quer continuar? (S/N) \r\n",
      " Entre com o valor de x: \r\n",
      "  0 < x <= 10 , pois x =           10\r\n",
      " Voce quer continuar? (S/N) \r\n",
      "At line 23 of file src/Testa_While_Case.f95 (unit = 5, file = 'stdin')\r\n",
      "Fortran runtime error: End of file\r\n"
     ]
    }
   ],
   "source": [
    "#Agora vamos rodar\n",
    "!seq -2 10  | ./x -"
   ]
  },
  {
   "cell_type": "markdown",
   "metadata": {},
   "source": [
    "## Estrutura de Controle `FORALL`\n",
    "\n",
    "- <span style=\"color:red\">Forma Geral:</span>\n",
    "```Fortran\n",
    "[nome:] FORALL (indice1=inf1: sup1: passo1,\n",
    "indice2=inf2: sup2: passo2,[expressao_logica])\n",
    "[bloco]\n",
    "...\n",
    "END FORALL [nome]\n",
    "```\n",
    "\n",
    "- Os índices são variáveis escalares <span style=\"color:red\">INTEGER}</span>;\n",
    "\n",
    "- Os índices <span style=\"color:red\">inf</span>, <span style=\"color:red\">sup</span> e\n",
    "<span style=\"color:red\">passo</span> são opcionais, mas quando presentes devem ser\n",
    "diferentes de zero.\n",
    "\n",
    "- A <span style=\"color:red\">expressao_logica</span> é calculada para cada\n",
    "combinação dos valores dos índices. Para aqueles que ela é `.TRUE.`\n",
    "são ativados em cada declaração da construção.\n",
    "\n",
    "- <span style=\"color:red\"> Característica implementada a partir do FORTRAN 95.</span>\n",
    "\n",
    "\n",
    "### `FORALL`: Exemplos\n",
    "\n",
    "- <span style=\"color:red\">Fortran 77</span>\n",
    "\n",
    "```Fortran\n",
    "DO 20 i=1,n\n",
    "   DO 10 j=1,m\n",
    "      IF(mat(i,j).ne.0.0)THEN\n",
    "          mat(i,j) = 1.0/mat(i,j)\n",
    "      END IF\n",
    "10 CONTINUE\n",
    "20 CONTINUE\n",
    "```\n",
    "\n",
    "- <span style=\"color:red\">Fortran 90</span>\n",
    "\n",
    "```Fortran\n",
    "FORALL(i=1:n,j=1:m,mat(i,j)/=0.0)\n",
    "mat(i,j) = 1.0 / mat(i,j)\n",
    "END FORALL\n",
    "```\n",
    "\n",
    "- Considere o seguinte caso:\n",
    "\n",
    "```Fortran\n",
    "FORALL(i=1:n,j=1:n,a(i,j)/=0.0)b(i,j)=1.0/a(i,j)\n",
    "```\n",
    "\n",
    "Que pode ser escrito como:\n",
    "```Fortran\n",
    "WHERE(a /= 0.0) b = 1.0 / a\n",
    "```\n",
    "\n",
    "A qual também é equivalente a:\n",
    "```Fortran\n",
    "FORALL (i = 1:n, j = 1:n)\n",
    "   WHERE( a(i,j) /= 0.0) b(i,j) = 1.0 / a(i,j)\n",
    "END FORALL\n",
    "```\n",
    "\n",
    "Entretanto o seguinte exemplo <span style=\"color:red\">FORALL</span>\n",
    "não pode ser escrito usando sintaxe de matrizes\n",
    "```Fortran\n",
    "FORALL(i=1:n, j=1:n) h(i,j) = 1.0 / REAL(i+j-1)\n",
    "```\n",
    "\n",
    "- Um outro caso\n",
    "\n",
    "```Fortran\n",
    "TYPE ANALISE\n",
    "  INTEGER, POINTER :: p\n",
    "END TYPE ANALISE\n",
    "\n",
    "TYPE(ANALISE), DIMENSION(8) :: padrao\n",
    "INTEGER, DIMENSION(8), TARGET :: objeto\n",
    "\n",
    "FORALL(j=1:8)PADRAO(j)%P=>OBJETO(1+IEOR(j-1,2))\n",
    "```\n",
    "\n",
    "- O seguinte exemplo mostra uma construção <span style=\"color:red\">FORALL</span>\n",
    "\n",
    "```Fortran\n",
    "FORALL(i=3:n+1, j=3:n+1)\n",
    "  c(i,j) = c(i,j+2)+c(i,j-2)+c(i+2,j)+c(i-2,j)\n",
    "  d(i,j) = c(i,j)\n",
    "END FORALL\n",
    "```"
   ]
  },
  {
   "cell_type": "code",
   "execution_count": 112,
   "metadata": {},
   "outputs": [
    {
     "name": "stdout",
     "output_type": "stream",
     "text": [
      "Writing src/Testa_Forall_01.f95\n"
     ]
    }
   ],
   "source": [
    "%%writefile src/Testa_Forall_01.f95\n",
    "PROGRAM Matriz_Identidade\n",
    "  IMPLICIT NONE\n",
    "  integer, parameter :: n=10\n",
    "  INTEGER :: i, j\n",
    "  INTEGER, DIMENSION(n,n) :: MatI = 0\n",
    "  CHARACTER(50)  :: fmt\n",
    "  WRITE(fmt,'(a4,I2,a8)') \"(2x,\",n,\"(i1,3x))\"\n",
    "  FORALL(i=1:n, j=1:n, i == j ) MatI(i,j) = 1\n",
    "  DO i = 1,n\n",
    "     PRINT(fmt), MatI(i,:)\n",
    "  END DO\n",
    "  PRINT *\n",
    "  PRINT *\n",
    "  DO i = 1,n\n",
    "     WRITE(*,fmt) (MatI(i,j), j=1,n)\n",
    "  END DO\n",
    "  STOP\n",
    "END PROGRAM Matriz_Identidade"
   ]
  },
  {
   "cell_type": "code",
   "execution_count": 113,
   "metadata": {},
   "outputs": [],
   "source": [
    "# A seguir vamos compilar o programa\n",
    "!f95 -std=f2008 -Wall -Waliasing -pedantic -Wsurprising -Wunderflow -o x src/Mod_Precisao.f95 src/Testa_Forall_01.f95"
   ]
  },
  {
   "cell_type": "code",
   "execution_count": 114,
   "metadata": {},
   "outputs": [
    {
     "name": "stdout",
     "output_type": "stream",
     "text": [
      "  1   0   0   0   0   0   0   0   0   0\r\n",
      "  0   1   0   0   0   0   0   0   0   0\r\n",
      "  0   0   1   0   0   0   0   0   0   0\r\n",
      "  0   0   0   1   0   0   0   0   0   0\r\n",
      "  0   0   0   0   1   0   0   0   0   0\r\n",
      "  0   0   0   0   0   1   0   0   0   0\r\n",
      "  0   0   0   0   0   0   1   0   0   0\r\n",
      "  0   0   0   0   0   0   0   1   0   0\r\n",
      "  0   0   0   0   0   0   0   0   1   0\r\n",
      "  0   0   0   0   0   0   0   0   0   1\r\n",
      "\r\n",
      "\r\n",
      "  1   0   0   0   0   0   0   0   0   0\r\n",
      "  0   1   0   0   0   0   0   0   0   0\r\n",
      "  0   0   1   0   0   0   0   0   0   0\r\n",
      "  0   0   0   1   0   0   0   0   0   0\r\n",
      "  0   0   0   0   1   0   0   0   0   0\r\n",
      "  0   0   0   0   0   1   0   0   0   0\r\n",
      "  0   0   0   0   0   0   1   0   0   0\r\n",
      "  0   0   0   0   0   0   0   1   0   0\r\n",
      "  0   0   0   0   0   0   0   0   1   0\r\n",
      "  0   0   0   0   0   0   0   0   0   1\r\n"
     ]
    }
   ],
   "source": [
    "#Agora vamos rodar\n",
    "! ./x "
   ]
  },
  {
   "cell_type": "code",
   "execution_count": 126,
   "metadata": {},
   "outputs": [
    {
     "name": "stdout",
     "output_type": "stream",
     "text": [
      "Overwriting src/Testa_Forall_02.f95\n"
     ]
    }
   ],
   "source": [
    "%%writefile src/Testa_Forall_02.f95\n",
    "PROGRAM Matriz_Triangualres\n",
    "  IMPLICIT NONE\n",
    "  integer, parameter :: n=10\n",
    "  INTEGER :: i, j\n",
    "  REAL, DIMENSION(n,n) :: Mat, TS = 0.0 , TI = 0.0\n",
    "  ! Primeiro preenche toda a matrizes com números aleatórios\n",
    "  CALL RANDOM_NUMBER(mat)\n",
    "  Mat = ANINT(100*Mat)/10\n",
    "  ! Define a diagonal principal\n",
    "  FORALL(i=1:n, j=1:n, i == j ) Mat(i,j) = 5.0\n",
    "  ! Extrai matriz triangular superior\n",
    "  FORALL(i=1:n, j=1:n, j >= i )\n",
    "     TS(i,j) = Mat(i,j)\n",
    "  END FORALL\n",
    "  ! Extrai matriz triangular inferior\n",
    "  FORALL(i=1:n, j=1:n, j <= i )\n",
    "     TI(i,j) = Mat(i,j)\n",
    "  END FORALL\n",
    "  ! Extrai matriz triangular Superior\n",
    "  FORALL(i=1:n, j=1:n, j > i )\n",
    "     TS(i,j) = Mat(i,j)\n",
    "  END FORALL\n",
    "  PRINT *, \"A Matriz completa\"\n",
    "  CALL Imprimir(Mat,n)\n",
    "  PRINT *, \"A Matriz Triangular Superior\"\n",
    "  CALL Imprimir(TS,n)\n",
    "  PRINT *, \"A Matriz Triangular Inferior\"\n",
    "  CALL Imprimir(TI,n)\n",
    "  STOP\n",
    "CONTAINS\n",
    "  SUBROUTINE Imprimir(A,m)\n",
    "    IMPLICIT none\n",
    "    INTEGER, INTENT(IN) :: m\n",
    "    REAL, DIMENSION(m,m), INTENT(IN) :: A\n",
    "    CHARACTER(50)  :: fmt\n",
    "    INTEGER :: i\n",
    "    WRITE(fmt,'(a4,I2,a10)') \"(2x,\",n,\"(f4.1,3x))\"\n",
    "    DO i = 1,m\n",
    "       PRINT(fmt), A(i,:)\n",
    "    END DO\n",
    "    PRINT *, \"\"\n",
    "    RETURN\n",
    "  END SUBROUTINE\n",
    "END PROGRAM Matriz_Triangualres"
   ]
  },
  {
   "cell_type": "code",
   "execution_count": 127,
   "metadata": {},
   "outputs": [],
   "source": [
    "# A seguir vamos compilar o programa\n",
    "!f95 -std=f2008 -Wall -Waliasing -pedantic -Wsurprising -Wunderflow -o x src/Mod_Precisao.f95 src/Testa_Forall_02.f95"
   ]
  },
  {
   "cell_type": "code",
   "execution_count": 128,
   "metadata": {},
   "outputs": [
    {
     "name": "stdout",
     "output_type": "stream",
     "text": [
      " A Matriz completa\r\n",
      "   5.0    2.2    8.6    6.1    6.6    7.7    5.5    8.1    6.7    6.2\r\n",
      "   5.7    5.0    4.0    7.2    5.5    3.4   10.0    5.6    6.6    7.7\r\n",
      "   9.7    9.0    5.0    9.0    9.8    1.2    9.9    0.6    5.0    9.5\r\n",
      "   7.5    3.9    9.7    5.0    9.0    6.1    7.5    4.8    2.6    1.1\r\n",
      "   3.7    4.5    6.0    1.5    5.0    8.2    9.5    6.0    0.8    3.2\r\n",
      "   4.8    6.6    6.7    6.1    7.3    5.0    0.9    1.4    1.0    6.0\r\n",
      "   0.7    0.2    4.6    9.8    4.0    7.3    5.0    5.9    5.5    0.5\r\n",
      "   0.1    6.5    3.3   10.0    9.3    5.0    7.5    5.0    3.8    1.1\r\n",
      "   3.5    6.5    1.0    2.6    1.5    3.7    9.5    8.9    5.0    2.2\r\n",
      "   3.4    3.2    7.6    5.5    6.7    4.2    7.1    3.0    7.9    5.0\r\n",
      " \r\n",
      " A Matriz Triangular Superior\r\n",
      "   5.0    2.2    8.6    6.1    6.6    7.7    5.5    8.1    6.7    6.2\r\n",
      "   0.0    5.0    4.0    7.2    5.5    3.4   10.0    5.6    6.6    7.7\r\n",
      "   0.0    0.0    5.0    9.0    9.8    1.2    9.9    0.6    5.0    9.5\r\n",
      "   0.0    0.0    0.0    5.0    9.0    6.1    7.5    4.8    2.6    1.1\r\n",
      "   0.0    0.0    0.0    0.0    5.0    8.2    9.5    6.0    0.8    3.2\r\n",
      "   0.0    0.0    0.0    0.0    0.0    5.0    0.9    1.4    1.0    6.0\r\n",
      "   0.0    0.0    0.0    0.0    0.0    0.0    5.0    5.9    5.5    0.5\r\n",
      "   0.0    0.0    0.0    0.0    0.0    0.0    0.0    5.0    3.8    1.1\r\n",
      "   0.0    0.0    0.0    0.0    0.0    0.0    0.0    0.0    5.0    2.2\r\n",
      "   0.0    0.0    0.0    0.0    0.0    0.0    0.0    0.0    0.0    5.0\r\n",
      " \r\n",
      " A Matriz Triangular Inferior\r\n",
      "   5.0    0.0    0.0    0.0    0.0    0.0    0.0    0.0    0.0    0.0\r\n",
      "   5.7    5.0    0.0    0.0    0.0    0.0    0.0    0.0    0.0    0.0\r\n",
      "   9.7    9.0    5.0    0.0    0.0    0.0    0.0    0.0    0.0    0.0\r\n",
      "   7.5    3.9    9.7    5.0    0.0    0.0    0.0    0.0    0.0    0.0\r\n",
      "   3.7    4.5    6.0    1.5    5.0    0.0    0.0    0.0    0.0    0.0\r\n",
      "   4.8    6.6    6.7    6.1    7.3    5.0    0.0    0.0    0.0    0.0\r\n",
      "   0.7    0.2    4.6    9.8    4.0    7.3    5.0    0.0    0.0    0.0\r\n",
      "   0.1    6.5    3.3   10.0    9.3    5.0    7.5    5.0    0.0    0.0\r\n",
      "   3.5    6.5    1.0    2.6    1.5    3.7    9.5    8.9    5.0    0.0\r\n",
      "   3.4    3.2    7.6    5.5    6.7    4.2    7.1    3.0    7.9    5.0\r\n",
      " \r\n"
     ]
    }
   ],
   "source": [
    "!./x"
   ]
  },
  {
   "cell_type": "markdown",
   "metadata": {},
   "source": [
    "```Fortran\n",
    "\n",
    "\n",
    "```"
   ]
  },
  {
   "cell_type": "markdown",
   "metadata": {},
   "source": [
    "```Fortran\n",
    "\n",
    "```"
   ]
  }
 ],
 "metadata": {
  "jupytext": {},
  "kernelspec": {
   "display_name": "Python 3",
   "language": "python",
   "name": "python3"
  },
  "language_info": {
   "codemirror_mode": {
    "name": "ipython",
    "version": 3
   },
   "file_extension": ".py",
   "mimetype": "text/x-python",
   "name": "python",
   "nbconvert_exporter": "python",
   "pygments_lexer": "ipython3",
   "version": "3.6.8"
  },
  "latex_envs": {
   "LaTeX_envs_menu_present": true,
   "autoclose": false,
   "autocomplete": false,
   "bibliofile": "biblio.bib",
   "cite_by": "apalike",
   "current_citInitial": 1,
   "eqLabelWithNumbers": true,
   "eqNumInitial": 1,
   "hotkeys": {
    "equation": "Ctrl-E",
    "itemize": "Ctrl-I"
   },
   "labels_anchors": false,
   "latex_user_defs": false,
   "report_style_numbering": false,
   "user_envs_cfg": false
  },
  "nbTranslate": {
   "displayLangs": [
    "pt",
    "en"
   ],
   "hotkey": "alt-t",
   "langInMainMenu": true,
   "sourceLang": "en",
   "targetLang": "pt",
   "useGoogleTranslate": true
  },
  "toc": {
   "base_numbering": 1,
   "nav_menu": {},
   "number_sections": true,
   "sideBar": true,
   "skip_h1_title": false,
   "title_cell": "Table of Contents",
   "title_sidebar": "Contents",
   "toc_cell": false,
   "toc_position": {},
   "toc_section_display": "block",
   "toc_window_display": false
  },
  "varInspector": {
   "cols": {
    "lenName": 16,
    "lenType": 16,
    "lenVar": 40
   },
   "kernels_config": {
    "python": {
     "delete_cmd_postfix": "",
     "delete_cmd_prefix": "del ",
     "library": "var_list.py",
     "varRefreshCmd": "print(var_dic_list())"
    },
    "r": {
     "delete_cmd_postfix": ") ",
     "delete_cmd_prefix": "rm(",
     "library": "var_list.r",
     "varRefreshCmd": "cat(var_dic_list()) "
    }
   },
   "types_to_exclude": [
    "module",
    "function",
    "builtin_function_or_method",
    "instance",
    "_Feature"
   ],
   "window_display": false
  }
 },
 "nbformat": 4,
 "nbformat_minor": 2
}
