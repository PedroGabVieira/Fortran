{
 "cells": [
  {
   "cell_type": "markdown",
   "metadata": {},
   "source": [
    "# Aula 04\n"
   ]
  },
  {
   "cell_type": "markdown",
   "metadata": {},
   "source": [
    "# Programação estruturada\n",
    "\n",
    "O que chamamos de \"programação estruturada\" é uma maneira de dividir seu código em blocos (subrotinas/funções/módulos). Um código estruturado permite que:\n",
    "\n",
    "- repita-se várias vezes a mesma tarefa enquanto codificou-se uma só vez.\n",
    "- chame o mesmo pedaço de código em uma ou mais diferentes partes do programa.\n",
    "- a legibilidade do seu código seja consideravelmente melhorada ao retirar longos trechos que se repetem.\n",
    "- se teste e depure partes do seu código separadamente, ou seja, valida-se, o código por partes. "
   ]
  },
  {
   "cell_type": "markdown",
   "metadata": {},
   "source": [
    "# Procedimentos: funções e subrotinas\n",
    "\n",
    "\n",
    "Na maioria dos programas, um bloco de código é frequentemente reutilizado em vários lugares. Para minimizar a duplicação de código e facilitar a manutenção do código, esses blocos de código devem ser colocados dentro de um procedimento, que no Fortran pode ser uma função ou subrotina. Uma `function` do Fortran é semelhante a uma função matemática, que recebe um ou vários parâmetros como entradas e retorna um único valor de saída. Uma `subroutine` do Fortran é um bloco de código que realiza alguma operação nas variáveis de entrada e, como resultado da chamada à subrotina, as variáveis de entrada são modificadas.\n",
    "\n",
    "\n",
    "Portanto, no Fortran, *procedimentos* significam \"funções\" e/ou \"subrotinas\". Funções e subrotinas são muito semelhantes, exceto que uma função retorna um valor enquanto uma subrotina não. No fortran 4 maneiras de definir os procedimentos:\n",
    "\n",
    "- Procedimentos internos são definidos dentro da estrutura do programa (`CONTAINS`)\n",
    "- Procedimentos externos são independentemente declarado e podem até serem escritos em outra linguagem de programação.\n",
    "- O procedimento do módulo é definido dentro do próprio módulo.\n",
    "- Procedimentos definidos como parte de um objeto, o que significa uma programação orientada a objetos.\n",
    "\n",
    "\n",
    "Muitas linguagens de programação não distinguem entre funções e subrotinas (por exemplo, C/C ++, Python, Java). Linguagens de programação funcionais puras (por exemplo, Haskell) só permitem funções, porque as subrotinas podem, em alguns casos, modificar variáveis de entrada como efeitos colaterais, o que pode complicar o código. Em Fortran, funções e subrotinas são diferentes: a primeira retorna um valor diretamente enquanto a segunda não.\n",
    "\n",
    "Funções são mais simples que subrotinas. Uma função só pode retornar uma variável, e pode ser invocada a partir de expressões, como uma instrução `write`, dentro de uma declaração `if (function) then`, etc. Uma sub-rotina manipula muitas variáveis e só pode ser usada sozinha com um comando suporte da palavra-chave `call`."
   ]
  },
  {
   "cell_type": "markdown",
   "metadata": {},
   "source": [
    "### A sintaxe de funções e subrotinas no Fortran\n",
    "\n",
    "A seguir apresenta-se a sintaxe Fortran para declara e chamar um procedimento. \n",
    "\n",
    "- A sisntaxe usada para definir uma `SUBROUTINE` é a seguinte\n",
    "\n",
    "```fortran\n",
    "   SUBROUTINE sub(args)\n",
    "     IMPLICIT NONE\n",
    "     < DECLARAÇÃO DA LISTA DE ARGUMETOS >\n",
    "     < DECLARAÇÃO DE VARIÁVEIS >\n",
    "     ...\n",
    "     < O CÓDIGO >\n",
    "     ...\n",
    "   END SUBROUTINE sub\n",
    "```\n",
    "\n",
    "   E a sintaxe para chamá-la é\n",
    "\n",
    "```fortran\n",
    "   ! args é a lista de argumentos passado para a subrotina\n",
    "   CALL sub(args)\n",
    "   \n",
    "   ...\n",
    "   \n",
    "     ! subprog é uma subroutina definida em outra parte do código, \n",
    "     ! ela realiza algumas operações sobre as variáveis de entrada a e b.\n",
    "   CALL subprog(a, b)\n",
    "     ! após a chamada a e/ou b, ou ambos/nenhum podem estar modificados \n",
    "```\n",
    "   \n",
    "\n",
    "- A sisntaxe usada para definir uma `FUNCTION` é a seguinte:\n",
    "\n",
    "```fortran\n",
    "   [TYPE] FUNCTION Nome_da_func(args) [RESULT(arg)]\n",
    "     IMPLICIT NONE\n",
    "     < DECLARAÇÃO DA LISTA DE ARGUMETOS >\n",
    "     < DECLARAÇÃO DE VARIÁVEIS >\n",
    "     ...\n",
    "     < O CÓDIGO >\n",
    "     ...\n",
    "   END FUNCTION Nome_da_func\n",
    "```\n",
    "\n",
    "   E a sintaxe para chamá-la é\n",
    "\n",
    "```fortran\n",
    "  ! args é a lista de argumentos passado para a função \n",
    "  res = Nome_da_func(args)\n",
    "  ...\n",
    "  ! func é uma função definida em outra parte do código, \n",
    "  ! a qual entra uma variável b e retorna um resultado pela func \n",
    "  a = func(b)\n",
    "```\n",
    "\n",
    "Agora como exemplo de uso de uma função/subrotina considere os códigos abaixo para calcular a hipotenusa de um triângulo retângulo de lados x e y.\n",
    "\n",
    "```fortran\n",
    "REAL FUNCTION hip(x,y) RESULT(z)\n",
    "  IMPLICIT NONE\n",
    "  REAL, INTENT(in) :: x,y ! entrada\n",
    "  hip = SQRT(x**2 + y**2)\n",
    "END FUNCTION hip\n",
    "```\n",
    "\n",
    "A mesma função, agora usando a instrução `RESULT`:\n",
    "\n",
    "```fortran\n",
    "FUNCTION hip(x,y) RESULT(z)\n",
    "  IMPLICIT NONE\n",
    "  REAL, INTENT(in) :: x,y ! entrada\n",
    "  REAL             :: z   ! saída\n",
    "  z = SQRT(x**2 + y**2)\n",
    "END FUNCTION hip\n",
    "```\n",
    "\n",
    "E agora escrevemos uma subrotina com a mesma funcionalidade:\n",
    "\n",
    "```fortran\n",
    "SUBROUTINE hip(x,y,h)\n",
    "  IMPLICIT NONE\n",
    "  REAL, INTENT(in) :: x,y ! entrada\n",
    "  REAL             :: h   ! saída\n",
    "  h = SQRT(x**2 + y**2)\n",
    "END SUBROUTINE hip\n",
    "```\n",
    "\n",
    "O programador irá optar por implementar uma funcionalidade com uma \"função\" ou uma \"sub-rotina\", conforme a conveniência. No entanto, depois de ter escolhido uma forma ela deverá ser mantida.\n"
   ]
  },
  {
   "cell_type": "markdown",
   "metadata": {},
   "source": [
    "## Procedimentos internos\n",
    "\n",
    "Cada unidade de programa (`PROGRAM`/`SUBROUTINE`/`FUNCTION`) pode conter procedimentos internos. Eles devem ser definidos no final da unidade do programa após adicionar a instrução `CONTAINS`.\n",
    "\n",
    "Instruções `CONTAINS` aninhadas não são permitidas.\n",
    "\n",
    "Todas as variáveis e objetos da unidade principal do programa são \"visíveis\" para procedimentos internos, ou seja, o acesso as variáveis é compartilhado pelo programa principal para o procedimento interno, entretanto a recíproca não é verdade.\n",
    "\n",
    "\n",
    "```fortran\n",
    "PROGRAM test\n",
    "  IMPLICIT NONE\n",
    "  REAL    :: a, x\n",
    "  INTEGER :: i\n",
    "  x = 1.0\n",
    "  a = 15.0\n",
    "  PRINT *, 'Vai iniciar o loop' \n",
    "  DO i=1, 10\n",
    "     PRINT *, 'x = ', x , '   F(x) = ', f(x)\n",
    "     PRINT ('(a3,2x,f5.2,4x,A7,f8.4)'), 'x = ', x , 'F(x) = ', f(x)\n",
    "     PRINT *\n",
    "     x = x + i*0.2\n",
    "     a =  a - 1.0\n",
    "  END DO\n",
    "  STOP\n",
    "CONTAINS\n",
    "\n",
    "  FUNCTION f(z)\n",
    "    IMPLICIT NONE\n",
    "    REAL, INTENT (in) :: z\n",
    "    REAL :: f, b \n",
    "    b = 10.0\n",
    "    ! Note que aqui a variável a é acessada via o seu \n",
    "    ! valor definido no programa principal. Esse método\n",
    "    ! não deve ser usado, nesse caso, a variável a deveria\n",
    "    ! ter sido passado como argumento.\n",
    "    f = a*b + SIN(z)\n",
    "    RETURN\n",
    "  END FUNCTION f\n",
    "\n",
    "END PROGRAM test\n",
    "```"
   ]
  },
  {
   "cell_type": "code",
   "execution_count": 20,
   "metadata": {
    "ExecuteTime": {
     "end_time": "2019-04-29T11:33:50.253154Z",
     "start_time": "2019-04-29T11:33:50.243871Z"
    }
   },
   "outputs": [
    {
     "name": "stdout",
     "output_type": "stream",
     "text": [
      "Overwriting src/procedure_interno_01.f95\n"
     ]
    }
   ],
   "source": [
    "%%writefile src/procedure_interno_01.f95\n",
    "PROGRAM test\n",
    "  IMPLICIT NONE\n",
    "  REAL    :: a, x\n",
    "  INTEGER :: i\n",
    "  x = 1.0\n",
    "  a = 15.0\n",
    "  PRINT *, 'Vai iniciar o loop' \n",
    "  DO i=1, 10\n",
    "     PRINT *, 'x = ', x , '   F(x) = ', f2(x)\n",
    "     PRINT ('(a3,2x,f5.2,4x,A7,f8.4,3x,a4,f8.4)'), 'x = ', x , 'F(x) = ', f(x), 'a = ', a\n",
    "     PRINT *\n",
    "     x = x + i*0.2\n",
    "     a =  a - 1.0\n",
    "  END DO\n",
    "  STOP\n",
    "CONTAINS\n",
    "\n",
    "  FUNCTION f(z)\n",
    "    IMPLICIT NONE\n",
    "    REAL, INTENT (in) :: z\n",
    "    REAL :: f, b \n",
    "    b = 10.0\n",
    "    ! Note que aqui a variável a é acessada via o seu \n",
    "    ! valor definido no programa principal. Esse método\n",
    "    ! não deve ser usado, nesse caso, a variável a deveria\n",
    "    ! ter sido passado como argumento.\n",
    "    f = a*b + SIN(z)\n",
    "    a = a +1.0\n",
    "    RETURN\n",
    "  END FUNCTION f\n",
    "\n",
    "  FUNCTION f2(z)\n",
    "    IMPLICIT NONE\n",
    "    REAL, INTENT (in) :: z\n",
    "    REAL :: f2, b \n",
    "    b = 10.0\n",
    "    ! Note que aqui a variável a é acessada via o seu \n",
    "    ! valor definido no programa principal. Esse método\n",
    "    ! não deve ser usado, nesse caso, a variável a deveria\n",
    "    ! ter sido passado como argumento.\n",
    "    f2 = a*b + exp(-abs(z))\n",
    "    a = a +1.0\n",
    "    RETURN\n",
    "  END FUNCTION f2\n",
    "\n",
    "END PROGRAM test"
   ]
  },
  {
   "cell_type": "code",
   "execution_count": 21,
   "metadata": {
    "ExecuteTime": {
     "end_time": "2019-04-29T11:33:51.359782Z",
     "start_time": "2019-04-29T11:33:51.137015Z"
    }
   },
   "outputs": [],
   "source": [
    "#Compilando o programa\n",
    "! f95 -Wall -Waliasing -pedantic -Warray-bounds -Wsurprising -Wunderflow -fcheck=all -std=f2008 -o x src/procedure_interno_01.f95"
   ]
  },
  {
   "cell_type": "code",
   "execution_count": 22,
   "metadata": {
    "ExecuteTime": {
     "end_time": "2019-04-29T11:33:51.931325Z",
     "start_time": "2019-04-29T11:33:51.816488Z"
    }
   },
   "outputs": [
    {
     "name": "stdout",
     "output_type": "stream",
     "text": [
      " Vai iniciar o loop\r\n",
      " x =    1.00000000        F(x) =    150.367874    \r\n",
      "x =   1.00    F(x) = 160.8415   a =  17.0000\r\n",
      "\r\n",
      " x =    1.20000005        F(x) =    160.301193    \r\n",
      "x =   1.20    F(x) = 170.9320   a =  18.0000\r\n",
      "\r\n",
      " x =    1.60000002        F(x) =    170.201889    \r\n",
      "x =   1.60    F(x) = 180.9996   a =  19.0000\r\n",
      "\r\n",
      " x =    2.20000005        F(x) =    180.110809    \r\n",
      "x =   2.20    F(x) = 190.8085   a =  20.0000\r\n",
      "\r\n",
      " x =    3.00000000        F(x) =    190.049789    \r\n",
      "x =   3.00    F(x) = 200.1411   a =  21.0000\r\n",
      "\r\n",
      " x =    4.00000000        F(x) =    200.018311    \r\n",
      "x =   4.00    F(x) = 209.2432   a =  22.0000\r\n",
      "\r\n",
      " x =    5.19999981        F(x) =    210.005524    \r\n",
      "x =   5.20    F(x) = 219.1165   a =  23.0000\r\n",
      "\r\n",
      " x =    6.59999990        F(x) =    220.001358    \r\n",
      "x =   6.60    F(x) = 230.3115   a =  24.0000\r\n",
      "\r\n",
      " x =    8.19999981        F(x) =    230.000275    \r\n",
      "x =   8.20    F(x) = 240.9407   a =  25.0000\r\n",
      "\r\n",
      " x =    10.0000000        F(x) =    240.000046    \r\n",
      "x =  10.00    F(x) = 249.4560   a =  26.0000\r\n",
      "\r\n"
     ]
    }
   ],
   "source": [
    "#Rodando o código\n",
    "! ./x"
   ]
  },
  {
   "cell_type": "markdown",
   "metadata": {},
   "source": [
    "## Procedimentos externos \n",
    "\n",
    "Procedimentos externos são definidos em uma unidade de programa separada, que pode até estar em outro arquivo, o que em muitos casos facilita a manutenção do código.\n",
    "\n",
    "- Quando você quiser usá-los em outra unidade de programa, você precisa se referir com a palavra-chave `EXTERNAL`\n",
    "- Eles são compilados separadamente e vinculados\n",
    "\n",
    "**OBS:** NÃO OS USE: os módulos são muito mais fáceis e robustos! Eles são uma herança do fortran 77.\n",
    "\n",
    "  Eles são necessários apenas quando os procedimentos são escritos em uma linguagem de programação diferente ou ao usar bibliotecas externas (como BLAS, LAPACK, etc.)\n",
    "  \n",
    "```fortran\n",
    "SUBROUTINE hip2(x,y,h)\n",
    "   IMPLICIT NONE\n",
    "   REAL, INTENT(in) :: x,y ! entrada\n",
    "   REAL             :: h   ! saída\n",
    "   h = SQRT(x**2 + y**2)\n",
    "END SUBROUTINE hip2\n",
    "\n",
    "REAL FUNCTION hip(x,y) \n",
    "   IMPLICIT NONE\n",
    "   REAL, INTENT(in) :: x,y ! entrada\n",
    "   hip = SQRT(x**2 + y**2)\n",
    "END FUNCTION hip\n",
    "   \n",
    "PROGRAM distancia\n",
    "   IMPLICIT NONE\n",
    "   REAL :: x=3.0, y=4.0, res\n",
    "   REAL, EXTERNAL :: hip\n",
    "   EXTERNAL :: hip2\n",
    "   PRINT*,\"A hipotenusa do triangulo (\",x, y,\") é \",hip(x,y)\n",
    "   CALL hip2(2*x,2*y,res)\n",
    "   PRINT*,\"A hipotenusa do triangulo (\",2*x, 2*y,\") é \", res\n",
    "END PROGRAM distancia\n",
    "```"
   ]
  },
  {
   "cell_type": "code",
   "execution_count": 31,
   "metadata": {
    "ExecuteTime": {
     "end_time": "2019-01-29T00:16:43.449866Z",
     "start_time": "2019-01-29T00:16:43.445295Z"
    }
   },
   "outputs": [
    {
     "name": "stdout",
     "output_type": "stream",
     "text": [
      "Overwriting src/procedure_externo_01.f95\n"
     ]
    }
   ],
   "source": [
    "%%writefile src/procedure_externo_01.f95\n",
    "SUBROUTINE hip2(x,y,h)\n",
    "   IMPLICIT NONE\n",
    "   REAL, INTENT(in) :: x,y ! entrada\n",
    "   REAL             :: h   ! saída\n",
    "   h = SQRT(x**2 + y**2)\n",
    "END SUBROUTINE hip2\n",
    "\n",
    "REAL FUNCTION hip(x,y) \n",
    "   IMPLICIT NONE\n",
    "   REAL, INTENT(in) :: x,y ! entrada\n",
    "   hip = SQRT(x**2 + y**2)\n",
    "END FUNCTION hip\n",
    "   \n",
    "PROGRAM distancia\n",
    "   IMPLICIT NONE\n",
    "   REAL :: x=3.0, y=4.0, res\n",
    "   REAL, EXTERNAL :: hip\n",
    "   EXTERNAL :: hip2\n",
    "   PRINT*,\"A hipotenusa do triangulo (\",x, y,\") é \",hip(x,y)\n",
    "   CALL hip2(2*x,2*y,res)\n",
    "   PRINT*,\"A hipotenusa do triangulo (\",2*x, 2*y,\") é \", res\n",
    "END PROGRAM distancia"
   ]
  },
  {
   "cell_type": "code",
   "execution_count": 23,
   "metadata": {
    "ExecuteTime": {
     "end_time": "2019-04-29T11:42:22.900652Z",
     "start_time": "2019-04-29T11:42:22.704379Z"
    }
   },
   "outputs": [],
   "source": [
    "#Compilando o programa\n",
    "! f95 -Wall -Waliasing -pedantic -Warray-bounds -Wsurprising -Wunderflow -fcheck=all -std=f2008 -std=f2008 -o x src/procedure_externo_01.f95"
   ]
  },
  {
   "cell_type": "code",
   "execution_count": 24,
   "metadata": {
    "ExecuteTime": {
     "end_time": "2019-04-29T11:42:25.046200Z",
     "start_time": "2019-04-29T11:42:24.935845Z"
    }
   },
   "outputs": [
    {
     "name": "stdout",
     "output_type": "stream",
     "text": [
      " A hipotenusa do triangulo (   3.00000000       4.00000000     ) é    5.00000000    \r\n",
      " A hipotenusa do triangulo (   6.00000000       8.00000000     ) é    10.0000000    \r\n"
     ]
    }
   ],
   "source": [
    "#Rodando o código\n",
    "! ./x"
   ]
  },
  {
   "cell_type": "markdown",
   "metadata": {},
   "source": [
    "## Exemplo\n",
    "\n",
    "A seguir apresentamos um modelo mais elaborado, no qual temos ambos, procedimentos internos e externos. Nesse exemplo, usamos o método de ordenamento da bolha *bubble sorting*:\n",
    "\n",
    "```fortran\n",
    "PROGRAM Bubble_sort\n",
    "  IMPLICIT NONE\n",
    "  REAL, DIMENSION(:,:), ALLOCATABLE :: mat\n",
    "  REAL, DIMENSION(:),   ALLOCATABLE :: Vec\n",
    "  INTEGER :: n, erro\n",
    "  INTERFACE\n",
    "     SUBROUTINE Bubble(A, n)\n",
    "       INTEGER, INTENT (in):: n \n",
    "       REAL, DIMENSION(:) :: A\n",
    "     END SUBROUTINE Bubble\n",
    "  END INTERFACE\n",
    "  !\n",
    "  PRINT*, 'Entre com a dimensão da matriz quadrada'\n",
    "  READ*, n\n",
    "  ALLOCATE(Mat(n,n), Vec(n*n), STAT=erro)\n",
    "  IF (erro /= 0 ) STOP 'Erro na alocação'\n",
    "  ! Preenche a matriz com números aleatórios\n",
    "  CALL random_NUMBER(Mat)\n",
    "  ! Vamos reescalara a matriz para valores entre 0 <= Mat <= 100\n",
    "  Mat = NINT(1000*Mat)/10.0\n",
    "  PRINT *,' '\n",
    "  PRINT *,'A matriz inicial é'\n",
    "  CALL print_real(Mat, n, n)\n",
    "  PRINT *,' '\n",
    "  vec = PACK(Mat, Mat > 0.0)\n",
    "  CALL Bubble(vec,n*n)\n",
    "  Mat = RESHAPE(vec,(/n,n/))\n",
    "  PRINT *,' A matriz ordenada :'\n",
    "  PRINT *,' '\n",
    "  CALL print_real(Mat, n, n)\n",
    "  PRINT *,' '\n",
    "  STOP\n",
    "CONTAINS\n",
    "  !---------------------------------------------------------------------\n",
    "  SUBROUTINE print_real(b, n, m, fmt0)\n",
    "    !-------------------------------------------------------------------\n",
    "    IMPLICIT NONE\n",
    "    CHARACTER (LEN=*), INTENT(in), OPTIONAL :: fmt0\n",
    "    INTEGER, INTENT(in) :: n, m\n",
    "    REAL, DIMENSION(:,:), INTENT(in) :: b\n",
    "    INTEGER :: i, j\n",
    "    CHARACTER (LEN=95) :: fmt, fmt1, fmt2\n",
    "    !-------------------------------------------------------------------  \n",
    "    IF ( PRESENT(fmt0) ) THEN\n",
    "       fmt=TRIM(fmt0)\n",
    "    ELSE\n",
    "       j=AINT(LOG10(MAXVAL(ABS(b))))+1 ! numero de digitos da parte inteira\n",
    "       i = j + 3 ! Numero total de digitos, com 2 digitos para parte decimal\n",
    "       j = 2\n",
    "       WRITE(fmt,'(a2,i2,a1,i1,a4)') \"(F\", i,\".\",j,\",2x)\"\n",
    "       fmt=TRIM(fmt)\n",
    "    ENDIF\n",
    "    !-------------------------------------------------------------------\n",
    "    i = SCAN(fmt, \")\" ) + 1\n",
    "    WRITE(fmt2,'(a8,I2,a1)') \"(a4,i2,A\",i,\")\"\n",
    "    WRITE(fmt1,fmt2) \"(1X,\", m, TRIM(fmt)  // \")\"\n",
    "    !-------------------------------------------------------------------\n",
    "    DO i =1, n\n",
    "       WRITE(*,fmt1)(b(i,j), j=1,m)\n",
    "    END DO\n",
    "    !-------------------------------------------------------------------\n",
    "    RETURN \n",
    "    !-------------------------------------------------------------------\n",
    "  END SUBROUTINE print_real\n",
    "  !--------------------------------------------------------------------- \n",
    "END PROGRAM Bubble_sort\n",
    "```"
   ]
  },
  {
   "cell_type": "code",
   "execution_count": 25,
   "metadata": {
    "ExecuteTime": {
     "end_time": "2019-04-29T11:48:21.076368Z",
     "start_time": "2019-04-29T11:48:21.030709Z"
    }
   },
   "outputs": [
    {
     "name": "stdout",
     "output_type": "stream",
     "text": [
      "Overwriting src/principal_bolha.f95\n"
     ]
    }
   ],
   "source": [
    "%%writefile src/principal_bolha.f95\n",
    "PROGRAM Bubble_sort\n",
    "  IMPLICIT NONE\n",
    "  REAL, DIMENSION(:,:), ALLOCATABLE :: mat\n",
    "  REAL, DIMENSION(:),   ALLOCATABLE :: Vec\n",
    "  INTEGER :: n, erro\n",
    "  INTERFACE\n",
    "     SUBROUTINE Bubble(A, n)\n",
    "       INTEGER, INTENT (in):: n \n",
    "       REAL, DIMENSION(:) :: A\n",
    "     END SUBROUTINE Bubble\n",
    "  END INTERFACE\n",
    "  !\n",
    "  PRINT*, 'Entre com a dimensão da matriz quadrada'\n",
    "  READ*, n\n",
    "  ALLOCATE(Mat(n,n), Vec(n*n), STAT=erro)\n",
    "  IF (erro /= 0 ) STOP 'Erro na alocação'\n",
    "  ! Preenche a matriz com números aleatórios\n",
    "  CALL random_NUMBER(Mat)\n",
    "  ! Vamos reescalara a matriz para valores entre 0 <= Mat <= 100\n",
    "  Mat = NINT(1000*Mat)/10.0\n",
    "  PRINT *,' '\n",
    "  PRINT *,'A matriz inicial é'\n",
    "  CALL print_real(Mat, n, n)\n",
    "  PRINT *,' '\n",
    "  vec = PACK(Mat, Mat > 0.0)\n",
    "  CALL Bubble(vec,n*n)\n",
    "  Mat = RESHAPE(vec,(/n,n/))\n",
    "  ! \n",
    "  PRINT *,' A matriz ordenada :'\n",
    "  PRINT *,' '\n",
    "  CALL print_real(Mat, n, n)\n",
    "  PRINT *,' '\n",
    "  STOP\n",
    "CONTAINS\n",
    "  !---------------------------------------------------------------------\n",
    "  SUBROUTINE print_real(b, n, m, fmt0)\n",
    "    !-------------------------------------------------------------------\n",
    "    IMPLICIT NONE\n",
    "    CHARACTER (LEN=*), INTENT(in), OPTIONAL :: fmt0\n",
    "    INTEGER, INTENT(in) :: n, m\n",
    "    REAL, DIMENSION(:,:), INTENT(in) :: b\n",
    "    INTEGER :: i, j\n",
    "    CHARACTER (LEN=95) :: fmt, fmt1, fmt2\n",
    "    !-------------------------------------------------------------------  \n",
    "    IF ( PRESENT(fmt0) ) THEN\n",
    "       fmt=TRIM(fmt0)\n",
    "    ELSE\n",
    "       j=AINT(LOG10(MAXVAL(ABS(b))))+1 ! numero de digitos da parte inteira\n",
    "       i = j + 3 ! Numero total de digitos, com 2 digitos para parte decimal\n",
    "       j = 2\n",
    "       WRITE(fmt,'(a2,i2,a1,i1,a4)') \"(F\", i,\".\",j,\",2x)\"\n",
    "       fmt=TRIM(fmt)\n",
    "    ENDIF\n",
    "    !-------------------------------------------------------------------\n",
    "    i = SCAN(fmt, \")\" ) + 1\n",
    "    WRITE(fmt2,'(a8,I2,a1)') \"(a4,i2,A\",i,\")\"\n",
    "    WRITE(fmt1,fmt2) \"(1X,\", m, TRIM(fmt)  // \")\"\n",
    "    !-------------------------------------------------------------------\n",
    "    DO i =1, n\n",
    "       WRITE(*,fmt1)(b(i,j), j=1,m)\n",
    "    END DO\n",
    "    !-------------------------------------------------------------------\n",
    "    RETURN \n",
    "    !-------------------------------------------------------------------\n",
    "  END SUBROUTINE print_real\n",
    "  !--------------------------------------------------------------------- \n",
    "END PROGRAM Bubble_sort"
   ]
  },
  {
   "cell_type": "code",
   "execution_count": 28,
   "metadata": {
    "ExecuteTime": {
     "end_time": "2019-04-29T11:50:03.861246Z",
     "start_time": "2019-04-29T11:50:03.649685Z"
    }
   },
   "outputs": [
    {
     "name": "stdout",
     "output_type": "stream",
     "text": [
      "\u001b[01m\u001b[Ksrc/principal_bolha.f95:48:9:\u001b[m\u001b[K\n",
      "\n",
      "        j=AINT(LOG10(MAXVAL(ABS(b))))+1 ! numero de digitos da parte inteira\n",
      "         \u001b[01;35m\u001b[K1\u001b[m\u001b[K\n",
      "\u001b[01;35m\u001b[KWarning:\u001b[m\u001b[K Possible change of value in conversion from REAL(4) to INTEGER(4) at (1) [\u001b[01;35m\u001b[K-Wconversion\u001b[m\u001b[K]\n",
      "/tmp/ccgiPjiw.o: Na função \"MAIN__\":\n",
      "principal_bolha.f95:(.text+0x1982): referência não definida para \"bubble_\"\n",
      "collect2: error: ld returned 1 exit status\n"
     ]
    }
   ],
   "source": [
    "! f95 -Wall -Waliasing -pedantic -Warray-bounds -Wsurprising -Wunderflow -fcheck=all -std=f2008 -std=f2008 -o x src/principal_bolha.f95"
   ]
  },
  {
   "cell_type": "markdown",
   "metadata": {},
   "source": [
    "Há também um segundo arquivo contendo as duas rotinas responsaveis pelo método da bolha, gravadas em um arquivo externo.\n",
    "\n",
    "```fortran\n",
    "!Retorna p,q em ordem crescente\n",
    "SUBROUTINE Ordem(p,q)\n",
    "  IMPLICIT NONE\n",
    "  REAL :: p,q,temp\n",
    "  IF (p>q) THEN\n",
    "     temp=p\n",
    "     p=q\n",
    "     q=temp\n",
    "  END IF\n",
    "  RETURN\n",
    "END SUBROUTINE Ordem\n",
    "\n",
    "!Algoritmo da Bolha\n",
    "SUBROUTINE Bubble(A, n)\n",
    "  IMPLICIT NONE\n",
    "  INTEGER, INTENT (in):: n \n",
    "  REAL, DIMENSION(:) :: A\n",
    "  INTEGER :: i, j\n",
    "  DO i=1, n\n",
    "     DO j=n, i+1, -1\n",
    "        CALL Ordem(A(j-1), A(j))\n",
    "     END DO\n",
    "  END DO\n",
    "  RETURN\n",
    "END SUBROUTINE Bubble\n",
    "```"
   ]
  },
  {
   "cell_type": "code",
   "execution_count": 29,
   "metadata": {
    "ExecuteTime": {
     "end_time": "2019-04-29T12:00:58.224387Z",
     "start_time": "2019-04-29T12:00:58.216432Z"
    }
   },
   "outputs": [
    {
     "name": "stdout",
     "output_type": "stream",
     "text": [
      "Overwriting src/proced_bolha_ordem.f95\n"
     ]
    }
   ],
   "source": [
    "%%writefile src/proced_bolha_ordem.f95\n",
    "!Retorna p,q em ordem crescente\n",
    "SUBROUTINE Ordem(p,q)\n",
    "  IMPLICIT NONE\n",
    "  REAL, INTENT(INOUT) :: p,q\n",
    "  REAL :: temp\n",
    "  IF (p>q) THEN\n",
    "     temp=p\n",
    "     p=q\n",
    "     q=temp\n",
    "  END IF\n",
    "  RETURN\n",
    "END SUBROUTINE Ordem"
   ]
  },
  {
   "cell_type": "code",
   "execution_count": 30,
   "metadata": {
    "ExecuteTime": {
     "end_time": "2019-04-29T12:01:00.768666Z",
     "start_time": "2019-04-29T12:01:00.736804Z"
    }
   },
   "outputs": [
    {
     "name": "stdout",
     "output_type": "stream",
     "text": [
      "Overwriting src/proced_bolha_sort.f95\n"
     ]
    }
   ],
   "source": [
    "%%writefile src/proced_bolha_sort.f95\n",
    "!Algoritmo da Bolha\n",
    "SUBROUTINE Bubble(A, n)\n",
    "  IMPLICIT NONE\n",
    "  INTEGER, INTENT (in):: n \n",
    "  REAL, DIMENSION(:) :: A\n",
    "  INTEGER  :: i, j\n",
    " ! EXTERNAL :: ordem\n",
    "  INTERFACE\n",
    "     SUBROUTINE Ordem(p,q)\n",
    "       REAL, INTENT(INOUT) :: p,q \n",
    "     END SUBROUTINE Ordem\n",
    "  END INTERFACE        \n",
    "!            \n",
    "  DO i=1, n\n",
    "     DO j=n, i+1, -1\n",
    "        CALL Ordem(A(j-1), A(j))\n",
    "     END DO\n",
    "  END DO\n",
    "  RETURN\n",
    "END SUBROUTINE Bubble"
   ]
  },
  {
   "cell_type": "markdown",
   "metadata": {},
   "source": [
    "E agora iremos compilar manualmente esse código\n",
    "\n",
    "```bash\n",
    "gfortran src/proced_bolha_ordem.f95 src/proced_bolha_sort.f95 -c\n",
    "gfortran src/principal_bolha.f95 src/proced_bolha_ordem.o src/proced_bolha_sort.o\n",
    "```"
   ]
  },
  {
   "cell_type": "code",
   "execution_count": 31,
   "metadata": {
    "ExecuteTime": {
     "end_time": "2019-04-29T12:01:38.106288Z",
     "start_time": "2019-04-29T12:01:37.931134Z"
    }
   },
   "outputs": [],
   "source": [
    "# Compilando os procedimentos externos do programas\n",
    "! f95 -Wall -std=f2008 -c src/proced_bolha_ordem.f95 src/proced_bolha_sort.f95"
   ]
  },
  {
   "cell_type": "code",
   "execution_count": 32,
   "metadata": {
    "ExecuteTime": {
     "end_time": "2019-04-29T12:01:39.062832Z",
     "start_time": "2019-04-29T12:01:38.833316Z"
    }
   },
   "outputs": [
    {
     "name": "stdout",
     "output_type": "stream",
     "text": [
      "\u001b[01m\u001b[Ksrc/principal_bolha.f95:48:9:\u001b[m\u001b[K\r\n",
      "\r\n",
      "        j=AINT(LOG10(MAXVAL(ABS(b))))+1 ! numero de digitos da parte inteira\r\n",
      "         \u001b[01;35m\u001b[K1\u001b[m\u001b[K\r\n",
      "\u001b[01;35m\u001b[KWarning:\u001b[m\u001b[K Possible change of value in conversion from REAL(4) to INTEGER(4) at (1) [\u001b[01;35m\u001b[K-Wconversion\u001b[m\u001b[K]\r\n"
     ]
    }
   ],
   "source": [
    "# Compilando o programa princiapl\n",
    "! f95 -Wall -std=f2008 -o x src/principal_bolha.f95 proced_bolha_ordem.o proced_bolha_sort.o"
   ]
  },
  {
   "cell_type": "code",
   "execution_count": 33,
   "metadata": {
    "ExecuteTime": {
     "end_time": "2019-04-29T12:01:53.156582Z",
     "start_time": "2019-04-29T12:01:53.020312Z"
    }
   },
   "outputs": [
    {
     "name": "stdout",
     "output_type": "stream",
     "text": [
      " Entre com a dimensão da matriz quadrada\r\n",
      "  \r\n",
      " A matriz inicial é\r\n",
      " 65.10   9.90   1.40  52.80  43.60  96.90\r\n",
      " 96.60  86.30  96.20  41.20  55.90  70.30\r\n",
      "  7.00  54.40  78.70  90.90  35.00  72.20\r\n",
      "  8.40  93.00  32.90  25.40  52.80  96.80\r\n",
      " 14.10  63.60  15.40  28.80  62.50  74.70\r\n",
      " 53.30   4.40   1.00  18.40  79.10   0.80\r\n",
      "  \r\n",
      "  A matriz ordenada :\r\n",
      "  \r\n",
      "  0.80   9.90  32.90  53.30  70.30  90.90\r\n",
      "  1.00  14.10  35.00  54.40  72.20  93.00\r\n",
      "  1.40  15.40  41.20  55.90  74.70  96.20\r\n",
      "  4.40  18.40  43.60  62.50  78.70  96.60\r\n",
      "  7.00  25.40  52.80  63.60  79.10  96.80\r\n",
      "  8.40  28.80  52.80  65.10  86.30  96.90\r\n",
      "  \r\n"
     ]
    }
   ],
   "source": [
    "# Rodando o Programa\n",
    "! echo \"6\" |  ./x -"
   ]
  },
  {
   "cell_type": "markdown",
   "metadata": {},
   "source": [
    "Há uma outra forma de compilar. Basta gerar todos de uma só vez na ordem de dependência. Note que a dependência é a seguinte:\n",
    "\n",
    "- proced_bolha_ordem.f95 é indepedente\n",
    "- src/proced_bolha_sort.f95 depende de proced_bolha_ordem.f95\n",
    "- src/proced_bolha_sort.f95 depende de src/proced_bolha_sort.f95"
   ]
  },
  {
   "cell_type": "code",
   "execution_count": 26,
   "metadata": {
    "ExecuteTime": {
     "end_time": "2019-01-29T00:10:35.898140Z",
     "start_time": "2019-01-29T00:10:35.644205Z"
    }
   },
   "outputs": [
    {
     "name": "stdout",
     "output_type": "stream",
     "text": [
      "\u001b[01m\u001b[Ksrc/principal_bolha.f95:49:9:\u001b[m\u001b[K\r\n",
      "\r\n",
      "        j=AINT(LOG10(MAXVAL(ABS(b))))+1 ! numero de digitos da parte inteira\r\n",
      "         \u001b[01;35m\u001b[K1\u001b[m\u001b[K\r\n",
      "\u001b[01;35m\u001b[KWarning:\u001b[m\u001b[K Possible change of value in conversion from REAL(4) to INTEGER(4) at (1) [\u001b[01;35m\u001b[K-Wconversion\u001b[m\u001b[K]\r\n"
     ]
    }
   ],
   "source": [
    "# Vamos gerar um excutável compilando tudo junto\n",
    "! ! f95 -Wall -std=f2008 -o y src/proced_bolha_ordem.f95 src/proced_bolha_sort.f95 src/principal_bolha.f95 "
   ]
  },
  {
   "cell_type": "code",
   "execution_count": 27,
   "metadata": {
    "ExecuteTime": {
     "end_time": "2019-01-29T00:11:07.131663Z",
     "start_time": "2019-01-29T00:11:07.020754Z"
    }
   },
   "outputs": [
    {
     "name": "stdout",
     "output_type": "stream",
     "text": [
      " Entre com a dimensão da matriz quadrada\r\n",
      "  \r\n",
      " A matriz inicial é\r\n",
      " 90.90  73.20  77.60  91.40  89.30\r\n",
      " 66.50  99.00  76.30  27.50  72.10\r\n",
      " 67.20  31.80  45.20  46.80  65.70\r\n",
      " 80.50  55.30  97.80  82.40  28.60\r\n",
      " 69.70  12.20  59.80  89.10  41.90\r\n",
      "  \r\n",
      "  A matriz ordenada :\r\n",
      "  \r\n",
      " 12.20  45.20  66.50  76.30  89.30\r\n",
      " 27.50  46.80  67.20  77.60  90.90\r\n",
      " 28.60  55.30  69.70  80.50  91.40\r\n",
      " 31.80  59.80  72.10  82.40  97.80\r\n",
      " 41.90  65.70  73.20  89.10  99.00\r\n",
      "  \r\n"
     ]
    }
   ],
   "source": [
    "# Vamos rodar o código\n",
    "! echo \"5\" | ./x -"
   ]
  },
  {
   "cell_type": "markdown",
   "metadata": {
    "ExecuteTime": {
     "end_time": "2019-01-27T18:51:37.149697Z",
     "start_time": "2019-01-27T18:51:37.144246Z"
    }
   },
   "source": [
    "## Funções\n",
    "\n",
    "Vamos voltar para as funções, vamos avaliar a instrução `RESULT`. No Fortran, pode-se usar uma `function` para retorna um valor ou uma matriz de valores. \n",
    "\n",
    "O programa a seguir chama a função externa `hip` para calcular a hipotenusa de um triângulo retângulo de lados x e y.\n",
    "\n",
    "\n",
    "```fortran\n",
    "  FUNCTION hip(x,y) RESULT(z)\n",
    "    IMPLICIT NONE\n",
    "    REAL, INTENT(in) :: x,y ! entrada\n",
    "    REAL             :: z   ! saída\n",
    "    z = SQRT(x**2 + y**2)\n",
    "  END FUNCTION hip\n",
    "   \n",
    " PROGRAM distancia\n",
    "   IMPLICIT NONE\n",
    "   REAL :: x=3.0, y=4.0\n",
    "   REAL :: hip\n",
    "   PRINT*,\"A hipotenusa do triangulo (\",x, y,\") é \",hip(x,y)\n",
    " END PROGRAM distancia\n",
    "\n",
    "```\n",
    "\n",
    "O atributo `intent(in)` dos argumento `x` e `y` significa que essas variáveis não podem ser alteradas dentro da função e em contraste, o valor de retorno `z` é automatico já que nenhum atributo foi passado a `z`. Note que o tipo do retorno de `func` precisa ser declarado. Se isso for omitido, alguns compiladores não irão conseguir compilar o código. "
   ]
  },
  {
   "cell_type": "code",
   "execution_count": 34,
   "metadata": {
    "ExecuteTime": {
     "end_time": "2019-04-29T12:04:51.457799Z",
     "start_time": "2019-04-29T12:04:51.433961Z"
    }
   },
   "outputs": [
    {
     "name": "stdout",
     "output_type": "stream",
     "text": [
      "Overwriting src/funcao_hip_01.f95\n"
     ]
    }
   ],
   "source": [
    "%%writefile src/funcao_hip_01.f95\n",
    "  FUNCTION hip(x,y) RESULT(z)\n",
    "    IMPLICIT NONE\n",
    "    REAL, INTENT(in) :: x,y ! entrada\n",
    "    REAL             :: z   ! saída\n",
    "    z = SQRT(x**2 + y**2)\n",
    "  END FUNCTION hip\n",
    "   \n",
    " PROGRAM distancia\n",
    "   IMPLICIT NONE\n",
    "   REAL :: x=3.0, y=4.0\n",
    "   REAL, EXTERNAL :: hip\n",
    "   PRINT*,\"A hipotenusa do triangulo (\",x, y,\") é \",hip(x,y)\n",
    " END PROGRAM distancia"
   ]
  },
  {
   "cell_type": "code",
   "execution_count": 35,
   "metadata": {
    "ExecuteTime": {
     "end_time": "2019-04-29T12:04:54.446387Z",
     "start_time": "2019-04-29T12:04:54.273584Z"
    }
   },
   "outputs": [],
   "source": [
    "#Compilando o programa\n",
    "! f95 -Wall -std=f2008 -o x src/funcao_hip_01.f95"
   ]
  },
  {
   "cell_type": "code",
   "execution_count": 36,
   "metadata": {
    "ExecuteTime": {
     "end_time": "2019-04-29T12:04:56.854478Z",
     "start_time": "2019-04-29T12:04:56.739476Z"
    }
   },
   "outputs": [
    {
     "name": "stdout",
     "output_type": "stream",
     "text": [
      " A hipotenusa do triangulo (   3.00000000       4.00000000     ) é    5.00000000    \r\n"
     ]
    }
   ],
   "source": [
    "#Rodando o programa \n",
    "! ./x"
   ]
  },
  {
   "cell_type": "markdown",
   "metadata": {
    "ExecuteTime": {
     "end_time": "2019-01-27T18:51:37.149697Z",
     "start_time": "2019-01-27T18:51:37.144246Z"
    }
   },
   "source": [
    "A função poderia retorna um valor sem a necessidade da instrução `result`, dessa forma o código ficaria assim\n",
    "\n",
    "```fortran\n",
    "  FUNCTION hip(x,y) \n",
    "    REAL, INTENT(in) :: x,y ! entrada\n",
    "    REAL             :: hip ! saída\n",
    "    hip = SQRT(x**2 + y**2)\n",
    "    RETURN\n",
    "  END FUNCTION hip\n",
    "```\n",
    "\n",
    "Essa função também poderia ser uma função interna, e nesse caso, ela teria a seguinte forma\n",
    "\n",
    "```fortran\n",
    " PROGRAM distancia\n",
    "   IMPLICIT NONE\n",
    "   REAL :: x=3.0, y=4.0\n",
    "   PRINT*,\"A hipotenusa do triangulo (\",x, y,\") é \",hip(x,y)\n",
    " CONTAINS\n",
    "   FUNCTION hip(a,b) \n",
    "     REAL, INTENT(in) :: a,b ! entrada\n",
    "     REAL             :: hip ! saída\n",
    "     hip = SQRT(a**2 + b**2)\n",
    "     RETURN\n",
    "   END FUNCTION hip\n",
    " END PROGRAM distancia\n",
    "```"
   ]
  },
  {
   "cell_type": "code",
   "execution_count": 37,
   "metadata": {
    "ExecuteTime": {
     "end_time": "2019-04-29T12:05:05.848429Z",
     "start_time": "2019-04-29T12:05:05.819224Z"
    }
   },
   "outputs": [
    {
     "name": "stdout",
     "output_type": "stream",
     "text": [
      "Overwriting src/funcao_hip_02.f95\n"
     ]
    }
   ],
   "source": [
    "%%writefile src/funcao_hip_02.f95\n",
    " PROGRAM distancia\n",
    "   IMPLICIT NONE\n",
    "   REAL :: x=3.0, y=4.0\n",
    "   PRINT*,\"A hipotenusa do triangulo (\",x, y,\") é \",hip(x,y)\n",
    " CONTAINS\n",
    "   FUNCTION hip(a,b) \n",
    "     REAL, INTENT(in) :: a,b ! entrada\n",
    "     REAL             :: hip ! saída\n",
    "     hip = SQRT(a**2 + b**2)\n",
    "     RETURN\n",
    "   END FUNCTION hip\n",
    " END PROGRAM distancia"
   ]
  },
  {
   "cell_type": "code",
   "execution_count": 38,
   "metadata": {
    "ExecuteTime": {
     "end_time": "2019-04-29T12:05:09.433353Z",
     "start_time": "2019-04-29T12:05:09.266394Z"
    }
   },
   "outputs": [],
   "source": [
    "#Compilando o programa\n",
    "! f95 -Wall -std=f2008 -o x src/funcao_hip_02.f95"
   ]
  },
  {
   "cell_type": "code",
   "execution_count": 39,
   "metadata": {
    "ExecuteTime": {
     "end_time": "2019-04-29T12:05:09.966050Z",
     "start_time": "2019-04-29T12:05:09.856134Z"
    }
   },
   "outputs": [
    {
     "name": "stdout",
     "output_type": "stream",
     "text": [
      " A hipotenusa do triangulo (   3.00000000       4.00000000     ) é    5.00000000    \r\n"
     ]
    }
   ],
   "source": [
    "#Rodando o programa\n",
    "! ./x"
   ]
  },
  {
   "cell_type": "markdown",
   "metadata": {
    "ExecuteTime": {
     "end_time": "2019-01-27T18:51:37.149697Z",
     "start_time": "2019-01-27T18:51:37.144246Z"
    }
   },
   "source": [
    "Vamos construir uma função potência, para isso, note que\n",
    "\n",
    "\\begin{equation}\n",
    " y = x^n \\qquad \\Longrightarrow \\qquad \\ln{y} = n \\cdot \\ln{x} \n",
    " \\qquad \\Longrightarrow \\qquad y = e^{\\ln{y}} = e^{n \\cdot \\ln{x}}\n",
    "\\end{equation}\n",
    "\n",
    "Portanto, a seguir apresentamos uma formulação alternativa para essa função, a qual chamaremos de `pow(x,n)`, assim\n",
    "\n",
    "```fortran\n",
    " FUNCTION pow(x,n)\n",
    "    IMPLICIT NONE\n",
    "    REAL :: pow\n",
    "    REAL, INTENT(IN) :: x, n\n",
    "    pow = exp(n*log(x))\n",
    "    RETURN\n",
    " END FUNCTION\n",
    "    \n",
    " PROGRAM potencia\n",
    "    IMPLICIT NONE\n",
    "    REAL :: x, y, pow\n",
    "    READ(*,*) x, y\n",
    "    PRINT *, pow(x,y)\n",
    " END PROGRAM potencia\n",
    "```\n",
    "\n",
    "A seguir apresentamos uma formulação alternativa, ou seja, uma versão compatíval com o Fortran 77 \n",
    "\n",
    "```fortran\n",
    " FUNCTION pow(x,n)\n",
    "    IMPLICIT NONE\n",
    "    REAL :: pow\n",
    "    REAL :: x, n\n",
    "    pow = exp(n*log(x))\n",
    "    RETURN\n",
    " END FUNCTION\n",
    "    \n",
    " PROGRAM potencia\n",
    "    IMPLICIT NONE\n",
    "    REAL :: x, y, pow\n",
    "    READ(*,*) x, y\n",
    "    PRINT *, pow(x,y)\n",
    " END PROGRAM potencia\n",
    "```\n",
    "\n",
    "O tipo de retorno do `pow` ainda precisa ser declarado, como acima. A única diferença é como o tipo de retorno de `pow` é referenciado dentro de `pow`. Nesse caso, a variável de retorno tem o mesmo nome da função em si."
   ]
  },
  {
   "cell_type": "code",
   "execution_count": 40,
   "metadata": {
    "ExecuteTime": {
     "end_time": "2019-04-29T12:13:59.658899Z",
     "start_time": "2019-04-29T12:13:59.633935Z"
    }
   },
   "outputs": [
    {
     "name": "stdout",
     "output_type": "stream",
     "text": [
      "Overwriting src/funcao_power_01.f95\n"
     ]
    }
   ],
   "source": [
    "%%writefile src/funcao_power_01.f95\n",
    " FUNCTION pow(x,n)\n",
    "    IMPLICIT NONE\n",
    "    REAL :: pow\n",
    "    REAL, INTENT(IN) :: x, n\n",
    "    pow = exp(n*log(x))\n",
    "    RETURN\n",
    " END FUNCTION\n",
    "    \n",
    " PROGRAM potencia\n",
    "    IMPLICIT NONE\n",
    "    REAL :: x, y, pow\n",
    "    READ(*,*) x, y\n",
    "    PRINT *, pow(x,y)\n",
    " END PROGRAM potencia"
   ]
  },
  {
   "cell_type": "code",
   "execution_count": 41,
   "metadata": {
    "ExecuteTime": {
     "end_time": "2019-04-29T12:14:01.408026Z",
     "start_time": "2019-04-29T12:14:01.231625Z"
    }
   },
   "outputs": [],
   "source": [
    "#Compilando o programa\n",
    "! f95 -Wall -std=f2008 -o x src/funcao_power_01.f95"
   ]
  },
  {
   "cell_type": "code",
   "execution_count": 42,
   "metadata": {
    "ExecuteTime": {
     "end_time": "2019-04-29T12:14:02.220163Z",
     "start_time": "2019-04-29T12:14:02.108621Z"
    }
   },
   "outputs": [
    {
     "name": "stdout",
     "output_type": "stream",
     "text": [
      "   15.6250010    \r\n"
     ]
    }
   ],
   "source": [
    "# Rodando o programa\n",
    "! echo \"2.5 3\" | ./x -"
   ]
  },
  {
   "cell_type": "markdown",
   "metadata": {
    "ExecuteTime": {
     "end_time": "2019-01-27T18:51:37.149697Z",
     "start_time": "2019-01-27T18:51:37.144246Z"
    }
   },
   "source": [
    "### Recursão\n",
    "\n",
    "Fortran requer que você declare funções recursivas para que elas possam ser usadas dentro delas, nesse caso é necessário a instrução `result`. O exemplo mais tradicional de uma função recursiva é a função fatorial, para a qual temos as seguintes possibilidades de código.\n",
    "\n",
    "```fortran\n",
    "RECURSIVE FUNCTION fatorial(n) RESULT( fat )\n",
    "  IMPLICIT NONE\n",
    "  INTEGER, INTENT(in) :: n\n",
    "  INTEGER :: fat\n",
    "  IF( n == 1 ) THEN\n",
    "    fat = 1\n",
    "  ELSE\n",
    "    fat= n * fatorial(n - 1)\n",
    "  END IF\n",
    "END FUNCTION fatorial\n",
    "\n",
    "PROGRAM Fatorial_de_N\n",
    " IMPLICIT NONE\n",
    " INTEGER :: n, fatorial\n",
    " WRITE(*,'(A)',advance='no') \"Entre com o numero para calcular o fatorial: \"\n",
    " READ *, n\n",
    " PRINT \"(A14,I3,A3,I10)\", \"O fatorial de \", n, \" é \", fatorial( n )\n",
    "END PROGRAM Fatorial_de_N\n",
    "```"
   ]
  },
  {
   "cell_type": "code",
   "execution_count": 43,
   "metadata": {
    "ExecuteTime": {
     "end_time": "2019-04-29T12:17:21.651588Z",
     "start_time": "2019-04-29T12:17:21.634649Z"
    }
   },
   "outputs": [
    {
     "name": "stdout",
     "output_type": "stream",
     "text": [
      "Overwriting src/funcao_fatorial_01.f95\n"
     ]
    }
   ],
   "source": [
    "%%writefile src/funcao_fatorial_01.f95\n",
    "RECURSIVE FUNCTION fatorial(n) RESULT( fat )\n",
    "  IMPLICIT NONE\n",
    "  INTEGER, INTENT(in) :: n\n",
    "  INTEGER :: fat\n",
    "  IF( n == 1 ) THEN\n",
    "    fat = 1\n",
    "  ELSE\n",
    "    fat= n * fatorial(n - 1)\n",
    "  END IF\n",
    "END FUNCTION fatorial\n",
    "\n",
    "PROGRAM Fatorial_de_N\n",
    " IMPLICIT NONE\n",
    " INTEGER :: n, fatorial\n",
    " WRITE(*,'(A)',advance='no') \"Entre com o numero para calcular o fatorial: \"\n",
    " READ *, n\n",
    " PRINT \"(A14,I3,A3,I10)\", \"O fatorial de \", n, \" é \", fatorial( n )\n",
    "END PROGRAM Fatorial_de_N"
   ]
  },
  {
   "cell_type": "code",
   "execution_count": 44,
   "metadata": {
    "ExecuteTime": {
     "end_time": "2019-04-29T12:17:24.534940Z",
     "start_time": "2019-04-29T12:17:24.368856Z"
    }
   },
   "outputs": [],
   "source": [
    "#Compilando o programa\n",
    "! f95 -Wall -std=f2008 -o x src/funcao_fatorial_01.f95"
   ]
  },
  {
   "cell_type": "code",
   "execution_count": 45,
   "metadata": {
    "ExecuteTime": {
     "end_time": "2019-04-29T12:17:26.217660Z",
     "start_time": "2019-04-29T12:17:26.105926Z"
    }
   },
   "outputs": [
    {
     "name": "stdout",
     "output_type": "stream",
     "text": [
      "Entre com o numero para calcular o fatorial: O fatorial de  10 é   3628800\r\n"
     ]
    }
   ],
   "source": [
    "# Rodando o programa\n",
    "! echo \"10\" | ./x -"
   ]
  },
  {
   "cell_type": "markdown",
   "metadata": {
    "ExecuteTime": {
     "end_time": "2019-01-27T18:51:37.149697Z",
     "start_time": "2019-01-27T18:51:37.144246Z"
    }
   },
   "source": [
    "Um segundo exemplo, usando um bloco `interface` e a estrutura de controle `case`\n",
    "\n",
    "\n",
    "```fortran\n",
    "PROGRAM test_fatorial\n",
    "   IMPLICIT NONE\n",
    "   INTEGER  :: n\n",
    "   INTERFACE\n",
    "      RECURSIVE FUNCTION fatorial(n) RESULT(fn)\n",
    "         INTEGER , INTENT(IN) :: n\n",
    "         REAL :: fn\n",
    "      END FUNCTION fatorial\n",
    "   END INTERFACE\n",
    "\n",
    "   PRINT *,\"Entre com um valor inteiro\"\n",
    "   READ *, n\n",
    "   PRINT \"(A14,I3,A3,I10)\", \"O fatorial de \", n, \" é \", nint(fatorial(n))\n",
    "   STOP\n",
    "END PROGRAM test_fatorial\n",
    "\n",
    "RECURSIVE FUNCTION fatorial(n) RESULT(fat)\n",
    "   IMPLICIT NONE\n",
    "   REAL :: fat  ! Variavel Result\n",
    "   INTEGER , INTENT(IN) :: n   \n",
    "   SELECT CASE(n)  ! Determina se necessita mais recorrencia\n",
    "   CASE (0)\n",
    "      fat = 1.0  ! Fim da recorrencia\n",
    "   CASE (1:)\n",
    "      fat = n*fatorial(n-1)  ! Chamadas recorrentes\n",
    "   CASE DEFAULT              ! n < 0 - Retorna zero com indicador de erro\n",
    "      fat = 0.0\n",
    "   END SELECT\n",
    "END FUNCTION fatorial\n",
    "```"
   ]
  },
  {
   "cell_type": "code",
   "execution_count": 46,
   "metadata": {
    "ExecuteTime": {
     "end_time": "2019-04-29T12:18:00.882425Z",
     "start_time": "2019-04-29T12:18:00.874710Z"
    }
   },
   "outputs": [
    {
     "name": "stdout",
     "output_type": "stream",
     "text": [
      "Overwriting src/funcao_fatorial_02.f95\n"
     ]
    }
   ],
   "source": [
    "%%writefile src/funcao_fatorial_02.f95\n",
    "PROGRAM test_fatorial\n",
    "   IMPLICIT NONE\n",
    "   INTEGER  :: n\n",
    "   INTERFACE\n",
    "      RECURSIVE FUNCTION fatorial(n) RESULT(fn)\n",
    "         INTEGER , INTENT(IN) :: n\n",
    "         REAL :: fn\n",
    "      END FUNCTION fatorial\n",
    "   END INTERFACE\n",
    "\n",
    "   PRINT *,\"Entre com um valor inteiro\"\n",
    "   READ *, n\n",
    "   PRINT \"(A14,I3,A3,I10)\", \"O fatorial de \", n, \" é \", nint(fatorial(n))\n",
    "   STOP\n",
    "END PROGRAM test_fatorial\n",
    "\n",
    "RECURSIVE FUNCTION fatorial(n) RESULT(fat)\n",
    "   IMPLICIT NONE\n",
    "   REAL :: fat  ! Variavel Result\n",
    "   INTEGER , INTENT(IN) :: n   \n",
    "   SELECT CASE(n)  ! Determina se necessita mais recorrencia\n",
    "   CASE (0)\n",
    "      fat = 1.0  ! Fim da recorrencia\n",
    "   CASE (1:)\n",
    "      fat = n*fatorial(n-1)  ! Chamadas recorrentes\n",
    "   CASE DEFAULT              ! n < 0 - Retorna zero com indicador de erro\n",
    "      fat = 0.0\n",
    "   END SELECT\n",
    "END FUNCTION fatorial"
   ]
  },
  {
   "cell_type": "code",
   "execution_count": 47,
   "metadata": {
    "ExecuteTime": {
     "end_time": "2019-04-29T12:18:03.872112Z",
     "start_time": "2019-04-29T12:18:03.686140Z"
    }
   },
   "outputs": [],
   "source": [
    "#Compilando o programa\n",
    "! f95 -Wall -std=f2008 -o x src/funcao_fatorial_02.f95"
   ]
  },
  {
   "cell_type": "code",
   "execution_count": 48,
   "metadata": {
    "ExecuteTime": {
     "end_time": "2019-04-29T12:18:04.585300Z",
     "start_time": "2019-04-29T12:18:04.469658Z"
    }
   },
   "outputs": [
    {
     "name": "stdout",
     "output_type": "stream",
     "text": [
      " Entre com um valor inteiro\r\n",
      "O fatorial de  10 é   3628800\r\n"
     ]
    }
   ],
   "source": [
    "# Rodando o programa\n",
    "! echo \"10\" | ./x -"
   ]
  },
  {
   "cell_type": "markdown",
   "metadata": {
    "ExecuteTime": {
     "end_time": "2019-01-27T18:51:37.149697Z",
     "start_time": "2019-01-27T18:51:37.144246Z"
    }
   },
   "source": [
    "## Subrotina\n",
    "\n",
    "Uma `subroutine` pode ser usado para retornar vários valores através de seus argumentos. É invocado com uma declaração `call`. Aqui está um exemplo.\n",
    "\n",
    "```fortran\n",
    "SUBROUTINE fatorial(n,fat) \n",
    "  IMPLICIT NONE\n",
    "  INTEGER, INTENT(in) :: n\n",
    "  INTEGER, INTENT (out) :: fat\n",
    "  INTEGER :: i\n",
    "  SELECT CASE(n)  ! Determina se necessita mais recorrencia\n",
    "  CASE (0)\n",
    "     fat = 1    ! Fim da recorrencia\n",
    "  CASE (1:)\n",
    "     fat = 1  ! Chamadas recorrentes\n",
    "     DO i=n,1,-1\n",
    "        fat = fat*i\n",
    "     END DO\n",
    "  CASE DEFAULT              ! n < 0 - Retorna zero com indicador de erro\n",
    "     STOP 'Fatorial de n<0'\n",
    "  END SELECT\n",
    "  RETURN\n",
    "END SUBROUTINE fatorial\n",
    "\n",
    "PROGRAM Fatorial_de_N\n",
    "  IMPLICIT NONE\n",
    "  INTEGER :: n, fat\n",
    "  WRITE( *, '(A)', advance='no' ) \"Entre com o numero para calcular o fatorial: \"\n",
    "  READ *, n\n",
    "  CALL fatorial(n,fat) ! Chama a subrotina\n",
    "  PRINT *, \"O fatorial de \", n, \" eh \", fat\n",
    "END PROGRAM Fatorial_de_N\n",
    "```"
   ]
  },
  {
   "cell_type": "code",
   "execution_count": 49,
   "metadata": {
    "ExecuteTime": {
     "end_time": "2019-04-29T12:19:04.748491Z",
     "start_time": "2019-04-29T12:19:04.740679Z"
    }
   },
   "outputs": [
    {
     "name": "stdout",
     "output_type": "stream",
     "text": [
      "Overwriting src/subrotina_fatorial_01.f95\n"
     ]
    }
   ],
   "source": [
    "%%writefile src/subrotina_fatorial_01.f95\n",
    "SUBROUTINE fatorial(n,fat) \n",
    "  IMPLICIT NONE\n",
    "  INTEGER, INTENT(in) :: n\n",
    "  INTEGER, INTENT (out) :: fat\n",
    "  INTEGER :: i\n",
    "  SELECT CASE(n)  ! Determina se necessita mais recorrencia\n",
    "  CASE (0)\n",
    "     fat = 1    ! Fim da recorrencia\n",
    "  CASE (1:)\n",
    "     fat = 1  ! Chamadas recorrentes\n",
    "     DO i=n,1,-1\n",
    "        fat = fat*i\n",
    "     END DO\n",
    "  CASE DEFAULT              ! n < 0 - Retorna zero com indicador de erro\n",
    "     STOP 'Fatorial de n<0'\n",
    "  END SELECT\n",
    "  RETURN\n",
    "END SUBROUTINE fatorial\n",
    "\n",
    "PROGRAM Fatorial_de_N\n",
    "  IMPLICIT NONE\n",
    "  INTEGER :: n, fat\n",
    "  WRITE( *, '(A)', advance='no' ) \"Entre com o numero para calcular o fatorial: \"\n",
    "  READ *, n\n",
    "  call fatorial(n,fat)   ! Chama a subrotina\n",
    "  PRINT *, \"O fatorial de \", n, \" é \", fat\n",
    "END PROGRAM Fatorial_de_N"
   ]
  },
  {
   "cell_type": "code",
   "execution_count": 50,
   "metadata": {
    "ExecuteTime": {
     "end_time": "2019-04-29T12:19:07.560271Z",
     "start_time": "2019-04-29T12:19:07.374871Z"
    }
   },
   "outputs": [],
   "source": [
    "#Compilando o programa\n",
    "! f95 -Wall -std=f2008 -o x src/subrotina_fatorial_01.f95"
   ]
  },
  {
   "cell_type": "code",
   "execution_count": 51,
   "metadata": {
    "ExecuteTime": {
     "end_time": "2019-04-29T12:19:08.237145Z",
     "start_time": "2019-04-29T12:19:08.125538Z"
    }
   },
   "outputs": [
    {
     "name": "stdout",
     "output_type": "stream",
     "text": [
      "Entre com o numero para calcular o fatorial:  O fatorial de           10  é      3628800\r\n"
     ]
    }
   ],
   "source": [
    "# Rodando o programa\n",
    "! echo \"10\" | ./x -"
   ]
  },
  {
   "cell_type": "markdown",
   "metadata": {
    "ExecuteTime": {
     "end_time": "2019-01-27T18:51:37.149697Z",
     "start_time": "2019-01-27T18:51:37.144246Z"
    }
   },
   "source": [
    "## Argumentos dos procedimentos\n",
    "\n",
    "Todos os argumentos são passados por \"referência\": qualquer alteração no valor de um argumento em um procedimento altera seu valor.\n",
    "\n",
    "## A palavra chave `INTENT`\n",
    "\n",
    "Ao declarar variáveis dentro de funções e subrotinas que precisam ser passadas para dentro ou para fora, a intenção `INTENT` pode ser adicionada à declaração.\n",
    "\n",
    "- `INTENT (in)` significa que o valor da variável pode entrar, mas não pode ser alterado\n",
    "\n",
    "- `INTENT (out)` significa que a variável é ajustada dentro do procedimento e enviada de volta ao programa principal com qualquer valor inicial ignorado.\n",
    "\n",
    "- `INTENT (inout)` significa que a variável entra com um valor e sai com um valor (padrão).\n",
    "\n",
    "Ao gerar a lista de argumentos de um procedimento, certifique-se de especificar as variáveis de entradas com o atributo `INTENT (in)`, equanto as de saídas devem ter o atributo `INTENT (out)` e para as variáveis que são de entradas e saídasdeve-se atribuir o atributo `INTENT (inout)`. Cada argumento pode ter uma intenção diferente. Se você não usa `INTENT`, seu argumento é por padrão \"(inout)\".\n",
    "\n",
    "Sempre use `INTENT` porque o compilador pode detectar erros e mesmo fazer alguma otimização, durante a compilação.\n",
    "\n",
    "Considere o seguinte código exemplo:\n",
    "\n",
    "```fortran\n",
    "SUBROUTINE potencia(x,n,z)\n",
    "  implicit none\n",
    "  real, intent(inout) :: x  \n",
    "  real, intent(in)    :: n\n",
    "  real, intent(out)   :: z\n",
    "  ...\n",
    "  ! O compilador nesse caso irá identificar os erros  \n",
    "  n = 2*n             ! Erro de compilação\n",
    "  x = x + z           ! Erro de compilação\n",
    "  x = n*log(x)        ! Correto\n",
    "  z = exp(n*log(x))   ! Correto\n",
    "  ...\n",
    "  \n",
    "END SUBROUTINE potencia\n",
    "```\n",
    "\n",
    "Um outro exemplo mostrando a identificação dos erros pelo compilador\n",
    "\n",
    "```fortran\n",
    "SUBROUTINE projeteis(x,v,g)\n",
    "  implicit none\n",
    "  ...\n",
    "  real, intent(in)    :: x\n",
    "  real, intent(out)   :: v\n",
    "  real, intent(inout) :: g\n",
    "  ...\n",
    "  real :: x0, t\n",
    "  ...\n",
    "  t = 2.1\n",
    "  ...\n",
    "  ! O compilador nesse caso irá identificar os seguintes erros  \n",
    "  x = -0.5*(9.8)*t**2   ! Erro de compilação\n",
    "  g = v/t+1.0           ! Erro de compilação\n",
    "  g = 9.8               ! Correto\n",
    "  v = g*t + x/t         ! Correto\n",
    "  ...\n",
    "END SUBROUTINE projeteis\n",
    "```\n",
    "\n",
    "O compilador verifica os argumentos apenas se a interface do procedimento for conhecida no momento da compilação: esse é o caso para procedimento interno e procedimentos de módulo (e para programação orientada a objetos)."
   ]
  },
  {
   "cell_type": "markdown",
   "metadata": {},
   "source": [
    "### Definição de uma `INTERFACE`\n",
    "\n",
    "Para todas rotinas externas pode ser declarado com um bloco `INTERFACE` no código que irá usá-la. É sempre uma boa prática de programção declarar o bloco `INTERFACE` de toda rotina externa. \n",
    "\n",
    "O uso desse bloco pode ser muito útil ao usar uma biblioteca ou um conjunto de rotinas escritas em Fortran 77 em seu código Fortran 90/95. Para cada uma dessas rotinas deve-se escrever um bloco `INTERFACE`:\n",
    "\n",
    "Por exemplo, você pode definir uma interface para\n",
    "\n",
    "```bash\n",
    "g05faf\n",
    "```\n",
    "\n",
    "sub-rotina (gera um conjunto de números aleatórios) da biblioteca NAG:\n",
    "\n",
    "```fortran\n",
    "SUBROUTINE nag_rand(table)\n",
    "   INTERFACE \n",
    "      SUBROUTINE g05faf(a,b,n,x)\n",
    "\t     REAL, INTENT(IN)    :: a, b\n",
    "\t     INTEGER, INTENT(IN) :: n\n",
    "\t     REAL, INTENT(OUT)   :: x(n)\n",
    "\t  END SUBROUTINE g05faf\n",
    "   END INTERFACE\n",
    "   REAL, DIMENSION(:), INTENT(OUT) :: table\n",
    "  \n",
    "   CALL g05faf(-1.0,-1.0, SIZE(table), table)\n",
    "END SUBROUTINE nag_rand\n",
    "```\n",
    "\n",
    "**Note:** Que no bloco `INTERFACE` inclui-se somente a declaração de variáveis dos argumentos, e no caso específico das funções é necessário a declaração do seu tipo. Aqui não se coloca nem mesmo o `IMPLICIT NONE`.\n",
    "\n",
    "### Passando procedimentos como argumentos\n",
    "\n",
    "A liguagem Fortran permite a passagem de procedimentos para outros procedimentos (ou seja, não apenas dados) via os argumentos. No entanto, você não pode passar um procedimento interno como um argumento.\n",
    "\n",
    "```fortran\n",
    "program degtest\n",
    "  implicit none\n",
    "  intrinsic asin, acos, atan\n",
    "\n",
    "  write(*,*) 'arcsin(0.5) : ', deg(ASIN, 0.5)\n",
    "  write(*,*) 'arccos(0.5) : ', deg(ACOS, 0.5)\n",
    "  write(*,*) 'arctan(1.0) : ', deg(ATAN, 1.0)\n",
    "\n",
    "CONTAINS\n",
    "  REAL function deg(f,x)\n",
    "    implicit none\n",
    "    \n",
    "    intrinsic atan\n",
    "    REAL, EXTERNAL :: f\n",
    "    REAL, INTENT(IN) :: x\n",
    "\n",
    "    deg = 45*f(x) / ATAN(1.0)\n",
    "  end function deg \n",
    "end program degtest\n",
    "```\n",
    "\n",
    "### Passando argumentos da matriz\n",
    "\n",
    "Há duas maneiras de transmitir matrizes para procedimentos:\n",
    "\n",
    "- matriz de forma explícita (dimensões passadas explicitamente)\n",
    "\n",
    "```fortran\n",
    "  subroutine test(N,M,matrix)\n",
    "    implicit none\n",
    "    integer, intent(in) :: n,m\n",
    "    real, dimension(n,m), intent(out) :: matrix\n",
    "    ...\n",
    "  end subroutine test\n",
    "```\n",
    "\n",
    "- Matriz de forma assumida (implícita) (possível somente se a interface estiver visível):\n",
    "\n",
    "```fortran\n",
    "  subroutine test(matrix)\n",
    "    implicit none\n",
    "    real, dimension(:,:) :: matrix\n",
    "  end subroutine test\n",
    "```\n",
    "\n",
    "## Atributos especiais para procedimentos: `ELEMENTAL`\n",
    "\n",
    "O atributo\n",
    "\n",
    "```fortran\n",
    "ELEMENTAL\n",
    "```\n",
    "permite declarar procedimentos que operam elemento por elemento e pode ser aplicado a matrizes de quaisquer dimensões. Esta é outra maneira de definir procedimentos mais gerais:\n",
    "\n",
    "```fortran\n",
    "module  elemental_procedure\n",
    "  implicit none\n",
    "contains\n",
    "  elemental real function hip(x,y)\n",
    "    real, intent(in) :: x, y\n",
    "    hip = sqrt(x**2 + y**2)\n",
    "  end function hip\n",
    "end module elemental_procedure\n",
    "```\n",
    "\n",
    "Então no programa principal:\n",
    "\n",
    "```fortran\n",
    "program elemental_main\n",
    "  use elemental_procedure\n",
    "  implicit none\n",
    " \n",
    "  integer, parameter   :: n=5\n",
    "  real, dimension(n,n) :: a,b,c\n",
    "  real, dimension(n)   :: t,u,v\n",
    "\n",
    "  call random_number(a)\n",
    "  call random_number(b)\n",
    "  call random_number(t)\n",
    "  call random_number(u)\n",
    "  c = hip(a,b)\n",
    "  v = hip(t,u)\n",
    "\n",
    "  print*, 'c = ', c\n",
    "  print*, 'v = ', v\n",
    "end program elemental_main\n",
    "```\n"
   ]
  },
  {
   "cell_type": "code",
   "execution_count": 55,
   "metadata": {
    "ExecuteTime": {
     "end_time": "2019-04-29T12:37:15.163556Z",
     "start_time": "2019-04-29T12:37:15.156963Z"
    }
   },
   "outputs": [
    {
     "name": "stdout",
     "output_type": "stream",
     "text": [
      "Overwriting src/func_elemental_01.f95\n"
     ]
    }
   ],
   "source": [
    "%%writefile src/func_elemental_01.f95\n",
    "MODULE  elemental_procedure\n",
    "  IMPLICIT NONE\n",
    "CONTAINS\n",
    "  ELEMENTAL REAL FUNCTION hip(x,y)\n",
    "    REAL, INTENT(in) :: x, y\n",
    "    hip = SQRT(x**2 + y**2)\n",
    "  END FUNCTION hip\n",
    "END MODULE elemental_procedure\n",
    "\n",
    "PROGRAM elemental_main\n",
    "  USE elemental_procedure\n",
    "  IMPLICIT NONE\n",
    "\n",
    "  INTEGER, PARAMETER   :: n=7\n",
    "  REAL, DIMENSION(n,n) :: a,b,c\n",
    "  REAL, DIMENSION(n)   :: t,u,v\n",
    "\n",
    "  CALL random_NUMBER(a)\n",
    "  CALL random_NUMBER(b)\n",
    "  CALL random_NUMBER(t)\n",
    "  CALL random_NUMBER(u)\n",
    "  c = hip(a,b)\n",
    "  v = hip(t,u)\n",
    "\n",
    "  PRINT*, 'A Matriz c = '\n",
    "  PRINT*\n",
    "  CALL  print_mat_real(c)\n",
    "  PRINT*, 'O vetor v = ', v\n",
    "CONTAINS\n",
    "  !---------------------------------------------------------------------\n",
    "  SUBROUTINE print_mat_real(b,dig,li,lc)\n",
    "    !-------------------------------------------------------------------\n",
    "    IMPLICIT NONE\n",
    "    INTEGER, INTENT(in),    OPTIONAL :: li, lc, dig\n",
    "    REAL, DIMENSION(:,:), INTENT(in) :: b\n",
    "    REAL    :: x\n",
    "    INTEGER :: i, j, n, m, ndig, dec\n",
    "    CHARACTER (LEN=95) :: fmt0, fmt1, fmt2\n",
    "    !-------------------------------------------------------------------\n",
    "    IF ( PRESENT(li) ) THEN\n",
    "        n = li\n",
    "    ELSE\n",
    "        n = SIZE(b,DIM=1)\n",
    "    END IF\n",
    "    IF ( PRESENT(lc) ) THEN\n",
    "        m = lc\n",
    "    ELSE\n",
    "        m = SIZE(b,DIM=2)\n",
    "    END IF\n",
    "    IF ( PRESENT(dig) ) THEN\n",
    "       dec = dig\n",
    "    ELSE\n",
    "       dec = 2  ! Número de digitos padrão\n",
    "    END IF\n",
    "    x = MAXVAL(abs(b))\n",
    "    IF ( x < 1.0 ) then\n",
    "       ndig = NINT(LOG10(x)) + dec + 3\n",
    "    ELSE\n",
    "       ndig = NINT(LOG10(x)) + dec + 2\n",
    "    END IF\n",
    "    WRITE(fmt0,'(i12)') ndig     ! Numero total de digitos\n",
    "    WRITE(fmt1,'(i12)') dec      ! Parte decimal\n",
    "    fmt0 = '(F' // TRIM(ADJUSTL(fmt0)) // '.' // TRIM(ADJUSTL(fmt1)) // ',2x)'\n",
    "    WRITE(fmt2,'(i12)') m        ! Numero de colunas\n",
    "    fmt0 = '(1x,' // TRIM(ADJUSTL(fmt2)) // TRIM(ADJUSTL(fmt0)) // ')'\n",
    "    PRINT *, \"fmt0 = \", TRIM(fmt0)\n",
    "    !-------------------------------------------------------------------\n",
    "    DO i =1, n\n",
    "       WRITE(*,fmt0)(b(i,j), j=1,m)\n",
    "    END DO\n",
    "    !-------------------------------------------------------------------\n",
    "    RETURN\n",
    "    !-------------------------------------------------------------------\n",
    "  END SUBROUTINE print_mat_real\n",
    "  !--------------------------------------------------------------------- \n",
    "END PROGRAM elemental_main"
   ]
  },
  {
   "cell_type": "code",
   "execution_count": 56,
   "metadata": {
    "ExecuteTime": {
     "end_time": "2019-04-29T12:37:16.337801Z",
     "start_time": "2019-04-29T12:37:16.122261Z"
    }
   },
   "outputs": [],
   "source": [
    "# Compilando o código acima.\n",
    "! f95 -Wall -std=f2008 -o x src/func_elemental_01.f95"
   ]
  },
  {
   "cell_type": "code",
   "execution_count": 57,
   "metadata": {
    "ExecuteTime": {
     "end_time": "2019-04-29T12:37:17.154731Z",
     "start_time": "2019-04-29T12:37:17.041735Z"
    }
   },
   "outputs": [
    {
     "name": "stdout",
     "output_type": "stream",
     "text": [
      " A Matriz c = \r\n",
      "\r\n",
      " fmt0 = (1x,7(F4.2,2x))\r\n",
      " 0.85  0.58  0.93  0.49  1.12  0.36  0.99\r\n",
      " 0.91  0.80  0.26  1.09  0.96  0.28  0.77\r\n",
      " 0.95  0.70  1.26  0.20  0.44  1.33  0.93\r\n",
      " 0.48  0.94  0.87  0.94  0.97  0.38  0.66\r\n",
      " 0.81  0.79  0.91  0.55  1.10  0.91  0.98\r\n",
      " 1.06  0.98  0.81  0.99  0.89  0.83  0.88\r\n",
      " 0.67  1.25  0.78  0.37  0.60  0.63  0.85\r\n",
      " O vetor v =   0.546409249      0.720462441      0.500006676      0.385574847       1.08712459      0.795777142      0.182248592    \r\n"
     ]
    }
   ],
   "source": [
    "# Rodando o código acima\n",
    "! ./x"
   ]
  },
  {
   "cell_type": "markdown",
   "metadata": {},
   "source": [
    "# Módulo no Fortran\n",
    "\n",
    "Ao desenvolver um código grande e ramificado, é sempre aconselhável agrupar as funções e subrotinas que destinam a realizar tarefas similares dentro de um mesma estrutra. No Fortran essa estrutura é chamada de módulo e a palavara chave que designa ele é `MODULE`. O módulo permite que se compartilhe com outros programas essa estrutura que lida com um tipo específico de problema.\n",
    "\n",
    "Basicamente, os módulos fornecem uma maneira de dividir seus programas entre vários arquivos, separados por funcionalidades implementadas. \n",
    "\n",
    "Módulos são usados para\n",
    "\n",
    "-  Procedimentos de empacotamento, dados e blocos de interface.\n",
    "-  Definir dados globais que podem ser usados por mais de uma rotina.\n",
    "-  Declarar variáveis que podem ser disponibilizadas dentro de qualquer rotina que se queira.\n",
    "-  Importar uma funcionaidade, ou seaj, um módulo inteiramente o para uso, em outro programa ou subrotina.\n",
    "\n",
    "## Sintaxe do `MODULE`\n",
    "\n",
    "Um `MODULE` consiste de duas partes \n",
    "\n",
    "-  uma parte de especificação para declaração de declarações\n",
    "-  a contém parte para definições de sub-rotina e função\n",
    "\n",
    "A forma geral de um módulo é\n",
    "\n",
    "```fortran\n",
    "MODULE nome \n",
    "   ...\n",
    "   [especificação e declaração de variáveis] \n",
    "   ...\n",
    "[CONTAINS ] \n",
    "    ...\n",
    "   [Definição de subrotina e funções]\n",
    "   ...\n",
    "END MODULE [nome]\n",
    "```\n",
    "\n",
    "## Usando um `module` em um programa\n",
    "\n",
    "Pode-se incorporar um módulo em um programa ou subrotina pela declaração `USE` da seguinte forma\n",
    "\n",
    "```fortran\n",
    "USE name  \n",
    "```\n",
    "\n",
    "no início do prgrama/módulo/subrotina/função e antes da declaração `IMPLICIT NONE`.\n",
    "\n",
    "**Note que:**\n",
    "\n",
    "-  Pode-se adicionar quantos módulos forem necessários, cada um em um arquivo separado e compilado separadamente.\n",
    "-  Um módulo pode ser usado em vários programas diferentes.\n",
    "-  Um módulo pode ser usado muitas vezes no mesmo programa.\n",
    "-  As variáveis declaradas na parte de especificação e  declaração de variáveis do módulo são globais para o módulo.\n",
    "-  As variáveis declaradas em um módulo se tornam variáveis globais em qualquer programa ou rotina que faz uso módulo via a especificação `USE nome_do_modulo`.\n",
    "-  A declaração `USE` pode aparecer no programa principal, ou em qualquer outra subrotina ou função ou  mesmo um outro módulo que use as rotinas ou variáveis declaradas em um módulo particular.\n",
    "\n",
    "### Exemplo\n",
    "\n",
    "O exemplo a seguir demonstra o conceito\n",
    "\n",
    "```fortran\n",
    "MODULE constantes  \n",
    "   IMPLICIT NONE \n",
    "   REAL, PARAMETER :: pi = 3.1415926536  \n",
    "   REAL, PARAMETER :: e  = 2.7182818285   \n",
    "CONTAINS      \n",
    "   SUBROUTINE mostra_constantes()          \n",
    "      PRINT*, \"Pi = \", pi          \n",
    "      PRINT*,  \"e = \", e     \n",
    "    END SUBROUTINE mostra_constantes\n",
    "\n",
    "    SUBROUTINE area_circulo(raio,area)\n",
    "      IMPLICIT NONE\n",
    "      REAL, INTENT(in)  :: raio\n",
    "      REAL, INTENT(out) :: area\n",
    "      area = pi * raio**2\n",
    "    END SUBROUTINE area_circulo\n",
    "\n",
    "    SUBROUTINE volume_esfera(raio,vol)\n",
    "      IMPLICIT NONE\n",
    "      REAL, INTENT(in)  :: raio\n",
    "      REAL, INTENT(out) :: vol\n",
    "      vol = (4.0 * pi * raio**3)/3.0\n",
    "    END SUBROUTINE volume_esfera  \n",
    "END MODULE constantes \n",
    "\n",
    "PROGRAM module_exemplo     \n",
    "  USE constantes      \n",
    "  IMPLICIT NONE     \n",
    "\n",
    "  REAL    :: x, area, raio, volume\n",
    "  INTEGER :: n = 4\n",
    "\n",
    "  x    = (2.0 * pi)\n",
    "  raio = (pi/e)**n\n",
    "\n",
    "  CALL mostra_constantes()\n",
    "\n",
    "  PRINT*, \"O raio = \", raio\n",
    "\n",
    "  CALL area_circulo(raio,area)\n",
    "  PRINT*,  \"Area do circulo = \", area\n",
    "\n",
    "  CALL volume_esfera(raio,volume)\n",
    "  PRINT*,  \"Volume da esfera = \", volume    \n",
    "\n",
    "END PROGRAM module_exemplo\n",
    "```\n",
    "\n",
    "Quando você compila e executa o programa acima, ele produz o seguinte resultado\n",
    "\n",
    "```bash\n",
    " Pi =    3.14159274    \n",
    " e =    2.71828175    \n",
    " O raio =    1.78410983    \n",
    " Area do circulo =    9.99983978    \n",
    " Volume da esfera =    23.7877502    \n",
    "```"
   ]
  },
  {
   "cell_type": "code",
   "execution_count": 1,
   "metadata": {
    "ExecuteTime": {
     "end_time": "2019-01-30T17:11:36.605388Z",
     "start_time": "2019-01-30T17:11:36.545724Z"
    }
   },
   "outputs": [
    {
     "name": "stdout",
     "output_type": "stream",
     "text": [
      "Writing src/modulo_constantes_01.f95\n"
     ]
    }
   ],
   "source": [
    "%%writefile src/modulo_constantes_01.f95\n",
    "MODULE constantes  \n",
    "   IMPLICIT NONE \n",
    "   REAL, PARAMETER :: pi = 3.1415926536  \n",
    "   REAL, PARAMETER :: e  = 2.7182818285   \n",
    "CONTAINS      \n",
    "   SUBROUTINE mostra_constantes()          \n",
    "      PRINT*, \"Pi = \", pi          \n",
    "      PRINT*,  \"e = \", e     \n",
    "    END SUBROUTINE mostra_constantes\n",
    "\n",
    "    SUBROUTINE area_circulo(raio,area)\n",
    "      IMPLICIT NONE\n",
    "      REAL, INTENT(in)  :: raio\n",
    "      REAL, INTENT(out) :: area\n",
    "      area = pi * raio**2\n",
    "    END SUBROUTINE area_circulo\n",
    "\n",
    "    SUBROUTINE volume_esfera(raio,vol)\n",
    "      IMPLICIT NONE\n",
    "      REAL, INTENT(in)  :: raio\n",
    "      REAL, INTENT(out) :: vol\n",
    "      vol = (4.0 * pi * raio**3)/3.0\n",
    "    END SUBROUTINE volume_esfera  \n",
    "END MODULE constantes \n",
    "\n",
    "PROGRAM module_exemplo     \n",
    "  USE constantes      \n",
    "  IMPLICIT NONE     \n",
    "\n",
    "  REAL    :: x, area, raio, volume\n",
    "  INTEGER :: n = 4\n",
    "\n",
    "  x    = (2.0 * pi)\n",
    "  raio = (pi/e)**n\n",
    "\n",
    "  CALL mostra_constantes()\n",
    "\n",
    "  PRINT*, \"O raio = \", raio\n",
    "\n",
    "  CALL area_circulo(raio,area)\n",
    "  PRINT*,  \"Area do circulo = \", area\n",
    "\n",
    "  CALL volume_esfera(raio,volume)\n",
    "  PRINT*,  \"Volume da esfera = \", volume    \n",
    "\n",
    "END PROGRAM module_exemplo"
   ]
  },
  {
   "cell_type": "code",
   "execution_count": 4,
   "metadata": {
    "ExecuteTime": {
     "end_time": "2019-01-30T17:13:07.630599Z",
     "start_time": "2019-01-30T17:13:07.426946Z"
    }
   },
   "outputs": [],
   "source": [
    "# Compilando o programa\n",
    "! f95 -Wall -std=f2008 -o x src/modulo_constantes_01.f95"
   ]
  },
  {
   "cell_type": "code",
   "execution_count": 5,
   "metadata": {
    "ExecuteTime": {
     "end_time": "2019-01-30T17:13:08.576018Z",
     "start_time": "2019-01-30T17:13:08.462944Z"
    }
   },
   "outputs": [
    {
     "name": "stdout",
     "output_type": "stream",
     "text": [
      " Pi =    3.14159274    \r\n",
      " e =    2.71828175    \r\n",
      " O raio =    1.78410983    \r\n",
      " Area do circulo =    9.99983978    \r\n",
      " Volume da esfera =    23.7877502    \r\n"
     ]
    }
   ],
   "source": [
    "#Rodando o programa\n",
    "! ./x"
   ]
  },
  {
   "cell_type": "markdown",
   "metadata": {},
   "source": [
    "## Acessibilidade de variáveis e subrotinas em um módulo\n",
    "\n",
    "Por padrão, todas as variáveis e subrotinas em um módulo são disponibilizadas para o programa que está usando o código do módulo, pela instrução `use`.\n",
    "\n",
    "No entanto, você pode controlar a acessibilidade do código do módulo usando os atributos `private` e ` public`. Quando você declara alguma variável ou subrotina como privada, ela não está disponível fora do módulo.\n",
    "\n",
    "### Exemplo\n",
    "\n",
    "O exemplo a seguir ilustra o conceito dos atributos atributos `private` e ` public`.  No exemplo anterior, tínhamos duas variáveis de módulo, `e` e `pi`.  No código abaixo tornamos elas privadas.\n",
    "\n",
    "```fortran\n",
    "MODULE constantes  \n",
    "   IMPLICIT NONE \n",
    "   REAL, PARAMETER, PRIVATE :: pi = 3.1415926536  \n",
    "   REAL, PARAMETER, PRIVATE :: e  = 2.7182818285    \n",
    "CONTAINS      \n",
    "   SUBROUTINE mostra_constantes()          \n",
    "      PRINT*, \"Pi = \", pi          \n",
    "      PRINT*,  \"e = \", e     \n",
    "    END SUBROUTINE mostra_constantes\n",
    "\n",
    "    SUBROUTINE area_circulo(raio,area)\n",
    "      IMPLICIT NONE\n",
    "      REAL, INTENT(in)  :: raio\n",
    "      REAL, INTENT(out) :: area\n",
    "      area = pi * raio**2\n",
    "    END SUBROUTINE area_circulo\n",
    "\n",
    "    SUBROUTINE volume_esfera(raio,vol)\n",
    "      IMPLICIT NONE\n",
    "      REAL, INTENT(in)  :: raio\n",
    "      REAL, INTENT(out) :: vol\n",
    "      vol = (4.0 * pi * raio**3)/3.0\n",
    "    END SUBROUTINE volume_esfera\n",
    "END MODULE constantes \n",
    "\n",
    "PROGRAM module_exemplo     \n",
    "  USE constantes      \n",
    "  IMPLICIT NONE     \n",
    "\n",
    "  REAL    :: area, raio, volume\n",
    "  INTEGER :: n = 4\n",
    "\n",
    "  raio = (pi/e)**n\n",
    "\n",
    "  CALL mostra_constantes()\n",
    "\n",
    "  PRINT*, \"O raio = \", raio\n",
    "\n",
    "  CALL area_circulo(raio,area)\n",
    "  PRINT*,  \"Area do circulo = \", area\n",
    "\n",
    "  CALL volume_esfera(raio,volume)\n",
    "  PRINT*,  \"Volume da esfera = \", volume    \n",
    "END PROGRAM module_exemplo\n",
    "```\n",
    "\n",
    "Ao coompilar  o programa acima, ele envia a seguinte mensagem de erro\n",
    "\n",
    "```bash\n",
    "modulo_constantes_02.f95:34:14:\n",
    "   raio = (pi/e)**n\n",
    "              1\n",
    "Error: Symbol ‘e’ at (1) has no IMPLICIT type\n",
    "modulo_constantes_02.f95:33:18:\n",
    "   x    = (2.0 * pi)\n",
    "                  1\n",
    "Error: Symbol ‘pi’ at (1) has no IMPLICIT type\n",
    "Compilação falhou.\n",
    "```\n",
    "\n",
    "Desde que `e` e` pi`, ambos são declarados `private`, o programa `module_exemplo` não pode mais acessar essas variáveis.\n",
    "\n",
    "No entanto, outras subrotinas de módulos podem acessá-los"
   ]
  },
  {
   "cell_type": "code",
   "execution_count": 6,
   "metadata": {
    "ExecuteTime": {
     "end_time": "2019-01-30T17:18:01.475020Z",
     "start_time": "2019-01-30T17:18:01.468431Z"
    }
   },
   "outputs": [
    {
     "name": "stdout",
     "output_type": "stream",
     "text": [
      "Writing src/modulo_constantes_02.f95\n"
     ]
    }
   ],
   "source": [
    "%%writefile src/modulo_constantes_02.f95\n",
    "MODULE constantes  \n",
    "   IMPLICIT NONE \n",
    "   REAL, PARAMETER, PRIVATE :: pi = 3.1415926536  \n",
    "   REAL, PARAMETER, PRIVATE :: e  = 2.7182818285    \n",
    "CONTAINS      \n",
    "   SUBROUTINE mostra_constantes()          \n",
    "      PRINT*, \"Pi = \", pi          \n",
    "      PRINT*,  \"e = \", e     \n",
    "    END SUBROUTINE mostra_constantes\n",
    "\n",
    "    SUBROUTINE area_circulo(raio,area)\n",
    "      IMPLICIT NONE\n",
    "      REAL, INTENT(in)  :: raio\n",
    "      REAL, INTENT(out) :: area\n",
    "      area = pi * raio**2\n",
    "    END SUBROUTINE area_circulo\n",
    "\n",
    "    SUBROUTINE volume_esfera(raio,vol)\n",
    "      IMPLICIT NONE\n",
    "      REAL, INTENT(in)  :: raio\n",
    "      REAL, INTENT(out) :: vol\n",
    "      vol = (4.0 * pi * raio**3)/3.0\n",
    "    END SUBROUTINE volume_esfera\n",
    "END MODULE constantes \n",
    "\n",
    "PROGRAM module_exemplo     \n",
    "  USE constantes      \n",
    "  IMPLICIT NONE     \n",
    "\n",
    "  REAL    :: area, raio, volume\n",
    "  INTEGER :: n = 4\n",
    "\n",
    "  raio = (pi/e)**n\n",
    "\n",
    "  CALL mostra_constantes()\n",
    "\n",
    "  PRINT*, \"O raio = \", raio\n",
    "\n",
    "  CALL area_circulo(raio,area)\n",
    "  PRINT*,  \"Area do circulo = \", area\n",
    "\n",
    "  CALL volume_esfera(raio,volume)\n",
    "  PRINT*,  \"Volume da esfera = \", volume    \n",
    "END PROGRAM module_exemplo"
   ]
  },
  {
   "cell_type": "code",
   "execution_count": 7,
   "metadata": {
    "ExecuteTime": {
     "end_time": "2019-01-30T17:18:05.354595Z",
     "start_time": "2019-01-30T17:18:05.231940Z"
    }
   },
   "outputs": [
    {
     "name": "stdout",
     "output_type": "stream",
     "text": [
      "\u001b[01m\u001b[Ksrc/modulo_constantes_02.f95:33:14:\u001b[m\u001b[K\r\n",
      "\r\n",
      "   raio = (pi/e)**n\r\n",
      "              \u001b[01;31m\u001b[K1\u001b[m\u001b[K\r\n",
      "\u001b[01;31m\u001b[KError:\u001b[m\u001b[K Symbol ‘\u001b[01m\u001b[Ke\u001b[m\u001b[K’ at (1) has no IMPLICIT type\r\n",
      "\u001b[01m\u001b[Ksrc/modulo_constantes_02.f95:33:12:\u001b[m\u001b[K\r\n",
      "\r\n",
      "   raio = (pi/e)**n\r\n",
      "            \u001b[01;31m\u001b[K1\u001b[m\u001b[K\r\n",
      "\u001b[01;31m\u001b[KError:\u001b[m\u001b[K Symbol ‘\u001b[01m\u001b[Kpi\u001b[m\u001b[K’ at (1) has no IMPLICIT type\r\n"
     ]
    }
   ],
   "source": [
    "# Compilando o programa\n",
    "! f95 -Wall -std=f2008 -o x src/modulo_constantes_02.f95"
   ]
  },
  {
   "cell_type": "markdown",
   "metadata": {},
   "source": [
    "Uma alternativa para continuarmos rodando o código é a seguinte:\n",
    "\n",
    "```fortran\n",
    "MODULE constantes  \n",
    "   IMPLICIT NONE \n",
    "   REAL, PARAMETER, PRIVATE :: pi = 3.1415926536  \n",
    "   REAL, PARAMETER, PRIVATE :: e  = 2.7182818285    \n",
    "CONTAINS      \n",
    "   SUBROUTINE mostra_constantes()          \n",
    "      PRINT*, \"Pi = \", pi          \n",
    "      PRINT*,  \"e = \", e     \n",
    "    END SUBROUTINE mostra_constantes\n",
    "    \n",
    "    REAL FUNCTION raio(n)\n",
    "      IMPLICIT NONE\n",
    "      INTEGER, INTENT(in) :: n\n",
    "      raio = (pi/e)**n\n",
    "    END FUNCTION raio\n",
    "\n",
    "    SUBROUTINE area_circulo(raio,area)\n",
    "      IMPLICIT NONE\n",
    "      REAL, INTENT(in)  :: raio\n",
    "      REAL, INTENT(out) :: area\n",
    "      area = pi * raio**2\n",
    "    END SUBROUTINE area_circulo\n",
    "\n",
    "    SUBROUTINE volume_esfera(raio,vol)\n",
    "      IMPLICIT NONE\n",
    "      REAL, INTENT(in)  :: raio\n",
    "      REAL, INTENT(out) :: vol\n",
    "      vol = (4.0 * pi * raio**3)/3.0\n",
    "    END SUBROUTINE volume_esfera\n",
    "END MODULE constantes \n",
    "\n",
    "PROGRAM module_exemplo     \n",
    "  USE constantes      \n",
    "  IMPLICIT NONE     \n",
    "\n",
    "  REAL    :: area, r, volume\n",
    "  INTEGER :: n = 4\n",
    "\n",
    "  r = raio(n)\n",
    "\n",
    "  CALL mostra_constantes()\n",
    "\n",
    "  PRINT*, \"O raio = \", r\n",
    "\n",
    "  CALL area_circulo(r,area)\n",
    "  PRINT*,  \"Area do circulo = \", area\n",
    "\n",
    "  CALL volume_esfera(r,volume)\n",
    "  PRINT*,  \"Volume da esfera = \", volume    \n",
    "END PROGRAM module_exemplo\n",
    "```\n",
    "\n",
    "Quando você compila e executa o programa acima, ele produz o seguinte resultado \n",
    "\n",
    "```bash\n",
    " Pi =    3.14159274    \n",
    " e =    2.71828175    \n",
    " O raio =    1.78410983    \n",
    " Area do circulo =    9.99983978    \n",
    " Volume da esfera =    23.7877502   \n",
    "```"
   ]
  },
  {
   "cell_type": "code",
   "execution_count": 8,
   "metadata": {
    "ExecuteTime": {
     "end_time": "2019-01-30T17:20:11.655516Z",
     "start_time": "2019-01-30T17:20:11.646717Z"
    }
   },
   "outputs": [
    {
     "name": "stdout",
     "output_type": "stream",
     "text": [
      "Writing src/modulo_constantes_03.f95\n"
     ]
    }
   ],
   "source": [
    "%%writefile src/modulo_constantes_03.f95\n",
    "MODULE constantes  \n",
    "   IMPLICIT NONE \n",
    "   REAL, PARAMETER, PRIVATE :: pi = 3.1415926536  \n",
    "   REAL, PARAMETER, PRIVATE :: e  = 2.7182818285    \n",
    "CONTAINS      \n",
    "   SUBROUTINE mostra_constantes()          \n",
    "      PRINT*, \"Pi = \", pi          \n",
    "      PRINT*,  \"e = \", e     \n",
    "    END SUBROUTINE mostra_constantes\n",
    "    \n",
    "    REAL FUNCTION raio(n)\n",
    "      IMPLICIT NONE\n",
    "      INTEGER, INTENT(in) :: n\n",
    "      raio = (pi/e)**n\n",
    "    END FUNCTION raio\n",
    "\n",
    "    SUBROUTINE area_circulo(raio,area)\n",
    "      IMPLICIT NONE\n",
    "      REAL, INTENT(in)  :: raio\n",
    "      REAL, INTENT(out) :: area\n",
    "      area = pi * raio**2\n",
    "    END SUBROUTINE area_circulo\n",
    "\n",
    "    SUBROUTINE volume_esfera(raio,vol)\n",
    "      IMPLICIT NONE\n",
    "      REAL, INTENT(in)  :: raio\n",
    "      REAL, INTENT(out) :: vol\n",
    "      vol = (4.0 * pi * raio**3)/3.0\n",
    "    END SUBROUTINE volume_esfera\n",
    "END MODULE constantes \n",
    "\n",
    "PROGRAM module_exemplo     \n",
    "  USE constantes      \n",
    "  IMPLICIT NONE     \n",
    "\n",
    "  REAL    :: area, r, volume\n",
    "  INTEGER :: n = 4\n",
    "\n",
    "  r = raio(n)\n",
    "\n",
    "  CALL mostra_constantes()\n",
    "\n",
    "  PRINT*, \"O raio = \", r\n",
    "\n",
    "  CALL area_circulo(r,area)\n",
    "  PRINT*,  \"Area do circulo = \", area\n",
    "\n",
    "  CALL volume_esfera(r,volume)\n",
    "  PRINT*,  \"Volume da esfera = \", volume    \n",
    "END PROGRAM module_exemplo"
   ]
  },
  {
   "cell_type": "code",
   "execution_count": 10,
   "metadata": {
    "ExecuteTime": {
     "end_time": "2019-01-30T17:20:16.838058Z",
     "start_time": "2019-01-30T17:20:16.659036Z"
    }
   },
   "outputs": [],
   "source": [
    "# Compilando o programa\n",
    "! f95 -Wall -std=f2008 -o x src/modulo_constantes_03.f95"
   ]
  },
  {
   "cell_type": "code",
   "execution_count": 11,
   "metadata": {
    "ExecuteTime": {
     "end_time": "2019-01-30T17:20:35.790871Z",
     "start_time": "2019-01-30T17:20:35.678285Z"
    }
   },
   "outputs": [
    {
     "name": "stdout",
     "output_type": "stream",
     "text": [
      " Pi =    3.14159274    \r\n",
      " e =    2.71828175    \r\n",
      " O raio =    1.78410983    \r\n",
      " Area do circulo =    9.99983978    \r\n",
      " Volume da esfera =    23.7877502    \r\n"
     ]
    }
   ],
   "source": [
    "# Rodando o programa\n",
    "! ./x"
   ]
  },
  {
   "cell_type": "code",
   "execution_count": 13,
   "metadata": {
    "ExecuteTime": {
     "end_time": "2019-02-08T15:23:23.585915Z",
     "start_time": "2019-02-08T15:23:23.580270Z"
    }
   },
   "outputs": [
    {
     "name": "stdout",
     "output_type": "stream",
     "text": [
      "Overwriting src/funcao_count_02.f95\n"
     ]
    }
   ],
   "source": [
    "%%writefile src/funcao_count_02.f95\n",
    "PROGRAM contagem\n",
    "  INTEGER, PARAMETER :: nl=5, nc=5\n",
    "  INTEGER, DIMENSION(nl,nc):: m1, m2, m3\n",
    "  REAL, DIMENSION (nl,nc) :: mat\n",
    "\n",
    "  CALL RANDOM_NUMBER(mat)\n",
    "  m1 = nint(100 * mat)\n",
    "  PRINT *, \"A matriz m1 é: \"\n",
    "  CALL imprimir(m1)\n",
    "  PRINT *, \"m1> 50 \", COUNT ( m1 > 50 )\n",
    "  PRINT *, \"m1> 90 \", COUNT ( m1 > 90 )\n",
    "  PRINT *, \"minimo m1> 50 \", MINVAL (m1, m1 > 50 )\n",
    "  PRINT *, \"minimo m1> 90 \", MINVAL (m1, m1 > 90 )\n",
    "  PRINT *\n",
    "  CALL RANDOM_NUMBER(mat)\n",
    "  m2 =  nint(100.0 * mat)\n",
    "  PRINT *, \"A matriz m2 é: \"\n",
    "  CALL imprimir(m2)\n",
    "  PRINT *, \"m2 > 60 \", COUNT ( m2 > 60 )\n",
    "  PRINT *, \"m2 > 90 \", COUNT ( m2 > 90 )\n",
    "  PRINT *, \"minimo m2 > 50 \", MINVAL (m2, m2 > 50 )\n",
    "  PRINT *, \"minimo m2 > 90 \", MINVAL (m2, m2 > 90 )\n",
    "\n",
    "  PRINT *, \"El. Verd. \", COUNT ( m1 > m2 )\n",
    "\n",
    "  PRINT *, \"El. Verd. \", COUNT ( m1 > m2 , DIM=1)\n",
    "  PRINT *, \"El. Verd. \", COUNT ( m1 > m2 , DIM=2)\n",
    "\n",
    "  m3=MERGE(m1,m2,m1>m2)\n",
    "  PRINT *\n",
    "  PRINT *, \"A matriz m3 é: \"\n",
    "  CALL imprimir(m3)\n",
    "  PRINT *\n",
    "  STOP\n",
    "CONTAINS\n",
    "  SUBROUTINE Imprimir(Mat)\n",
    "    IMPLICIT NONE\n",
    "    INTEGER, DIMENSION(:,:), INTENT(in) :: Mat\n",
    "    !INTEGER :: DIM(2)\n",
    "    INTEGER ::  i, j, nl, nc\n",
    "    CHARACTER (LEN=85) :: fmt0\n",
    "    !DIM = SHAPE(Mat)\n",
    "    nl = SIZE(Mat,DIM=1)  ! nl = DIM(1);\n",
    "    nc = SIZE(Mat,DIM=2)  ! nc = DIM(2)\n",
    "    WRITE(fmt0,'(A4,I1,A8)') \"(1X,\",nc,\"(i3,2x))\"\n",
    "    PRINT *, \"\"\n",
    "    DO i = 1, nl\n",
    "       WRITE(*,fmt0)(Mat(i,j), j=1,nc)\n",
    "    END DO\n",
    "    PRINT *, \"\"\n",
    "    RETURN\n",
    "  END SUBROUTINE Imprimir\n",
    "END PROGRAM contagem"
   ]
  },
  {
   "cell_type": "code",
   "execution_count": 14,
   "metadata": {
    "ExecuteTime": {
     "end_time": "2019-02-08T15:23:24.658101Z",
     "start_time": "2019-02-08T15:23:24.459986Z"
    }
   },
   "outputs": [],
   "source": [
    "#Compila o código acima\n",
    "! f95 -Wall -std=f2008 -o x src/funcao_count_02.f95"
   ]
  },
  {
   "cell_type": "code",
   "execution_count": 15,
   "metadata": {
    "ExecuteTime": {
     "end_time": "2019-02-08T15:23:25.556515Z",
     "start_time": "2019-02-08T15:23:25.442251Z"
    }
   },
   "outputs": [
    {
     "name": "stdout",
     "output_type": "stream",
     "text": [
      " A matriz m1 é: \r\n",
      " \r\n",
      "  44   98    6   94   50\r\n",
      "  91   14   23   74   50\r\n",
      "  10   73   21   38   75\r\n",
      "  29    5   91   60   56\r\n",
      "  11   12   95   20   72\r\n",
      " \r\n",
      " m1> 50           11\r\n",
      " m1> 90            5\r\n",
      " minimo m1> 50           56\r\n",
      " minimo m1> 90           91\r\n",
      "\r\n",
      " A matriz m2 é: \r\n",
      " \r\n",
      "  67   37   90   52   87\r\n",
      "  96   79   91   61   70\r\n",
      "  29   72   82   84   14\r\n",
      "  66   94    1    8   55\r\n",
      "  74   36   31   14   89\r\n",
      " \r\n",
      " m2 > 60           15\r\n",
      " m2 > 90            3\r\n",
      " minimo m2 > 50           52\r\n",
      " minimo m2 > 90           91\r\n",
      " El. Verd.           10\r\n",
      " El. Verd.            0           2           2           4           2\r\n",
      " El. Verd.            2           1           2           3           2\r\n",
      "\r\n",
      " A matriz m3 é: \r\n",
      " \r\n",
      "  67   98   90   94   87\r\n",
      "  96   79   91   74   70\r\n",
      "  29   73   82   84   75\r\n",
      "  66   94   91   60   56\r\n",
      "  74   36   95   20   89\r\n",
      " \r\n",
      "\r\n"
     ]
    }
   ],
   "source": [
    "# rodando o código\n",
    "! ./x"
   ]
  },
  {
   "cell_type": "code",
   "execution_count": 1,
   "metadata": {
    "ExecuteTime": {
     "end_time": "2019-02-20T11:21:41.917597Z",
     "start_time": "2019-02-20T11:21:41.905307Z"
    }
   },
   "outputs": [
    {
     "name": "stdout",
     "output_type": "stream",
     "text": [
      "Writing src/Modulo_ordenar.f95\n"
     ]
    }
   ],
   "source": [
    "%%writefile src/Modulo_ordenar.f95\n",
    "MODULE Ordenar\n",
    "   IMPLICIT NONE\n",
    "\n",
    "CONTAINS\n",
    "\n",
    "   SUBROUTINE troca(p,q)\n",
    "      IMPLICIT NONE\n",
    "      REAL, INTENT(inout) :: p,q\n",
    "      REAL :: temp\n",
    "      IF (p>q) THEN\n",
    "         temp=p\n",
    "         p=q\n",
    "         q=temp\n",
    "      END IF\n",
    "      RETURN\n",
    "   END SUBROUTINE troca\n",
    "\n",
    "   SUBROUTINE Bubble(A, n)\n",
    "     IMPLICIT NONE\n",
    "     INTEGER, INTENT (in):: n\n",
    "     REAL, DIMENSION(:), INTENT(inout)  :: A\n",
    "     INTEGER :: i, j\n",
    "     DO i=1, n\n",
    "        DO j=n, i+1, -1\n",
    "           CALL troca(A(j-1), A(j))\n",
    "        END DO\n",
    "     END DO\n",
    "     RETURN\n",
    "   END SUBROUTINE Bubble\n",
    "\n",
    "   SUBROUTINE Bolha(A, n)\n",
    "     IMPLICIT NONE\n",
    "     INTEGER, INTENT (in):: n\n",
    "     REAL, DIMENSION(:), INTENT(inout) :: A\n",
    "     REAL                              :: temp\n",
    "     INTEGER :: i, j\n",
    "     DO i=1, n\n",
    "        DO j=n, i+1, -1\n",
    "           IF (A(j-1) > A(j) ) THEN\n",
    "              temp= A(j-1)\n",
    "              A(j-1)=A(j)\n",
    "              A(j)=temp\n",
    "           END IF\n",
    "        END DO\n",
    "     END DO\n",
    "     RETURN\n",
    "   END SUBROUTINE Bolha\n",
    "END MODULE Ordenar\n",
    "\n",
    "PROGRAM Bubble_sort\n",
    "  USE Ordenar\n",
    "  IMPLICIT NONE\n",
    "  REAL, DIMENSION(:,:), ALLOCATABLE :: mat\n",
    "  REAL, DIMENSION(:),   ALLOCATABLE :: Vec\n",
    "  INTEGER :: n, erro\n",
    "  !\n",
    "  PRINT*, 'Entre com a dimensão da matriz quadrada'\n",
    "  READ*, n\n",
    "  ALLOCATE(Mat(n,n), Vec(n*n), STAT=erro)\n",
    "  IF (erro /= 0 ) STOP 'Erro na alocação'\n",
    "  ! Preenche a matriz com números aleatórios\n",
    "  CALL random_NUMBER(Mat)\n",
    "  ! Vamos reescalara a matriz para valores entre 0 <= Mat <= 100\n",
    "  Mat = NINT(1000*Mat)/10.0\n",
    "  PRINT *,' '\n",
    "  PRINT *,'A matriz inicial é'\n",
    "  CALL print_real(Mat, n, n)\n",
    "  PRINT *,' '\n",
    "  vec = PACK(Mat, Mat > 0.0)\n",
    "  CALL Bolha(vec,n*n)\n",
    "  Mat = RESHAPE(vec,(/n,n/))\n",
    "  !\n",
    "  PRINT *,' A matriz ordenada :'\n",
    "  PRINT *,' '\n",
    "  CALL print_real(Mat, n, n)\n",
    "  PRINT *,' '\n",
    "  STOP\n",
    "CONTAINS\n",
    "  !---------------------------------------------------------------------\n",
    "  SUBROUTINE print_real(b, n, m, fmt0)\n",
    "    !-------------------------------------------------------------------\n",
    "    IMPLICIT NONE\n",
    "    CHARACTER (LEN=*), INTENT(in), OPTIONAL :: fmt0\n",
    "    INTEGER, INTENT(in) :: n, m\n",
    "    REAL, DIMENSION(:,:), INTENT(in) :: b\n",
    "    INTEGER :: i, j\n",
    "    CHARACTER (LEN=95) :: fmt, fmt1, fmt2\n",
    "    !-------------------------------------------------------------------\n",
    "    IF ( PRESENT(fmt0) ) THEN\n",
    "       fmt=TRIM(fmt0)\n",
    "    ELSE\n",
    "       j=AINT(LOG10(MAXVAL(ABS(b))))+1 ! numero de digitos da parte inteira\n",
    "       i = j + 3 ! Numero total de digitos, com 2 digitos para parte decimal\n",
    "       j = 2\n",
    "       WRITE(fmt,'(a2,i2,a1,i1,a4)') \"(F\", i,\".\",j,\",2x)\"\n",
    "       fmt=TRIM(fmt)\n",
    "    ENDIF\n",
    "    !-------------------------------------------------------------------\n",
    "    i = SCAN(fmt, \")\" ) + 1\n",
    "    WRITE(fmt2,'(a8,I2,a1)') \"(a4,i2,A\",i,\")\"\n",
    "    WRITE(fmt1,fmt2) \"(1X,\", m, TRIM(fmt)  // \")\"\n",
    "    !-------------------------------------------------------------------\n",
    "    DO i =1, n\n",
    "       WRITE(*,fmt1)(b(i,j), j=1,m)\n",
    "    END DO\n",
    "    !-------------------------------------------------------------------\n",
    "    RETURN\n",
    "    !-------------------------------------------------------------------\n",
    "  END SUBROUTINE print_real\n",
    "  !---------------------------------------------------------------------\n",
    "END PROGRAM Bubble_sort"
   ]
  },
  {
   "cell_type": "code",
   "execution_count": 2,
   "metadata": {
    "ExecuteTime": {
     "end_time": "2019-02-20T11:22:07.792660Z",
     "start_time": "2019-02-20T11:22:07.440473Z"
    }
   },
   "outputs": [
    {
     "name": "stdout",
     "output_type": "stream",
     "text": [
      "\u001b[01m\u001b[Ksrc/Modulo_ordenar.f95:92:9:\u001b[m\u001b[K\r\n",
      "\r\n",
      "        j=AINT(LOG10(MAXVAL(ABS(b))))+1 ! numero de digitos da parte inteira\r\n",
      "         \u001b[01;35m\u001b[K1\u001b[m\u001b[K\r\n",
      "\u001b[01;35m\u001b[KWarning:\u001b[m\u001b[K Possible change of value in conversion from REAL(4) to INTEGER(4) at (1) [\u001b[01;35m\u001b[K-Wconversion\u001b[m\u001b[K]\r\n"
     ]
    }
   ],
   "source": [
    "#Compila o código acima\n",
    "! f95 -Wall -std=f2008 -o x src/Modulo_ordenar.f95"
   ]
  },
  {
   "cell_type": "code",
   "execution_count": 3,
   "metadata": {
    "ExecuteTime": {
     "end_time": "2019-02-20T11:22:39.612186Z",
     "start_time": "2019-02-20T11:22:39.497541Z"
    }
   },
   "outputs": [
    {
     "name": "stdout",
     "output_type": "stream",
     "text": [
      " Entre com a dimensão da matriz quadrada\r\n",
      "  \r\n",
      " A matriz inicial é\r\n",
      " 31.60  54.90  25.30   5.60  47.00  15.80\r\n",
      " 12.10  14.20  43.40  43.10  85.30  72.90\r\n",
      " 57.50  46.20  83.30  81.00  59.20   1.60\r\n",
      "  4.80  88.30  48.60  92.00  54.10  43.00\r\n",
      " 48.80  28.70  53.00  93.50  73.10  52.50\r\n",
      " 21.50  75.70  15.10  79.80  94.10  88.70\r\n",
      "  \r\n",
      "  A matriz ordenada :\r\n",
      "  \r\n",
      "  1.60  15.80  43.10  52.50  72.90  85.30\r\n",
      "  4.80  21.50  43.40  53.00  73.10  88.30\r\n",
      "  5.60  25.30  46.20  54.10  75.70  88.70\r\n",
      " 12.10  28.70  47.00  54.90  79.80  92.00\r\n",
      " 14.20  31.60  48.60  57.50  81.00  93.50\r\n",
      " 15.10  43.00  48.80  59.20  83.30  94.10\r\n",
      "  \r\n"
     ]
    }
   ],
   "source": [
    "# Rodando o código\n",
    "! echo \"6\" | ./x -"
   ]
  },
  {
   "cell_type": "code",
   "execution_count": null,
   "metadata": {},
   "outputs": [],
   "source": []
  }
 ],
 "metadata": {
  "jupytext": {},
  "kernelspec": {
   "display_name": "Python 3",
   "language": "python",
   "name": "python3"
  },
  "language_info": {
   "codemirror_mode": {
    "name": "ipython",
    "version": 3
   },
   "file_extension": ".py",
   "mimetype": "text/x-python",
   "name": "python",
   "nbconvert_exporter": "python",
   "pygments_lexer": "ipython3",
   "version": "3.6.8"
  },
  "latex_envs": {
   "LaTeX_envs_menu_present": true,
   "autoclose": false,
   "autocomplete": false,
   "bibliofile": "biblio.bib",
   "cite_by": "apalike",
   "current_citInitial": 1,
   "eqLabelWithNumbers": true,
   "eqNumInitial": 1,
   "hotkeys": {
    "equation": "Ctrl-E",
    "itemize": "Ctrl-I"
   },
   "labels_anchors": false,
   "latex_user_defs": false,
   "report_style_numbering": false,
   "user_envs_cfg": false
  },
  "nbTranslate": {
   "displayLangs": [
    "pt",
    "en"
   ],
   "hotkey": "alt-t",
   "langInMainMenu": true,
   "sourceLang": "en",
   "targetLang": "pt",
   "useGoogleTranslate": true
  },
  "toc": {
   "base_numbering": 1,
   "nav_menu": {},
   "number_sections": true,
   "sideBar": true,
   "skip_h1_title": false,
   "title_cell": "Table of Contents",
   "title_sidebar": "Contents",
   "toc_cell": false,
   "toc_position": {},
   "toc_section_display": true,
   "toc_window_display": false
  },
  "varInspector": {
   "cols": {
    "lenName": 16,
    "lenType": 16,
    "lenVar": 40
   },
   "kernels_config": {
    "python": {
     "delete_cmd_postfix": "",
     "delete_cmd_prefix": "del ",
     "library": "var_list.py",
     "varRefreshCmd": "print(var_dic_list())"
    },
    "r": {
     "delete_cmd_postfix": ") ",
     "delete_cmd_prefix": "rm(",
     "library": "var_list.r",
     "varRefreshCmd": "cat(var_dic_list()) "
    }
   },
   "types_to_exclude": [
    "module",
    "function",
    "builtin_function_or_method",
    "instance",
    "_Feature"
   ],
   "window_display": false
  }
 },
 "nbformat": 4,
 "nbformat_minor": 2
}
